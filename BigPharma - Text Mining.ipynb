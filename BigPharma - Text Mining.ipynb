{
 "cells": [
  {
   "cell_type": "code",
   "execution_count": 277,
   "metadata": {},
   "outputs": [],
   "source": [
    "import pandas as pd\n",
    "import numpy as np\n",
    "from glob import glob\n",
    "from nltk.corpus import stopwords\n",
    "stop = stopwords.words('english')\n",
    "import re\n",
    "import nltk\n",
    "pd.set_option('display.max_colwidth', -1)\n",
    "from nltk.tokenize import word_tokenize\n",
    "from nltk.tag import pos_tag\n",
    "from nltk.stem.wordnet import WordNetLemmatizer\n",
    "from datetime import datetime, timedelta\n",
    "from nltk import classify, NaiveBayesClassifier\n",
    "import random\n",
    "\n",
    "\n",
    "\n",
    "companies_mapping = {'AZN_stocks.csv':\"AstraZeneca\", 'RHHBY_stocks.csv':\"Roche\", 'PFE_stocks.csv':\"Pfizer\", \n",
    "                     'NVS_stocks.csv':\"Novartis\",'BAYRY_stocks.csv':\"BayerPharma\", 'MRK_stocks.csv':\"Merck\", \n",
    "                     'GSK_stocks.csv':\"GSK\", 'SNY_stocks.csv':\"Sanofi\"}\n",
    "\n",
    "import plotly.express as px"
   ]
  },
  {
   "cell_type": "code",
   "execution_count": 144,
   "metadata": {
    "scrolled": true
   },
   "outputs": [],
   "source": [
    "twitter = glob('input/tweets/*.csv')\n",
    "df_tweets = pd.concat(pd.read_csv(file).assign(filename = file) for file in twitter)\n",
    "\n",
    "stock = glob('input/stock/*.csv')\n",
    "df_stock = pd.concat(pd.read_csv(file).assign(filename = file) for file in stock)\n",
    "\n",
    "df_stock.filename = df_stock.filename.str.split(pat =\"\\\\\", expand = True)[1]\n",
    "df_stock['company'] = df_stock.filename.map(companies_mapping)\n",
    "\n",
    "df_covid = pd.read_csv('input/covid_data.csv')\n",
    "df_tweets.reset_index(inplace = True)\n",
    "\n",
    "\n",
    "\n",
    "\n",
    "del df_tweets['filename']\n",
    "del df_tweets['index']\n",
    "\n",
    "del df_stock['filename']"
   ]
  },
  {
   "cell_type": "code",
   "execution_count": 145,
   "metadata": {},
   "outputs": [],
   "source": [
    "def return_hashes(row):\n",
    "\n",
    "    return list(set([re.sub('[^\\w\\s]','', word) for word in row.split() if word[0] == '#']))\n",
    "\n",
    "def return_ats(row):\n",
    "    return list(set(  [re.sub('[^\\w\\s]','', word) for word in row.split() if word[0] == '@']  ))\n",
    "\n",
    "def remove_ats(row):\n",
    "    return ' '.join([word for word in row.split() if word[0] != '@'])\n",
    "\n",
    "def remove_stopwords(row):\n",
    "    return ' '.join([word for word in row.split() if word not in stop])\n",
    "\n",
    "def remove_https(row):\n",
    "    return ' '.join([word for word in row.split() if word[0:6] != 'https:' and word[0:5] != 'http:'])\n",
    "\n",
    "\n",
    "def lemmatized(row, lemmatizer):\n",
    "    \n",
    "    tokenized = word_tokenize(row)\n",
    "    \n",
    "    \n",
    "    lemmatized_sentence = []\n",
    "    for word, tag in pos_tag(tokenized):\n",
    "        if tag.startswith('NN'):\n",
    "            pos = 'n'\n",
    "        elif tag.startswith('VB'):\n",
    "            pos = 'v'\n",
    "        else:\n",
    "            pos = 'a'\n",
    "        lemmatized_sentence.append(lemmatizer.lemmatize(word,pos))\n",
    "    return lemmatized_sentence\n",
    "    "
   ]
  },
  {
   "cell_type": "code",
   "execution_count": 165,
   "metadata": {},
   "outputs": [],
   "source": [
    "# lower column names\n",
    "df_tweets.columns = map(str.lower, df_tweets.columns)\n",
    "df_stock.columns = map(str.lower, df_stock.columns)\n",
    "\n",
    "df_tweets.rename(columns = {'text':'text_original'}, inplace = True)\n",
    "\n",
    "df_tweets['text_modified'] = df_tweets['text_original'].str.lower() # małe znaki\n",
    "df_tweets['hash'] = df_tweets['text_modified'].apply(return_hashes) # wybieranie unikalnych hashtagów (bez punktuacji)\n",
    "df_tweets['at'] = df_tweets['text_modified'].apply(return_ats) # wybieranie unikalnych odnośników (bez punktuacji)\n",
    "df_tweets['text_modified'] = df_tweets['text_modified'].apply(remove_https)\n",
    "df_tweets['text_modified'] = df_tweets['text_modified'].str.replace('[^\\w\\s]','') # usuwanie punktuacji; można usuwać # ze zdań jeśli usunie się ten znak z regular expression\n",
    "df_tweets['text_modified'] = df_tweets['text_modified'].apply(remove_stopwords)\n",
    "df_tweets['text_lemmatized'] = df_tweets.apply(lambda x: lemmatized(x['text_modified'], WordNetLemmatizer()), axis=1)\n",
    "\n",
    "df_tweets.created_at = pd.to_datetime(df_tweets.created_at)\n",
    "df_tweets['date'] = df_tweets.created_at.dt.date\n",
    "df_tweets['date'] = pd.to_datetime(df_tweets['date'])\n",
    "\n",
    "df_stock.date = pd.to_datetime(df_stock.date)\n",
    "df_stock['date'] = df_stock.date.dt.date\n"
   ]
  },
  {
   "cell_type": "markdown",
   "metadata": {},
   "source": [
    "## Data preview"
   ]
  },
  {
   "cell_type": "code",
   "execution_count": 166,
   "metadata": {},
   "outputs": [
    {
     "name": "stdout",
     "output_type": "stream",
     "text": [
      "Zakres datowy dla tweetów   2020-02-03 11:30:17   -   2020-05-06 13:13:41   :  AstraZeneca\n",
      "Zakres datowy dla tweetów   2020-02-03 16:39:56   -   2020-05-06 16:40:37   :  BayerPharma\n",
      "Zakres datowy dla tweetów   2020-02-05 12:26:23   -   2020-05-07 15:41:11   :  GSK\n",
      "Zakres datowy dla tweetów   2020-02-04 14:59:51   -   2020-05-07 18:10:43   :  Merck\n",
      "Zakres datowy dla tweetów   2020-02-03 13:22:07   -   2020-05-07 19:55:40   :  Novartis\n",
      "Zakres datowy dla tweetów   2020-02-17 13:55:00   -   2020-05-07 20:02:01   :  Pfizer\n",
      "Zakres datowy dla tweetów   2020-02-03 09:01:21   -   2020-05-07 14:24:05   :  Roche\n",
      "Zakres datowy dla tweetów   2020-02-03 10:03:21   -   2020-05-05 12:59:16   :  Sanofi\n"
     ]
    }
   ],
   "source": [
    "companies = df_tweets.company.unique()\n",
    "\n",
    "for company in companies:\n",
    "    dat1 = min(df_tweets.loc[df_tweets['company'] == company].created_at)\n",
    "    dat2 = max(df_tweets.loc[df_tweets['company'] == company].created_at)\n",
    "    \n",
    "    print(f'Zakres datowy dla tweetów   {dat1}   -   {dat2}   :  {company}')"
   ]
  },
  {
   "cell_type": "markdown",
   "metadata": {},
   "source": [
    "Ze względy na ograniczenie API Twittera dla każdej firmy pobranych zostało 200 tweetów. Zakres czasowy ich występowania różni się dla danych firm. Dlatego ustalony zostaje wspólny okres badania: od 1 lutego do 7 maja. Początego tego okresu można uznać za początek epidemii koronawirusa w Europie i Ameryce Północnej."
   ]
  },
  {
   "cell_type": "code",
   "execution_count": 169,
   "metadata": {},
   "outputs": [
    {
     "name": "stderr",
     "output_type": "stream",
     "text": [
      "c:\\python 3.7\\lib\\site-packages\\ipykernel_launcher.py:3: FutureWarning:\n",
      "\n",
      "Comparing Series of datetimes with 'datetime.date'.  Currently, the\n",
      "'datetime.date' is coerced to a datetime. In the future pandas will\n",
      "not coerce, and a TypeError will be raised. To retain the current\n",
      "behavior, convert the 'datetime.date' to a datetime with\n",
      "'pd.Timestamp'.\n",
      "\n"
     ]
    }
   ],
   "source": [
    "lower_date = datetime.strptime('2020-02-02','%Y-%m-%d').date()\n",
    "\n",
    "df_tweets = df_tweets.loc[df_tweets['date'] >= lower_date]\n",
    "df_stock = df_stock.loc[df_stock['date'] >= lower_date]"
   ]
  },
  {
   "cell_type": "markdown",
   "metadata": {},
   "source": [
    "Ponowne sprawdzenie zakresu dat, tym razem z ilością tweetów pozostałą po ograniczeniu zbioru danych dla każdej z firm."
   ]
  },
  {
   "cell_type": "code",
   "execution_count": 149,
   "metadata": {},
   "outputs": [
    {
     "name": "stdout",
     "output_type": "stream",
     "text": [
      "Zakres datowy dla tweetów   2020-02-03 11:30:17   -   2020-05-06 13:13:41   :  AstraZeneca; il. tweetów: 107\n",
      "Zakres datowy dla tweetów   2020-02-03 16:39:56   -   2020-05-06 16:40:37   :  BayerPharma; il. tweetów: 65\n",
      "Zakres datowy dla tweetów   2020-02-05 12:26:23   -   2020-05-07 15:41:11   :  GSK; il. tweetów: 200\n",
      "Zakres datowy dla tweetów   2020-02-04 14:59:51   -   2020-05-07 18:10:43   :  Merck; il. tweetów: 200\n",
      "Zakres datowy dla tweetów   2020-02-03 13:22:07   -   2020-05-07 19:55:40   :  Novartis; il. tweetów: 106\n",
      "Zakres datowy dla tweetów   2020-02-17 13:55:00   -   2020-05-07 20:02:01   :  Pfizer; il. tweetów: 200\n",
      "Zakres datowy dla tweetów   2020-02-03 09:01:21   -   2020-05-07 14:24:05   :  Roche; il. tweetów: 195\n",
      "Zakres datowy dla tweetów   2020-02-03 10:03:21   -   2020-05-05 12:59:16   :  Sanofi; il. tweetów: 193\n"
     ]
    }
   ],
   "source": [
    "companies = df_tweets.company.unique()\n",
    "\n",
    "for company in companies:\n",
    "    dat1 = min(df_tweets.loc[df_tweets['company'] == company].created_at)\n",
    "    dat2 = max(df_tweets.loc[df_tweets['company'] == company].created_at)\n",
    "    ilosc = len(df_tweets.loc[df_tweets['company'] == company])\n",
    "    print(f'Zakres datowy dla tweetów   {dat1}   -   {dat2}   :  {company}; il. tweetów: {ilosc}')"
   ]
  },
  {
   "cell_type": "markdown",
   "metadata": {},
   "source": [
    "Jak widać dla BayerPharmy ta ilość jest mniejsza niż poprzednio połowa. Ewentualnością będzie wykluczenie tej firmy z badania."
   ]
  },
  {
   "cell_type": "code",
   "execution_count": 150,
   "metadata": {},
   "outputs": [],
   "source": [
    "#https://www.digitalocean.com/community/tutorials/how-to-perform-sentiment-analysis-in-python-3-using-the-natural-language-toolkit-nltk"
   ]
  },
  {
   "cell_type": "code",
   "execution_count": 151,
   "metadata": {},
   "outputs": [
    {
     "data": {
      "text/html": [
       "<div>\n",
       "<style scoped>\n",
       "    .dataframe tbody tr th:only-of-type {\n",
       "        vertical-align: middle;\n",
       "    }\n",
       "\n",
       "    .dataframe tbody tr th {\n",
       "        vertical-align: top;\n",
       "    }\n",
       "\n",
       "    .dataframe thead th {\n",
       "        text-align: right;\n",
       "    }\n",
       "</style>\n",
       "<table border=\"1\" class=\"dataframe\">\n",
       "  <thead>\n",
       "    <tr style=\"text-align: right;\">\n",
       "      <th></th>\n",
       "      <th>company</th>\n",
       "      <th>text_original</th>\n",
       "      <th>created_at</th>\n",
       "      <th>favourite_count</th>\n",
       "      <th>retweet_count</th>\n",
       "      <th>text_modified</th>\n",
       "      <th>hash</th>\n",
       "      <th>at</th>\n",
       "      <th>text_lemmatized</th>\n",
       "      <th>date</th>\n",
       "    </tr>\n",
       "  </thead>\n",
       "  <tbody>\n",
       "    <tr>\n",
       "      <th>0</th>\n",
       "      <td>AstraZeneca</td>\n",
       "      <td>Together with partners across industry, academia and government, we are taking a multipronged approach to helping patients around the world facing #COVID19. https://t.co/uQuHj6BkBN</td>\n",
       "      <td>2020-05-06 13:13:41</td>\n",
       "      <td>44</td>\n",
       "      <td>8</td>\n",
       "      <td>together partners across industry academia government taking multipronged approach helping patients around world facing covid19</td>\n",
       "      <td>[covid19]</td>\n",
       "      <td>[]</td>\n",
       "      <td>[together, partner, across, industry, academia, government, take, multipronged, approach, help, patient, around, world, facing, covid19]</td>\n",
       "      <td>2020-05-06</td>\n",
       "    </tr>\n",
       "    <tr>\n",
       "      <th>1</th>\n",
       "      <td>AstraZeneca</td>\n",
       "      <td>On #GivingTuesdayNow we stand with our partners @Plan_UK @Unicef_UK @ProjectHopeorg @NCDAlliance in their efforts responding to the unique health needs of groups vulnerable to #COVID19, such as those living with NCDs and young people. Get involved: https://t.co/YGRHLGqct6 https://t.co/vePEeAne49</td>\n",
       "      <td>2020-05-05 16:27:03</td>\n",
       "      <td>32</td>\n",
       "      <td>8</td>\n",
       "      <td>givingtuesdaynow stand partners plan_uk unicef_uk projecthopeorg ncdalliance efforts responding unique health needs groups vulnerable covid19 living ncds young people get involved</td>\n",
       "      <td>[givingtuesdaynow, covid19]</td>\n",
       "      <td>[plan_uk, ncdalliance, unicef_uk, projecthopeorg]</td>\n",
       "      <td>[givingtuesdaynow, stand, partner, plan_uk, unicef_uk, projecthopeorg, ncdalliance, effort, respond, unique, health, need, group, vulnerable, covid19, living, ncds, young, people, get, involve]</td>\n",
       "      <td>2020-05-05</td>\n",
       "    </tr>\n",
       "    <tr>\n",
       "      <th>2</th>\n",
       "      <td>AstraZeneca</td>\n",
       "      <td>We’re #standingtogether4asthma with patients and the respiratory community during these times of uncertainty. Visit @WEF to learn more about what we’re doing to play our part in the fight against #COVID19: #WorldAsthmaDay   \\r\\nhttps://t.co/fWE7ik8rNs https://t.co/Z54pyHBENq</td>\n",
       "      <td>2020-05-05 12:30:15</td>\n",
       "      <td>19</td>\n",
       "      <td>7</td>\n",
       "      <td>standingtogether4asthma patients respiratory community times uncertainty visit wef learn play part fight covid19 worldasthmaday</td>\n",
       "      <td>[covid19, worldasthmaday, standingtogether4asthma]</td>\n",
       "      <td>[wef]</td>\n",
       "      <td>[standingtogether4asthma, patient, respiratory, community, time, uncertainty, visit, wef, learn, play, part, fight, covid19, worldasthmaday]</td>\n",
       "      <td>2020-05-05</td>\n",
       "    </tr>\n",
       "  </tbody>\n",
       "</table>\n",
       "</div>"
      ],
      "text/plain": [
       "       company  \\\n",
       "0  AstraZeneca   \n",
       "1  AstraZeneca   \n",
       "2  AstraZeneca   \n",
       "\n",
       "                                                                                                                                                                                                                                                                                              text_original  \\\n",
       "0  Together with partners across industry, academia and government, we are taking a multipronged approach to helping patients around the world facing #COVID19. https://t.co/uQuHj6BkBN                                                                                                                       \n",
       "1  On #GivingTuesdayNow we stand with our partners @Plan_UK @Unicef_UK @ProjectHopeorg @NCDAlliance in their efforts responding to the unique health needs of groups vulnerable to #COVID19, such as those living with NCDs and young people. Get involved: https://t.co/YGRHLGqct6 https://t.co/vePEeAne49   \n",
       "2  We’re #standingtogether4asthma with patients and the respiratory community during these times of uncertainty. Visit @WEF to learn more about what we’re doing to play our part in the fight against #COVID19: #WorldAsthmaDay   \\r\\nhttps://t.co/fWE7ik8rNs https://t.co/Z54pyHBENq                        \n",
       "\n",
       "           created_at  favourite_count  retweet_count  \\\n",
       "0 2020-05-06 13:13:41  44               8               \n",
       "1 2020-05-05 16:27:03  32               8               \n",
       "2 2020-05-05 12:30:15  19               7               \n",
       "\n",
       "                                                                                                                                                                         text_modified  \\\n",
       "0  together partners across industry academia government taking multipronged approach helping patients around world facing covid19                                                       \n",
       "1  givingtuesdaynow stand partners plan_uk unicef_uk projecthopeorg ncdalliance efforts responding unique health needs groups vulnerable covid19 living ncds young people get involved   \n",
       "2  standingtogether4asthma patients respiratory community times uncertainty visit wef learn play part fight covid19 worldasthmaday                                                       \n",
       "\n",
       "                                                 hash  \\\n",
       "0  [covid19]                                            \n",
       "1  [givingtuesdaynow, covid19]                          \n",
       "2  [covid19, worldasthmaday, standingtogether4asthma]   \n",
       "\n",
       "                                                  at  \\\n",
       "0  []                                                  \n",
       "1  [plan_uk, ncdalliance, unicef_uk, projecthopeorg]   \n",
       "2  [wef]                                               \n",
       "\n",
       "                                                                                                                                                                                     text_lemmatized  \\\n",
       "0  [together, partner, across, industry, academia, government, take, multipronged, approach, help, patient, around, world, facing, covid19]                                                            \n",
       "1  [givingtuesdaynow, stand, partner, plan_uk, unicef_uk, projecthopeorg, ncdalliance, effort, respond, unique, health, need, group, vulnerable, covid19, living, ncds, young, people, get, involve]   \n",
       "2  [standingtogether4asthma, patient, respiratory, community, time, uncertainty, visit, wef, learn, play, part, fight, covid19, worldasthmaday]                                                        \n",
       "\n",
       "         date  \n",
       "0  2020-05-06  \n",
       "1  2020-05-05  \n",
       "2  2020-05-05  "
      ]
     },
     "execution_count": 151,
     "metadata": {},
     "output_type": "execute_result"
    }
   ],
   "source": [
    "df_tweets.head(3)"
   ]
  },
  {
   "cell_type": "code",
   "execution_count": 152,
   "metadata": {},
   "outputs": [
    {
     "data": {
      "text/html": [
       "<div>\n",
       "<style scoped>\n",
       "    .dataframe tbody tr th:only-of-type {\n",
       "        vertical-align: middle;\n",
       "    }\n",
       "\n",
       "    .dataframe tbody tr th {\n",
       "        vertical-align: top;\n",
       "    }\n",
       "\n",
       "    .dataframe thead th {\n",
       "        text-align: right;\n",
       "    }\n",
       "</style>\n",
       "<table border=\"1\" class=\"dataframe\">\n",
       "  <thead>\n",
       "    <tr style=\"text-align: right;\">\n",
       "      <th></th>\n",
       "      <th>date</th>\n",
       "      <th>open</th>\n",
       "      <th>high</th>\n",
       "      <th>low</th>\n",
       "      <th>close</th>\n",
       "      <th>adj close</th>\n",
       "      <th>volume</th>\n",
       "      <th>company</th>\n",
       "    </tr>\n",
       "  </thead>\n",
       "  <tbody>\n",
       "    <tr>\n",
       "      <th>63</th>\n",
       "      <td>2020-02-03</td>\n",
       "      <td>48.619999</td>\n",
       "      <td>48.930000</td>\n",
       "      <td>48.450001</td>\n",
       "      <td>48.509998</td>\n",
       "      <td>47.541225</td>\n",
       "      <td>1990900</td>\n",
       "      <td>AstraZeneca</td>\n",
       "    </tr>\n",
       "    <tr>\n",
       "      <th>64</th>\n",
       "      <td>2020-02-04</td>\n",
       "      <td>48.759998</td>\n",
       "      <td>49.090000</td>\n",
       "      <td>48.720001</td>\n",
       "      <td>48.759998</td>\n",
       "      <td>47.786232</td>\n",
       "      <td>1698800</td>\n",
       "      <td>AstraZeneca</td>\n",
       "    </tr>\n",
       "    <tr>\n",
       "      <th>65</th>\n",
       "      <td>2020-02-05</td>\n",
       "      <td>49.459999</td>\n",
       "      <td>49.849998</td>\n",
       "      <td>49.230000</td>\n",
       "      <td>49.730000</td>\n",
       "      <td>48.736862</td>\n",
       "      <td>2303000</td>\n",
       "      <td>AstraZeneca</td>\n",
       "    </tr>\n",
       "  </tbody>\n",
       "</table>\n",
       "</div>"
      ],
      "text/plain": [
       "          date       open       high        low      close  adj close  \\\n",
       "63  2020-02-03  48.619999  48.930000  48.450001  48.509998  47.541225   \n",
       "64  2020-02-04  48.759998  49.090000  48.720001  48.759998  47.786232   \n",
       "65  2020-02-05  49.459999  49.849998  49.230000  49.730000  48.736862   \n",
       "\n",
       "     volume      company  \n",
       "63  1990900  AstraZeneca  \n",
       "64  1698800  AstraZeneca  \n",
       "65  2303000  AstraZeneca  "
      ]
     },
     "execution_count": 152,
     "metadata": {},
     "output_type": "execute_result"
    }
   ],
   "source": [
    "df_stock.head(3)"
   ]
  },
  {
   "cell_type": "markdown",
   "metadata": {},
   "source": [
    "## Sentyment"
   ]
  },
  {
   "cell_type": "code",
   "execution_count": 263,
   "metadata": {},
   "outputs": [],
   "source": [
    "df_sentiment = pd.read_csv('input/sentiment.csv',encoding = \"ISO-8859-1\",header=None)\n",
    "df_sentiment = df_sentiment[[0,5]]\n",
    "df_sentiment.rename(columns={0:'sentiment',5:'text_original'},inplace=True)\n",
    "df_sentiment['sentiment'] = df_sentiment['sentiment'].map({0:'negative',2:'neutral',4:'positive'})\n",
    "# po 20 000 przykładków dla każdego z sentymentów\n",
    "df_sentiment = pd.concat([df_sentiment.loc[df_sentiment['sentiment']=='negative'][0:20000],\n",
    "                        df_sentiment.loc[df_sentiment['sentiment']=='positive'][0:20000] ])\n"
   ]
  },
  {
   "cell_type": "code",
   "execution_count": 264,
   "metadata": {},
   "outputs": [
    {
     "name": "stdout",
     "output_type": "stream",
     "text": [
      "Wall time: 1min 22s\n"
     ]
    }
   ],
   "source": [
    "%%time\n",
    "df_sentiment['text_modified'] = df_sentiment['text_original'].str.lower()\n",
    "df_sentiment['text_modified'] = df_sentiment['text_modified'].apply(remove_https)\n",
    "df_sentiment['text_modified'] = df_sentiment['text_modified'].apply(remove_ats)\n",
    "df_sentiment['text_modified'] = df_sentiment['text_modified'].str.replace('[^\\w\\s]','')\n",
    "df_sentiment['text_modified'] = df_sentiment['text_modified'].apply(remove_stopwords)\n",
    "df_sentiment['text_lemmatized'] = df_sentiment.apply(lambda x: lemmatized(x['text_modified'], WordNetLemmatizer()), axis=1)"
   ]
  },
  {
   "cell_type": "code",
   "execution_count": 285,
   "metadata": {},
   "outputs": [],
   "source": [
    "dataset = []\n",
    "for index, row in df_sentiment.iterrows():\n",
    "    dataset.append(({token:True for token in row['text_lemmatized']},row['sentiment']) )\n",
    "                        \n",
    "random.shuffle(dataset)\n",
    "train_set = dataset[:28000]\n",
    "validation_set = dataset[28000:]\n",
    "    "
   ]
  },
  {
   "cell_type": "code",
   "execution_count": 286,
   "metadata": {},
   "outputs": [],
   "source": [
    "classifier = NaiveBayesClassifier.train(train_set)\n"
   ]
  },
  {
   "cell_type": "code",
   "execution_count": 287,
   "metadata": {},
   "outputs": [
    {
     "name": "stdout",
     "output_type": "stream",
     "text": [
      "Accuracy is: 0.7253333333333334\n"
     ]
    }
   ],
   "source": [
    "print(\"Accuracy is:\", classify.accuracy(classifier, validation_set))"
   ]
  },
  {
   "cell_type": "code",
   "execution_count": 288,
   "metadata": {},
   "outputs": [
    {
     "name": "stdout",
     "output_type": "stream",
     "text": [
      "Most Informative Features\n",
      "                  lonely = True           negati : positi =     20.8 : 1.0\n",
      "                   tummy = True           negati : positi =     19.7 : 1.0\n",
      "                    ache = True           negati : positi =     17.4 : 1.0\n",
      "                     sad = True           negati : positi =     16.9 : 1.0\n",
      "                  female = True           negati : positi =     16.1 : 1.0\n",
      "                  bummer = True           negati : positi =     15.7 : 1.0\n",
      "                     yum = True           positi : negati =     14.3 : 1.0\n",
      "                    sick = True           negati : positi =     13.3 : 1.0\n",
      "                     ugh = True           negati : positi =     12.9 : 1.0\n",
      "                    argh = True           negati : positi =     12.6 : 1.0\n",
      "None\n"
     ]
    }
   ],
   "source": [
    "print(classifier.show_most_informative_features(10))"
   ]
  },
  {
   "cell_type": "markdown",
   "metadata": {},
   "source": [
    "## Wykresy danych z giełdy"
   ]
  },
  {
   "cell_type": "code",
   "execution_count": 153,
   "metadata": {},
   "outputs": [
    {
     "data": {
      "application/vnd.plotly.v1+json": {
       "config": {
        "plotlyServerURL": "https://plot.ly"
       },
       "data": [
        {
         "hoverlabel": {
          "namelength": 0
         },
         "hovertemplate": "company=AstraZeneca<br>date=%{x}<br>close=%{y}",
         "legendgroup": "company=AstraZeneca",
         "line": {
          "color": "#636efa",
          "dash": "solid"
         },
         "mode": "lines",
         "name": "company=AstraZeneca",
         "showlegend": true,
         "type": "scatter",
         "x": [
          "2020-02-03",
          "2020-02-04",
          "2020-02-05",
          "2020-02-06",
          "2020-02-07",
          "2020-02-10",
          "2020-02-11",
          "2020-02-12",
          "2020-02-13",
          "2020-02-14",
          "2020-02-18",
          "2020-02-19",
          "2020-02-20",
          "2020-02-21",
          "2020-02-24",
          "2020-02-25",
          "2020-02-26",
          "2020-02-27",
          "2020-02-28",
          "2020-03-02",
          "2020-03-03",
          "2020-03-04",
          "2020-03-05",
          "2020-03-06",
          "2020-03-09",
          "2020-03-10",
          "2020-03-11",
          "2020-03-12",
          "2020-03-13",
          "2020-03-16",
          "2020-03-17",
          "2020-03-18",
          "2020-03-19",
          "2020-03-20",
          "2020-03-23",
          "2020-03-24",
          "2020-03-25",
          "2020-03-26",
          "2020-03-27",
          "2020-03-30",
          "2020-03-31",
          "2020-04-01",
          "2020-04-02",
          "2020-04-03",
          "2020-04-06",
          "2020-04-07",
          "2020-04-08",
          "2020-04-09",
          "2020-04-13",
          "2020-04-14",
          "2020-04-15",
          "2020-04-16",
          "2020-04-17",
          "2020-04-20",
          "2020-04-21",
          "2020-04-22",
          "2020-04-23",
          "2020-04-24",
          "2020-04-27",
          "2020-04-28",
          "2020-04-29",
          "2020-04-30",
          "2020-05-01",
          "2020-05-04",
          "2020-05-05",
          "2020-05-06",
          "2020-05-07",
          "2020-05-08"
         ],
         "xaxis": "x",
         "y": [
          48.5099983215332,
          48.7599983215332,
          49.72999954223633,
          50.02999877929688,
          49.4000015258789,
          49.90999984741211,
          49.77999877929688,
          49.58000183105469,
          49.33000183105469,
          47.849998474121094,
          49.11000061035156,
          49.31000137329102,
          48.93999862670898,
          50.16999816894531,
          47.59000015258789,
          47.08000183105469,
          47.56999969482422,
          45.06999969482422,
          43.79999923706055,
          45.86999893188477,
          45.52000045776367,
          48.599998474121094,
          48.38000106811523,
          47.52000045776367,
          45.22999954223633,
          46.9000015258789,
          44.58000183105469,
          40.7599983215332,
          42.27999877929688,
          37.790000915527344,
          40.93000030517578,
          39.36000061035156,
          40.13000106811523,
          39.41999816894531,
          38.77999877929688,
          40.88999938964844,
          40.38000106811523,
          42.36000061035156,
          42.47000122070313,
          44.52999877929688,
          44.65999984741211,
          43.77999877929688,
          43.7599983215332,
          43.959999084472656,
          44.310001373291016,
          43.099998474121094,
          43.849998474121094,
          44.65999984741211,
          47.36000061035156,
          48.68000030517578,
          48.02999877929688,
          49.13000106811523,
          50.02999877929688,
          50.43999862670898,
          50.06999969482422,
          50.36000061035156,
          50.38999938964844,
          51.18000030517578,
          51.47999954223633,
          50.97000122070313,
          50.72000122070313,
          52.27999877929688,
          51.86000061035156,
          52.349998474121094,
          53.47000122070313,
          54.040000915527344,
          52.7400016784668,
          53.290000915527344
         ],
         "yaxis": "y"
        },
        {
         "hoverlabel": {
          "namelength": 0
         },
         "hovertemplate": "company=BayerPharma<br>date=%{x}<br>close=%{y}",
         "legendgroup": "company=BayerPharma",
         "line": {
          "color": "#EF553B",
          "dash": "solid"
         },
         "mode": "lines",
         "name": "company=BayerPharma",
         "showlegend": true,
         "type": "scatter",
         "x": [
          "2020-02-03",
          "2020-02-04",
          "2020-02-05",
          "2020-02-06",
          "2020-02-07",
          "2020-02-10",
          "2020-02-11",
          "2020-02-12",
          "2020-02-13",
          "2020-02-14",
          "2020-02-18",
          "2020-02-19",
          "2020-02-20",
          "2020-02-21",
          "2020-02-24",
          "2020-02-25",
          "2020-02-26",
          "2020-02-27",
          "2020-02-28",
          "2020-03-02",
          "2020-03-03",
          "2020-03-04",
          "2020-03-05",
          "2020-03-06",
          "2020-03-09",
          "2020-03-10",
          "2020-03-11",
          "2020-03-12",
          "2020-03-13",
          "2020-03-16",
          "2020-03-17",
          "2020-03-18",
          "2020-03-19",
          "2020-03-20",
          "2020-03-23",
          "2020-03-24",
          "2020-03-25",
          "2020-03-26",
          "2020-03-27",
          "2020-03-30",
          "2020-03-31",
          "2020-04-01",
          "2020-04-02",
          "2020-04-03",
          "2020-04-06",
          "2020-04-07",
          "2020-04-08",
          "2020-04-09",
          "2020-04-13",
          "2020-04-14",
          "2020-04-15",
          "2020-04-16",
          "2020-04-17",
          "2020-04-20",
          "2020-04-21",
          "2020-04-22",
          "2020-04-23",
          "2020-04-24",
          "2020-04-27",
          "2020-04-28",
          "2020-04-29",
          "2020-04-30",
          "2020-05-01",
          "2020-05-04",
          "2020-05-05",
          "2020-05-06",
          "2020-05-07",
          "2020-05-08"
         ],
         "xaxis": "x",
         "y": [
          20.350000381469727,
          20.81999969482422,
          21.21999931335449,
          21.450000762939453,
          21.270000457763672,
          21.13999938964844,
          21.11000061035156,
          21.170000076293945,
          20.96999931335449,
          21.020000457763672,
          20.36000061035156,
          20.420000076293945,
          20.229999542236328,
          20.06999969482422,
          19.059999465942386,
          18.780000686645508,
          18.81999969482422,
          18.049999237060547,
          18.020000457763672,
          18.46999931335449,
          17.84000015258789,
          18.86000061035156,
          18.420000076293945,
          18.13999938964844,
          16.5,
          16.579999923706055,
          15.649999618530273,
          13.68000030517578,
          14.350000381469727,
          12.789999961853027,
          13.829999923706055,
          13.380000114440918,
          13.510000228881836,
          13.15999984741211,
          12.850000381469727,
          13.789999961853027,
          13.960000038146973,
          14.25,
          14.0600004196167,
          14.579999923706055,
          14.470000267028807,
          14.18000030517578,
          14.43000030517578,
          14.34000015258789,
          15.260000228881836,
          15.479999542236328,
          15.359999656677244,
          15.75,
          15.59000015258789,
          16.229999542236328,
          15.489999771118164,
          15.5,
          16,
          15.729999542236328,
          15.789999961853027,
          16.079999923706055,
          15.9399995803833,
          16.229999542236328,
          17.200000762939453,
          17.229999542236328,
          16.709999084472653,
          16.450000762939453,
          16.139999389648438,
          16,
          15.93000030517578,
          15.710000038146973,
          15.649999618530273,
          15.760000228881836
         ],
         "yaxis": "y"
        },
        {
         "hoverlabel": {
          "namelength": 0
         },
         "hovertemplate": "company=GSK<br>date=%{x}<br>close=%{y}",
         "legendgroup": "company=GSK",
         "line": {
          "color": "#00cc96",
          "dash": "solid"
         },
         "mode": "lines",
         "name": "company=GSK",
         "showlegend": true,
         "type": "scatter",
         "x": [
          "2020-02-03",
          "2020-02-04",
          "2020-02-05",
          "2020-02-06",
          "2020-02-07",
          "2020-02-10",
          "2020-02-11",
          "2020-02-12",
          "2020-02-13",
          "2020-02-14",
          "2020-02-18",
          "2020-02-19",
          "2020-02-20",
          "2020-02-21",
          "2020-02-24",
          "2020-02-25",
          "2020-02-26",
          "2020-02-27",
          "2020-02-28",
          "2020-03-02",
          "2020-03-03",
          "2020-03-04",
          "2020-03-05",
          "2020-03-06",
          "2020-03-09",
          "2020-03-10",
          "2020-03-11",
          "2020-03-12",
          "2020-03-13",
          "2020-03-16",
          "2020-03-17",
          "2020-03-18",
          "2020-03-19",
          "2020-03-20",
          "2020-03-23",
          "2020-03-24",
          "2020-03-25",
          "2020-03-26",
          "2020-03-27",
          "2020-03-30",
          "2020-03-31",
          "2020-04-01",
          "2020-04-02",
          "2020-04-03",
          "2020-04-06",
          "2020-04-07",
          "2020-04-08",
          "2020-04-09",
          "2020-04-13",
          "2020-04-14",
          "2020-04-15",
          "2020-04-16",
          "2020-04-17",
          "2020-04-20",
          "2020-04-21",
          "2020-04-22",
          "2020-04-23",
          "2020-04-24",
          "2020-04-27",
          "2020-04-28",
          "2020-04-29",
          "2020-04-30",
          "2020-05-01",
          "2020-05-04",
          "2020-05-05",
          "2020-05-06",
          "2020-05-07",
          "2020-05-08"
         ],
         "xaxis": "x",
         "y": [
          46.72999954223633,
          47.11999893188477,
          45.06999969482422,
          44.13999938964844,
          43.95000076293945,
          44.61000061035156,
          44.41999816894531,
          44.22999954223633,
          43.77999877929688,
          43.7400016784668,
          43.54999923706055,
          43.4900016784668,
          42.7599983215332,
          43.08000183105469,
          41.91999816894531,
          41.47999954223633,
          41.900001525878906,
          41.59000015258789,
          40.52999877929688,
          42.54999923706055,
          41.29999923706055,
          43.349998474121094,
          42.59000015258789,
          42.38000106811523,
          40.72000122070313,
          41.02000045776367,
          39.86999893188477,
          36.5099983215332,
          37.849998474121094,
          33.669998168945305,
          36.849998474121094,
          34.279998779296875,
          33.65999984741211,
          33.34000015258789,
          31.85000038146973,
          34,
          35.41999816894531,
          37.25,
          36.43999862670898,
          37.599998474121094,
          37.88999938964844,
          37.22000122070313,
          37.70000076293945,
          37.13999938964844,
          37.90999984741211,
          37.52999877929688,
          38.08000183105469,
          38.88000106811523,
          38.93999862670898,
          40.38000106811523,
          39.81999969482422,
          41.79999923706055,
          42.06999969482422,
          41.72000122070313,
          41.20000076293945,
          41.90999984741211,
          42.209999084472656,
          42.5,
          42.63000106811523,
          42.09000015258789,
          41.849998474121094,
          42.06999969482422,
          41.209999084472656,
          42.150001525878906,
          41.9900016784668,
          42.38999938964844,
          41.70000076293945,
          41.90999984741211
         ],
         "yaxis": "y"
        },
        {
         "hoverlabel": {
          "namelength": 0
         },
         "hovertemplate": "company=Merck<br>date=%{x}<br>close=%{y}",
         "legendgroup": "company=Merck",
         "line": {
          "color": "#ab63fa",
          "dash": "solid"
         },
         "mode": "lines",
         "name": "company=Merck",
         "showlegend": true,
         "type": "scatter",
         "x": [
          "2020-02-03",
          "2020-02-04",
          "2020-02-05",
          "2020-02-06",
          "2020-02-07",
          "2020-02-10",
          "2020-02-11",
          "2020-02-12",
          "2020-02-13",
          "2020-02-14",
          "2020-02-18",
          "2020-02-19",
          "2020-02-20",
          "2020-02-21",
          "2020-02-24",
          "2020-02-25",
          "2020-02-26",
          "2020-02-27",
          "2020-02-28",
          "2020-03-02",
          "2020-03-03",
          "2020-03-04",
          "2020-03-05",
          "2020-03-06",
          "2020-03-09",
          "2020-03-10",
          "2020-03-11",
          "2020-03-12",
          "2020-03-13",
          "2020-03-16",
          "2020-03-17",
          "2020-03-18",
          "2020-03-19",
          "2020-03-20",
          "2020-03-23",
          "2020-03-24",
          "2020-03-25",
          "2020-03-26",
          "2020-03-27",
          "2020-03-30",
          "2020-03-31",
          "2020-04-01",
          "2020-04-02",
          "2020-04-03",
          "2020-04-06",
          "2020-04-07",
          "2020-04-08",
          "2020-04-09",
          "2020-04-13",
          "2020-04-14",
          "2020-04-15",
          "2020-04-16",
          "2020-04-17",
          "2020-04-20",
          "2020-04-21",
          "2020-04-22",
          "2020-04-23",
          "2020-04-24",
          "2020-04-27",
          "2020-04-28",
          "2020-04-29",
          "2020-04-30",
          "2020-05-01",
          "2020-05-04",
          "2020-05-05",
          "2020-05-06",
          "2020-05-07",
          "2020-05-08"
         ],
         "xaxis": "x",
         "y": [
          87.33999633789062,
          88.36000061035156,
          85.83000183105469,
          85.68000030517578,
          85.08000183105469,
          85.66000366210938,
          85.25,
          83.25,
          81.97000122070312,
          82.6500015258789,
          82.45999908447266,
          82,
          82.48999786376953,
          82.33999633789062,
          81.33000183105469,
          80.2699966430664,
          79.94000244140625,
          78.08000183105469,
          76.55999755859375,
          81.37000274658203,
          79.12999725341797,
          82.97000122070312,
          81.58000183105469,
          82.19999694824219,
          78.95999908447266,
          82.0199966430664,
          79.25,
          74.44999694824219,
          76.75,
          69.91999816894531,
          74.4800033569336,
          71.62999725341797,
          70.7300033569336,
          71.36000061035156,
          66.40000152587889,
          69.05000305175781,
          68.22000122070311,
          73.52999877929688,
          71.7300033569336,
          76.94999694824219,
          76.94000244140625,
          73.80000305175781,
          76.87000274658203,
          76.25,
          80.30999755859375,
          78.55999755859375,
          81.62000274658203,
          82.48999786376953,
          80.54000091552734,
          82.83999633789062,
          82.06999969482422,
          83,
          83.45999908447266,
          83.0999984741211,
          78.55999755859375,
          79.9800033569336,
          80.87999725341797,
          81.43000030517578,
          83.9800033569336,
          81.18000030517578,
          80.7699966430664,
          79.33999633789062,
          77.66999816894531,
          76.86000061035156,
          78.01000213623047,
          77.12000274658203,
          75.5999984741211,
          76.4000015258789
         ],
         "yaxis": "y"
        },
        {
         "hoverlabel": {
          "namelength": 0
         },
         "hovertemplate": "company=Novartis<br>date=%{x}<br>close=%{y}",
         "legendgroup": "company=Novartis",
         "line": {
          "color": "#FFA15A",
          "dash": "solid"
         },
         "mode": "lines",
         "name": "company=Novartis",
         "showlegend": true,
         "type": "scatter",
         "x": [
          "2020-02-03",
          "2020-02-04",
          "2020-02-05",
          "2020-02-06",
          "2020-02-07",
          "2020-02-10",
          "2020-02-11",
          "2020-02-12",
          "2020-02-13",
          "2020-02-14",
          "2020-02-18",
          "2020-02-19",
          "2020-02-20",
          "2020-02-21",
          "2020-02-24",
          "2020-02-25",
          "2020-02-26",
          "2020-02-27",
          "2020-02-28",
          "2020-03-02",
          "2020-03-03",
          "2020-03-04",
          "2020-03-05",
          "2020-03-06",
          "2020-03-09",
          "2020-03-10",
          "2020-03-11",
          "2020-03-12",
          "2020-03-13",
          "2020-03-16",
          "2020-03-17",
          "2020-03-18",
          "2020-03-19",
          "2020-03-20",
          "2020-03-23",
          "2020-03-24",
          "2020-03-25",
          "2020-03-26",
          "2020-03-27",
          "2020-03-30",
          "2020-03-31",
          "2020-04-01",
          "2020-04-02",
          "2020-04-03",
          "2020-04-06",
          "2020-04-07",
          "2020-04-08",
          "2020-04-09",
          "2020-04-13",
          "2020-04-14",
          "2020-04-15",
          "2020-04-16",
          "2020-04-17",
          "2020-04-20",
          "2020-04-21",
          "2020-04-22",
          "2020-04-23",
          "2020-04-24",
          "2020-04-27",
          "2020-04-28",
          "2020-04-29",
          "2020-04-30",
          "2020-05-01",
          "2020-05-04",
          "2020-05-05",
          "2020-05-06",
          "2020-05-07",
          "2020-05-08"
         ],
         "xaxis": "x",
         "y": [
          94.25,
          95.0999984741211,
          96.37000274658205,
          96.95999908447266,
          95.83000183105469,
          97.41999816894531,
          98.2300033569336,
          99.01000213623048,
          97.7699966430664,
          97.62999725341795,
          97.1999969482422,
          97.22000122070312,
          96.29000091552734,
          96.76000213623048,
          90.08000183105469,
          87.94999694824219,
          87.11000061035156,
          86.0199966430664,
          83.95999908447266,
          86.87000274658203,
          83.62000274658203,
          87.6500015258789,
          85.80999755859375,
          85.72000122070312,
          81.45999908447266,
          84.94999694824219,
          82.13999938964844,
          74.06999969482422,
          79.61000061035156,
          73.13999938964844,
          76.94999694824219,
          74.95999908447266,
          75.55999755859375,
          72.41999816894531,
          70.66999816894531,
          73.55999755859375,
          76.88999938964844,
          79.73999786376953,
          79.27999877929688,
          81.9000015258789,
          82.44999694824219,
          80.93000030517578,
          83.5999984741211,
          83.63999938964844,
          85.7300033569336,
          83.98999786376953,
          85.62000274658203,
          84.8499984741211,
          84.19999694824219,
          86.22000122070312,
          85.61000061035156,
          87.54000091552734,
          89.29000091552734,
          89.77999877929688,
          88.2699966430664,
          88.30000305175781,
          88.0999984741211,
          89.05000305175781,
          89.58999633789062,
          88.04000091552734,
          85.70999908447266,
          84.7300033569336,
          83.41000366210938,
          84,
          84.75,
          85.3499984741211,
          84.66999816894531,
          84.93000030517578
         ],
         "yaxis": "y"
        },
        {
         "hoverlabel": {
          "namelength": 0
         },
         "hovertemplate": "company=Pfizer<br>date=%{x}<br>close=%{y}",
         "legendgroup": "company=Pfizer",
         "line": {
          "color": "#19d3f3",
          "dash": "solid"
         },
         "mode": "lines",
         "name": "company=Pfizer",
         "showlegend": true,
         "type": "scatter",
         "x": [
          "2020-02-03",
          "2020-02-04",
          "2020-02-05",
          "2020-02-06",
          "2020-02-07",
          "2020-02-10",
          "2020-02-11",
          "2020-02-12",
          "2020-02-13",
          "2020-02-14",
          "2020-02-18",
          "2020-02-19",
          "2020-02-20",
          "2020-02-21",
          "2020-02-24",
          "2020-02-25",
          "2020-02-26",
          "2020-02-27",
          "2020-02-28",
          "2020-03-02",
          "2020-03-03",
          "2020-03-04",
          "2020-03-05",
          "2020-03-06",
          "2020-03-09",
          "2020-03-10",
          "2020-03-11",
          "2020-03-12",
          "2020-03-13",
          "2020-03-16",
          "2020-03-17",
          "2020-03-18",
          "2020-03-19",
          "2020-03-20",
          "2020-03-23",
          "2020-03-24",
          "2020-03-25",
          "2020-03-26",
          "2020-03-27",
          "2020-03-30",
          "2020-03-31",
          "2020-04-01",
          "2020-04-02",
          "2020-04-03",
          "2020-04-06",
          "2020-04-07",
          "2020-04-08",
          "2020-04-09",
          "2020-04-13",
          "2020-04-14",
          "2020-04-15",
          "2020-04-16",
          "2020-04-17",
          "2020-04-20",
          "2020-04-21",
          "2020-04-22",
          "2020-04-23",
          "2020-04-24",
          "2020-04-27",
          "2020-04-28",
          "2020-04-29",
          "2020-04-30",
          "2020-05-01",
          "2020-05-04",
          "2020-05-05",
          "2020-05-06",
          "2020-05-07",
          "2020-05-08"
         ],
         "xaxis": "x",
         "y": [
          37.5099983215332,
          37.68999862670898,
          38.16999816894531,
          38.2599983215332,
          38.04999923706055,
          37.810001373291016,
          38.09000015258789,
          37.7400016784668,
          36.93000030517578,
          36.5099983215332,
          36.31999969482422,
          36.22999954223633,
          35.849998474121094,
          35.720001220703125,
          34.669998168945305,
          33.93000030517578,
          34.720001220703125,
          34.09999847412109,
          33.419998168945305,
          34.880001068115234,
          34.299999237060554,
          36.400001525878906,
          35.459999084472656,
          35.02000045776367,
          33.759998321533196,
          34.59000015258789,
          32.169998168945305,
          30.020000457763672,
          32.709999084472656,
          30.18000030517578,
          32.15999984741211,
          32.360000610351555,
          30.420000076293945,
          29.01000022888184,
          28.489999771118164,
          29.70000076293945,
          29.75,
          31.75,
          30.899999618530273,
          32.669998168945305,
          32.639999389648445,
          31.75,
          32.86999893188477,
          33.639999389648445,
          34.56999969482422,
          33.610000610351555,
          34.59999847412109,
          35.38999938964844,
          35.139999389648445,
          36.43999862670898,
          35.970001220703125,
          35.880001068115234,
          36.90999984741211,
          36.08000183105469,
          35.61999893188477,
          36.25,
          36.68999862670898,
          37.38000106811523,
          38.33000183105469,
          37.90999984741211,
          38.11999893188477,
          38.36000061035156,
          37.63999938964844,
          37.61999893188477,
          38.5099983215332,
          38.5099983215332,
          36.959999084472656,
          37.22000122070313
         ],
         "yaxis": "y"
        },
        {
         "hoverlabel": {
          "namelength": 0
         },
         "hovertemplate": "company=Roche<br>date=%{x}<br>close=%{y}",
         "legendgroup": "company=Roche",
         "line": {
          "color": "#FF6692",
          "dash": "solid"
         },
         "mode": "lines",
         "name": "company=Roche",
         "showlegend": true,
         "type": "scatter",
         "x": [
          "2020-02-03",
          "2020-02-04",
          "2020-02-05",
          "2020-02-06",
          "2020-02-07",
          "2020-02-10",
          "2020-02-11",
          "2020-02-12",
          "2020-02-13",
          "2020-02-14",
          "2020-02-18",
          "2020-02-19",
          "2020-02-20",
          "2020-02-21",
          "2020-02-24",
          "2020-02-25",
          "2020-02-26",
          "2020-02-27",
          "2020-02-28",
          "2020-03-02",
          "2020-03-03",
          "2020-03-04",
          "2020-03-05",
          "2020-03-06",
          "2020-03-09",
          "2020-03-10",
          "2020-03-11",
          "2020-03-12",
          "2020-03-13",
          "2020-03-16",
          "2020-03-17",
          "2020-03-18",
          "2020-03-19",
          "2020-03-20",
          "2020-03-23",
          "2020-03-24",
          "2020-03-25",
          "2020-03-26",
          "2020-03-27",
          "2020-03-30",
          "2020-03-31",
          "2020-04-01",
          "2020-04-02",
          "2020-04-03",
          "2020-04-06",
          "2020-04-07",
          "2020-04-08",
          "2020-04-09",
          "2020-04-13",
          "2020-04-14",
          "2020-04-15",
          "2020-04-16",
          "2020-04-17",
          "2020-04-20",
          "2020-04-21",
          "2020-04-22",
          "2020-04-23",
          "2020-04-24",
          "2020-04-27",
          "2020-04-28",
          "2020-04-29",
          "2020-04-30",
          "2020-05-01",
          "2020-05-04",
          "2020-05-05",
          "2020-05-06",
          "2020-05-07",
          "2020-05-08"
         ],
         "xaxis": "x",
         "y": [
          41.86999893188477,
          42.38999938964844,
          43.560001373291016,
          43.43000030517578,
          43.31999969482422,
          43.43000030517578,
          43.40999984741211,
          43.38999938964844,
          43.68000030517578,
          43.38999938964844,
          44.099998474121094,
          44.72999954223633,
          43.86000061035156,
          44.02999877929688,
          42.540000915527344,
          41.75,
          42.150001525878906,
          40.77999877929688,
          39.88999938964844,
          41.20000076293945,
          41.59000015258789,
          43.63999938964844,
          43.09000015258789,
          42.02999877929688,
          39.58000183105469,
          40.90999984741211,
          39.16999816894531,
          35.65999984741211,
          40.29999923706055,
          37.34000015258789,
          39.290000915527344,
          37.709999084472656,
          38.95000076293945,
          36.09000015258789,
          35.2599983215332,
          37.16999816894531,
          37.290000915527344,
          38.77999877929688,
          38.97000122070313,
          40.88000106811523,
          40.56999969482422,
          40.79999923706055,
          41.650001525878906,
          41.11999893188477,
          41.650001525878906,
          40.02000045776367,
          40.349998474121094,
          39.75,
          39.38999938964844,
          40.79999923706055,
          40.09000015258789,
          41.790000915527344,
          42.63000106811523,
          43.209999084472656,
          43.349998474121094,
          44.63999938964844,
          44.18000030517578,
          45.06000137329102,
          44.88999938964844,
          45.27999877929688,
          43.77999877929688,
          43.47000122070313,
          42.84000015258789,
          44.25,
          43.709999084472656,
          44.36000061035156,
          43.72999954223633,
          44.040000915527344
         ],
         "yaxis": "y"
        },
        {
         "hoverlabel": {
          "namelength": 0
         },
         "hovertemplate": "company=Sanofi<br>date=%{x}<br>close=%{y}",
         "legendgroup": "company=Sanofi",
         "line": {
          "color": "#B6E880",
          "dash": "solid"
         },
         "mode": "lines",
         "name": "company=Sanofi",
         "showlegend": true,
         "type": "scatter",
         "x": [
          "2020-02-03",
          "2020-02-04",
          "2020-02-05",
          "2020-02-06",
          "2020-02-07",
          "2020-02-10",
          "2020-02-11",
          "2020-02-12",
          "2020-02-13",
          "2020-02-14",
          "2020-02-18",
          "2020-02-19",
          "2020-02-20",
          "2020-02-21",
          "2020-02-24",
          "2020-02-25",
          "2020-02-26",
          "2020-02-27",
          "2020-02-28",
          "2020-03-02",
          "2020-03-03",
          "2020-03-04",
          "2020-03-05",
          "2020-03-06",
          "2020-03-09",
          "2020-03-10",
          "2020-03-11",
          "2020-03-12",
          "2020-03-13",
          "2020-03-16",
          "2020-03-17",
          "2020-03-18",
          "2020-03-19",
          "2020-03-20",
          "2020-03-23",
          "2020-03-24",
          "2020-03-25",
          "2020-03-26",
          "2020-03-27",
          "2020-03-30",
          "2020-03-31",
          "2020-04-01",
          "2020-04-02",
          "2020-04-03",
          "2020-04-06",
          "2020-04-07",
          "2020-04-08",
          "2020-04-09",
          "2020-04-13",
          "2020-04-14",
          "2020-04-15",
          "2020-04-16",
          "2020-04-17",
          "2020-04-20",
          "2020-04-21",
          "2020-04-22",
          "2020-04-23",
          "2020-04-24",
          "2020-04-27",
          "2020-04-28",
          "2020-04-29",
          "2020-04-30",
          "2020-05-01",
          "2020-05-04",
          "2020-05-05",
          "2020-05-06",
          "2020-05-07",
          "2020-05-08"
         ],
         "xaxis": "x",
         "y": [
          48.38000106811523,
          48.63999938964844,
          49.31999969482422,
          51.65999984741211,
          51.02999877929688,
          51.22000122070313,
          51.22999954223633,
          50.61999893188477,
          50,
          49.93000030517578,
          51.13999938964844,
          50.709999084472656,
          50.75,
          50.849998474121094,
          49.84000015258789,
          49.0099983215332,
          49.45000076293945,
          48.15999984741211,
          46.25,
          48.7400016784668,
          47.709999084472656,
          50.540000915527344,
          49.93999862670898,
          48.43999862670898,
          45.22000122070313,
          46.15999984741211,
          44.790000915527344,
          40.86999893188477,
          43.72000122070313,
          41.52000045776367,
          43.61000061035156,
          41.650001525878906,
          40.61000061035156,
          38.02000045776367,
          38.56999969482422,
          40.18999862670898,
          41.36999893188477,
          42.95000076293945,
          42.43999862670898,
          44.68999862670898,
          43.72000122070313,
          42.90999984741211,
          43.5099983215332,
          44.83000183105469,
          46.11999893188477,
          44.599998474121094,
          45.18000030517578,
          45.459999084472656,
          44.38000106811523,
          45.97000122070313,
          45.1500015258789,
          46.13000106811523,
          47.75,
          48.27999877929688,
          48.599998474121094,
          48.18999862670898,
          48.36999893188477,
          49.849998474121094,
          50.63000106811523,
          49.86999893188477,
          49,
          46.83000183105469,
          46.849998474121094,
          48.36999893188477,
          49.06000137329102,
          49.349998474121094,
          48.4000015258789,
          48.08000183105469
         ],
         "yaxis": "y"
        }
       ],
       "layout": {
        "height": 600,
        "legend": {
         "tracegroupgap": 0
        },
        "margin": {
         "t": 60
        },
        "template": {
         "data": {
          "bar": [
           {
            "error_x": {
             "color": "#2a3f5f"
            },
            "error_y": {
             "color": "#2a3f5f"
            },
            "marker": {
             "line": {
              "color": "#E5ECF6",
              "width": 0.5
             }
            },
            "type": "bar"
           }
          ],
          "barpolar": [
           {
            "marker": {
             "line": {
              "color": "#E5ECF6",
              "width": 0.5
             }
            },
            "type": "barpolar"
           }
          ],
          "carpet": [
           {
            "aaxis": {
             "endlinecolor": "#2a3f5f",
             "gridcolor": "white",
             "linecolor": "white",
             "minorgridcolor": "white",
             "startlinecolor": "#2a3f5f"
            },
            "baxis": {
             "endlinecolor": "#2a3f5f",
             "gridcolor": "white",
             "linecolor": "white",
             "minorgridcolor": "white",
             "startlinecolor": "#2a3f5f"
            },
            "type": "carpet"
           }
          ],
          "choropleth": [
           {
            "colorbar": {
             "outlinewidth": 0,
             "ticks": ""
            },
            "type": "choropleth"
           }
          ],
          "contour": [
           {
            "colorbar": {
             "outlinewidth": 0,
             "ticks": ""
            },
            "colorscale": [
             [
              0,
              "#0d0887"
             ],
             [
              0.1111111111111111,
              "#46039f"
             ],
             [
              0.2222222222222222,
              "#7201a8"
             ],
             [
              0.3333333333333333,
              "#9c179e"
             ],
             [
              0.4444444444444444,
              "#bd3786"
             ],
             [
              0.5555555555555556,
              "#d8576b"
             ],
             [
              0.6666666666666666,
              "#ed7953"
             ],
             [
              0.7777777777777778,
              "#fb9f3a"
             ],
             [
              0.8888888888888888,
              "#fdca26"
             ],
             [
              1,
              "#f0f921"
             ]
            ],
            "type": "contour"
           }
          ],
          "contourcarpet": [
           {
            "colorbar": {
             "outlinewidth": 0,
             "ticks": ""
            },
            "type": "contourcarpet"
           }
          ],
          "heatmap": [
           {
            "colorbar": {
             "outlinewidth": 0,
             "ticks": ""
            },
            "colorscale": [
             [
              0,
              "#0d0887"
             ],
             [
              0.1111111111111111,
              "#46039f"
             ],
             [
              0.2222222222222222,
              "#7201a8"
             ],
             [
              0.3333333333333333,
              "#9c179e"
             ],
             [
              0.4444444444444444,
              "#bd3786"
             ],
             [
              0.5555555555555556,
              "#d8576b"
             ],
             [
              0.6666666666666666,
              "#ed7953"
             ],
             [
              0.7777777777777778,
              "#fb9f3a"
             ],
             [
              0.8888888888888888,
              "#fdca26"
             ],
             [
              1,
              "#f0f921"
             ]
            ],
            "type": "heatmap"
           }
          ],
          "heatmapgl": [
           {
            "colorbar": {
             "outlinewidth": 0,
             "ticks": ""
            },
            "colorscale": [
             [
              0,
              "#0d0887"
             ],
             [
              0.1111111111111111,
              "#46039f"
             ],
             [
              0.2222222222222222,
              "#7201a8"
             ],
             [
              0.3333333333333333,
              "#9c179e"
             ],
             [
              0.4444444444444444,
              "#bd3786"
             ],
             [
              0.5555555555555556,
              "#d8576b"
             ],
             [
              0.6666666666666666,
              "#ed7953"
             ],
             [
              0.7777777777777778,
              "#fb9f3a"
             ],
             [
              0.8888888888888888,
              "#fdca26"
             ],
             [
              1,
              "#f0f921"
             ]
            ],
            "type": "heatmapgl"
           }
          ],
          "histogram": [
           {
            "marker": {
             "colorbar": {
              "outlinewidth": 0,
              "ticks": ""
             }
            },
            "type": "histogram"
           }
          ],
          "histogram2d": [
           {
            "colorbar": {
             "outlinewidth": 0,
             "ticks": ""
            },
            "colorscale": [
             [
              0,
              "#0d0887"
             ],
             [
              0.1111111111111111,
              "#46039f"
             ],
             [
              0.2222222222222222,
              "#7201a8"
             ],
             [
              0.3333333333333333,
              "#9c179e"
             ],
             [
              0.4444444444444444,
              "#bd3786"
             ],
             [
              0.5555555555555556,
              "#d8576b"
             ],
             [
              0.6666666666666666,
              "#ed7953"
             ],
             [
              0.7777777777777778,
              "#fb9f3a"
             ],
             [
              0.8888888888888888,
              "#fdca26"
             ],
             [
              1,
              "#f0f921"
             ]
            ],
            "type": "histogram2d"
           }
          ],
          "histogram2dcontour": [
           {
            "colorbar": {
             "outlinewidth": 0,
             "ticks": ""
            },
            "colorscale": [
             [
              0,
              "#0d0887"
             ],
             [
              0.1111111111111111,
              "#46039f"
             ],
             [
              0.2222222222222222,
              "#7201a8"
             ],
             [
              0.3333333333333333,
              "#9c179e"
             ],
             [
              0.4444444444444444,
              "#bd3786"
             ],
             [
              0.5555555555555556,
              "#d8576b"
             ],
             [
              0.6666666666666666,
              "#ed7953"
             ],
             [
              0.7777777777777778,
              "#fb9f3a"
             ],
             [
              0.8888888888888888,
              "#fdca26"
             ],
             [
              1,
              "#f0f921"
             ]
            ],
            "type": "histogram2dcontour"
           }
          ],
          "mesh3d": [
           {
            "colorbar": {
             "outlinewidth": 0,
             "ticks": ""
            },
            "type": "mesh3d"
           }
          ],
          "parcoords": [
           {
            "line": {
             "colorbar": {
              "outlinewidth": 0,
              "ticks": ""
             }
            },
            "type": "parcoords"
           }
          ],
          "scatter": [
           {
            "marker": {
             "colorbar": {
              "outlinewidth": 0,
              "ticks": ""
             }
            },
            "type": "scatter"
           }
          ],
          "scatter3d": [
           {
            "line": {
             "colorbar": {
              "outlinewidth": 0,
              "ticks": ""
             }
            },
            "marker": {
             "colorbar": {
              "outlinewidth": 0,
              "ticks": ""
             }
            },
            "type": "scatter3d"
           }
          ],
          "scattercarpet": [
           {
            "marker": {
             "colorbar": {
              "outlinewidth": 0,
              "ticks": ""
             }
            },
            "type": "scattercarpet"
           }
          ],
          "scattergeo": [
           {
            "marker": {
             "colorbar": {
              "outlinewidth": 0,
              "ticks": ""
             }
            },
            "type": "scattergeo"
           }
          ],
          "scattergl": [
           {
            "marker": {
             "colorbar": {
              "outlinewidth": 0,
              "ticks": ""
             }
            },
            "type": "scattergl"
           }
          ],
          "scattermapbox": [
           {
            "marker": {
             "colorbar": {
              "outlinewidth": 0,
              "ticks": ""
             }
            },
            "type": "scattermapbox"
           }
          ],
          "scatterpolar": [
           {
            "marker": {
             "colorbar": {
              "outlinewidth": 0,
              "ticks": ""
             }
            },
            "type": "scatterpolar"
           }
          ],
          "scatterpolargl": [
           {
            "marker": {
             "colorbar": {
              "outlinewidth": 0,
              "ticks": ""
             }
            },
            "type": "scatterpolargl"
           }
          ],
          "scatterternary": [
           {
            "marker": {
             "colorbar": {
              "outlinewidth": 0,
              "ticks": ""
             }
            },
            "type": "scatterternary"
           }
          ],
          "surface": [
           {
            "colorbar": {
             "outlinewidth": 0,
             "ticks": ""
            },
            "colorscale": [
             [
              0,
              "#0d0887"
             ],
             [
              0.1111111111111111,
              "#46039f"
             ],
             [
              0.2222222222222222,
              "#7201a8"
             ],
             [
              0.3333333333333333,
              "#9c179e"
             ],
             [
              0.4444444444444444,
              "#bd3786"
             ],
             [
              0.5555555555555556,
              "#d8576b"
             ],
             [
              0.6666666666666666,
              "#ed7953"
             ],
             [
              0.7777777777777778,
              "#fb9f3a"
             ],
             [
              0.8888888888888888,
              "#fdca26"
             ],
             [
              1,
              "#f0f921"
             ]
            ],
            "type": "surface"
           }
          ],
          "table": [
           {
            "cells": {
             "fill": {
              "color": "#EBF0F8"
             },
             "line": {
              "color": "white"
             }
            },
            "header": {
             "fill": {
              "color": "#C8D4E3"
             },
             "line": {
              "color": "white"
             }
            },
            "type": "table"
           }
          ]
         },
         "layout": {
          "annotationdefaults": {
           "arrowcolor": "#2a3f5f",
           "arrowhead": 0,
           "arrowwidth": 1
          },
          "colorscale": {
           "diverging": [
            [
             0,
             "#8e0152"
            ],
            [
             0.1,
             "#c51b7d"
            ],
            [
             0.2,
             "#de77ae"
            ],
            [
             0.3,
             "#f1b6da"
            ],
            [
             0.4,
             "#fde0ef"
            ],
            [
             0.5,
             "#f7f7f7"
            ],
            [
             0.6,
             "#e6f5d0"
            ],
            [
             0.7,
             "#b8e186"
            ],
            [
             0.8,
             "#7fbc41"
            ],
            [
             0.9,
             "#4d9221"
            ],
            [
             1,
             "#276419"
            ]
           ],
           "sequential": [
            [
             0,
             "#0d0887"
            ],
            [
             0.1111111111111111,
             "#46039f"
            ],
            [
             0.2222222222222222,
             "#7201a8"
            ],
            [
             0.3333333333333333,
             "#9c179e"
            ],
            [
             0.4444444444444444,
             "#bd3786"
            ],
            [
             0.5555555555555556,
             "#d8576b"
            ],
            [
             0.6666666666666666,
             "#ed7953"
            ],
            [
             0.7777777777777778,
             "#fb9f3a"
            ],
            [
             0.8888888888888888,
             "#fdca26"
            ],
            [
             1,
             "#f0f921"
            ]
           ],
           "sequentialminus": [
            [
             0,
             "#0d0887"
            ],
            [
             0.1111111111111111,
             "#46039f"
            ],
            [
             0.2222222222222222,
             "#7201a8"
            ],
            [
             0.3333333333333333,
             "#9c179e"
            ],
            [
             0.4444444444444444,
             "#bd3786"
            ],
            [
             0.5555555555555556,
             "#d8576b"
            ],
            [
             0.6666666666666666,
             "#ed7953"
            ],
            [
             0.7777777777777778,
             "#fb9f3a"
            ],
            [
             0.8888888888888888,
             "#fdca26"
            ],
            [
             1,
             "#f0f921"
            ]
           ]
          },
          "colorway": [
           "#636efa",
           "#EF553B",
           "#00cc96",
           "#ab63fa",
           "#FFA15A",
           "#19d3f3",
           "#FF6692",
           "#B6E880",
           "#FF97FF",
           "#FECB52"
          ],
          "font": {
           "color": "#2a3f5f"
          },
          "geo": {
           "bgcolor": "white",
           "lakecolor": "white",
           "landcolor": "#E5ECF6",
           "showlakes": true,
           "showland": true,
           "subunitcolor": "white"
          },
          "hoverlabel": {
           "align": "left"
          },
          "hovermode": "closest",
          "mapbox": {
           "style": "light"
          },
          "paper_bgcolor": "white",
          "plot_bgcolor": "#E5ECF6",
          "polar": {
           "angularaxis": {
            "gridcolor": "white",
            "linecolor": "white",
            "ticks": ""
           },
           "bgcolor": "#E5ECF6",
           "radialaxis": {
            "gridcolor": "white",
            "linecolor": "white",
            "ticks": ""
           }
          },
          "scene": {
           "xaxis": {
            "backgroundcolor": "#E5ECF6",
            "gridcolor": "white",
            "gridwidth": 2,
            "linecolor": "white",
            "showbackground": true,
            "ticks": "",
            "zerolinecolor": "white"
           },
           "yaxis": {
            "backgroundcolor": "#E5ECF6",
            "gridcolor": "white",
            "gridwidth": 2,
            "linecolor": "white",
            "showbackground": true,
            "ticks": "",
            "zerolinecolor": "white"
           },
           "zaxis": {
            "backgroundcolor": "#E5ECF6",
            "gridcolor": "white",
            "gridwidth": 2,
            "linecolor": "white",
            "showbackground": true,
            "ticks": "",
            "zerolinecolor": "white"
           }
          },
          "shapedefaults": {
           "line": {
            "color": "#2a3f5f"
           }
          },
          "ternary": {
           "aaxis": {
            "gridcolor": "white",
            "linecolor": "white",
            "ticks": ""
           },
           "baxis": {
            "gridcolor": "white",
            "linecolor": "white",
            "ticks": ""
           },
           "bgcolor": "#E5ECF6",
           "caxis": {
            "gridcolor": "white",
            "linecolor": "white",
            "ticks": ""
           }
          },
          "title": {
           "x": 0.05
          },
          "xaxis": {
           "automargin": true,
           "gridcolor": "white",
           "linecolor": "white",
           "ticks": "",
           "zerolinecolor": "white",
           "zerolinewidth": 2
          },
          "yaxis": {
           "automargin": true,
           "gridcolor": "white",
           "linecolor": "white",
           "ticks": "",
           "zerolinecolor": "white",
           "zerolinewidth": 2
          }
         }
        },
        "xaxis": {
         "anchor": "y",
         "domain": [
          0,
          0.98
         ],
         "title": {
          "text": "date"
         }
        },
        "yaxis": {
         "anchor": "x",
         "domain": [
          0,
          1
         ],
         "title": {
          "text": "close"
         }
        }
       }
      },
      "text/html": [
       "<div>\n",
       "        \n",
       "        \n",
       "            <div id=\"1a8dac83-ad12-4888-8b1a-3c5ae57c3d4e\" class=\"plotly-graph-div\" style=\"height:600px; width:100%;\"></div>\n",
       "            <script type=\"text/javascript\">\n",
       "                require([\"plotly\"], function(Plotly) {\n",
       "                    window.PLOTLYENV=window.PLOTLYENV || {};\n",
       "                    \n",
       "                if (document.getElementById(\"1a8dac83-ad12-4888-8b1a-3c5ae57c3d4e\")) {\n",
       "                    Plotly.newPlot(\n",
       "                        '1a8dac83-ad12-4888-8b1a-3c5ae57c3d4e',\n",
       "                        [{\"hoverlabel\": {\"namelength\": 0}, \"hovertemplate\": \"company=AstraZeneca<br>date=%{x}<br>close=%{y}\", \"legendgroup\": \"company=AstraZeneca\", \"line\": {\"color\": \"#636efa\", \"dash\": \"solid\"}, \"mode\": \"lines\", \"name\": \"company=AstraZeneca\", \"showlegend\": true, \"type\": \"scatter\", \"x\": [\"2020-02-03\", \"2020-02-04\", \"2020-02-05\", \"2020-02-06\", \"2020-02-07\", \"2020-02-10\", \"2020-02-11\", \"2020-02-12\", \"2020-02-13\", \"2020-02-14\", \"2020-02-18\", \"2020-02-19\", \"2020-02-20\", \"2020-02-21\", \"2020-02-24\", \"2020-02-25\", \"2020-02-26\", \"2020-02-27\", \"2020-02-28\", \"2020-03-02\", \"2020-03-03\", \"2020-03-04\", \"2020-03-05\", \"2020-03-06\", \"2020-03-09\", \"2020-03-10\", \"2020-03-11\", \"2020-03-12\", \"2020-03-13\", \"2020-03-16\", \"2020-03-17\", \"2020-03-18\", \"2020-03-19\", \"2020-03-20\", \"2020-03-23\", \"2020-03-24\", \"2020-03-25\", \"2020-03-26\", \"2020-03-27\", \"2020-03-30\", \"2020-03-31\", \"2020-04-01\", \"2020-04-02\", \"2020-04-03\", \"2020-04-06\", \"2020-04-07\", \"2020-04-08\", \"2020-04-09\", \"2020-04-13\", \"2020-04-14\", \"2020-04-15\", \"2020-04-16\", \"2020-04-17\", \"2020-04-20\", \"2020-04-21\", \"2020-04-22\", \"2020-04-23\", \"2020-04-24\", \"2020-04-27\", \"2020-04-28\", \"2020-04-29\", \"2020-04-30\", \"2020-05-01\", \"2020-05-04\", \"2020-05-05\", \"2020-05-06\", \"2020-05-07\", \"2020-05-08\"], \"xaxis\": \"x\", \"y\": [48.5099983215332, 48.7599983215332, 49.72999954223633, 50.02999877929688, 49.4000015258789, 49.90999984741211, 49.77999877929688, 49.58000183105469, 49.33000183105469, 47.849998474121094, 49.11000061035156, 49.31000137329102, 48.93999862670898, 50.16999816894531, 47.59000015258789, 47.08000183105469, 47.56999969482422, 45.06999969482422, 43.79999923706055, 45.86999893188477, 45.52000045776367, 48.599998474121094, 48.38000106811523, 47.52000045776367, 45.22999954223633, 46.9000015258789, 44.58000183105469, 40.7599983215332, 42.27999877929688, 37.790000915527344, 40.93000030517578, 39.36000061035156, 40.13000106811523, 39.41999816894531, 38.77999877929688, 40.88999938964844, 40.38000106811523, 42.36000061035156, 42.47000122070313, 44.52999877929688, 44.65999984741211, 43.77999877929688, 43.7599983215332, 43.959999084472656, 44.310001373291016, 43.099998474121094, 43.849998474121094, 44.65999984741211, 47.36000061035156, 48.68000030517578, 48.02999877929688, 49.13000106811523, 50.02999877929688, 50.43999862670898, 50.06999969482422, 50.36000061035156, 50.38999938964844, 51.18000030517578, 51.47999954223633, 50.97000122070313, 50.72000122070313, 52.27999877929688, 51.86000061035156, 52.349998474121094, 53.47000122070313, 54.040000915527344, 52.7400016784668, 53.290000915527344], \"yaxis\": \"y\"}, {\"hoverlabel\": {\"namelength\": 0}, \"hovertemplate\": \"company=BayerPharma<br>date=%{x}<br>close=%{y}\", \"legendgroup\": \"company=BayerPharma\", \"line\": {\"color\": \"#EF553B\", \"dash\": \"solid\"}, \"mode\": \"lines\", \"name\": \"company=BayerPharma\", \"showlegend\": true, \"type\": \"scatter\", \"x\": [\"2020-02-03\", \"2020-02-04\", \"2020-02-05\", \"2020-02-06\", \"2020-02-07\", \"2020-02-10\", \"2020-02-11\", \"2020-02-12\", \"2020-02-13\", \"2020-02-14\", \"2020-02-18\", \"2020-02-19\", \"2020-02-20\", \"2020-02-21\", \"2020-02-24\", \"2020-02-25\", \"2020-02-26\", \"2020-02-27\", \"2020-02-28\", \"2020-03-02\", \"2020-03-03\", \"2020-03-04\", \"2020-03-05\", \"2020-03-06\", \"2020-03-09\", \"2020-03-10\", \"2020-03-11\", \"2020-03-12\", \"2020-03-13\", \"2020-03-16\", \"2020-03-17\", \"2020-03-18\", \"2020-03-19\", \"2020-03-20\", \"2020-03-23\", \"2020-03-24\", \"2020-03-25\", \"2020-03-26\", \"2020-03-27\", \"2020-03-30\", \"2020-03-31\", \"2020-04-01\", \"2020-04-02\", \"2020-04-03\", \"2020-04-06\", \"2020-04-07\", \"2020-04-08\", \"2020-04-09\", \"2020-04-13\", \"2020-04-14\", \"2020-04-15\", \"2020-04-16\", \"2020-04-17\", \"2020-04-20\", \"2020-04-21\", \"2020-04-22\", \"2020-04-23\", \"2020-04-24\", \"2020-04-27\", \"2020-04-28\", \"2020-04-29\", \"2020-04-30\", \"2020-05-01\", \"2020-05-04\", \"2020-05-05\", \"2020-05-06\", \"2020-05-07\", \"2020-05-08\"], \"xaxis\": \"x\", \"y\": [20.350000381469727, 20.81999969482422, 21.21999931335449, 21.450000762939453, 21.270000457763672, 21.13999938964844, 21.11000061035156, 21.170000076293945, 20.96999931335449, 21.020000457763672, 20.36000061035156, 20.420000076293945, 20.229999542236328, 20.06999969482422, 19.059999465942386, 18.780000686645508, 18.81999969482422, 18.049999237060547, 18.020000457763672, 18.46999931335449, 17.84000015258789, 18.86000061035156, 18.420000076293945, 18.13999938964844, 16.5, 16.579999923706055, 15.649999618530273, 13.68000030517578, 14.350000381469727, 12.789999961853027, 13.829999923706055, 13.380000114440918, 13.510000228881836, 13.15999984741211, 12.850000381469727, 13.789999961853027, 13.960000038146973, 14.25, 14.0600004196167, 14.579999923706055, 14.470000267028807, 14.18000030517578, 14.43000030517578, 14.34000015258789, 15.260000228881836, 15.479999542236328, 15.359999656677244, 15.75, 15.59000015258789, 16.229999542236328, 15.489999771118164, 15.5, 16.0, 15.729999542236328, 15.789999961853027, 16.079999923706055, 15.9399995803833, 16.229999542236328, 17.200000762939453, 17.229999542236328, 16.709999084472653, 16.450000762939453, 16.139999389648438, 16.0, 15.93000030517578, 15.710000038146973, 15.649999618530273, 15.760000228881836], \"yaxis\": \"y\"}, {\"hoverlabel\": {\"namelength\": 0}, \"hovertemplate\": \"company=GSK<br>date=%{x}<br>close=%{y}\", \"legendgroup\": \"company=GSK\", \"line\": {\"color\": \"#00cc96\", \"dash\": \"solid\"}, \"mode\": \"lines\", \"name\": \"company=GSK\", \"showlegend\": true, \"type\": \"scatter\", \"x\": [\"2020-02-03\", \"2020-02-04\", \"2020-02-05\", \"2020-02-06\", \"2020-02-07\", \"2020-02-10\", \"2020-02-11\", \"2020-02-12\", \"2020-02-13\", \"2020-02-14\", \"2020-02-18\", \"2020-02-19\", \"2020-02-20\", \"2020-02-21\", \"2020-02-24\", \"2020-02-25\", \"2020-02-26\", \"2020-02-27\", \"2020-02-28\", \"2020-03-02\", \"2020-03-03\", \"2020-03-04\", \"2020-03-05\", \"2020-03-06\", \"2020-03-09\", \"2020-03-10\", \"2020-03-11\", \"2020-03-12\", \"2020-03-13\", \"2020-03-16\", \"2020-03-17\", \"2020-03-18\", \"2020-03-19\", \"2020-03-20\", \"2020-03-23\", \"2020-03-24\", \"2020-03-25\", \"2020-03-26\", \"2020-03-27\", \"2020-03-30\", \"2020-03-31\", \"2020-04-01\", \"2020-04-02\", \"2020-04-03\", \"2020-04-06\", \"2020-04-07\", \"2020-04-08\", \"2020-04-09\", \"2020-04-13\", \"2020-04-14\", \"2020-04-15\", \"2020-04-16\", \"2020-04-17\", \"2020-04-20\", \"2020-04-21\", \"2020-04-22\", \"2020-04-23\", \"2020-04-24\", \"2020-04-27\", \"2020-04-28\", \"2020-04-29\", \"2020-04-30\", \"2020-05-01\", \"2020-05-04\", \"2020-05-05\", \"2020-05-06\", \"2020-05-07\", \"2020-05-08\"], \"xaxis\": \"x\", \"y\": [46.72999954223633, 47.11999893188477, 45.06999969482422, 44.13999938964844, 43.95000076293945, 44.61000061035156, 44.41999816894531, 44.22999954223633, 43.77999877929688, 43.7400016784668, 43.54999923706055, 43.4900016784668, 42.7599983215332, 43.08000183105469, 41.91999816894531, 41.47999954223633, 41.900001525878906, 41.59000015258789, 40.52999877929688, 42.54999923706055, 41.29999923706055, 43.349998474121094, 42.59000015258789, 42.38000106811523, 40.72000122070313, 41.02000045776367, 39.86999893188477, 36.5099983215332, 37.849998474121094, 33.669998168945305, 36.849998474121094, 34.279998779296875, 33.65999984741211, 33.34000015258789, 31.85000038146973, 34.0, 35.41999816894531, 37.25, 36.43999862670898, 37.599998474121094, 37.88999938964844, 37.22000122070313, 37.70000076293945, 37.13999938964844, 37.90999984741211, 37.52999877929688, 38.08000183105469, 38.88000106811523, 38.93999862670898, 40.38000106811523, 39.81999969482422, 41.79999923706055, 42.06999969482422, 41.72000122070313, 41.20000076293945, 41.90999984741211, 42.209999084472656, 42.5, 42.63000106811523, 42.09000015258789, 41.849998474121094, 42.06999969482422, 41.209999084472656, 42.150001525878906, 41.9900016784668, 42.38999938964844, 41.70000076293945, 41.90999984741211], \"yaxis\": \"y\"}, {\"hoverlabel\": {\"namelength\": 0}, \"hovertemplate\": \"company=Merck<br>date=%{x}<br>close=%{y}\", \"legendgroup\": \"company=Merck\", \"line\": {\"color\": \"#ab63fa\", \"dash\": \"solid\"}, \"mode\": \"lines\", \"name\": \"company=Merck\", \"showlegend\": true, \"type\": \"scatter\", \"x\": [\"2020-02-03\", \"2020-02-04\", \"2020-02-05\", \"2020-02-06\", \"2020-02-07\", \"2020-02-10\", \"2020-02-11\", \"2020-02-12\", \"2020-02-13\", \"2020-02-14\", \"2020-02-18\", \"2020-02-19\", \"2020-02-20\", \"2020-02-21\", \"2020-02-24\", \"2020-02-25\", \"2020-02-26\", \"2020-02-27\", \"2020-02-28\", \"2020-03-02\", \"2020-03-03\", \"2020-03-04\", \"2020-03-05\", \"2020-03-06\", \"2020-03-09\", \"2020-03-10\", \"2020-03-11\", \"2020-03-12\", \"2020-03-13\", \"2020-03-16\", \"2020-03-17\", \"2020-03-18\", \"2020-03-19\", \"2020-03-20\", \"2020-03-23\", \"2020-03-24\", \"2020-03-25\", \"2020-03-26\", \"2020-03-27\", \"2020-03-30\", \"2020-03-31\", \"2020-04-01\", \"2020-04-02\", \"2020-04-03\", \"2020-04-06\", \"2020-04-07\", \"2020-04-08\", \"2020-04-09\", \"2020-04-13\", \"2020-04-14\", \"2020-04-15\", \"2020-04-16\", \"2020-04-17\", \"2020-04-20\", \"2020-04-21\", \"2020-04-22\", \"2020-04-23\", \"2020-04-24\", \"2020-04-27\", \"2020-04-28\", \"2020-04-29\", \"2020-04-30\", \"2020-05-01\", \"2020-05-04\", \"2020-05-05\", \"2020-05-06\", \"2020-05-07\", \"2020-05-08\"], \"xaxis\": \"x\", \"y\": [87.33999633789062, 88.36000061035156, 85.83000183105469, 85.68000030517578, 85.08000183105469, 85.66000366210938, 85.25, 83.25, 81.97000122070312, 82.6500015258789, 82.45999908447266, 82.0, 82.48999786376953, 82.33999633789062, 81.33000183105469, 80.2699966430664, 79.94000244140625, 78.08000183105469, 76.55999755859375, 81.37000274658203, 79.12999725341797, 82.97000122070312, 81.58000183105469, 82.19999694824219, 78.95999908447266, 82.0199966430664, 79.25, 74.44999694824219, 76.75, 69.91999816894531, 74.4800033569336, 71.62999725341797, 70.7300033569336, 71.36000061035156, 66.40000152587889, 69.05000305175781, 68.22000122070311, 73.52999877929688, 71.7300033569336, 76.94999694824219, 76.94000244140625, 73.80000305175781, 76.87000274658203, 76.25, 80.30999755859375, 78.55999755859375, 81.62000274658203, 82.48999786376953, 80.54000091552734, 82.83999633789062, 82.06999969482422, 83.0, 83.45999908447266, 83.0999984741211, 78.55999755859375, 79.9800033569336, 80.87999725341797, 81.43000030517578, 83.9800033569336, 81.18000030517578, 80.7699966430664, 79.33999633789062, 77.66999816894531, 76.86000061035156, 78.01000213623047, 77.12000274658203, 75.5999984741211, 76.4000015258789], \"yaxis\": \"y\"}, {\"hoverlabel\": {\"namelength\": 0}, \"hovertemplate\": \"company=Novartis<br>date=%{x}<br>close=%{y}\", \"legendgroup\": \"company=Novartis\", \"line\": {\"color\": \"#FFA15A\", \"dash\": \"solid\"}, \"mode\": \"lines\", \"name\": \"company=Novartis\", \"showlegend\": true, \"type\": \"scatter\", \"x\": [\"2020-02-03\", \"2020-02-04\", \"2020-02-05\", \"2020-02-06\", \"2020-02-07\", \"2020-02-10\", \"2020-02-11\", \"2020-02-12\", \"2020-02-13\", \"2020-02-14\", \"2020-02-18\", \"2020-02-19\", \"2020-02-20\", \"2020-02-21\", \"2020-02-24\", \"2020-02-25\", \"2020-02-26\", \"2020-02-27\", \"2020-02-28\", \"2020-03-02\", \"2020-03-03\", \"2020-03-04\", \"2020-03-05\", \"2020-03-06\", \"2020-03-09\", \"2020-03-10\", \"2020-03-11\", \"2020-03-12\", \"2020-03-13\", \"2020-03-16\", \"2020-03-17\", \"2020-03-18\", \"2020-03-19\", \"2020-03-20\", \"2020-03-23\", \"2020-03-24\", \"2020-03-25\", \"2020-03-26\", \"2020-03-27\", \"2020-03-30\", \"2020-03-31\", \"2020-04-01\", \"2020-04-02\", \"2020-04-03\", \"2020-04-06\", \"2020-04-07\", \"2020-04-08\", \"2020-04-09\", \"2020-04-13\", \"2020-04-14\", \"2020-04-15\", \"2020-04-16\", \"2020-04-17\", \"2020-04-20\", \"2020-04-21\", \"2020-04-22\", \"2020-04-23\", \"2020-04-24\", \"2020-04-27\", \"2020-04-28\", \"2020-04-29\", \"2020-04-30\", \"2020-05-01\", \"2020-05-04\", \"2020-05-05\", \"2020-05-06\", \"2020-05-07\", \"2020-05-08\"], \"xaxis\": \"x\", \"y\": [94.25, 95.0999984741211, 96.37000274658205, 96.95999908447266, 95.83000183105469, 97.41999816894531, 98.2300033569336, 99.01000213623048, 97.7699966430664, 97.62999725341795, 97.1999969482422, 97.22000122070312, 96.29000091552734, 96.76000213623048, 90.08000183105469, 87.94999694824219, 87.11000061035156, 86.0199966430664, 83.95999908447266, 86.87000274658203, 83.62000274658203, 87.6500015258789, 85.80999755859375, 85.72000122070312, 81.45999908447266, 84.94999694824219, 82.13999938964844, 74.06999969482422, 79.61000061035156, 73.13999938964844, 76.94999694824219, 74.95999908447266, 75.55999755859375, 72.41999816894531, 70.66999816894531, 73.55999755859375, 76.88999938964844, 79.73999786376953, 79.27999877929688, 81.9000015258789, 82.44999694824219, 80.93000030517578, 83.5999984741211, 83.63999938964844, 85.7300033569336, 83.98999786376953, 85.62000274658203, 84.8499984741211, 84.19999694824219, 86.22000122070312, 85.61000061035156, 87.54000091552734, 89.29000091552734, 89.77999877929688, 88.2699966430664, 88.30000305175781, 88.0999984741211, 89.05000305175781, 89.58999633789062, 88.04000091552734, 85.70999908447266, 84.7300033569336, 83.41000366210938, 84.0, 84.75, 85.3499984741211, 84.66999816894531, 84.93000030517578], \"yaxis\": \"y\"}, {\"hoverlabel\": {\"namelength\": 0}, \"hovertemplate\": \"company=Pfizer<br>date=%{x}<br>close=%{y}\", \"legendgroup\": \"company=Pfizer\", \"line\": {\"color\": \"#19d3f3\", \"dash\": \"solid\"}, \"mode\": \"lines\", \"name\": \"company=Pfizer\", \"showlegend\": true, \"type\": \"scatter\", \"x\": [\"2020-02-03\", \"2020-02-04\", \"2020-02-05\", \"2020-02-06\", \"2020-02-07\", \"2020-02-10\", \"2020-02-11\", \"2020-02-12\", \"2020-02-13\", \"2020-02-14\", \"2020-02-18\", \"2020-02-19\", \"2020-02-20\", \"2020-02-21\", \"2020-02-24\", \"2020-02-25\", \"2020-02-26\", \"2020-02-27\", \"2020-02-28\", \"2020-03-02\", \"2020-03-03\", \"2020-03-04\", \"2020-03-05\", \"2020-03-06\", \"2020-03-09\", \"2020-03-10\", \"2020-03-11\", \"2020-03-12\", \"2020-03-13\", \"2020-03-16\", \"2020-03-17\", \"2020-03-18\", \"2020-03-19\", \"2020-03-20\", \"2020-03-23\", \"2020-03-24\", \"2020-03-25\", \"2020-03-26\", \"2020-03-27\", \"2020-03-30\", \"2020-03-31\", \"2020-04-01\", \"2020-04-02\", \"2020-04-03\", \"2020-04-06\", \"2020-04-07\", \"2020-04-08\", \"2020-04-09\", \"2020-04-13\", \"2020-04-14\", \"2020-04-15\", \"2020-04-16\", \"2020-04-17\", \"2020-04-20\", \"2020-04-21\", \"2020-04-22\", \"2020-04-23\", \"2020-04-24\", \"2020-04-27\", \"2020-04-28\", \"2020-04-29\", \"2020-04-30\", \"2020-05-01\", \"2020-05-04\", \"2020-05-05\", \"2020-05-06\", \"2020-05-07\", \"2020-05-08\"], \"xaxis\": \"x\", \"y\": [37.5099983215332, 37.68999862670898, 38.16999816894531, 38.2599983215332, 38.04999923706055, 37.810001373291016, 38.09000015258789, 37.7400016784668, 36.93000030517578, 36.5099983215332, 36.31999969482422, 36.22999954223633, 35.849998474121094, 35.720001220703125, 34.669998168945305, 33.93000030517578, 34.720001220703125, 34.09999847412109, 33.419998168945305, 34.880001068115234, 34.299999237060554, 36.400001525878906, 35.459999084472656, 35.02000045776367, 33.759998321533196, 34.59000015258789, 32.169998168945305, 30.020000457763672, 32.709999084472656, 30.18000030517578, 32.15999984741211, 32.360000610351555, 30.420000076293945, 29.01000022888184, 28.489999771118164, 29.70000076293945, 29.75, 31.75, 30.899999618530273, 32.669998168945305, 32.639999389648445, 31.75, 32.86999893188477, 33.639999389648445, 34.56999969482422, 33.610000610351555, 34.59999847412109, 35.38999938964844, 35.139999389648445, 36.43999862670898, 35.970001220703125, 35.880001068115234, 36.90999984741211, 36.08000183105469, 35.61999893188477, 36.25, 36.68999862670898, 37.38000106811523, 38.33000183105469, 37.90999984741211, 38.11999893188477, 38.36000061035156, 37.63999938964844, 37.61999893188477, 38.5099983215332, 38.5099983215332, 36.959999084472656, 37.22000122070313], \"yaxis\": \"y\"}, {\"hoverlabel\": {\"namelength\": 0}, \"hovertemplate\": \"company=Roche<br>date=%{x}<br>close=%{y}\", \"legendgroup\": \"company=Roche\", \"line\": {\"color\": \"#FF6692\", \"dash\": \"solid\"}, \"mode\": \"lines\", \"name\": \"company=Roche\", \"showlegend\": true, \"type\": \"scatter\", \"x\": [\"2020-02-03\", \"2020-02-04\", \"2020-02-05\", \"2020-02-06\", \"2020-02-07\", \"2020-02-10\", \"2020-02-11\", \"2020-02-12\", \"2020-02-13\", \"2020-02-14\", \"2020-02-18\", \"2020-02-19\", \"2020-02-20\", \"2020-02-21\", \"2020-02-24\", \"2020-02-25\", \"2020-02-26\", \"2020-02-27\", \"2020-02-28\", \"2020-03-02\", \"2020-03-03\", \"2020-03-04\", \"2020-03-05\", \"2020-03-06\", \"2020-03-09\", \"2020-03-10\", \"2020-03-11\", \"2020-03-12\", \"2020-03-13\", \"2020-03-16\", \"2020-03-17\", \"2020-03-18\", \"2020-03-19\", \"2020-03-20\", \"2020-03-23\", \"2020-03-24\", \"2020-03-25\", \"2020-03-26\", \"2020-03-27\", \"2020-03-30\", \"2020-03-31\", \"2020-04-01\", \"2020-04-02\", \"2020-04-03\", \"2020-04-06\", \"2020-04-07\", \"2020-04-08\", \"2020-04-09\", \"2020-04-13\", \"2020-04-14\", \"2020-04-15\", \"2020-04-16\", \"2020-04-17\", \"2020-04-20\", \"2020-04-21\", \"2020-04-22\", \"2020-04-23\", \"2020-04-24\", \"2020-04-27\", \"2020-04-28\", \"2020-04-29\", \"2020-04-30\", \"2020-05-01\", \"2020-05-04\", \"2020-05-05\", \"2020-05-06\", \"2020-05-07\", \"2020-05-08\"], \"xaxis\": \"x\", \"y\": [41.86999893188477, 42.38999938964844, 43.560001373291016, 43.43000030517578, 43.31999969482422, 43.43000030517578, 43.40999984741211, 43.38999938964844, 43.68000030517578, 43.38999938964844, 44.099998474121094, 44.72999954223633, 43.86000061035156, 44.02999877929688, 42.540000915527344, 41.75, 42.150001525878906, 40.77999877929688, 39.88999938964844, 41.20000076293945, 41.59000015258789, 43.63999938964844, 43.09000015258789, 42.02999877929688, 39.58000183105469, 40.90999984741211, 39.16999816894531, 35.65999984741211, 40.29999923706055, 37.34000015258789, 39.290000915527344, 37.709999084472656, 38.95000076293945, 36.09000015258789, 35.2599983215332, 37.16999816894531, 37.290000915527344, 38.77999877929688, 38.97000122070313, 40.88000106811523, 40.56999969482422, 40.79999923706055, 41.650001525878906, 41.11999893188477, 41.650001525878906, 40.02000045776367, 40.349998474121094, 39.75, 39.38999938964844, 40.79999923706055, 40.09000015258789, 41.790000915527344, 42.63000106811523, 43.209999084472656, 43.349998474121094, 44.63999938964844, 44.18000030517578, 45.06000137329102, 44.88999938964844, 45.27999877929688, 43.77999877929688, 43.47000122070313, 42.84000015258789, 44.25, 43.709999084472656, 44.36000061035156, 43.72999954223633, 44.040000915527344], \"yaxis\": \"y\"}, {\"hoverlabel\": {\"namelength\": 0}, \"hovertemplate\": \"company=Sanofi<br>date=%{x}<br>close=%{y}\", \"legendgroup\": \"company=Sanofi\", \"line\": {\"color\": \"#B6E880\", \"dash\": \"solid\"}, \"mode\": \"lines\", \"name\": \"company=Sanofi\", \"showlegend\": true, \"type\": \"scatter\", \"x\": [\"2020-02-03\", \"2020-02-04\", \"2020-02-05\", \"2020-02-06\", \"2020-02-07\", \"2020-02-10\", \"2020-02-11\", \"2020-02-12\", \"2020-02-13\", \"2020-02-14\", \"2020-02-18\", \"2020-02-19\", \"2020-02-20\", \"2020-02-21\", \"2020-02-24\", \"2020-02-25\", \"2020-02-26\", \"2020-02-27\", \"2020-02-28\", \"2020-03-02\", \"2020-03-03\", \"2020-03-04\", \"2020-03-05\", \"2020-03-06\", \"2020-03-09\", \"2020-03-10\", \"2020-03-11\", \"2020-03-12\", \"2020-03-13\", \"2020-03-16\", \"2020-03-17\", \"2020-03-18\", \"2020-03-19\", \"2020-03-20\", \"2020-03-23\", \"2020-03-24\", \"2020-03-25\", \"2020-03-26\", \"2020-03-27\", \"2020-03-30\", \"2020-03-31\", \"2020-04-01\", \"2020-04-02\", \"2020-04-03\", \"2020-04-06\", \"2020-04-07\", \"2020-04-08\", \"2020-04-09\", \"2020-04-13\", \"2020-04-14\", \"2020-04-15\", \"2020-04-16\", \"2020-04-17\", \"2020-04-20\", \"2020-04-21\", \"2020-04-22\", \"2020-04-23\", \"2020-04-24\", \"2020-04-27\", \"2020-04-28\", \"2020-04-29\", \"2020-04-30\", \"2020-05-01\", \"2020-05-04\", \"2020-05-05\", \"2020-05-06\", \"2020-05-07\", \"2020-05-08\"], \"xaxis\": \"x\", \"y\": [48.38000106811523, 48.63999938964844, 49.31999969482422, 51.65999984741211, 51.02999877929688, 51.22000122070313, 51.22999954223633, 50.61999893188477, 50.0, 49.93000030517578, 51.13999938964844, 50.709999084472656, 50.75, 50.849998474121094, 49.84000015258789, 49.0099983215332, 49.45000076293945, 48.15999984741211, 46.25, 48.7400016784668, 47.709999084472656, 50.540000915527344, 49.93999862670898, 48.43999862670898, 45.22000122070313, 46.15999984741211, 44.790000915527344, 40.86999893188477, 43.72000122070313, 41.52000045776367, 43.61000061035156, 41.650001525878906, 40.61000061035156, 38.02000045776367, 38.56999969482422, 40.18999862670898, 41.36999893188477, 42.95000076293945, 42.43999862670898, 44.68999862670898, 43.72000122070313, 42.90999984741211, 43.5099983215332, 44.83000183105469, 46.11999893188477, 44.599998474121094, 45.18000030517578, 45.459999084472656, 44.38000106811523, 45.97000122070313, 45.1500015258789, 46.13000106811523, 47.75, 48.27999877929688, 48.599998474121094, 48.18999862670898, 48.36999893188477, 49.849998474121094, 50.63000106811523, 49.86999893188477, 49.0, 46.83000183105469, 46.849998474121094, 48.36999893188477, 49.06000137329102, 49.349998474121094, 48.4000015258789, 48.08000183105469], \"yaxis\": \"y\"}],\n",
       "                        {\"height\": 600, \"legend\": {\"tracegroupgap\": 0}, \"margin\": {\"t\": 60}, \"template\": {\"data\": {\"bar\": [{\"error_x\": {\"color\": \"#2a3f5f\"}, \"error_y\": {\"color\": \"#2a3f5f\"}, \"marker\": {\"line\": {\"color\": \"#E5ECF6\", \"width\": 0.5}}, \"type\": \"bar\"}], \"barpolar\": [{\"marker\": {\"line\": {\"color\": \"#E5ECF6\", \"width\": 0.5}}, \"type\": \"barpolar\"}], \"carpet\": [{\"aaxis\": {\"endlinecolor\": \"#2a3f5f\", \"gridcolor\": \"white\", \"linecolor\": \"white\", \"minorgridcolor\": \"white\", \"startlinecolor\": \"#2a3f5f\"}, \"baxis\": {\"endlinecolor\": \"#2a3f5f\", \"gridcolor\": \"white\", \"linecolor\": \"white\", \"minorgridcolor\": \"white\", \"startlinecolor\": \"#2a3f5f\"}, \"type\": \"carpet\"}], \"choropleth\": [{\"colorbar\": {\"outlinewidth\": 0, \"ticks\": \"\"}, \"type\": \"choropleth\"}], \"contour\": [{\"colorbar\": {\"outlinewidth\": 0, \"ticks\": \"\"}, \"colorscale\": [[0.0, \"#0d0887\"], [0.1111111111111111, \"#46039f\"], [0.2222222222222222, \"#7201a8\"], [0.3333333333333333, \"#9c179e\"], [0.4444444444444444, \"#bd3786\"], [0.5555555555555556, \"#d8576b\"], [0.6666666666666666, \"#ed7953\"], [0.7777777777777778, \"#fb9f3a\"], [0.8888888888888888, \"#fdca26\"], [1.0, \"#f0f921\"]], \"type\": \"contour\"}], \"contourcarpet\": [{\"colorbar\": {\"outlinewidth\": 0, \"ticks\": \"\"}, \"type\": \"contourcarpet\"}], \"heatmap\": [{\"colorbar\": {\"outlinewidth\": 0, \"ticks\": \"\"}, \"colorscale\": [[0.0, \"#0d0887\"], [0.1111111111111111, \"#46039f\"], [0.2222222222222222, \"#7201a8\"], [0.3333333333333333, \"#9c179e\"], [0.4444444444444444, \"#bd3786\"], [0.5555555555555556, \"#d8576b\"], [0.6666666666666666, \"#ed7953\"], [0.7777777777777778, \"#fb9f3a\"], [0.8888888888888888, \"#fdca26\"], [1.0, \"#f0f921\"]], \"type\": \"heatmap\"}], \"heatmapgl\": [{\"colorbar\": {\"outlinewidth\": 0, \"ticks\": \"\"}, \"colorscale\": [[0.0, \"#0d0887\"], [0.1111111111111111, \"#46039f\"], [0.2222222222222222, \"#7201a8\"], [0.3333333333333333, \"#9c179e\"], [0.4444444444444444, \"#bd3786\"], [0.5555555555555556, \"#d8576b\"], [0.6666666666666666, \"#ed7953\"], [0.7777777777777778, \"#fb9f3a\"], [0.8888888888888888, \"#fdca26\"], [1.0, \"#f0f921\"]], \"type\": \"heatmapgl\"}], \"histogram\": [{\"marker\": {\"colorbar\": {\"outlinewidth\": 0, \"ticks\": \"\"}}, \"type\": \"histogram\"}], \"histogram2d\": [{\"colorbar\": {\"outlinewidth\": 0, \"ticks\": \"\"}, \"colorscale\": [[0.0, \"#0d0887\"], [0.1111111111111111, \"#46039f\"], [0.2222222222222222, \"#7201a8\"], [0.3333333333333333, \"#9c179e\"], [0.4444444444444444, \"#bd3786\"], [0.5555555555555556, \"#d8576b\"], [0.6666666666666666, \"#ed7953\"], [0.7777777777777778, \"#fb9f3a\"], [0.8888888888888888, \"#fdca26\"], [1.0, \"#f0f921\"]], \"type\": \"histogram2d\"}], \"histogram2dcontour\": [{\"colorbar\": {\"outlinewidth\": 0, \"ticks\": \"\"}, \"colorscale\": [[0.0, \"#0d0887\"], [0.1111111111111111, \"#46039f\"], [0.2222222222222222, \"#7201a8\"], [0.3333333333333333, \"#9c179e\"], [0.4444444444444444, \"#bd3786\"], [0.5555555555555556, \"#d8576b\"], [0.6666666666666666, \"#ed7953\"], [0.7777777777777778, \"#fb9f3a\"], [0.8888888888888888, \"#fdca26\"], [1.0, \"#f0f921\"]], \"type\": \"histogram2dcontour\"}], \"mesh3d\": [{\"colorbar\": {\"outlinewidth\": 0, \"ticks\": \"\"}, \"type\": \"mesh3d\"}], \"parcoords\": [{\"line\": {\"colorbar\": {\"outlinewidth\": 0, \"ticks\": \"\"}}, \"type\": \"parcoords\"}], \"scatter\": [{\"marker\": {\"colorbar\": {\"outlinewidth\": 0, \"ticks\": \"\"}}, \"type\": \"scatter\"}], \"scatter3d\": [{\"line\": {\"colorbar\": {\"outlinewidth\": 0, \"ticks\": \"\"}}, \"marker\": {\"colorbar\": {\"outlinewidth\": 0, \"ticks\": \"\"}}, \"type\": \"scatter3d\"}], \"scattercarpet\": [{\"marker\": {\"colorbar\": {\"outlinewidth\": 0, \"ticks\": \"\"}}, \"type\": \"scattercarpet\"}], \"scattergeo\": [{\"marker\": {\"colorbar\": {\"outlinewidth\": 0, \"ticks\": \"\"}}, \"type\": \"scattergeo\"}], \"scattergl\": [{\"marker\": {\"colorbar\": {\"outlinewidth\": 0, \"ticks\": \"\"}}, \"type\": \"scattergl\"}], \"scattermapbox\": [{\"marker\": {\"colorbar\": {\"outlinewidth\": 0, \"ticks\": \"\"}}, \"type\": \"scattermapbox\"}], \"scatterpolar\": [{\"marker\": {\"colorbar\": {\"outlinewidth\": 0, \"ticks\": \"\"}}, \"type\": \"scatterpolar\"}], \"scatterpolargl\": [{\"marker\": {\"colorbar\": {\"outlinewidth\": 0, \"ticks\": \"\"}}, \"type\": \"scatterpolargl\"}], \"scatterternary\": [{\"marker\": {\"colorbar\": {\"outlinewidth\": 0, \"ticks\": \"\"}}, \"type\": \"scatterternary\"}], \"surface\": [{\"colorbar\": {\"outlinewidth\": 0, \"ticks\": \"\"}, \"colorscale\": [[0.0, \"#0d0887\"], [0.1111111111111111, \"#46039f\"], [0.2222222222222222, \"#7201a8\"], [0.3333333333333333, \"#9c179e\"], [0.4444444444444444, \"#bd3786\"], [0.5555555555555556, \"#d8576b\"], [0.6666666666666666, \"#ed7953\"], [0.7777777777777778, \"#fb9f3a\"], [0.8888888888888888, \"#fdca26\"], [1.0, \"#f0f921\"]], \"type\": \"surface\"}], \"table\": [{\"cells\": {\"fill\": {\"color\": \"#EBF0F8\"}, \"line\": {\"color\": \"white\"}}, \"header\": {\"fill\": {\"color\": \"#C8D4E3\"}, \"line\": {\"color\": \"white\"}}, \"type\": \"table\"}]}, \"layout\": {\"annotationdefaults\": {\"arrowcolor\": \"#2a3f5f\", \"arrowhead\": 0, \"arrowwidth\": 1}, \"colorscale\": {\"diverging\": [[0, \"#8e0152\"], [0.1, \"#c51b7d\"], [0.2, \"#de77ae\"], [0.3, \"#f1b6da\"], [0.4, \"#fde0ef\"], [0.5, \"#f7f7f7\"], [0.6, \"#e6f5d0\"], [0.7, \"#b8e186\"], [0.8, \"#7fbc41\"], [0.9, \"#4d9221\"], [1, \"#276419\"]], \"sequential\": [[0.0, \"#0d0887\"], [0.1111111111111111, \"#46039f\"], [0.2222222222222222, \"#7201a8\"], [0.3333333333333333, \"#9c179e\"], [0.4444444444444444, \"#bd3786\"], [0.5555555555555556, \"#d8576b\"], [0.6666666666666666, \"#ed7953\"], [0.7777777777777778, \"#fb9f3a\"], [0.8888888888888888, \"#fdca26\"], [1.0, \"#f0f921\"]], \"sequentialminus\": [[0.0, \"#0d0887\"], [0.1111111111111111, \"#46039f\"], [0.2222222222222222, \"#7201a8\"], [0.3333333333333333, \"#9c179e\"], [0.4444444444444444, \"#bd3786\"], [0.5555555555555556, \"#d8576b\"], [0.6666666666666666, \"#ed7953\"], [0.7777777777777778, \"#fb9f3a\"], [0.8888888888888888, \"#fdca26\"], [1.0, \"#f0f921\"]]}, \"colorway\": [\"#636efa\", \"#EF553B\", \"#00cc96\", \"#ab63fa\", \"#FFA15A\", \"#19d3f3\", \"#FF6692\", \"#B6E880\", \"#FF97FF\", \"#FECB52\"], \"font\": {\"color\": \"#2a3f5f\"}, \"geo\": {\"bgcolor\": \"white\", \"lakecolor\": \"white\", \"landcolor\": \"#E5ECF6\", \"showlakes\": true, \"showland\": true, \"subunitcolor\": \"white\"}, \"hoverlabel\": {\"align\": \"left\"}, \"hovermode\": \"closest\", \"mapbox\": {\"style\": \"light\"}, \"paper_bgcolor\": \"white\", \"plot_bgcolor\": \"#E5ECF6\", \"polar\": {\"angularaxis\": {\"gridcolor\": \"white\", \"linecolor\": \"white\", \"ticks\": \"\"}, \"bgcolor\": \"#E5ECF6\", \"radialaxis\": {\"gridcolor\": \"white\", \"linecolor\": \"white\", \"ticks\": \"\"}}, \"scene\": {\"xaxis\": {\"backgroundcolor\": \"#E5ECF6\", \"gridcolor\": \"white\", \"gridwidth\": 2, \"linecolor\": \"white\", \"showbackground\": true, \"ticks\": \"\", \"zerolinecolor\": \"white\"}, \"yaxis\": {\"backgroundcolor\": \"#E5ECF6\", \"gridcolor\": \"white\", \"gridwidth\": 2, \"linecolor\": \"white\", \"showbackground\": true, \"ticks\": \"\", \"zerolinecolor\": \"white\"}, \"zaxis\": {\"backgroundcolor\": \"#E5ECF6\", \"gridcolor\": \"white\", \"gridwidth\": 2, \"linecolor\": \"white\", \"showbackground\": true, \"ticks\": \"\", \"zerolinecolor\": \"white\"}}, \"shapedefaults\": {\"line\": {\"color\": \"#2a3f5f\"}}, \"ternary\": {\"aaxis\": {\"gridcolor\": \"white\", \"linecolor\": \"white\", \"ticks\": \"\"}, \"baxis\": {\"gridcolor\": \"white\", \"linecolor\": \"white\", \"ticks\": \"\"}, \"bgcolor\": \"#E5ECF6\", \"caxis\": {\"gridcolor\": \"white\", \"linecolor\": \"white\", \"ticks\": \"\"}}, \"title\": {\"x\": 0.05}, \"xaxis\": {\"automargin\": true, \"gridcolor\": \"white\", \"linecolor\": \"white\", \"ticks\": \"\", \"zerolinecolor\": \"white\", \"zerolinewidth\": 2}, \"yaxis\": {\"automargin\": true, \"gridcolor\": \"white\", \"linecolor\": \"white\", \"ticks\": \"\", \"zerolinecolor\": \"white\", \"zerolinewidth\": 2}}}, \"xaxis\": {\"anchor\": \"y\", \"domain\": [0.0, 0.98], \"title\": {\"text\": \"date\"}}, \"yaxis\": {\"anchor\": \"x\", \"domain\": [0.0, 1.0], \"title\": {\"text\": \"close\"}}},\n",
       "                        {\"responsive\": true}\n",
       "                    ).then(function(){\n",
       "                            \n",
       "var gd = document.getElementById('1a8dac83-ad12-4888-8b1a-3c5ae57c3d4e');\n",
       "var x = new MutationObserver(function (mutations, observer) {{\n",
       "        var display = window.getComputedStyle(gd).display;\n",
       "        if (!display || display === 'none') {{\n",
       "            console.log([gd, 'removed!']);\n",
       "            Plotly.purge(gd);\n",
       "            observer.disconnect();\n",
       "        }}\n",
       "}});\n",
       "\n",
       "// Listen for the removal of the full notebook cells\n",
       "var notebookContainer = gd.closest('#notebook-container');\n",
       "if (notebookContainer) {{\n",
       "    x.observe(notebookContainer, {childList: true});\n",
       "}}\n",
       "\n",
       "// Listen for the clearing of the current output cell\n",
       "var outputEl = gd.closest('.output');\n",
       "if (outputEl) {{\n",
       "    x.observe(outputEl, {childList: true});\n",
       "}}\n",
       "\n",
       "                        })\n",
       "                };\n",
       "                });\n",
       "            </script>\n",
       "        </div>"
      ]
     },
     "metadata": {},
     "output_type": "display_data"
    }
   ],
   "source": [
    "fig = px.line(df_stock, x='date',y='close',color = 'company')\n",
    "fig.show()"
   ]
  },
  {
   "cell_type": "code",
   "execution_count": 208,
   "metadata": {},
   "outputs": [],
   "source": [
    "from collections import Counter, OrderedDict"
   ]
  },
  {
   "cell_type": "code",
   "execution_count": 178,
   "metadata": {},
   "outputs": [
    {
     "name": "stdout",
     "output_type": "stream",
     "text": [
      "Dla okresu 2020-02-03 00:00:00 - 2020-02-06 00:00:00 najczęstsze słowa to:\n",
      "[('worldcancerday', 102), ('thank', 69), ('join', 61), ('conversation', 58), ('cancer', 34)]\n",
      "\n",
      "Dla okresu 2020-02-06 00:00:00 - 2020-02-09 00:00:00 najczęstsze słowa to:\n",
      "[('result', 10), ('year', 10), ('today', 7), ('cancer', 7), ('treatment', 7)]\n",
      "\n",
      "Dla okresu 2020-02-09 00:00:00 - 2020-02-12 00:00:00 najczęstsze słowa to:\n",
      "[('woman', 9), ('science', 7), ('patient', 7), ('people', 6), ('disease', 6)]\n",
      "\n",
      "Dla okresu 2020-02-12 00:00:00 - 2020-02-15 00:00:00 najczęstsze słowa to:\n",
      "[('patient', 12), ('cancer', 12), ('disease', 7), ('make', 6), ('help', 6)]\n",
      "\n",
      "Dla okresu 2020-02-15 00:00:00 - 2020-02-18 00:00:00 najczęstsze słowa to:\n",
      "[('contact', 6), ('us', 5), ('local', 5), ('reach', 5), ('thanks', 4)]\n",
      "\n",
      "Dla okresu 2020-02-18 00:00:00 - 2020-02-21 00:00:00 najczęstsze słowa to:\n",
      "[('people', 7), ('learn', 7), ('cancer', 7), ('new', 6), ('health', 5)]\n",
      "\n",
      "Dla okresu 2020-02-21 00:00:00 - 2020-02-24 00:00:00 najczęstsze słowa to:\n",
      "[('share', 3), ('rt', 2), ('us', 2), ('kidney', 2), ('condition', 2)]\n",
      "\n",
      "Dla okresu 2020-02-24 00:00:00 - 2020-02-27 00:00:00 najczęstsze słowa to:\n",
      "[('patient', 8), ('reach', 5), ('contact', 5), ('us', 5), ('learn', 4)]\n",
      "\n",
      "Dla okresu 2020-02-27 00:00:00 - 2020-03-01 00:00:00 najczęstsze słowa to:\n",
      "[('rare', 17), ('disease', 12), ('rarediseaseday', 9), ('people', 8), ('patient', 8)]\n",
      "\n",
      "Dla okresu 2020-03-01 00:00:00 - 2020-03-04 00:00:00 najczęstsze słowa to:\n",
      "[('learn', 8), ('make', 7), ('us', 7), ('health', 5), ('sustainability', 4)]\n",
      "\n",
      "Dla okresu 2020-03-04 00:00:00 - 2020-03-07 00:00:00 najczęstsze słowa to:\n",
      "[('work', 7), ('2019', 7), ('iwd2020', 6), ('share', 6), ('contact', 6)]\n",
      "\n",
      "Dla okresu 2020-03-07 00:00:00 - 2020-03-10 00:00:00 najczęstsze słowa to:\n",
      "[('iwd2020', 19), ('eachforequal', 18), ('internationalwomensday', 11), ('world', 7), ('woman', 7)]\n",
      "\n",
      "Dla okresu 2020-03-10 00:00:00 - 2020-03-13 00:00:00 najczęstsze słowa to:\n",
      "[('patient', 9), ('disease', 8), ('us', 8), ('kidney', 7), ('work', 7)]\n",
      "\n",
      "Dla okresu 2020-03-13 00:00:00 - 2020-03-16 00:00:00 najczęstsze słowa to:\n",
      "[('covid19', 11), ('patient', 7), ('test', 6), ('amp', 5), ('help', 5)]\n",
      "\n",
      "Dla okresu 2020-03-16 00:00:00 - 2020-03-19 00:00:00 najczęstsze słowa to:\n",
      "[('covid19', 15), ('contact', 12), ('coronavirus', 10), ('thanks', 9), ('vaccine', 8)]\n",
      "\n",
      "Dla okresu 2020-03-19 00:00:00 - 2020-03-22 00:00:00 najczęstsze słowa to:\n",
      "[('covid19', 14), ('contact', 10), ('coronavirus', 7), ('info', 6), ('please', 6)]\n",
      "\n",
      "Dla okresu 2020-03-22 00:00:00 - 2020-03-25 00:00:00 najczęstsze słowa to:\n",
      "[('covid19', 19), ('patient', 10), ('contact', 9), ('medical', 8), ('us', 7)]\n",
      "\n",
      "Dla okresu 2020-03-25 00:00:00 - 2020-03-28 00:00:00 najczęstsze słowa to:\n",
      "[('covid19', 22), ('treatment', 10), ('patient', 8), ('people', 8), ('new', 8)]\n",
      "\n",
      "Dla okresu 2020-03-28 00:00:00 - 2020-03-31 00:00:00 najczęstsze słowa to:\n",
      "[('covid19', 11), ('trial', 7), ('patient', 6), ('present', 6), ('local', 6)]\n",
      "\n",
      "Dla okresu 2020-03-31 00:00:00 - 2020-04-03 00:00:00 najczęstsze słowa to:\n",
      "[('covid19', 26), ('coronavirus', 8), ('support', 7), ('world', 7), ('patient', 7)]\n",
      "\n",
      "Dla okresu 2020-04-03 00:00:00 - 2020-04-06 00:00:00 najczęstsze słowa to:\n",
      "[('covid19', 8), ('learn', 4), ('patient', 4), ('employee', 2), ('question', 2)]\n",
      "\n",
      "Dla okresu 2020-04-06 00:00:00 - 2020-04-09 00:00:00 najczęstsze słowa to:\n",
      "[('covid19', 33), ('please', 10), ('coronavirus', 9), ('gsk', 8), ('learn', 8)]\n",
      "\n",
      "Dla okresu 2020-04-09 00:00:00 - 2020-04-12 00:00:00 najczęstsze słowa to:\n",
      "[('covid19', 11), ('us', 8), ('pandemic', 6), ('reach', 5), ('study', 5)]\n",
      "\n",
      "Dla okresu 2020-04-12 00:00:00 - 2020-04-15 00:00:00 najczęstsze słowa to:\n",
      "[('vaccine', 16), ('covid19', 15), ('coronavirus', 10), ('work', 9), ('sanofi', 8)]\n",
      "\n",
      "Dla okresu 2020-04-15 00:00:00 - 2020-04-18 00:00:00 najczęstsze słowa to:\n",
      "[('covid19', 32), ('sanofi', 15), ('vaccine', 14), ('contact', 13), ('coronavirus', 12)]\n",
      "\n",
      "Dla okresu 2020-04-18 00:00:00 - 2020-04-21 00:00:00 najczęstsze słowa to:\n",
      "[('covid19', 9), ('one', 4), ('help', 4), ('pandemic', 4), ('proud', 4)]\n",
      "\n",
      "Dla okresu 2020-04-21 00:00:00 - 2020-04-24 00:00:00 najczęstsze słowa to:\n",
      "[('covid19', 23), ('help', 11), ('us', 10), ('thank', 9), ('support', 7)]\n",
      "\n",
      "Dla okresu 2020-04-24 00:00:00 - 2020-04-27 00:00:00 najczęstsze słowa to:\n",
      "[('covid19', 12), ('malaria', 9), ('financial', 8), ('sanofiresults', 8), ('sny', 8)]\n",
      "\n",
      "Dla okresu 2020-04-27 00:00:00 - 2020-04-30 00:00:00 najczęstsze słowa to:\n",
      "[('covid19', 25), ('vaccine', 20), ('new', 16), ('today', 13), ('cancer', 13)]\n",
      "\n",
      "Dla okresu 2020-04-30 00:00:00 - 2020-05-03 00:00:00 najczęstsze słowa to:\n",
      "[('covid19', 12), ('contact', 8), ('vaccine', 7), ('local', 7), ('office', 6)]\n",
      "\n",
      "Dla okresu 2020-05-03 00:00:00 - 2020-05-06 00:00:00 najczęstsze słowa to:\n",
      "[('covid19', 28), ('patient', 14), ('asthma', 10), ('help', 10), ('time', 8)]\n",
      "\n"
     ]
    }
   ],
   "source": [
    "date_intervals = pd.date_range(start=min(df_tweets.date), end=max(df_tweets.date), freq='3D')\n",
    "df_tweets['date'] = pd.to_datetime(df_tweets['date'])\n",
    "\n",
    "\n",
    "for i in range(0,len(date_intervals)-1):\n",
    "    words = df_tweets.loc[(df_tweets['date'] >= date_intervals[i]) & (df_tweets['date'] < date_intervals[i+1])]['text_lemmatized'].sum()\n",
    "    most_common= Counter(words).most_common()[:5]\n",
    "    print(f'Dla okresu {date_intervals[i]} - {date_intervals[i+1]} najczęstsze słowa to:')\n",
    "    print(most_common)\n",
    "    print()\n",
    "\n",
    "    "
   ]
  },
  {
   "cell_type": "markdown",
   "metadata": {},
   "source": [
    "Wygląda na to, że temat koronawirusa zaczął dominować w naszych Tweetach w okolicach 10 -15 marca. To w tych dniach m.in. W Polsce zarządzono lockdown. Jednak dnia 23 marca dla wszystkich wykresów giełdowych widać odbicie. Sprawdzę dla tej daty +/- 4 dni jakie były najczęstsze wyrażenia w tweetach."
   ]
  },
  {
   "cell_type": "code",
   "execution_count": 188,
   "metadata": {
    "scrolled": true
   },
   "outputs": [
    {
     "name": "stdout",
     "output_type": "stream",
     "text": [
      "Dla okresu 2020-03-19 00:00:00 - 2020-03-20 00:00:00 najczęstsze słowa to:\n",
      "[('covid19', 6), ('us', 4), ('contact', 4), ('please', 4), ('vaccine', 4)]\n",
      "\n",
      "Dla okresu 2020-03-20 00:00:00 - 2020-03-21 00:00:00 najczęstsze słowa to:\n",
      "[('covid19', 8), ('contact', 6), ('info', 5), ('thanks', 4), ('coronavirus', 4)]\n",
      "\n",
      "Dla okresu 2020-03-22 00:00:00 - 2020-03-23 00:00:00 najczęstsze słowa to:\n",
      "[('covid19', 2), ('proud', 1), ('share', 1), ('donation', 1), ('500000', 1)]\n",
      "\n",
      "Dla okresu 2020-03-23 00:00:00 - 2020-03-24 00:00:00 najczęstsze słowa to:\n",
      "[('covid19', 9), ('patient', 7), ('help', 6), ('contact', 6), ('us', 6)]\n",
      "\n",
      "Dla okresu 2020-03-24 00:00:00 - 2020-03-25 00:00:00 najczęstsze słowa to:\n",
      "[('covid19', 8), ('disease', 4), ('test', 4), ('global', 3), ('patient', 3)]\n",
      "\n",
      "Dla okresu 2020-03-25 00:00:00 - 2020-03-26 00:00:00 najczęstsze słowa to:\n",
      "[('covid19', 10), ('help', 4), ('us', 4), ('contact', 4), ('million', 3)]\n",
      "\n",
      "Dla okresu 2020-03-26 00:00:00 - 2020-03-27 00:00:00 najczęstsze słowa to:\n",
      "[('covid19', 6), ('proud', 3), ('fight', 3), ('condition', 2), ('worldwide', 2)]\n",
      "\n",
      "Dla okresu 2020-03-27 00:00:00 - 2020-03-28 00:00:00 najczęstsze słowa to:\n",
      "[('treatment', 8), ('new', 7), ('flu', 7), ('trial', 6), ('covid19', 6)]\n",
      "\n"
     ]
    }
   ],
   "source": [
    "date_intervals = pd.date_range(start='2020-03-19', end='2020-03-28', freq='D')\n",
    "df_tweets['date'] = pd.to_datetime(df_tweets['date'])\n",
    "\n",
    "\n",
    "for i in range(0,len(date_intervals)-1):\n",
    "    words = df_tweets.loc[(df_tweets['date'] >= date_intervals[i]) & (df_tweets['date'] < date_intervals[i+1])]['text_lemmatized'].sum()\n",
    "    try:\n",
    "        most_common= Counter(words).most_common()[:5]\n",
    "        print(f'Dla okresu {date_intervals[i]} - {date_intervals[i+1]} najczęstsze słowa to:')\n",
    "        print(most_common)\n",
    "        print()\n",
    "    except:\n",
    "        pass"
   ]
  },
  {
   "cell_type": "markdown",
   "metadata": {},
   "source": [
    "Dnia 26 marca pojawiają się nowe zwroty: treatment, trial, new, które to mogą sugerować prace nad leczeniem zakażenia. Warto pamiętać, że komunikaty na Twitterze mogą być opóźnione w stosunku do innych form komunikacji firm farmaceutycznych (szczególnie takich, jakie są obserwowane przez akcjonariuszy), w szczególności opóźnione do zakulisowych informacji pracowników firm."
   ]
  },
  {
   "cell_type": "markdown",
   "metadata": {},
   "source": [
    "Następnym krokiem będzie stworzenie wykresu zawierającego ilości występowań konkretnych (zadanych) słów w czasie."
   ]
  },
  {
   "cell_type": "code",
   "execution_count": 260,
   "metadata": {},
   "outputs": [],
   "source": [
    "def draw_words_occurence(words_list):\n",
    "    \n",
    "    date_intervals = pd.date_range(start=min(df_tweets.date), end=max(df_tweets.date), freq='1D')\n",
    "    \n",
    "    \n",
    "    temp = pd.DataFrame(columns=['date','word','occurrence'])\n",
    "    \n",
    "    for i in range(0, len(date_intervals) -6):\n",
    "        try:\n",
    "            all_words = df_tweets.loc[(df_tweets['date'] >= date_intervals[i]) & (df_tweets['date'] < date_intervals[i+6])]['text_lemmatized'].sum()\n",
    "            counted = Counter(all_words)\n",
    "            for word in words_list:\n",
    "                temp.loc[len(temp)]=[date_intervals[i],word,counted.get(word,0)/5]  \n",
    "                \n",
    "        except:\n",
    "            pass\n",
    "    print('\\n\\nWartości są pokazane na ruchomej średniej z 5 dni w celu wygładzenia linii wykresów')\n",
    "    fig = px.line(temp, y = 'occurrence', x = 'date', color = 'word')\n",
    "    fig.show()\n",
    "    \n",
    "        \n",
    "\n"
   ]
  },
  {
   "cell_type": "code",
   "execution_count": 261,
   "metadata": {
    "scrolled": false
   },
   "outputs": [
    {
     "name": "stdout",
     "output_type": "stream",
     "text": [
      "\n",
      "\n",
      "Wartości są pokazane na ruchomej średniej z 5 dni\n"
     ]
    },
    {
     "data": {
      "application/vnd.plotly.v1+json": {
       "config": {
        "plotlyServerURL": "https://plot.ly"
       },
       "data": [
        {
         "hoverlabel": {
          "namelength": 0
         },
         "hovertemplate": "word=covid19<br>date=%{x}<br>occurrence=%{y}",
         "legendgroup": "word=covid19",
         "line": {
          "color": "#636efa",
          "dash": "solid"
         },
         "mode": "lines",
         "name": "word=covid19",
         "showlegend": true,
         "type": "scatter",
         "x": [
          "2020-02-03T00:00:00",
          "2020-02-04T00:00:00",
          "2020-02-05T00:00:00",
          "2020-02-06T00:00:00",
          "2020-02-07T00:00:00",
          "2020-02-08T00:00:00",
          "2020-02-09T00:00:00",
          "2020-02-10T00:00:00",
          "2020-02-11T00:00:00",
          "2020-02-12T00:00:00",
          "2020-02-13T00:00:00",
          "2020-02-14T00:00:00",
          "2020-02-15T00:00:00",
          "2020-02-16T00:00:00",
          "2020-02-17T00:00:00",
          "2020-02-18T00:00:00",
          "2020-02-19T00:00:00",
          "2020-02-20T00:00:00",
          "2020-02-21T00:00:00",
          "2020-02-22T00:00:00",
          "2020-02-23T00:00:00",
          "2020-02-24T00:00:00",
          "2020-02-25T00:00:00",
          "2020-02-26T00:00:00",
          "2020-02-27T00:00:00",
          "2020-02-28T00:00:00",
          "2020-02-29T00:00:00",
          "2020-03-01T00:00:00",
          "2020-03-02T00:00:00",
          "2020-03-03T00:00:00",
          "2020-03-04T00:00:00",
          "2020-03-05T00:00:00",
          "2020-03-06T00:00:00",
          "2020-03-07T00:00:00",
          "2020-03-08T00:00:00",
          "2020-03-09T00:00:00",
          "2020-03-10T00:00:00",
          "2020-03-11T00:00:00",
          "2020-03-12T00:00:00",
          "2020-03-13T00:00:00",
          "2020-03-14T00:00:00",
          "2020-03-15T00:00:00",
          "2020-03-16T00:00:00",
          "2020-03-17T00:00:00",
          "2020-03-18T00:00:00",
          "2020-03-19T00:00:00",
          "2020-03-20T00:00:00",
          "2020-03-21T00:00:00",
          "2020-03-22T00:00:00",
          "2020-03-23T00:00:00",
          "2020-03-24T00:00:00",
          "2020-03-25T00:00:00",
          "2020-03-26T00:00:00",
          "2020-03-27T00:00:00",
          "2020-03-28T00:00:00",
          "2020-03-29T00:00:00",
          "2020-03-30T00:00:00",
          "2020-03-31T00:00:00",
          "2020-04-01T00:00:00",
          "2020-04-02T00:00:00",
          "2020-04-03T00:00:00",
          "2020-04-04T00:00:00",
          "2020-04-05T00:00:00",
          "2020-04-06T00:00:00",
          "2020-04-07T00:00:00",
          "2020-04-08T00:00:00",
          "2020-04-09T00:00:00",
          "2020-04-10T00:00:00",
          "2020-04-11T00:00:00",
          "2020-04-12T00:00:00",
          "2020-04-13T00:00:00",
          "2020-04-14T00:00:00",
          "2020-04-15T00:00:00",
          "2020-04-16T00:00:00",
          "2020-04-17T00:00:00",
          "2020-04-18T00:00:00",
          "2020-04-19T00:00:00",
          "2020-04-20T00:00:00",
          "2020-04-21T00:00:00",
          "2020-04-22T00:00:00",
          "2020-04-23T00:00:00",
          "2020-04-24T00:00:00",
          "2020-04-25T00:00:00",
          "2020-04-26T00:00:00",
          "2020-04-27T00:00:00",
          "2020-04-28T00:00:00",
          "2020-04-29T00:00:00",
          "2020-04-30T00:00:00",
          "2020-05-01T00:00:00"
         ],
         "xaxis": "x",
         "y": [
          0,
          0,
          0,
          0,
          0,
          0,
          0,
          0,
          0,
          0,
          0.2,
          0.2,
          0.2,
          0.2,
          0.2,
          0.2,
          0.2,
          0.2,
          0.2,
          0.2,
          0.2,
          0.2,
          0,
          0,
          0,
          0.2,
          0.4,
          0.6,
          0.6,
          0.6,
          0.6,
          0.4,
          0.2,
          0.2,
          1.6,
          2,
          2.4,
          3.4,
          4.4,
          5.2,
          5,
          6.2,
          5.8,
          5.2,
          6,
          6.6,
          7.4,
          7,
          8.2,
          8.4,
          6.6,
          6.6,
          6.8,
          7.4,
          7.4,
          8.2,
          8.4,
          6.8,
          7,
          7.8,
          8.2,
          8.2,
          8.8,
          8.8,
          6.4,
          4,
          5.2,
          6.2,
          7,
          9.4,
          9.8,
          9.6,
          8.2,
          7.6,
          7,
          6.4,
          7.6,
          8.4,
          7,
          7.4,
          7.2,
          7.4,
          7.4,
          7.4,
          7.4,
          6,
          7,
          8,
          8.2
         ],
         "yaxis": "y"
        },
        {
         "hoverlabel": {
          "namelength": 0
         },
         "hovertemplate": "word=treatment<br>date=%{x}<br>occurrence=%{y}",
         "legendgroup": "word=treatment",
         "line": {
          "color": "#EF553B",
          "dash": "solid"
         },
         "mode": "lines",
         "name": "word=treatment",
         "showlegend": true,
         "type": "scatter",
         "x": [
          "2020-02-03T00:00:00",
          "2020-02-04T00:00:00",
          "2020-02-05T00:00:00",
          "2020-02-06T00:00:00",
          "2020-02-07T00:00:00",
          "2020-02-08T00:00:00",
          "2020-02-09T00:00:00",
          "2020-02-10T00:00:00",
          "2020-02-11T00:00:00",
          "2020-02-12T00:00:00",
          "2020-02-13T00:00:00",
          "2020-02-14T00:00:00",
          "2020-02-15T00:00:00",
          "2020-02-16T00:00:00",
          "2020-02-17T00:00:00",
          "2020-02-18T00:00:00",
          "2020-02-19T00:00:00",
          "2020-02-20T00:00:00",
          "2020-02-21T00:00:00",
          "2020-02-22T00:00:00",
          "2020-02-23T00:00:00",
          "2020-02-24T00:00:00",
          "2020-02-25T00:00:00",
          "2020-02-26T00:00:00",
          "2020-02-27T00:00:00",
          "2020-02-28T00:00:00",
          "2020-02-29T00:00:00",
          "2020-03-01T00:00:00",
          "2020-03-02T00:00:00",
          "2020-03-03T00:00:00",
          "2020-03-04T00:00:00",
          "2020-03-05T00:00:00",
          "2020-03-06T00:00:00",
          "2020-03-07T00:00:00",
          "2020-03-08T00:00:00",
          "2020-03-09T00:00:00",
          "2020-03-10T00:00:00",
          "2020-03-11T00:00:00",
          "2020-03-12T00:00:00",
          "2020-03-13T00:00:00",
          "2020-03-14T00:00:00",
          "2020-03-15T00:00:00",
          "2020-03-16T00:00:00",
          "2020-03-17T00:00:00",
          "2020-03-18T00:00:00",
          "2020-03-19T00:00:00",
          "2020-03-20T00:00:00",
          "2020-03-21T00:00:00",
          "2020-03-22T00:00:00",
          "2020-03-23T00:00:00",
          "2020-03-24T00:00:00",
          "2020-03-25T00:00:00",
          "2020-03-26T00:00:00",
          "2020-03-27T00:00:00",
          "2020-03-28T00:00:00",
          "2020-03-29T00:00:00",
          "2020-03-30T00:00:00",
          "2020-03-31T00:00:00",
          "2020-04-01T00:00:00",
          "2020-04-02T00:00:00",
          "2020-04-03T00:00:00",
          "2020-04-04T00:00:00",
          "2020-04-05T00:00:00",
          "2020-04-06T00:00:00",
          "2020-04-07T00:00:00",
          "2020-04-08T00:00:00",
          "2020-04-09T00:00:00",
          "2020-04-10T00:00:00",
          "2020-04-11T00:00:00",
          "2020-04-12T00:00:00",
          "2020-04-13T00:00:00",
          "2020-04-14T00:00:00",
          "2020-04-15T00:00:00",
          "2020-04-16T00:00:00",
          "2020-04-17T00:00:00",
          "2020-04-18T00:00:00",
          "2020-04-19T00:00:00",
          "2020-04-20T00:00:00",
          "2020-04-21T00:00:00",
          "2020-04-22T00:00:00",
          "2020-04-23T00:00:00",
          "2020-04-24T00:00:00",
          "2020-04-25T00:00:00",
          "2020-04-26T00:00:00",
          "2020-04-27T00:00:00",
          "2020-04-28T00:00:00",
          "2020-04-29T00:00:00",
          "2020-04-30T00:00:00",
          "2020-05-01T00:00:00"
         ],
         "xaxis": "x",
         "y": [
          2.2,
          1.8,
          1.8,
          1.6,
          1,
          0.2,
          0.8,
          0.8,
          0.6,
          0.6,
          0.6,
          1.2,
          0.6,
          0.6,
          0.6,
          0.6,
          0.6,
          0,
          0,
          0.2,
          0.2,
          0.2,
          0.2,
          0.4,
          0.8,
          0.6,
          0.6,
          0.6,
          0.6,
          0.6,
          0.2,
          0.6,
          0.8,
          1.6,
          1.8,
          1.6,
          1.6,
          1.2,
          1.4,
          0.6,
          0.4,
          0.4,
          0.4,
          0.4,
          0.6,
          0.8,
          1,
          1.2,
          2.8,
          2.8,
          2.2,
          2,
          1.8,
          1.6,
          0.4,
          0.4,
          0.4,
          0.4,
          0.4,
          0.4,
          0,
          0,
          0,
          0,
          0,
          0,
          0.4,
          0.8,
          1,
          1.4,
          1.4,
          1.4,
          1.4,
          1.2,
          1.2,
          1.2,
          1.2,
          1.2,
          0.8,
          1.2,
          1.6,
          2.2,
          3,
          3,
          3,
          2.4,
          1.8,
          1.2,
          0.4
         ],
         "yaxis": "y"
        },
        {
         "hoverlabel": {
          "namelength": 0
         },
         "hovertemplate": "word=trial<br>date=%{x}<br>occurrence=%{y}",
         "legendgroup": "word=trial",
         "line": {
          "color": "#00cc96",
          "dash": "solid"
         },
         "mode": "lines",
         "name": "word=trial",
         "showlegend": true,
         "type": "scatter",
         "x": [
          "2020-02-03T00:00:00",
          "2020-02-04T00:00:00",
          "2020-02-05T00:00:00",
          "2020-02-06T00:00:00",
          "2020-02-07T00:00:00",
          "2020-02-08T00:00:00",
          "2020-02-09T00:00:00",
          "2020-02-10T00:00:00",
          "2020-02-11T00:00:00",
          "2020-02-12T00:00:00",
          "2020-02-13T00:00:00",
          "2020-02-14T00:00:00",
          "2020-02-15T00:00:00",
          "2020-02-16T00:00:00",
          "2020-02-17T00:00:00",
          "2020-02-18T00:00:00",
          "2020-02-19T00:00:00",
          "2020-02-20T00:00:00",
          "2020-02-21T00:00:00",
          "2020-02-22T00:00:00",
          "2020-02-23T00:00:00",
          "2020-02-24T00:00:00",
          "2020-02-25T00:00:00",
          "2020-02-26T00:00:00",
          "2020-02-27T00:00:00",
          "2020-02-28T00:00:00",
          "2020-02-29T00:00:00",
          "2020-03-01T00:00:00",
          "2020-03-02T00:00:00",
          "2020-03-03T00:00:00",
          "2020-03-04T00:00:00",
          "2020-03-05T00:00:00",
          "2020-03-06T00:00:00",
          "2020-03-07T00:00:00",
          "2020-03-08T00:00:00",
          "2020-03-09T00:00:00",
          "2020-03-10T00:00:00",
          "2020-03-11T00:00:00",
          "2020-03-12T00:00:00",
          "2020-03-13T00:00:00",
          "2020-03-14T00:00:00",
          "2020-03-15T00:00:00",
          "2020-03-16T00:00:00",
          "2020-03-17T00:00:00",
          "2020-03-18T00:00:00",
          "2020-03-19T00:00:00",
          "2020-03-20T00:00:00",
          "2020-03-21T00:00:00",
          "2020-03-22T00:00:00",
          "2020-03-23T00:00:00",
          "2020-03-24T00:00:00",
          "2020-03-25T00:00:00",
          "2020-03-26T00:00:00",
          "2020-03-27T00:00:00",
          "2020-03-28T00:00:00",
          "2020-03-29T00:00:00",
          "2020-03-30T00:00:00",
          "2020-03-31T00:00:00",
          "2020-04-01T00:00:00",
          "2020-04-02T00:00:00",
          "2020-04-03T00:00:00",
          "2020-04-04T00:00:00",
          "2020-04-05T00:00:00",
          "2020-04-06T00:00:00",
          "2020-04-07T00:00:00",
          "2020-04-08T00:00:00",
          "2020-04-09T00:00:00",
          "2020-04-10T00:00:00",
          "2020-04-11T00:00:00",
          "2020-04-12T00:00:00",
          "2020-04-13T00:00:00",
          "2020-04-14T00:00:00",
          "2020-04-15T00:00:00",
          "2020-04-16T00:00:00",
          "2020-04-17T00:00:00",
          "2020-04-18T00:00:00",
          "2020-04-19T00:00:00",
          "2020-04-20T00:00:00",
          "2020-04-21T00:00:00",
          "2020-04-22T00:00:00",
          "2020-04-23T00:00:00",
          "2020-04-24T00:00:00",
          "2020-04-25T00:00:00",
          "2020-04-26T00:00:00",
          "2020-04-27T00:00:00",
          "2020-04-28T00:00:00",
          "2020-04-29T00:00:00",
          "2020-04-30T00:00:00",
          "2020-05-01T00:00:00"
         ],
         "xaxis": "x",
         "y": [
          0.4,
          0.4,
          0.8,
          0.4,
          0.4,
          0.4,
          0.4,
          0.4,
          0,
          0,
          0,
          0,
          0,
          0,
          0,
          0,
          0,
          0,
          0.2,
          0.2,
          0.2,
          0.2,
          0.2,
          0.2,
          0,
          0,
          0,
          0,
          0,
          0,
          0,
          0.2,
          0.2,
          0.2,
          0.2,
          0.2,
          0.2,
          0.2,
          0.2,
          0.2,
          0.2,
          0.2,
          0.2,
          0,
          0.4,
          0.4,
          0.4,
          0.6,
          1.8,
          2.4,
          2.2,
          2.8,
          3,
          2.8,
          1.6,
          1,
          0.8,
          0.2,
          0.6,
          0.6,
          0.6,
          0.8,
          0.8,
          0.8,
          0.2,
          0.2,
          0.2,
          0.2,
          0.2,
          0.2,
          0.2,
          0.2,
          0.2,
          0,
          0,
          0,
          0,
          0,
          0,
          0.4,
          0.4,
          1.2,
          1.6,
          1.6,
          1.6,
          1.2,
          1.2,
          0.6,
          0.2
         ],
         "yaxis": "y"
        },
        {
         "hoverlabel": {
          "namelength": 0
         },
         "hovertemplate": "word=new<br>date=%{x}<br>occurrence=%{y}",
         "legendgroup": "word=new",
         "line": {
          "color": "#ab63fa",
          "dash": "solid"
         },
         "mode": "lines",
         "name": "word=new",
         "showlegend": true,
         "type": "scatter",
         "x": [
          "2020-02-03T00:00:00",
          "2020-02-04T00:00:00",
          "2020-02-05T00:00:00",
          "2020-02-06T00:00:00",
          "2020-02-07T00:00:00",
          "2020-02-08T00:00:00",
          "2020-02-09T00:00:00",
          "2020-02-10T00:00:00",
          "2020-02-11T00:00:00",
          "2020-02-12T00:00:00",
          "2020-02-13T00:00:00",
          "2020-02-14T00:00:00",
          "2020-02-15T00:00:00",
          "2020-02-16T00:00:00",
          "2020-02-17T00:00:00",
          "2020-02-18T00:00:00",
          "2020-02-19T00:00:00",
          "2020-02-20T00:00:00",
          "2020-02-21T00:00:00",
          "2020-02-22T00:00:00",
          "2020-02-23T00:00:00",
          "2020-02-24T00:00:00",
          "2020-02-25T00:00:00",
          "2020-02-26T00:00:00",
          "2020-02-27T00:00:00",
          "2020-02-28T00:00:00",
          "2020-02-29T00:00:00",
          "2020-03-01T00:00:00",
          "2020-03-02T00:00:00",
          "2020-03-03T00:00:00",
          "2020-03-04T00:00:00",
          "2020-03-05T00:00:00",
          "2020-03-06T00:00:00",
          "2020-03-07T00:00:00",
          "2020-03-08T00:00:00",
          "2020-03-09T00:00:00",
          "2020-03-10T00:00:00",
          "2020-03-11T00:00:00",
          "2020-03-12T00:00:00",
          "2020-03-13T00:00:00",
          "2020-03-14T00:00:00",
          "2020-03-15T00:00:00",
          "2020-03-16T00:00:00",
          "2020-03-17T00:00:00",
          "2020-03-18T00:00:00",
          "2020-03-19T00:00:00",
          "2020-03-20T00:00:00",
          "2020-03-21T00:00:00",
          "2020-03-22T00:00:00",
          "2020-03-23T00:00:00",
          "2020-03-24T00:00:00",
          "2020-03-25T00:00:00",
          "2020-03-26T00:00:00",
          "2020-03-27T00:00:00",
          "2020-03-28T00:00:00",
          "2020-03-29T00:00:00",
          "2020-03-30T00:00:00",
          "2020-03-31T00:00:00",
          "2020-04-01T00:00:00",
          "2020-04-02T00:00:00",
          "2020-04-03T00:00:00",
          "2020-04-04T00:00:00",
          "2020-04-05T00:00:00",
          "2020-04-06T00:00:00",
          "2020-04-07T00:00:00",
          "2020-04-08T00:00:00",
          "2020-04-09T00:00:00",
          "2020-04-10T00:00:00",
          "2020-04-11T00:00:00",
          "2020-04-12T00:00:00",
          "2020-04-13T00:00:00",
          "2020-04-14T00:00:00",
          "2020-04-15T00:00:00",
          "2020-04-16T00:00:00",
          "2020-04-17T00:00:00",
          "2020-04-18T00:00:00",
          "2020-04-19T00:00:00",
          "2020-04-20T00:00:00",
          "2020-04-21T00:00:00",
          "2020-04-22T00:00:00",
          "2020-04-23T00:00:00",
          "2020-04-24T00:00:00",
          "2020-04-25T00:00:00",
          "2020-04-26T00:00:00",
          "2020-04-27T00:00:00",
          "2020-04-28T00:00:00",
          "2020-04-29T00:00:00",
          "2020-04-30T00:00:00",
          "2020-05-01T00:00:00"
         ],
         "xaxis": "x",
         "y": [
          2.8,
          2.8,
          2.6,
          1.6,
          1.6,
          0.8,
          0.8,
          0.8,
          0.6,
          0.6,
          1.2,
          1.4,
          1.6,
          1.8,
          1.8,
          1.4,
          0.6,
          0.4,
          0.4,
          0.6,
          0.8,
          0.8,
          1,
          1,
          0.8,
          0.6,
          0.6,
          0.8,
          0.6,
          0.8,
          1,
          1,
          1.2,
          1.6,
          1.8,
          1.6,
          1.4,
          1.2,
          0.8,
          0.6,
          0.6,
          0.8,
          0.8,
          1,
          1.2,
          0.8,
          0.8,
          0.6,
          2,
          1.8,
          1.8,
          2,
          2,
          2.2,
          0.8,
          0.8,
          0.6,
          0.4,
          0.4,
          0.4,
          0.8,
          1.4,
          1.4,
          1.4,
          1.2,
          1,
          0.8,
          0.8,
          1,
          1.8,
          1.8,
          1.8,
          1.8,
          1.2,
          1.2,
          0.4,
          1,
          1.2,
          1,
          2,
          2.8,
          4,
          3.4,
          3.2,
          3.2,
          2.4,
          1.6,
          1.2,
          1.4
         ],
         "yaxis": "y"
        },
        {
         "hoverlabel": {
          "namelength": 0
         },
         "hovertemplate": "word=vaccine<br>date=%{x}<br>occurrence=%{y}",
         "legendgroup": "word=vaccine",
         "line": {
          "color": "#FFA15A",
          "dash": "solid"
         },
         "mode": "lines",
         "name": "word=vaccine",
         "showlegend": true,
         "type": "scatter",
         "x": [
          "2020-02-03T00:00:00",
          "2020-02-04T00:00:00",
          "2020-02-05T00:00:00",
          "2020-02-06T00:00:00",
          "2020-02-07T00:00:00",
          "2020-02-08T00:00:00",
          "2020-02-09T00:00:00",
          "2020-02-10T00:00:00",
          "2020-02-11T00:00:00",
          "2020-02-12T00:00:00",
          "2020-02-13T00:00:00",
          "2020-02-14T00:00:00",
          "2020-02-15T00:00:00",
          "2020-02-16T00:00:00",
          "2020-02-17T00:00:00",
          "2020-02-18T00:00:00",
          "2020-02-19T00:00:00",
          "2020-02-20T00:00:00",
          "2020-02-21T00:00:00",
          "2020-02-22T00:00:00",
          "2020-02-23T00:00:00",
          "2020-02-24T00:00:00",
          "2020-02-25T00:00:00",
          "2020-02-26T00:00:00",
          "2020-02-27T00:00:00",
          "2020-02-28T00:00:00",
          "2020-02-29T00:00:00",
          "2020-03-01T00:00:00",
          "2020-03-02T00:00:00",
          "2020-03-03T00:00:00",
          "2020-03-04T00:00:00",
          "2020-03-05T00:00:00",
          "2020-03-06T00:00:00",
          "2020-03-07T00:00:00",
          "2020-03-08T00:00:00",
          "2020-03-09T00:00:00",
          "2020-03-10T00:00:00",
          "2020-03-11T00:00:00",
          "2020-03-12T00:00:00",
          "2020-03-13T00:00:00",
          "2020-03-14T00:00:00",
          "2020-03-15T00:00:00",
          "2020-03-16T00:00:00",
          "2020-03-17T00:00:00",
          "2020-03-18T00:00:00",
          "2020-03-19T00:00:00",
          "2020-03-20T00:00:00",
          "2020-03-21T00:00:00",
          "2020-03-22T00:00:00",
          "2020-03-23T00:00:00",
          "2020-03-24T00:00:00",
          "2020-03-25T00:00:00",
          "2020-03-26T00:00:00",
          "2020-03-27T00:00:00",
          "2020-03-28T00:00:00",
          "2020-03-29T00:00:00",
          "2020-03-30T00:00:00",
          "2020-03-31T00:00:00",
          "2020-04-01T00:00:00",
          "2020-04-02T00:00:00",
          "2020-04-03T00:00:00",
          "2020-04-04T00:00:00",
          "2020-04-05T00:00:00",
          "2020-04-06T00:00:00",
          "2020-04-07T00:00:00",
          "2020-04-08T00:00:00",
          "2020-04-09T00:00:00",
          "2020-04-10T00:00:00",
          "2020-04-11T00:00:00",
          "2020-04-12T00:00:00",
          "2020-04-13T00:00:00",
          "2020-04-14T00:00:00",
          "2020-04-15T00:00:00",
          "2020-04-16T00:00:00",
          "2020-04-17T00:00:00",
          "2020-04-18T00:00:00",
          "2020-04-19T00:00:00",
          "2020-04-20T00:00:00",
          "2020-04-21T00:00:00",
          "2020-04-22T00:00:00",
          "2020-04-23T00:00:00",
          "2020-04-24T00:00:00",
          "2020-04-25T00:00:00",
          "2020-04-26T00:00:00",
          "2020-04-27T00:00:00",
          "2020-04-28T00:00:00",
          "2020-04-29T00:00:00",
          "2020-04-30T00:00:00",
          "2020-05-01T00:00:00"
         ],
         "xaxis": "x",
         "y": [
          0,
          0,
          0,
          0,
          0,
          0,
          0,
          0,
          0,
          0.6,
          1.2,
          1.2,
          1.6,
          1.6,
          1.6,
          1,
          0.6,
          0.6,
          0.2,
          0.2,
          0.2,
          0.2,
          0,
          0,
          0.2,
          0.4,
          0.4,
          0.4,
          0.4,
          0.4,
          0.2,
          0,
          0,
          0,
          0,
          0,
          0,
          0.6,
          1.4,
          1.6,
          2.4,
          2.4,
          2.4,
          1.8,
          1,
          1.4,
          1,
          1.2,
          1.4,
          1.6,
          1.6,
          1,
          1.8,
          1.6,
          1.4,
          1.4,
          1.4,
          1.4,
          0.2,
          0.8,
          0.8,
          0.6,
          0.6,
          0.6,
          0.6,
          0.2,
          3.2,
          5.6,
          5.8,
          6,
          6.2,
          6,
          3,
          1.2,
          1.4,
          1.6,
          1.8,
          2.2,
          2.2,
          2.6,
          3.4,
          4.8,
          5.4,
          5.4,
          5.4,
          4.4,
          3.2,
          2,
          3.8
         ],
         "yaxis": "y"
        }
       ],
       "layout": {
        "height": 600,
        "legend": {
         "tracegroupgap": 0
        },
        "margin": {
         "t": 60
        },
        "template": {
         "data": {
          "bar": [
           {
            "error_x": {
             "color": "#2a3f5f"
            },
            "error_y": {
             "color": "#2a3f5f"
            },
            "marker": {
             "line": {
              "color": "#E5ECF6",
              "width": 0.5
             }
            },
            "type": "bar"
           }
          ],
          "barpolar": [
           {
            "marker": {
             "line": {
              "color": "#E5ECF6",
              "width": 0.5
             }
            },
            "type": "barpolar"
           }
          ],
          "carpet": [
           {
            "aaxis": {
             "endlinecolor": "#2a3f5f",
             "gridcolor": "white",
             "linecolor": "white",
             "minorgridcolor": "white",
             "startlinecolor": "#2a3f5f"
            },
            "baxis": {
             "endlinecolor": "#2a3f5f",
             "gridcolor": "white",
             "linecolor": "white",
             "minorgridcolor": "white",
             "startlinecolor": "#2a3f5f"
            },
            "type": "carpet"
           }
          ],
          "choropleth": [
           {
            "colorbar": {
             "outlinewidth": 0,
             "ticks": ""
            },
            "type": "choropleth"
           }
          ],
          "contour": [
           {
            "colorbar": {
             "outlinewidth": 0,
             "ticks": ""
            },
            "colorscale": [
             [
              0,
              "#0d0887"
             ],
             [
              0.1111111111111111,
              "#46039f"
             ],
             [
              0.2222222222222222,
              "#7201a8"
             ],
             [
              0.3333333333333333,
              "#9c179e"
             ],
             [
              0.4444444444444444,
              "#bd3786"
             ],
             [
              0.5555555555555556,
              "#d8576b"
             ],
             [
              0.6666666666666666,
              "#ed7953"
             ],
             [
              0.7777777777777778,
              "#fb9f3a"
             ],
             [
              0.8888888888888888,
              "#fdca26"
             ],
             [
              1,
              "#f0f921"
             ]
            ],
            "type": "contour"
           }
          ],
          "contourcarpet": [
           {
            "colorbar": {
             "outlinewidth": 0,
             "ticks": ""
            },
            "type": "contourcarpet"
           }
          ],
          "heatmap": [
           {
            "colorbar": {
             "outlinewidth": 0,
             "ticks": ""
            },
            "colorscale": [
             [
              0,
              "#0d0887"
             ],
             [
              0.1111111111111111,
              "#46039f"
             ],
             [
              0.2222222222222222,
              "#7201a8"
             ],
             [
              0.3333333333333333,
              "#9c179e"
             ],
             [
              0.4444444444444444,
              "#bd3786"
             ],
             [
              0.5555555555555556,
              "#d8576b"
             ],
             [
              0.6666666666666666,
              "#ed7953"
             ],
             [
              0.7777777777777778,
              "#fb9f3a"
             ],
             [
              0.8888888888888888,
              "#fdca26"
             ],
             [
              1,
              "#f0f921"
             ]
            ],
            "type": "heatmap"
           }
          ],
          "heatmapgl": [
           {
            "colorbar": {
             "outlinewidth": 0,
             "ticks": ""
            },
            "colorscale": [
             [
              0,
              "#0d0887"
             ],
             [
              0.1111111111111111,
              "#46039f"
             ],
             [
              0.2222222222222222,
              "#7201a8"
             ],
             [
              0.3333333333333333,
              "#9c179e"
             ],
             [
              0.4444444444444444,
              "#bd3786"
             ],
             [
              0.5555555555555556,
              "#d8576b"
             ],
             [
              0.6666666666666666,
              "#ed7953"
             ],
             [
              0.7777777777777778,
              "#fb9f3a"
             ],
             [
              0.8888888888888888,
              "#fdca26"
             ],
             [
              1,
              "#f0f921"
             ]
            ],
            "type": "heatmapgl"
           }
          ],
          "histogram": [
           {
            "marker": {
             "colorbar": {
              "outlinewidth": 0,
              "ticks": ""
             }
            },
            "type": "histogram"
           }
          ],
          "histogram2d": [
           {
            "colorbar": {
             "outlinewidth": 0,
             "ticks": ""
            },
            "colorscale": [
             [
              0,
              "#0d0887"
             ],
             [
              0.1111111111111111,
              "#46039f"
             ],
             [
              0.2222222222222222,
              "#7201a8"
             ],
             [
              0.3333333333333333,
              "#9c179e"
             ],
             [
              0.4444444444444444,
              "#bd3786"
             ],
             [
              0.5555555555555556,
              "#d8576b"
             ],
             [
              0.6666666666666666,
              "#ed7953"
             ],
             [
              0.7777777777777778,
              "#fb9f3a"
             ],
             [
              0.8888888888888888,
              "#fdca26"
             ],
             [
              1,
              "#f0f921"
             ]
            ],
            "type": "histogram2d"
           }
          ],
          "histogram2dcontour": [
           {
            "colorbar": {
             "outlinewidth": 0,
             "ticks": ""
            },
            "colorscale": [
             [
              0,
              "#0d0887"
             ],
             [
              0.1111111111111111,
              "#46039f"
             ],
             [
              0.2222222222222222,
              "#7201a8"
             ],
             [
              0.3333333333333333,
              "#9c179e"
             ],
             [
              0.4444444444444444,
              "#bd3786"
             ],
             [
              0.5555555555555556,
              "#d8576b"
             ],
             [
              0.6666666666666666,
              "#ed7953"
             ],
             [
              0.7777777777777778,
              "#fb9f3a"
             ],
             [
              0.8888888888888888,
              "#fdca26"
             ],
             [
              1,
              "#f0f921"
             ]
            ],
            "type": "histogram2dcontour"
           }
          ],
          "mesh3d": [
           {
            "colorbar": {
             "outlinewidth": 0,
             "ticks": ""
            },
            "type": "mesh3d"
           }
          ],
          "parcoords": [
           {
            "line": {
             "colorbar": {
              "outlinewidth": 0,
              "ticks": ""
             }
            },
            "type": "parcoords"
           }
          ],
          "scatter": [
           {
            "marker": {
             "colorbar": {
              "outlinewidth": 0,
              "ticks": ""
             }
            },
            "type": "scatter"
           }
          ],
          "scatter3d": [
           {
            "line": {
             "colorbar": {
              "outlinewidth": 0,
              "ticks": ""
             }
            },
            "marker": {
             "colorbar": {
              "outlinewidth": 0,
              "ticks": ""
             }
            },
            "type": "scatter3d"
           }
          ],
          "scattercarpet": [
           {
            "marker": {
             "colorbar": {
              "outlinewidth": 0,
              "ticks": ""
             }
            },
            "type": "scattercarpet"
           }
          ],
          "scattergeo": [
           {
            "marker": {
             "colorbar": {
              "outlinewidth": 0,
              "ticks": ""
             }
            },
            "type": "scattergeo"
           }
          ],
          "scattergl": [
           {
            "marker": {
             "colorbar": {
              "outlinewidth": 0,
              "ticks": ""
             }
            },
            "type": "scattergl"
           }
          ],
          "scattermapbox": [
           {
            "marker": {
             "colorbar": {
              "outlinewidth": 0,
              "ticks": ""
             }
            },
            "type": "scattermapbox"
           }
          ],
          "scatterpolar": [
           {
            "marker": {
             "colorbar": {
              "outlinewidth": 0,
              "ticks": ""
             }
            },
            "type": "scatterpolar"
           }
          ],
          "scatterpolargl": [
           {
            "marker": {
             "colorbar": {
              "outlinewidth": 0,
              "ticks": ""
             }
            },
            "type": "scatterpolargl"
           }
          ],
          "scatterternary": [
           {
            "marker": {
             "colorbar": {
              "outlinewidth": 0,
              "ticks": ""
             }
            },
            "type": "scatterternary"
           }
          ],
          "surface": [
           {
            "colorbar": {
             "outlinewidth": 0,
             "ticks": ""
            },
            "colorscale": [
             [
              0,
              "#0d0887"
             ],
             [
              0.1111111111111111,
              "#46039f"
             ],
             [
              0.2222222222222222,
              "#7201a8"
             ],
             [
              0.3333333333333333,
              "#9c179e"
             ],
             [
              0.4444444444444444,
              "#bd3786"
             ],
             [
              0.5555555555555556,
              "#d8576b"
             ],
             [
              0.6666666666666666,
              "#ed7953"
             ],
             [
              0.7777777777777778,
              "#fb9f3a"
             ],
             [
              0.8888888888888888,
              "#fdca26"
             ],
             [
              1,
              "#f0f921"
             ]
            ],
            "type": "surface"
           }
          ],
          "table": [
           {
            "cells": {
             "fill": {
              "color": "#EBF0F8"
             },
             "line": {
              "color": "white"
             }
            },
            "header": {
             "fill": {
              "color": "#C8D4E3"
             },
             "line": {
              "color": "white"
             }
            },
            "type": "table"
           }
          ]
         },
         "layout": {
          "annotationdefaults": {
           "arrowcolor": "#2a3f5f",
           "arrowhead": 0,
           "arrowwidth": 1
          },
          "colorscale": {
           "diverging": [
            [
             0,
             "#8e0152"
            ],
            [
             0.1,
             "#c51b7d"
            ],
            [
             0.2,
             "#de77ae"
            ],
            [
             0.3,
             "#f1b6da"
            ],
            [
             0.4,
             "#fde0ef"
            ],
            [
             0.5,
             "#f7f7f7"
            ],
            [
             0.6,
             "#e6f5d0"
            ],
            [
             0.7,
             "#b8e186"
            ],
            [
             0.8,
             "#7fbc41"
            ],
            [
             0.9,
             "#4d9221"
            ],
            [
             1,
             "#276419"
            ]
           ],
           "sequential": [
            [
             0,
             "#0d0887"
            ],
            [
             0.1111111111111111,
             "#46039f"
            ],
            [
             0.2222222222222222,
             "#7201a8"
            ],
            [
             0.3333333333333333,
             "#9c179e"
            ],
            [
             0.4444444444444444,
             "#bd3786"
            ],
            [
             0.5555555555555556,
             "#d8576b"
            ],
            [
             0.6666666666666666,
             "#ed7953"
            ],
            [
             0.7777777777777778,
             "#fb9f3a"
            ],
            [
             0.8888888888888888,
             "#fdca26"
            ],
            [
             1,
             "#f0f921"
            ]
           ],
           "sequentialminus": [
            [
             0,
             "#0d0887"
            ],
            [
             0.1111111111111111,
             "#46039f"
            ],
            [
             0.2222222222222222,
             "#7201a8"
            ],
            [
             0.3333333333333333,
             "#9c179e"
            ],
            [
             0.4444444444444444,
             "#bd3786"
            ],
            [
             0.5555555555555556,
             "#d8576b"
            ],
            [
             0.6666666666666666,
             "#ed7953"
            ],
            [
             0.7777777777777778,
             "#fb9f3a"
            ],
            [
             0.8888888888888888,
             "#fdca26"
            ],
            [
             1,
             "#f0f921"
            ]
           ]
          },
          "colorway": [
           "#636efa",
           "#EF553B",
           "#00cc96",
           "#ab63fa",
           "#FFA15A",
           "#19d3f3",
           "#FF6692",
           "#B6E880",
           "#FF97FF",
           "#FECB52"
          ],
          "font": {
           "color": "#2a3f5f"
          },
          "geo": {
           "bgcolor": "white",
           "lakecolor": "white",
           "landcolor": "#E5ECF6",
           "showlakes": true,
           "showland": true,
           "subunitcolor": "white"
          },
          "hoverlabel": {
           "align": "left"
          },
          "hovermode": "closest",
          "mapbox": {
           "style": "light"
          },
          "paper_bgcolor": "white",
          "plot_bgcolor": "#E5ECF6",
          "polar": {
           "angularaxis": {
            "gridcolor": "white",
            "linecolor": "white",
            "ticks": ""
           },
           "bgcolor": "#E5ECF6",
           "radialaxis": {
            "gridcolor": "white",
            "linecolor": "white",
            "ticks": ""
           }
          },
          "scene": {
           "xaxis": {
            "backgroundcolor": "#E5ECF6",
            "gridcolor": "white",
            "gridwidth": 2,
            "linecolor": "white",
            "showbackground": true,
            "ticks": "",
            "zerolinecolor": "white"
           },
           "yaxis": {
            "backgroundcolor": "#E5ECF6",
            "gridcolor": "white",
            "gridwidth": 2,
            "linecolor": "white",
            "showbackground": true,
            "ticks": "",
            "zerolinecolor": "white"
           },
           "zaxis": {
            "backgroundcolor": "#E5ECF6",
            "gridcolor": "white",
            "gridwidth": 2,
            "linecolor": "white",
            "showbackground": true,
            "ticks": "",
            "zerolinecolor": "white"
           }
          },
          "shapedefaults": {
           "line": {
            "color": "#2a3f5f"
           }
          },
          "ternary": {
           "aaxis": {
            "gridcolor": "white",
            "linecolor": "white",
            "ticks": ""
           },
           "baxis": {
            "gridcolor": "white",
            "linecolor": "white",
            "ticks": ""
           },
           "bgcolor": "#E5ECF6",
           "caxis": {
            "gridcolor": "white",
            "linecolor": "white",
            "ticks": ""
           }
          },
          "title": {
           "x": 0.05
          },
          "xaxis": {
           "automargin": true,
           "gridcolor": "white",
           "linecolor": "white",
           "ticks": "",
           "zerolinecolor": "white",
           "zerolinewidth": 2
          },
          "yaxis": {
           "automargin": true,
           "gridcolor": "white",
           "linecolor": "white",
           "ticks": "",
           "zerolinecolor": "white",
           "zerolinewidth": 2
          }
         }
        },
        "xaxis": {
         "anchor": "y",
         "domain": [
          0,
          0.98
         ],
         "title": {
          "text": "date"
         }
        },
        "yaxis": {
         "anchor": "x",
         "domain": [
          0,
          1
         ],
         "title": {
          "text": "occurrence"
         }
        }
       }
      },
      "text/html": [
       "<div>\n",
       "        \n",
       "        \n",
       "            <div id=\"43f0f449-4bff-4a1e-86fd-cd58350f51ae\" class=\"plotly-graph-div\" style=\"height:600px; width:100%;\"></div>\n",
       "            <script type=\"text/javascript\">\n",
       "                require([\"plotly\"], function(Plotly) {\n",
       "                    window.PLOTLYENV=window.PLOTLYENV || {};\n",
       "                    \n",
       "                if (document.getElementById(\"43f0f449-4bff-4a1e-86fd-cd58350f51ae\")) {\n",
       "                    Plotly.newPlot(\n",
       "                        '43f0f449-4bff-4a1e-86fd-cd58350f51ae',\n",
       "                        [{\"hoverlabel\": {\"namelength\": 0}, \"hovertemplate\": \"word=covid19<br>date=%{x}<br>occurrence=%{y}\", \"legendgroup\": \"word=covid19\", \"line\": {\"color\": \"#636efa\", \"dash\": \"solid\"}, \"mode\": \"lines\", \"name\": \"word=covid19\", \"showlegend\": true, \"type\": \"scatter\", \"x\": [\"2020-02-03T00:00:00\", \"2020-02-04T00:00:00\", \"2020-02-05T00:00:00\", \"2020-02-06T00:00:00\", \"2020-02-07T00:00:00\", \"2020-02-08T00:00:00\", \"2020-02-09T00:00:00\", \"2020-02-10T00:00:00\", \"2020-02-11T00:00:00\", \"2020-02-12T00:00:00\", \"2020-02-13T00:00:00\", \"2020-02-14T00:00:00\", \"2020-02-15T00:00:00\", \"2020-02-16T00:00:00\", \"2020-02-17T00:00:00\", \"2020-02-18T00:00:00\", \"2020-02-19T00:00:00\", \"2020-02-20T00:00:00\", \"2020-02-21T00:00:00\", \"2020-02-22T00:00:00\", \"2020-02-23T00:00:00\", \"2020-02-24T00:00:00\", \"2020-02-25T00:00:00\", \"2020-02-26T00:00:00\", \"2020-02-27T00:00:00\", \"2020-02-28T00:00:00\", \"2020-02-29T00:00:00\", \"2020-03-01T00:00:00\", \"2020-03-02T00:00:00\", \"2020-03-03T00:00:00\", \"2020-03-04T00:00:00\", \"2020-03-05T00:00:00\", \"2020-03-06T00:00:00\", \"2020-03-07T00:00:00\", \"2020-03-08T00:00:00\", \"2020-03-09T00:00:00\", \"2020-03-10T00:00:00\", \"2020-03-11T00:00:00\", \"2020-03-12T00:00:00\", \"2020-03-13T00:00:00\", \"2020-03-14T00:00:00\", \"2020-03-15T00:00:00\", \"2020-03-16T00:00:00\", \"2020-03-17T00:00:00\", \"2020-03-18T00:00:00\", \"2020-03-19T00:00:00\", \"2020-03-20T00:00:00\", \"2020-03-21T00:00:00\", \"2020-03-22T00:00:00\", \"2020-03-23T00:00:00\", \"2020-03-24T00:00:00\", \"2020-03-25T00:00:00\", \"2020-03-26T00:00:00\", \"2020-03-27T00:00:00\", \"2020-03-28T00:00:00\", \"2020-03-29T00:00:00\", \"2020-03-30T00:00:00\", \"2020-03-31T00:00:00\", \"2020-04-01T00:00:00\", \"2020-04-02T00:00:00\", \"2020-04-03T00:00:00\", \"2020-04-04T00:00:00\", \"2020-04-05T00:00:00\", \"2020-04-06T00:00:00\", \"2020-04-07T00:00:00\", \"2020-04-08T00:00:00\", \"2020-04-09T00:00:00\", \"2020-04-10T00:00:00\", \"2020-04-11T00:00:00\", \"2020-04-12T00:00:00\", \"2020-04-13T00:00:00\", \"2020-04-14T00:00:00\", \"2020-04-15T00:00:00\", \"2020-04-16T00:00:00\", \"2020-04-17T00:00:00\", \"2020-04-18T00:00:00\", \"2020-04-19T00:00:00\", \"2020-04-20T00:00:00\", \"2020-04-21T00:00:00\", \"2020-04-22T00:00:00\", \"2020-04-23T00:00:00\", \"2020-04-24T00:00:00\", \"2020-04-25T00:00:00\", \"2020-04-26T00:00:00\", \"2020-04-27T00:00:00\", \"2020-04-28T00:00:00\", \"2020-04-29T00:00:00\", \"2020-04-30T00:00:00\", \"2020-05-01T00:00:00\"], \"xaxis\": \"x\", \"y\": [0.0, 0.0, 0.0, 0.0, 0.0, 0.0, 0.0, 0.0, 0.0, 0.0, 0.2, 0.2, 0.2, 0.2, 0.2, 0.2, 0.2, 0.2, 0.2, 0.2, 0.2, 0.2, 0.0, 0.0, 0.0, 0.2, 0.4, 0.6, 0.6, 0.6, 0.6, 0.4, 0.2, 0.2, 1.6, 2.0, 2.4, 3.4, 4.4, 5.2, 5.0, 6.2, 5.8, 5.2, 6.0, 6.6, 7.4, 7.0, 8.2, 8.4, 6.6, 6.6, 6.8, 7.4, 7.4, 8.2, 8.4, 6.8, 7.0, 7.8, 8.2, 8.2, 8.8, 8.8, 6.4, 4.0, 5.2, 6.2, 7.0, 9.4, 9.8, 9.6, 8.2, 7.6, 7.0, 6.4, 7.6, 8.4, 7.0, 7.4, 7.2, 7.4, 7.4, 7.4, 7.4, 6.0, 7.0, 8.0, 8.2], \"yaxis\": \"y\"}, {\"hoverlabel\": {\"namelength\": 0}, \"hovertemplate\": \"word=treatment<br>date=%{x}<br>occurrence=%{y}\", \"legendgroup\": \"word=treatment\", \"line\": {\"color\": \"#EF553B\", \"dash\": \"solid\"}, \"mode\": \"lines\", \"name\": \"word=treatment\", \"showlegend\": true, \"type\": \"scatter\", \"x\": [\"2020-02-03T00:00:00\", \"2020-02-04T00:00:00\", \"2020-02-05T00:00:00\", \"2020-02-06T00:00:00\", \"2020-02-07T00:00:00\", \"2020-02-08T00:00:00\", \"2020-02-09T00:00:00\", \"2020-02-10T00:00:00\", \"2020-02-11T00:00:00\", \"2020-02-12T00:00:00\", \"2020-02-13T00:00:00\", \"2020-02-14T00:00:00\", \"2020-02-15T00:00:00\", \"2020-02-16T00:00:00\", \"2020-02-17T00:00:00\", \"2020-02-18T00:00:00\", \"2020-02-19T00:00:00\", \"2020-02-20T00:00:00\", \"2020-02-21T00:00:00\", \"2020-02-22T00:00:00\", \"2020-02-23T00:00:00\", \"2020-02-24T00:00:00\", \"2020-02-25T00:00:00\", \"2020-02-26T00:00:00\", \"2020-02-27T00:00:00\", \"2020-02-28T00:00:00\", \"2020-02-29T00:00:00\", \"2020-03-01T00:00:00\", \"2020-03-02T00:00:00\", \"2020-03-03T00:00:00\", \"2020-03-04T00:00:00\", \"2020-03-05T00:00:00\", \"2020-03-06T00:00:00\", \"2020-03-07T00:00:00\", \"2020-03-08T00:00:00\", \"2020-03-09T00:00:00\", \"2020-03-10T00:00:00\", \"2020-03-11T00:00:00\", \"2020-03-12T00:00:00\", \"2020-03-13T00:00:00\", \"2020-03-14T00:00:00\", \"2020-03-15T00:00:00\", \"2020-03-16T00:00:00\", \"2020-03-17T00:00:00\", \"2020-03-18T00:00:00\", \"2020-03-19T00:00:00\", \"2020-03-20T00:00:00\", \"2020-03-21T00:00:00\", \"2020-03-22T00:00:00\", \"2020-03-23T00:00:00\", \"2020-03-24T00:00:00\", \"2020-03-25T00:00:00\", \"2020-03-26T00:00:00\", \"2020-03-27T00:00:00\", \"2020-03-28T00:00:00\", \"2020-03-29T00:00:00\", \"2020-03-30T00:00:00\", \"2020-03-31T00:00:00\", \"2020-04-01T00:00:00\", \"2020-04-02T00:00:00\", \"2020-04-03T00:00:00\", \"2020-04-04T00:00:00\", \"2020-04-05T00:00:00\", \"2020-04-06T00:00:00\", \"2020-04-07T00:00:00\", \"2020-04-08T00:00:00\", \"2020-04-09T00:00:00\", \"2020-04-10T00:00:00\", \"2020-04-11T00:00:00\", \"2020-04-12T00:00:00\", \"2020-04-13T00:00:00\", \"2020-04-14T00:00:00\", \"2020-04-15T00:00:00\", \"2020-04-16T00:00:00\", \"2020-04-17T00:00:00\", \"2020-04-18T00:00:00\", \"2020-04-19T00:00:00\", \"2020-04-20T00:00:00\", \"2020-04-21T00:00:00\", \"2020-04-22T00:00:00\", \"2020-04-23T00:00:00\", \"2020-04-24T00:00:00\", \"2020-04-25T00:00:00\", \"2020-04-26T00:00:00\", \"2020-04-27T00:00:00\", \"2020-04-28T00:00:00\", \"2020-04-29T00:00:00\", \"2020-04-30T00:00:00\", \"2020-05-01T00:00:00\"], \"xaxis\": \"x\", \"y\": [2.2, 1.8, 1.8, 1.6, 1.0, 0.2, 0.8, 0.8, 0.6, 0.6, 0.6, 1.2, 0.6, 0.6, 0.6, 0.6, 0.6, 0.0, 0.0, 0.2, 0.2, 0.2, 0.2, 0.4, 0.8, 0.6, 0.6, 0.6, 0.6, 0.6, 0.2, 0.6, 0.8, 1.6, 1.8, 1.6, 1.6, 1.2, 1.4, 0.6, 0.4, 0.4, 0.4, 0.4, 0.6, 0.8, 1.0, 1.2, 2.8, 2.8, 2.2, 2.0, 1.8, 1.6, 0.4, 0.4, 0.4, 0.4, 0.4, 0.4, 0.0, 0.0, 0.0, 0.0, 0.0, 0.0, 0.4, 0.8, 1.0, 1.4, 1.4, 1.4, 1.4, 1.2, 1.2, 1.2, 1.2, 1.2, 0.8, 1.2, 1.6, 2.2, 3.0, 3.0, 3.0, 2.4, 1.8, 1.2, 0.4], \"yaxis\": \"y\"}, {\"hoverlabel\": {\"namelength\": 0}, \"hovertemplate\": \"word=trial<br>date=%{x}<br>occurrence=%{y}\", \"legendgroup\": \"word=trial\", \"line\": {\"color\": \"#00cc96\", \"dash\": \"solid\"}, \"mode\": \"lines\", \"name\": \"word=trial\", \"showlegend\": true, \"type\": \"scatter\", \"x\": [\"2020-02-03T00:00:00\", \"2020-02-04T00:00:00\", \"2020-02-05T00:00:00\", \"2020-02-06T00:00:00\", \"2020-02-07T00:00:00\", \"2020-02-08T00:00:00\", \"2020-02-09T00:00:00\", \"2020-02-10T00:00:00\", \"2020-02-11T00:00:00\", \"2020-02-12T00:00:00\", \"2020-02-13T00:00:00\", \"2020-02-14T00:00:00\", \"2020-02-15T00:00:00\", \"2020-02-16T00:00:00\", \"2020-02-17T00:00:00\", \"2020-02-18T00:00:00\", \"2020-02-19T00:00:00\", \"2020-02-20T00:00:00\", \"2020-02-21T00:00:00\", \"2020-02-22T00:00:00\", \"2020-02-23T00:00:00\", \"2020-02-24T00:00:00\", \"2020-02-25T00:00:00\", \"2020-02-26T00:00:00\", \"2020-02-27T00:00:00\", \"2020-02-28T00:00:00\", \"2020-02-29T00:00:00\", \"2020-03-01T00:00:00\", \"2020-03-02T00:00:00\", \"2020-03-03T00:00:00\", \"2020-03-04T00:00:00\", \"2020-03-05T00:00:00\", \"2020-03-06T00:00:00\", \"2020-03-07T00:00:00\", \"2020-03-08T00:00:00\", \"2020-03-09T00:00:00\", \"2020-03-10T00:00:00\", \"2020-03-11T00:00:00\", \"2020-03-12T00:00:00\", \"2020-03-13T00:00:00\", \"2020-03-14T00:00:00\", \"2020-03-15T00:00:00\", \"2020-03-16T00:00:00\", \"2020-03-17T00:00:00\", \"2020-03-18T00:00:00\", \"2020-03-19T00:00:00\", \"2020-03-20T00:00:00\", \"2020-03-21T00:00:00\", \"2020-03-22T00:00:00\", \"2020-03-23T00:00:00\", \"2020-03-24T00:00:00\", \"2020-03-25T00:00:00\", \"2020-03-26T00:00:00\", \"2020-03-27T00:00:00\", \"2020-03-28T00:00:00\", \"2020-03-29T00:00:00\", \"2020-03-30T00:00:00\", \"2020-03-31T00:00:00\", \"2020-04-01T00:00:00\", \"2020-04-02T00:00:00\", \"2020-04-03T00:00:00\", \"2020-04-04T00:00:00\", \"2020-04-05T00:00:00\", \"2020-04-06T00:00:00\", \"2020-04-07T00:00:00\", \"2020-04-08T00:00:00\", \"2020-04-09T00:00:00\", \"2020-04-10T00:00:00\", \"2020-04-11T00:00:00\", \"2020-04-12T00:00:00\", \"2020-04-13T00:00:00\", \"2020-04-14T00:00:00\", \"2020-04-15T00:00:00\", \"2020-04-16T00:00:00\", \"2020-04-17T00:00:00\", \"2020-04-18T00:00:00\", \"2020-04-19T00:00:00\", \"2020-04-20T00:00:00\", \"2020-04-21T00:00:00\", \"2020-04-22T00:00:00\", \"2020-04-23T00:00:00\", \"2020-04-24T00:00:00\", \"2020-04-25T00:00:00\", \"2020-04-26T00:00:00\", \"2020-04-27T00:00:00\", \"2020-04-28T00:00:00\", \"2020-04-29T00:00:00\", \"2020-04-30T00:00:00\", \"2020-05-01T00:00:00\"], \"xaxis\": \"x\", \"y\": [0.4, 0.4, 0.8, 0.4, 0.4, 0.4, 0.4, 0.4, 0.0, 0.0, 0.0, 0.0, 0.0, 0.0, 0.0, 0.0, 0.0, 0.0, 0.2, 0.2, 0.2, 0.2, 0.2, 0.2, 0.0, 0.0, 0.0, 0.0, 0.0, 0.0, 0.0, 0.2, 0.2, 0.2, 0.2, 0.2, 0.2, 0.2, 0.2, 0.2, 0.2, 0.2, 0.2, 0.0, 0.4, 0.4, 0.4, 0.6, 1.8, 2.4, 2.2, 2.8, 3.0, 2.8, 1.6, 1.0, 0.8, 0.2, 0.6, 0.6, 0.6, 0.8, 0.8, 0.8, 0.2, 0.2, 0.2, 0.2, 0.2, 0.2, 0.2, 0.2, 0.2, 0.0, 0.0, 0.0, 0.0, 0.0, 0.0, 0.4, 0.4, 1.2, 1.6, 1.6, 1.6, 1.2, 1.2, 0.6, 0.2], \"yaxis\": \"y\"}, {\"hoverlabel\": {\"namelength\": 0}, \"hovertemplate\": \"word=new<br>date=%{x}<br>occurrence=%{y}\", \"legendgroup\": \"word=new\", \"line\": {\"color\": \"#ab63fa\", \"dash\": \"solid\"}, \"mode\": \"lines\", \"name\": \"word=new\", \"showlegend\": true, \"type\": \"scatter\", \"x\": [\"2020-02-03T00:00:00\", \"2020-02-04T00:00:00\", \"2020-02-05T00:00:00\", \"2020-02-06T00:00:00\", \"2020-02-07T00:00:00\", \"2020-02-08T00:00:00\", \"2020-02-09T00:00:00\", \"2020-02-10T00:00:00\", \"2020-02-11T00:00:00\", \"2020-02-12T00:00:00\", \"2020-02-13T00:00:00\", \"2020-02-14T00:00:00\", \"2020-02-15T00:00:00\", \"2020-02-16T00:00:00\", \"2020-02-17T00:00:00\", \"2020-02-18T00:00:00\", \"2020-02-19T00:00:00\", \"2020-02-20T00:00:00\", \"2020-02-21T00:00:00\", \"2020-02-22T00:00:00\", \"2020-02-23T00:00:00\", \"2020-02-24T00:00:00\", \"2020-02-25T00:00:00\", \"2020-02-26T00:00:00\", \"2020-02-27T00:00:00\", \"2020-02-28T00:00:00\", \"2020-02-29T00:00:00\", \"2020-03-01T00:00:00\", \"2020-03-02T00:00:00\", \"2020-03-03T00:00:00\", \"2020-03-04T00:00:00\", \"2020-03-05T00:00:00\", \"2020-03-06T00:00:00\", \"2020-03-07T00:00:00\", \"2020-03-08T00:00:00\", \"2020-03-09T00:00:00\", \"2020-03-10T00:00:00\", \"2020-03-11T00:00:00\", \"2020-03-12T00:00:00\", \"2020-03-13T00:00:00\", \"2020-03-14T00:00:00\", \"2020-03-15T00:00:00\", \"2020-03-16T00:00:00\", \"2020-03-17T00:00:00\", \"2020-03-18T00:00:00\", \"2020-03-19T00:00:00\", \"2020-03-20T00:00:00\", \"2020-03-21T00:00:00\", \"2020-03-22T00:00:00\", \"2020-03-23T00:00:00\", \"2020-03-24T00:00:00\", \"2020-03-25T00:00:00\", \"2020-03-26T00:00:00\", \"2020-03-27T00:00:00\", \"2020-03-28T00:00:00\", \"2020-03-29T00:00:00\", \"2020-03-30T00:00:00\", \"2020-03-31T00:00:00\", \"2020-04-01T00:00:00\", \"2020-04-02T00:00:00\", \"2020-04-03T00:00:00\", \"2020-04-04T00:00:00\", \"2020-04-05T00:00:00\", \"2020-04-06T00:00:00\", \"2020-04-07T00:00:00\", \"2020-04-08T00:00:00\", \"2020-04-09T00:00:00\", \"2020-04-10T00:00:00\", \"2020-04-11T00:00:00\", \"2020-04-12T00:00:00\", \"2020-04-13T00:00:00\", \"2020-04-14T00:00:00\", \"2020-04-15T00:00:00\", \"2020-04-16T00:00:00\", \"2020-04-17T00:00:00\", \"2020-04-18T00:00:00\", \"2020-04-19T00:00:00\", \"2020-04-20T00:00:00\", \"2020-04-21T00:00:00\", \"2020-04-22T00:00:00\", \"2020-04-23T00:00:00\", \"2020-04-24T00:00:00\", \"2020-04-25T00:00:00\", \"2020-04-26T00:00:00\", \"2020-04-27T00:00:00\", \"2020-04-28T00:00:00\", \"2020-04-29T00:00:00\", \"2020-04-30T00:00:00\", \"2020-05-01T00:00:00\"], \"xaxis\": \"x\", \"y\": [2.8, 2.8, 2.6, 1.6, 1.6, 0.8, 0.8, 0.8, 0.6, 0.6, 1.2, 1.4, 1.6, 1.8, 1.8, 1.4, 0.6, 0.4, 0.4, 0.6, 0.8, 0.8, 1.0, 1.0, 0.8, 0.6, 0.6, 0.8, 0.6, 0.8, 1.0, 1.0, 1.2, 1.6, 1.8, 1.6, 1.4, 1.2, 0.8, 0.6, 0.6, 0.8, 0.8, 1.0, 1.2, 0.8, 0.8, 0.6, 2.0, 1.8, 1.8, 2.0, 2.0, 2.2, 0.8, 0.8, 0.6, 0.4, 0.4, 0.4, 0.8, 1.4, 1.4, 1.4, 1.2, 1.0, 0.8, 0.8, 1.0, 1.8, 1.8, 1.8, 1.8, 1.2, 1.2, 0.4, 1.0, 1.2, 1.0, 2.0, 2.8, 4.0, 3.4, 3.2, 3.2, 2.4, 1.6, 1.2, 1.4], \"yaxis\": \"y\"}, {\"hoverlabel\": {\"namelength\": 0}, \"hovertemplate\": \"word=vaccine<br>date=%{x}<br>occurrence=%{y}\", \"legendgroup\": \"word=vaccine\", \"line\": {\"color\": \"#FFA15A\", \"dash\": \"solid\"}, \"mode\": \"lines\", \"name\": \"word=vaccine\", \"showlegend\": true, \"type\": \"scatter\", \"x\": [\"2020-02-03T00:00:00\", \"2020-02-04T00:00:00\", \"2020-02-05T00:00:00\", \"2020-02-06T00:00:00\", \"2020-02-07T00:00:00\", \"2020-02-08T00:00:00\", \"2020-02-09T00:00:00\", \"2020-02-10T00:00:00\", \"2020-02-11T00:00:00\", \"2020-02-12T00:00:00\", \"2020-02-13T00:00:00\", \"2020-02-14T00:00:00\", \"2020-02-15T00:00:00\", \"2020-02-16T00:00:00\", \"2020-02-17T00:00:00\", \"2020-02-18T00:00:00\", \"2020-02-19T00:00:00\", \"2020-02-20T00:00:00\", \"2020-02-21T00:00:00\", \"2020-02-22T00:00:00\", \"2020-02-23T00:00:00\", \"2020-02-24T00:00:00\", \"2020-02-25T00:00:00\", \"2020-02-26T00:00:00\", \"2020-02-27T00:00:00\", \"2020-02-28T00:00:00\", \"2020-02-29T00:00:00\", \"2020-03-01T00:00:00\", \"2020-03-02T00:00:00\", \"2020-03-03T00:00:00\", \"2020-03-04T00:00:00\", \"2020-03-05T00:00:00\", \"2020-03-06T00:00:00\", \"2020-03-07T00:00:00\", \"2020-03-08T00:00:00\", \"2020-03-09T00:00:00\", \"2020-03-10T00:00:00\", \"2020-03-11T00:00:00\", \"2020-03-12T00:00:00\", \"2020-03-13T00:00:00\", \"2020-03-14T00:00:00\", \"2020-03-15T00:00:00\", \"2020-03-16T00:00:00\", \"2020-03-17T00:00:00\", \"2020-03-18T00:00:00\", \"2020-03-19T00:00:00\", \"2020-03-20T00:00:00\", \"2020-03-21T00:00:00\", \"2020-03-22T00:00:00\", \"2020-03-23T00:00:00\", \"2020-03-24T00:00:00\", \"2020-03-25T00:00:00\", \"2020-03-26T00:00:00\", \"2020-03-27T00:00:00\", \"2020-03-28T00:00:00\", \"2020-03-29T00:00:00\", \"2020-03-30T00:00:00\", \"2020-03-31T00:00:00\", \"2020-04-01T00:00:00\", \"2020-04-02T00:00:00\", \"2020-04-03T00:00:00\", \"2020-04-04T00:00:00\", \"2020-04-05T00:00:00\", \"2020-04-06T00:00:00\", \"2020-04-07T00:00:00\", \"2020-04-08T00:00:00\", \"2020-04-09T00:00:00\", \"2020-04-10T00:00:00\", \"2020-04-11T00:00:00\", \"2020-04-12T00:00:00\", \"2020-04-13T00:00:00\", \"2020-04-14T00:00:00\", \"2020-04-15T00:00:00\", \"2020-04-16T00:00:00\", \"2020-04-17T00:00:00\", \"2020-04-18T00:00:00\", \"2020-04-19T00:00:00\", \"2020-04-20T00:00:00\", \"2020-04-21T00:00:00\", \"2020-04-22T00:00:00\", \"2020-04-23T00:00:00\", \"2020-04-24T00:00:00\", \"2020-04-25T00:00:00\", \"2020-04-26T00:00:00\", \"2020-04-27T00:00:00\", \"2020-04-28T00:00:00\", \"2020-04-29T00:00:00\", \"2020-04-30T00:00:00\", \"2020-05-01T00:00:00\"], \"xaxis\": \"x\", \"y\": [0.0, 0.0, 0.0, 0.0, 0.0, 0.0, 0.0, 0.0, 0.0, 0.6, 1.2, 1.2, 1.6, 1.6, 1.6, 1.0, 0.6, 0.6, 0.2, 0.2, 0.2, 0.2, 0.0, 0.0, 0.2, 0.4, 0.4, 0.4, 0.4, 0.4, 0.2, 0.0, 0.0, 0.0, 0.0, 0.0, 0.0, 0.6, 1.4, 1.6, 2.4, 2.4, 2.4, 1.8, 1.0, 1.4, 1.0, 1.2, 1.4, 1.6, 1.6, 1.0, 1.8, 1.6, 1.4, 1.4, 1.4, 1.4, 0.2, 0.8, 0.8, 0.6, 0.6, 0.6, 0.6, 0.2, 3.2, 5.6, 5.8, 6.0, 6.2, 6.0, 3.0, 1.2, 1.4, 1.6, 1.8, 2.2, 2.2, 2.6, 3.4, 4.8, 5.4, 5.4, 5.4, 4.4, 3.2, 2.0, 3.8], \"yaxis\": \"y\"}],\n",
       "                        {\"height\": 600, \"legend\": {\"tracegroupgap\": 0}, \"margin\": {\"t\": 60}, \"template\": {\"data\": {\"bar\": [{\"error_x\": {\"color\": \"#2a3f5f\"}, \"error_y\": {\"color\": \"#2a3f5f\"}, \"marker\": {\"line\": {\"color\": \"#E5ECF6\", \"width\": 0.5}}, \"type\": \"bar\"}], \"barpolar\": [{\"marker\": {\"line\": {\"color\": \"#E5ECF6\", \"width\": 0.5}}, \"type\": \"barpolar\"}], \"carpet\": [{\"aaxis\": {\"endlinecolor\": \"#2a3f5f\", \"gridcolor\": \"white\", \"linecolor\": \"white\", \"minorgridcolor\": \"white\", \"startlinecolor\": \"#2a3f5f\"}, \"baxis\": {\"endlinecolor\": \"#2a3f5f\", \"gridcolor\": \"white\", \"linecolor\": \"white\", \"minorgridcolor\": \"white\", \"startlinecolor\": \"#2a3f5f\"}, \"type\": \"carpet\"}], \"choropleth\": [{\"colorbar\": {\"outlinewidth\": 0, \"ticks\": \"\"}, \"type\": \"choropleth\"}], \"contour\": [{\"colorbar\": {\"outlinewidth\": 0, \"ticks\": \"\"}, \"colorscale\": [[0.0, \"#0d0887\"], [0.1111111111111111, \"#46039f\"], [0.2222222222222222, \"#7201a8\"], [0.3333333333333333, \"#9c179e\"], [0.4444444444444444, \"#bd3786\"], [0.5555555555555556, \"#d8576b\"], [0.6666666666666666, \"#ed7953\"], [0.7777777777777778, \"#fb9f3a\"], [0.8888888888888888, \"#fdca26\"], [1.0, \"#f0f921\"]], \"type\": \"contour\"}], \"contourcarpet\": [{\"colorbar\": {\"outlinewidth\": 0, \"ticks\": \"\"}, \"type\": \"contourcarpet\"}], \"heatmap\": [{\"colorbar\": {\"outlinewidth\": 0, \"ticks\": \"\"}, \"colorscale\": [[0.0, \"#0d0887\"], [0.1111111111111111, \"#46039f\"], [0.2222222222222222, \"#7201a8\"], [0.3333333333333333, \"#9c179e\"], [0.4444444444444444, \"#bd3786\"], [0.5555555555555556, \"#d8576b\"], [0.6666666666666666, \"#ed7953\"], [0.7777777777777778, \"#fb9f3a\"], [0.8888888888888888, \"#fdca26\"], [1.0, \"#f0f921\"]], \"type\": \"heatmap\"}], \"heatmapgl\": [{\"colorbar\": {\"outlinewidth\": 0, \"ticks\": \"\"}, \"colorscale\": [[0.0, \"#0d0887\"], [0.1111111111111111, \"#46039f\"], [0.2222222222222222, \"#7201a8\"], [0.3333333333333333, \"#9c179e\"], [0.4444444444444444, \"#bd3786\"], [0.5555555555555556, \"#d8576b\"], [0.6666666666666666, \"#ed7953\"], [0.7777777777777778, \"#fb9f3a\"], [0.8888888888888888, \"#fdca26\"], [1.0, \"#f0f921\"]], \"type\": \"heatmapgl\"}], \"histogram\": [{\"marker\": {\"colorbar\": {\"outlinewidth\": 0, \"ticks\": \"\"}}, \"type\": \"histogram\"}], \"histogram2d\": [{\"colorbar\": {\"outlinewidth\": 0, \"ticks\": \"\"}, \"colorscale\": [[0.0, \"#0d0887\"], [0.1111111111111111, \"#46039f\"], [0.2222222222222222, \"#7201a8\"], [0.3333333333333333, \"#9c179e\"], [0.4444444444444444, \"#bd3786\"], [0.5555555555555556, \"#d8576b\"], [0.6666666666666666, \"#ed7953\"], [0.7777777777777778, \"#fb9f3a\"], [0.8888888888888888, \"#fdca26\"], [1.0, \"#f0f921\"]], \"type\": \"histogram2d\"}], \"histogram2dcontour\": [{\"colorbar\": {\"outlinewidth\": 0, \"ticks\": \"\"}, \"colorscale\": [[0.0, \"#0d0887\"], [0.1111111111111111, \"#46039f\"], [0.2222222222222222, \"#7201a8\"], [0.3333333333333333, \"#9c179e\"], [0.4444444444444444, \"#bd3786\"], [0.5555555555555556, \"#d8576b\"], [0.6666666666666666, \"#ed7953\"], [0.7777777777777778, \"#fb9f3a\"], [0.8888888888888888, \"#fdca26\"], [1.0, \"#f0f921\"]], \"type\": \"histogram2dcontour\"}], \"mesh3d\": [{\"colorbar\": {\"outlinewidth\": 0, \"ticks\": \"\"}, \"type\": \"mesh3d\"}], \"parcoords\": [{\"line\": {\"colorbar\": {\"outlinewidth\": 0, \"ticks\": \"\"}}, \"type\": \"parcoords\"}], \"scatter\": [{\"marker\": {\"colorbar\": {\"outlinewidth\": 0, \"ticks\": \"\"}}, \"type\": \"scatter\"}], \"scatter3d\": [{\"line\": {\"colorbar\": {\"outlinewidth\": 0, \"ticks\": \"\"}}, \"marker\": {\"colorbar\": {\"outlinewidth\": 0, \"ticks\": \"\"}}, \"type\": \"scatter3d\"}], \"scattercarpet\": [{\"marker\": {\"colorbar\": {\"outlinewidth\": 0, \"ticks\": \"\"}}, \"type\": \"scattercarpet\"}], \"scattergeo\": [{\"marker\": {\"colorbar\": {\"outlinewidth\": 0, \"ticks\": \"\"}}, \"type\": \"scattergeo\"}], \"scattergl\": [{\"marker\": {\"colorbar\": {\"outlinewidth\": 0, \"ticks\": \"\"}}, \"type\": \"scattergl\"}], \"scattermapbox\": [{\"marker\": {\"colorbar\": {\"outlinewidth\": 0, \"ticks\": \"\"}}, \"type\": \"scattermapbox\"}], \"scatterpolar\": [{\"marker\": {\"colorbar\": {\"outlinewidth\": 0, \"ticks\": \"\"}}, \"type\": \"scatterpolar\"}], \"scatterpolargl\": [{\"marker\": {\"colorbar\": {\"outlinewidth\": 0, \"ticks\": \"\"}}, \"type\": \"scatterpolargl\"}], \"scatterternary\": [{\"marker\": {\"colorbar\": {\"outlinewidth\": 0, \"ticks\": \"\"}}, \"type\": \"scatterternary\"}], \"surface\": [{\"colorbar\": {\"outlinewidth\": 0, \"ticks\": \"\"}, \"colorscale\": [[0.0, \"#0d0887\"], [0.1111111111111111, \"#46039f\"], [0.2222222222222222, \"#7201a8\"], [0.3333333333333333, \"#9c179e\"], [0.4444444444444444, \"#bd3786\"], [0.5555555555555556, \"#d8576b\"], [0.6666666666666666, \"#ed7953\"], [0.7777777777777778, \"#fb9f3a\"], [0.8888888888888888, \"#fdca26\"], [1.0, \"#f0f921\"]], \"type\": \"surface\"}], \"table\": [{\"cells\": {\"fill\": {\"color\": \"#EBF0F8\"}, \"line\": {\"color\": \"white\"}}, \"header\": {\"fill\": {\"color\": \"#C8D4E3\"}, \"line\": {\"color\": \"white\"}}, \"type\": \"table\"}]}, \"layout\": {\"annotationdefaults\": {\"arrowcolor\": \"#2a3f5f\", \"arrowhead\": 0, \"arrowwidth\": 1}, \"colorscale\": {\"diverging\": [[0, \"#8e0152\"], [0.1, \"#c51b7d\"], [0.2, \"#de77ae\"], [0.3, \"#f1b6da\"], [0.4, \"#fde0ef\"], [0.5, \"#f7f7f7\"], [0.6, \"#e6f5d0\"], [0.7, \"#b8e186\"], [0.8, \"#7fbc41\"], [0.9, \"#4d9221\"], [1, \"#276419\"]], \"sequential\": [[0.0, \"#0d0887\"], [0.1111111111111111, \"#46039f\"], [0.2222222222222222, \"#7201a8\"], [0.3333333333333333, \"#9c179e\"], [0.4444444444444444, \"#bd3786\"], [0.5555555555555556, \"#d8576b\"], [0.6666666666666666, \"#ed7953\"], [0.7777777777777778, \"#fb9f3a\"], [0.8888888888888888, \"#fdca26\"], [1.0, \"#f0f921\"]], \"sequentialminus\": [[0.0, \"#0d0887\"], [0.1111111111111111, \"#46039f\"], [0.2222222222222222, \"#7201a8\"], [0.3333333333333333, \"#9c179e\"], [0.4444444444444444, \"#bd3786\"], [0.5555555555555556, \"#d8576b\"], [0.6666666666666666, \"#ed7953\"], [0.7777777777777778, \"#fb9f3a\"], [0.8888888888888888, \"#fdca26\"], [1.0, \"#f0f921\"]]}, \"colorway\": [\"#636efa\", \"#EF553B\", \"#00cc96\", \"#ab63fa\", \"#FFA15A\", \"#19d3f3\", \"#FF6692\", \"#B6E880\", \"#FF97FF\", \"#FECB52\"], \"font\": {\"color\": \"#2a3f5f\"}, \"geo\": {\"bgcolor\": \"white\", \"lakecolor\": \"white\", \"landcolor\": \"#E5ECF6\", \"showlakes\": true, \"showland\": true, \"subunitcolor\": \"white\"}, \"hoverlabel\": {\"align\": \"left\"}, \"hovermode\": \"closest\", \"mapbox\": {\"style\": \"light\"}, \"paper_bgcolor\": \"white\", \"plot_bgcolor\": \"#E5ECF6\", \"polar\": {\"angularaxis\": {\"gridcolor\": \"white\", \"linecolor\": \"white\", \"ticks\": \"\"}, \"bgcolor\": \"#E5ECF6\", \"radialaxis\": {\"gridcolor\": \"white\", \"linecolor\": \"white\", \"ticks\": \"\"}}, \"scene\": {\"xaxis\": {\"backgroundcolor\": \"#E5ECF6\", \"gridcolor\": \"white\", \"gridwidth\": 2, \"linecolor\": \"white\", \"showbackground\": true, \"ticks\": \"\", \"zerolinecolor\": \"white\"}, \"yaxis\": {\"backgroundcolor\": \"#E5ECF6\", \"gridcolor\": \"white\", \"gridwidth\": 2, \"linecolor\": \"white\", \"showbackground\": true, \"ticks\": \"\", \"zerolinecolor\": \"white\"}, \"zaxis\": {\"backgroundcolor\": \"#E5ECF6\", \"gridcolor\": \"white\", \"gridwidth\": 2, \"linecolor\": \"white\", \"showbackground\": true, \"ticks\": \"\", \"zerolinecolor\": \"white\"}}, \"shapedefaults\": {\"line\": {\"color\": \"#2a3f5f\"}}, \"ternary\": {\"aaxis\": {\"gridcolor\": \"white\", \"linecolor\": \"white\", \"ticks\": \"\"}, \"baxis\": {\"gridcolor\": \"white\", \"linecolor\": \"white\", \"ticks\": \"\"}, \"bgcolor\": \"#E5ECF6\", \"caxis\": {\"gridcolor\": \"white\", \"linecolor\": \"white\", \"ticks\": \"\"}}, \"title\": {\"x\": 0.05}, \"xaxis\": {\"automargin\": true, \"gridcolor\": \"white\", \"linecolor\": \"white\", \"ticks\": \"\", \"zerolinecolor\": \"white\", \"zerolinewidth\": 2}, \"yaxis\": {\"automargin\": true, \"gridcolor\": \"white\", \"linecolor\": \"white\", \"ticks\": \"\", \"zerolinecolor\": \"white\", \"zerolinewidth\": 2}}}, \"xaxis\": {\"anchor\": \"y\", \"domain\": [0.0, 0.98], \"title\": {\"text\": \"date\"}}, \"yaxis\": {\"anchor\": \"x\", \"domain\": [0.0, 1.0], \"title\": {\"text\": \"occurrence\"}}},\n",
       "                        {\"responsive\": true}\n",
       "                    ).then(function(){\n",
       "                            \n",
       "var gd = document.getElementById('43f0f449-4bff-4a1e-86fd-cd58350f51ae');\n",
       "var x = new MutationObserver(function (mutations, observer) {{\n",
       "        var display = window.getComputedStyle(gd).display;\n",
       "        if (!display || display === 'none') {{\n",
       "            console.log([gd, 'removed!']);\n",
       "            Plotly.purge(gd);\n",
       "            observer.disconnect();\n",
       "        }}\n",
       "}});\n",
       "\n",
       "// Listen for the removal of the full notebook cells\n",
       "var notebookContainer = gd.closest('#notebook-container');\n",
       "if (notebookContainer) {{\n",
       "    x.observe(notebookContainer, {childList: true});\n",
       "}}\n",
       "\n",
       "// Listen for the clearing of the current output cell\n",
       "var outputEl = gd.closest('.output');\n",
       "if (outputEl) {{\n",
       "    x.observe(outputEl, {childList: true});\n",
       "}}\n",
       "\n",
       "                        })\n",
       "                };\n",
       "                });\n",
       "            </script>\n",
       "        </div>"
      ]
     },
     "metadata": {},
     "output_type": "display_data"
    }
   ],
   "source": [
    "draw_words_occurence(['covid19','treatment','trial','new','vaccine'])\n"
   ]
  },
  {
   "cell_type": "markdown",
   "metadata": {},
   "source": [
    "Teraz można zauważyć, że właśnie w okolicach 23 marca, kiedy większą reprezentację mają słowa treatment, tial, new, a także trochę vaccine, jest odbicie kursów akcji z dołka."
   ]
  },
  {
   "cell_type": "markdown",
   "metadata": {},
   "source": [
    "<br><br>Zamienię wykres zamknięcia w wykres zmian procentowych zamknięcia między kolejnymi dniami (powinno to w czytelny sposób pokazać dynamikę zmian akcji)."
   ]
  },
  {
   "cell_type": "code",
   "execution_count": 93,
   "metadata": {},
   "outputs": [
    {
     "data": {
      "application/vnd.plotly.v1+json": {
       "config": {
        "plotlyServerURL": "https://plot.ly"
       },
       "data": [
        {
         "hoverlabel": {
          "namelength": 0
         },
         "hovertemplate": "company=AstraZeneca<br>date=%{x}<br>close_diff=%{y}",
         "legendgroup": "company=AstraZeneca",
         "line": {
          "color": "#636efa",
          "dash": "solid"
         },
         "mode": "lines",
         "name": "company=AstraZeneca",
         "showlegend": true,
         "type": "scattergl",
         "x": [
          "2019-10-31T00:00:00",
          "2019-11-01T00:00:00",
          "2019-11-02T00:00:00",
          "2019-11-03T00:00:00",
          "2019-11-04T00:00:00",
          "2019-11-05T00:00:00",
          "2019-11-06T00:00:00",
          "2019-11-07T00:00:00",
          "2019-11-08T00:00:00",
          "2019-11-09T00:00:00",
          "2019-11-10T00:00:00",
          "2019-11-11T00:00:00",
          "2019-11-12T00:00:00",
          "2019-11-13T00:00:00",
          "2019-11-14T00:00:00",
          "2019-11-15T00:00:00",
          "2019-11-16T00:00:00",
          "2019-11-17T00:00:00",
          "2019-11-18T00:00:00",
          "2019-11-19T00:00:00",
          "2019-11-20T00:00:00",
          "2019-11-21T00:00:00",
          "2019-11-22T00:00:00",
          "2019-11-23T00:00:00",
          "2019-11-24T00:00:00",
          "2019-11-25T00:00:00",
          "2019-11-26T00:00:00",
          "2019-11-27T00:00:00",
          "2019-11-28T00:00:00",
          "2019-11-29T00:00:00",
          "2019-11-30T00:00:00",
          "2019-12-01T00:00:00",
          "2019-12-02T00:00:00",
          "2019-12-03T00:00:00",
          "2019-12-04T00:00:00",
          "2019-12-05T00:00:00",
          "2019-12-06T00:00:00",
          "2019-12-07T00:00:00",
          "2019-12-08T00:00:00",
          "2019-12-09T00:00:00",
          "2019-12-10T00:00:00",
          "2019-12-11T00:00:00",
          "2019-12-12T00:00:00",
          "2019-12-13T00:00:00",
          "2019-12-14T00:00:00",
          "2019-12-15T00:00:00",
          "2019-12-16T00:00:00",
          "2019-12-17T00:00:00",
          "2019-12-18T00:00:00",
          "2019-12-19T00:00:00",
          "2019-12-20T00:00:00",
          "2019-12-21T00:00:00",
          "2019-12-22T00:00:00",
          "2019-12-23T00:00:00",
          "2019-12-24T00:00:00",
          "2019-12-25T00:00:00",
          "2019-12-26T00:00:00",
          "2019-12-27T00:00:00",
          "2019-12-28T00:00:00",
          "2019-12-29T00:00:00",
          "2019-12-30T00:00:00",
          "2019-12-31T00:00:00",
          "2020-01-01T00:00:00",
          "2020-01-02T00:00:00",
          "2020-01-03T00:00:00",
          "2020-01-04T00:00:00",
          "2020-01-05T00:00:00",
          "2020-01-06T00:00:00",
          "2020-01-07T00:00:00",
          "2020-01-08T00:00:00",
          "2020-01-09T00:00:00",
          "2020-01-10T00:00:00",
          "2020-01-11T00:00:00",
          "2020-01-12T00:00:00",
          "2020-01-13T00:00:00",
          "2020-01-14T00:00:00",
          "2020-01-15T00:00:00",
          "2020-01-16T00:00:00",
          "2020-01-17T00:00:00",
          "2020-01-18T00:00:00",
          "2020-01-19T00:00:00",
          "2020-01-20T00:00:00",
          "2020-01-21T00:00:00",
          "2020-01-22T00:00:00",
          "2020-01-23T00:00:00",
          "2020-01-24T00:00:00",
          "2020-01-25T00:00:00",
          "2020-01-26T00:00:00",
          "2020-01-27T00:00:00",
          "2020-01-28T00:00:00",
          "2020-01-29T00:00:00",
          "2020-01-30T00:00:00",
          "2020-01-31T00:00:00",
          "2020-02-01T00:00:00",
          "2020-02-02T00:00:00",
          "2020-02-03T00:00:00",
          "2020-02-04T00:00:00",
          "2020-02-05T00:00:00",
          "2020-02-06T00:00:00",
          "2020-02-07T00:00:00",
          "2020-02-08T00:00:00",
          "2020-02-09T00:00:00",
          "2020-02-10T00:00:00",
          "2020-02-11T00:00:00",
          "2020-02-12T00:00:00",
          "2020-02-13T00:00:00",
          "2020-02-14T00:00:00",
          "2020-02-15T00:00:00",
          "2020-02-16T00:00:00",
          "2020-02-17T00:00:00",
          "2020-02-18T00:00:00",
          "2020-02-19T00:00:00",
          "2020-02-20T00:00:00",
          "2020-02-21T00:00:00",
          "2020-02-22T00:00:00",
          "2020-02-23T00:00:00",
          "2020-02-24T00:00:00",
          "2020-02-25T00:00:00",
          "2020-02-26T00:00:00",
          "2020-02-27T00:00:00",
          "2020-02-28T00:00:00",
          "2020-02-29T00:00:00",
          "2020-03-01T00:00:00",
          "2020-03-02T00:00:00",
          "2020-03-03T00:00:00",
          "2020-03-04T00:00:00",
          "2020-03-05T00:00:00",
          "2020-03-06T00:00:00",
          "2020-03-07T00:00:00",
          "2020-03-08T00:00:00",
          "2020-03-09T00:00:00",
          "2020-03-10T00:00:00",
          "2020-03-11T00:00:00",
          "2020-03-12T00:00:00",
          "2020-03-13T00:00:00",
          "2020-03-14T00:00:00",
          "2020-03-15T00:00:00",
          "2020-03-16T00:00:00",
          "2020-03-17T00:00:00",
          "2020-03-18T00:00:00",
          "2020-03-19T00:00:00",
          "2020-03-20T00:00:00",
          "2020-03-21T00:00:00",
          "2020-03-22T00:00:00",
          "2020-03-23T00:00:00",
          "2020-03-24T00:00:00",
          "2020-03-25T00:00:00",
          "2020-03-26T00:00:00",
          "2020-03-27T00:00:00",
          "2020-03-28T00:00:00",
          "2020-03-29T00:00:00",
          "2020-03-30T00:00:00",
          "2020-03-31T00:00:00",
          "2020-04-01T00:00:00",
          "2020-04-02T00:00:00",
          "2020-04-03T00:00:00",
          "2020-04-04T00:00:00",
          "2020-04-05T00:00:00",
          "2020-04-06T00:00:00",
          "2020-04-07T00:00:00",
          "2020-04-08T00:00:00",
          "2020-04-09T00:00:00",
          "2020-04-10T00:00:00",
          "2020-04-11T00:00:00",
          "2020-04-12T00:00:00",
          "2020-04-13T00:00:00",
          "2020-04-14T00:00:00",
          "2020-04-15T00:00:00",
          "2020-04-16T00:00:00",
          "2020-04-17T00:00:00",
          "2020-04-18T00:00:00",
          "2020-04-19T00:00:00",
          "2020-04-20T00:00:00",
          "2020-04-21T00:00:00",
          "2020-04-22T00:00:00",
          "2020-04-23T00:00:00",
          "2020-04-24T00:00:00",
          "2020-04-25T00:00:00",
          "2020-04-26T00:00:00",
          "2020-04-27T00:00:00",
          "2020-04-28T00:00:00",
          "2020-04-29T00:00:00",
          "2020-04-30T00:00:00",
          "2020-05-01T00:00:00",
          "2020-05-02T00:00:00",
          "2020-05-03T00:00:00",
          "2020-05-04T00:00:00",
          "2020-05-05T00:00:00",
          "2020-05-06T00:00:00",
          "2020-05-07T00:00:00",
          "2020-05-08T00:00:00"
         ],
         "xaxis": "x",
         "y": [
          null,
          101.32258606679245,
          100,
          100,
          100.58199703958563,
          101.92796574725189,
          99.70426829489398,
          101.15384812891133,
          99.02666292676724,
          100,
          100,
          100.81057432755995,
          99.575189559981,
          98.4525347793977,
          100.94996996640538,
          99.85244583294572,
          100,
          100,
          98.95702959048181,
          100.56639494049647,
          101.40395633051915,
          98.73975576322948,
          99.24952970358441,
          100,
          100,
          98.35964890393355,
          100.02051299543638,
          99.97949121153049,
          100,
          100.5981867125941,
          100,
          100,
          100.20669382371511,
          101.02318163439506,
          99.35684363405784,
          101.21797951294435,
          99.87415819440653,
          100,
          100,
          99.81159691914287,
          99.56231953631472,
          99.5642268303443,
          100.56344004190434,
          99.09015211775646,
          100,
          100,
          98.07341160721599,
          100.69430292855321,
          99.4516644017871,
          98.53912442584874,
          99.02893802485164,
          100,
          100,
          101.14251293204563,
          100.04010518987776,
          100,
          100.04012128059354,
          98.83029308356193,
          100,
          100,
          100.85982867348073,
          100.30083776443135,
          100,
          98.94820641850265,
          100.59892041554535,
          100,
          100,
          100.42100858054492,
          99.6205339966706,
          100.240238098202,
          99.74041321213647,
          100.46139090064968,
          100,
          100,
          100.3623924135522,
          98.98365457726419,
          98.77952964331453,
          100.57414556555966,
          98.40248688823272,
          100,
          100,
          100,
          101.04331220857084,
          100.69375315922335,
          100.49800796055877,
          101.86688718837607,
          100,
          100,
          100.7770904735389,
          98.58871578674055,
          99.87917564745192,
          101.16113198829186,
          100.80082008940177,
          100,
          100,
          100.39167686658507,
          99.4872846419078,
          98.04946464984523,
          99.4003612944626,
          101.27529804445037,
          100,
          100,
          98.97816404910357,
          100.26115120792107,
          100.40338229297305,
          100.50679098058053,
          103.09300606923537,
          100,
          100,
          100,
          97.43432677546153,
          99.59440122212652,
          100.75603342248587,
          97.54833648170693,
          100,
          100,
          105.42130281169399,
          101.08325892459249,
          98.96994352130962,
          105.54692703999973,
          102.89954447462428,
          100,
          100,
          95.48724712660643,
          100.76888943453734,
          93.66255532292355,
          100.45472798914604,
          101.80976557674055,
          100,
          100,
          105.0630133511032,
          96.43922829571534,
          105.20412651308615,
          109.37194226404911,
          96.40491839723522,
          100,
          100,
          111.88144417833202,
          92.32836705048504,
          103.98882030101217,
          98.08123489342377,
          101.8011236229058,
          100,
          100,
          101.65033370240873,
          94.83981256579398,
          101.26299729579729,
          95.3257801848273,
          99.74099221288002,
          100,
          100,
          95.3739105882224,
          99.70890938522302,
          102.01005274703519,
          100.04570488695343,
          99.5450392013086,
          100,
          100,
          99.21010544353237,
          102.80743141997199,
          98.28962365770063,
          98.18629338097064,
          100,
          100,
          100,
          94.29898494902193,
          97.28841477701496,
          101.35332405246507,
          97.76103752309456,
          98.20108388338781,
          100,
          100,
          99.18715333351538,
          100.7389633196323,
          99.4241443367502,
          99.94046679964231,
          98.45642651266758,
          100,
          100,
          99.41725089407895,
          101.00058526450661,
          100.49290219633897,
          97.01607192995667,
          100.80986919398818,
          100,
          100,
          99.06399641250849,
          97.90536240693336,
          98.94522634128892,
          102.46492073509228,
          98.96791287744135
         ],
         "yaxis": "y"
        },
        {
         "hoverlabel": {
          "namelength": 0
         },
         "hovertemplate": "company=BayerPharma<br>date=%{x}<br>close_diff=%{y}",
         "legendgroup": "company=BayerPharma",
         "line": {
          "color": "#EF553B",
          "dash": "solid"
         },
         "mode": "lines",
         "name": "company=BayerPharma",
         "showlegend": true,
         "type": "scattergl",
         "x": [
          "2019-10-31T00:00:00",
          "2019-11-01T00:00:00",
          "2019-11-02T00:00:00",
          "2019-11-03T00:00:00",
          "2019-11-04T00:00:00",
          "2019-11-05T00:00:00",
          "2019-11-06T00:00:00",
          "2019-11-07T00:00:00",
          "2019-11-08T00:00:00",
          "2019-11-09T00:00:00",
          "2019-11-10T00:00:00",
          "2019-11-11T00:00:00",
          "2019-11-12T00:00:00",
          "2019-11-13T00:00:00",
          "2019-11-14T00:00:00",
          "2019-11-15T00:00:00",
          "2019-11-16T00:00:00",
          "2019-11-17T00:00:00",
          "2019-11-18T00:00:00",
          "2019-11-19T00:00:00",
          "2019-11-20T00:00:00",
          "2019-11-21T00:00:00",
          "2019-11-22T00:00:00",
          "2019-11-23T00:00:00",
          "2019-11-24T00:00:00",
          "2019-11-25T00:00:00",
          "2019-11-26T00:00:00",
          "2019-11-27T00:00:00",
          "2019-11-28T00:00:00",
          "2019-11-29T00:00:00",
          "2019-11-30T00:00:00",
          "2019-12-01T00:00:00",
          "2019-12-02T00:00:00",
          "2019-12-03T00:00:00",
          "2019-12-04T00:00:00",
          "2019-12-05T00:00:00",
          "2019-12-06T00:00:00",
          "2019-12-07T00:00:00",
          "2019-12-08T00:00:00",
          "2019-12-09T00:00:00",
          "2019-12-10T00:00:00",
          "2019-12-11T00:00:00",
          "2019-12-12T00:00:00",
          "2019-12-13T00:00:00",
          "2019-12-14T00:00:00",
          "2019-12-15T00:00:00",
          "2019-12-16T00:00:00",
          "2019-12-17T00:00:00",
          "2019-12-18T00:00:00",
          "2019-12-19T00:00:00",
          "2019-12-20T00:00:00",
          "2019-12-21T00:00:00",
          "2019-12-22T00:00:00",
          "2019-12-23T00:00:00",
          "2019-12-24T00:00:00",
          "2019-12-25T00:00:00",
          "2019-12-26T00:00:00",
          "2019-12-27T00:00:00",
          "2019-12-28T00:00:00",
          "2019-12-29T00:00:00",
          "2019-12-30T00:00:00",
          "2019-12-31T00:00:00",
          "2020-01-01T00:00:00",
          "2020-01-02T00:00:00",
          "2020-01-03T00:00:00",
          "2020-01-04T00:00:00",
          "2020-01-05T00:00:00",
          "2020-01-06T00:00:00",
          "2020-01-07T00:00:00",
          "2020-01-08T00:00:00",
          "2020-01-09T00:00:00",
          "2020-01-10T00:00:00",
          "2020-01-11T00:00:00",
          "2020-01-12T00:00:00",
          "2020-01-13T00:00:00",
          "2020-01-14T00:00:00",
          "2020-01-15T00:00:00",
          "2020-01-16T00:00:00",
          "2020-01-17T00:00:00",
          "2020-01-18T00:00:00",
          "2020-01-19T00:00:00",
          "2020-01-20T00:00:00",
          "2020-01-21T00:00:00",
          "2020-01-22T00:00:00",
          "2020-01-23T00:00:00",
          "2020-01-24T00:00:00",
          "2020-01-25T00:00:00",
          "2020-01-26T00:00:00",
          "2020-01-27T00:00:00",
          "2020-01-28T00:00:00",
          "2020-01-29T00:00:00",
          "2020-01-30T00:00:00",
          "2020-01-31T00:00:00",
          "2020-02-01T00:00:00",
          "2020-02-02T00:00:00",
          "2020-02-03T00:00:00",
          "2020-02-04T00:00:00",
          "2020-02-05T00:00:00",
          "2020-02-06T00:00:00",
          "2020-02-07T00:00:00",
          "2020-02-08T00:00:00",
          "2020-02-09T00:00:00",
          "2020-02-10T00:00:00",
          "2020-02-11T00:00:00",
          "2020-02-12T00:00:00",
          "2020-02-13T00:00:00",
          "2020-02-14T00:00:00",
          "2020-02-15T00:00:00",
          "2020-02-16T00:00:00",
          "2020-02-17T00:00:00",
          "2020-02-18T00:00:00",
          "2020-02-19T00:00:00",
          "2020-02-20T00:00:00",
          "2020-02-21T00:00:00",
          "2020-02-22T00:00:00",
          "2020-02-23T00:00:00",
          "2020-02-24T00:00:00",
          "2020-02-25T00:00:00",
          "2020-02-26T00:00:00",
          "2020-02-27T00:00:00",
          "2020-02-28T00:00:00",
          "2020-02-29T00:00:00",
          "2020-03-01T00:00:00",
          "2020-03-02T00:00:00",
          "2020-03-03T00:00:00",
          "2020-03-04T00:00:00",
          "2020-03-05T00:00:00",
          "2020-03-06T00:00:00",
          "2020-03-07T00:00:00",
          "2020-03-08T00:00:00",
          "2020-03-09T00:00:00",
          "2020-03-10T00:00:00",
          "2020-03-11T00:00:00",
          "2020-03-12T00:00:00",
          "2020-03-13T00:00:00",
          "2020-03-14T00:00:00",
          "2020-03-15T00:00:00",
          "2020-03-16T00:00:00",
          "2020-03-17T00:00:00",
          "2020-03-18T00:00:00",
          "2020-03-19T00:00:00",
          "2020-03-20T00:00:00",
          "2020-03-21T00:00:00",
          "2020-03-22T00:00:00",
          "2020-03-23T00:00:00",
          "2020-03-24T00:00:00",
          "2020-03-25T00:00:00",
          "2020-03-26T00:00:00",
          "2020-03-27T00:00:00",
          "2020-03-28T00:00:00",
          "2020-03-29T00:00:00",
          "2020-03-30T00:00:00",
          "2020-03-31T00:00:00",
          "2020-04-01T00:00:00",
          "2020-04-02T00:00:00",
          "2020-04-03T00:00:00",
          "2020-04-04T00:00:00",
          "2020-04-05T00:00:00",
          "2020-04-06T00:00:00",
          "2020-04-07T00:00:00",
          "2020-04-08T00:00:00",
          "2020-04-09T00:00:00",
          "2020-04-10T00:00:00",
          "2020-04-11T00:00:00",
          "2020-04-12T00:00:00",
          "2020-04-13T00:00:00",
          "2020-04-14T00:00:00",
          "2020-04-15T00:00:00",
          "2020-04-16T00:00:00",
          "2020-04-17T00:00:00",
          "2020-04-18T00:00:00",
          "2020-04-19T00:00:00",
          "2020-04-20T00:00:00",
          "2020-04-21T00:00:00",
          "2020-04-22T00:00:00",
          "2020-04-23T00:00:00",
          "2020-04-24T00:00:00",
          "2020-04-25T00:00:00",
          "2020-04-26T00:00:00",
          "2020-04-27T00:00:00",
          "2020-04-28T00:00:00",
          "2020-04-29T00:00:00",
          "2020-04-30T00:00:00",
          "2020-05-01T00:00:00",
          "2020-05-02T00:00:00",
          "2020-05-03T00:00:00",
          "2020-05-04T00:00:00",
          "2020-05-05T00:00:00",
          "2020-05-06T00:00:00",
          "2020-05-07T00:00:00",
          "2020-05-08T00:00:00"
         ],
         "xaxis": "x",
         "y": [
          null,
          99.38650851144595,
          100,
          100,
          98.48942026591477,
          99.94967172390807,
          100.05035361819992,
          100.50607479914679,
          101.22950699533777,
          100,
          100,
          100.30833184025632,
          100.41279632182858,
          100,
          100.05161755859582,
          99.94840907138199,
          100,
          100,
          99.94842584220412,
          99.8455165472315,
          101.99579381562272,
          100.5279851037486,
          100.05282741004022,
          100,
          100,
          98.79958484306881,
          100.94836833254514,
          99.16405510703075,
          100,
          101.37711991757992,
          100,
          100,
          99.73586294979874,
          100.2648365817361,
          98.12889493433377,
          100.36515229288278,
          100.2615022744034,
          100,
          100,
          100.52576434838574,
          99.42499368620715,
          99.47997720306707,
          98.7673354926441,
          98.43275347558345,
          100,
          100,
          99.0485797033457,
          101.8877496157325,
          99.29078322557393,
          99.59636768447102,
          100.3036410184585,
          100,
          100,
          96.57869556738126,
          99.75621090272455,
          100,
          99.17794935306942,
          101.02589642826362,
          100,
          100,
          100.8374388309512,
          100.09861217819488,
          100,
          97.78206803496094,
          102.3186941427743,
          100,
          100,
          100.44598687426584,
          100.64838440429934,
          96.67309285596768,
          99.56793013481743,
          99.23773297209718,
          100,
          100,
          99.8097911829706,
          100.96015729079213,
          99.19047582717168,
          100.09533106863711,
          100.1910172261632,
          100,
          100,
          100,
          99.76179496138276,
          101.15662540297909,
          96.1093091864235,
          103.7980814639635,
          100,
          100,
          101.76124605477919,
          97.75227490777499,
          101.11218345668382,
          101.17416714700312,
          100.83867820648634,
          100,
          100,
          99.60687998915763,
          97.74255850027062,
          98.11498759908754,
          98.92773220790578,
          100.84626375788383,
          100,
          100,
          100.61495303627535,
          100.14210695608494,
          99.71658258986228,
          100.95374711248601,
          99.76212586431835,
          100,
          100,
          100,
          103.24164944806805,
          99.70617303761892,
          100.93920187027653,
          100.79720901766318,
          100,
          100,
          105.29905696317866,
          101.49094126229711,
          99.78746541537026,
          104.26593069423899,
          100.16647490862826,
          100,
          100,
          97.56362278115814,
          103.53138540010163,
          94.59172627383782,
          102.38871081560896,
          101.54355400257226,
          100,
          100,
          109.93939024029358,
          99.51749141089155,
          105.94249410763321,
          114.40057945473254,
          95.33101004541349,
          100,
          100,
          112.19703224604767,
          92.4801159248717,
          103.3632272452633,
          99.03774898417097,
          102.65957739762857,
          100,
          100,
          102.41244713416053,
          93.18346930396228,
          98.78223441382949,
          97.96491254839981,
          101.3513483265492,
          100,
          100,
          96.4334738901893,
          100.76019111712039,
          102.04513367850335,
          98.26749830413843,
          100.62761612015495,
          100,
          100,
          93.97116603869567,
          98.57881576317727,
          100.78124927240424,
          97.52380734398251,
          100,
          100,
          100,
          101.02629792075754,
          96.05668880037287,
          104.77727425469642,
          99.93548239431074,
          96.875,
          100,
          100,
          101.7164683129119,
          99.6200100078426,
          98.19651764161085,
          100.87829577796883,
          98.21318564366965,
          100,
          100,
          94.36045826932073,
          99.82589216428394,
          103.11191194646368,
          101.58053683571222,
          101.92070250938075,
          100,
          100,
          100.87499618530273,
          100.43942054917272,
          101.40038361867984,
          100.38338927207164,
          99.30202659420033
         ],
         "yaxis": "y"
        },
        {
         "hoverlabel": {
          "namelength": 0
         },
         "hovertemplate": "company=GSK<br>date=%{x}<br>close_diff=%{y}",
         "legendgroup": "company=GSK",
         "line": {
          "color": "#00cc96",
          "dash": "solid"
         },
         "mode": "lines",
         "name": "company=GSK",
         "showlegend": true,
         "type": "scattergl",
         "x": [
          "2019-10-31T00:00:00",
          "2019-11-01T00:00:00",
          "2019-11-02T00:00:00",
          "2019-11-03T00:00:00",
          "2019-11-04T00:00:00",
          "2019-11-05T00:00:00",
          "2019-11-06T00:00:00",
          "2019-11-07T00:00:00",
          "2019-11-08T00:00:00",
          "2019-11-09T00:00:00",
          "2019-11-10T00:00:00",
          "2019-11-11T00:00:00",
          "2019-11-12T00:00:00",
          "2019-11-13T00:00:00",
          "2019-11-14T00:00:00",
          "2019-11-15T00:00:00",
          "2019-11-16T00:00:00",
          "2019-11-17T00:00:00",
          "2019-11-18T00:00:00",
          "2019-11-19T00:00:00",
          "2019-11-20T00:00:00",
          "2019-11-21T00:00:00",
          "2019-11-22T00:00:00",
          "2019-11-23T00:00:00",
          "2019-11-24T00:00:00",
          "2019-11-25T00:00:00",
          "2019-11-26T00:00:00",
          "2019-11-27T00:00:00",
          "2019-11-28T00:00:00",
          "2019-11-29T00:00:00",
          "2019-11-30T00:00:00",
          "2019-12-01T00:00:00",
          "2019-12-02T00:00:00",
          "2019-12-03T00:00:00",
          "2019-12-04T00:00:00",
          "2019-12-05T00:00:00",
          "2019-12-06T00:00:00",
          "2019-12-07T00:00:00",
          "2019-12-08T00:00:00",
          "2019-12-09T00:00:00",
          "2019-12-10T00:00:00",
          "2019-12-11T00:00:00",
          "2019-12-12T00:00:00",
          "2019-12-13T00:00:00",
          "2019-12-14T00:00:00",
          "2019-12-15T00:00:00",
          "2019-12-16T00:00:00",
          "2019-12-17T00:00:00",
          "2019-12-18T00:00:00",
          "2019-12-19T00:00:00",
          "2019-12-20T00:00:00",
          "2019-12-21T00:00:00",
          "2019-12-22T00:00:00",
          "2019-12-23T00:00:00",
          "2019-12-24T00:00:00",
          "2019-12-25T00:00:00",
          "2019-12-26T00:00:00",
          "2019-12-27T00:00:00",
          "2019-12-28T00:00:00",
          "2019-12-29T00:00:00",
          "2019-12-30T00:00:00",
          "2019-12-31T00:00:00",
          "2020-01-01T00:00:00",
          "2020-01-02T00:00:00",
          "2020-01-03T00:00:00",
          "2020-01-04T00:00:00",
          "2020-01-05T00:00:00",
          "2020-01-06T00:00:00",
          "2020-01-07T00:00:00",
          "2020-01-08T00:00:00",
          "2020-01-09T00:00:00",
          "2020-01-10T00:00:00",
          "2020-01-11T00:00:00",
          "2020-01-12T00:00:00",
          "2020-01-13T00:00:00",
          "2020-01-14T00:00:00",
          "2020-01-15T00:00:00",
          "2020-01-16T00:00:00",
          "2020-01-17T00:00:00",
          "2020-01-18T00:00:00",
          "2020-01-19T00:00:00",
          "2020-01-20T00:00:00",
          "2020-01-21T00:00:00",
          "2020-01-22T00:00:00",
          "2020-01-23T00:00:00",
          "2020-01-24T00:00:00",
          "2020-01-25T00:00:00",
          "2020-01-26T00:00:00",
          "2020-01-27T00:00:00",
          "2020-01-28T00:00:00",
          "2020-01-29T00:00:00",
          "2020-01-30T00:00:00",
          "2020-01-31T00:00:00",
          "2020-02-01T00:00:00",
          "2020-02-02T00:00:00",
          "2020-02-03T00:00:00",
          "2020-02-04T00:00:00",
          "2020-02-05T00:00:00",
          "2020-02-06T00:00:00",
          "2020-02-07T00:00:00",
          "2020-02-08T00:00:00",
          "2020-02-09T00:00:00",
          "2020-02-10T00:00:00",
          "2020-02-11T00:00:00",
          "2020-02-12T00:00:00",
          "2020-02-13T00:00:00",
          "2020-02-14T00:00:00",
          "2020-02-15T00:00:00",
          "2020-02-16T00:00:00",
          "2020-02-17T00:00:00",
          "2020-02-18T00:00:00",
          "2020-02-19T00:00:00",
          "2020-02-20T00:00:00",
          "2020-02-21T00:00:00",
          "2020-02-22T00:00:00",
          "2020-02-23T00:00:00",
          "2020-02-24T00:00:00",
          "2020-02-25T00:00:00",
          "2020-02-26T00:00:00",
          "2020-02-27T00:00:00",
          "2020-02-28T00:00:00",
          "2020-02-29T00:00:00",
          "2020-03-01T00:00:00",
          "2020-03-02T00:00:00",
          "2020-03-03T00:00:00",
          "2020-03-04T00:00:00",
          "2020-03-05T00:00:00",
          "2020-03-06T00:00:00",
          "2020-03-07T00:00:00",
          "2020-03-08T00:00:00",
          "2020-03-09T00:00:00",
          "2020-03-10T00:00:00",
          "2020-03-11T00:00:00",
          "2020-03-12T00:00:00",
          "2020-03-13T00:00:00",
          "2020-03-14T00:00:00",
          "2020-03-15T00:00:00",
          "2020-03-16T00:00:00",
          "2020-03-17T00:00:00",
          "2020-03-18T00:00:00",
          "2020-03-19T00:00:00",
          "2020-03-20T00:00:00",
          "2020-03-21T00:00:00",
          "2020-03-22T00:00:00",
          "2020-03-23T00:00:00",
          "2020-03-24T00:00:00",
          "2020-03-25T00:00:00",
          "2020-03-26T00:00:00",
          "2020-03-27T00:00:00",
          "2020-03-28T00:00:00",
          "2020-03-29T00:00:00",
          "2020-03-30T00:00:00",
          "2020-03-31T00:00:00",
          "2020-04-01T00:00:00",
          "2020-04-02T00:00:00",
          "2020-04-03T00:00:00",
          "2020-04-04T00:00:00",
          "2020-04-05T00:00:00",
          "2020-04-06T00:00:00",
          "2020-04-07T00:00:00",
          "2020-04-08T00:00:00",
          "2020-04-09T00:00:00",
          "2020-04-10T00:00:00",
          "2020-04-11T00:00:00",
          "2020-04-12T00:00:00",
          "2020-04-13T00:00:00",
          "2020-04-14T00:00:00",
          "2020-04-15T00:00:00",
          "2020-04-16T00:00:00",
          "2020-04-17T00:00:00",
          "2020-04-18T00:00:00",
          "2020-04-19T00:00:00",
          "2020-04-20T00:00:00",
          "2020-04-21T00:00:00",
          "2020-04-22T00:00:00",
          "2020-04-23T00:00:00",
          "2020-04-24T00:00:00",
          "2020-04-25T00:00:00",
          "2020-04-26T00:00:00",
          "2020-04-27T00:00:00",
          "2020-04-28T00:00:00",
          "2020-04-29T00:00:00",
          "2020-04-30T00:00:00",
          "2020-05-01T00:00:00",
          "2020-05-02T00:00:00",
          "2020-05-03T00:00:00",
          "2020-05-04T00:00:00",
          "2020-05-05T00:00:00",
          "2020-05-06T00:00:00",
          "2020-05-07T00:00:00",
          "2020-05-08T00:00:00"
         ],
         "xaxis": "x",
         "y": [
          null,
          101.1707505498953,
          100,
          100,
          100.53298175654655,
          101.71673438824176,
          99.79711417639862,
          100.33929321190959,
          99.52724202357246,
          100,
          100,
          100.36149989489327,
          99.41598801986282,
          99.6865217417672,
          101.84720958147592,
          99.455655074538,
          100,
          100,
          99.45860214628128,
          99.61798164281952,
          101.32058710208416,
          99.75016894526172,
          100.04544525909216,
          100,
          100,
          98.94334256847995,
          99.26355317799346,
          98.59186055246384,
          100,
          99.93403962269389,
          100,
          100,
          101.2241247124968,
          100.62709690868563,
          99.06812031997076,
          99.6903353406691,
          99.34080587096264,
          100,
          100,
          99.73700910854049,
          98.87323848197042,
          99.69756019252641,
          100.78380276063486,
          99.89125872649342,
          100,
          100,
          98.08020156703661,
          100.51458336536783,
          99.48805103882555,
          99.723468925634,
          99.3448829769859,
          100,
          100,
          101.00320434580749,
          99.89338368842012,
          100,
          99.97868616165907,
          99.19644520880001,
          100,
          100,
          100.4460473158566,
          100.19153043067273,
          100,
          100.14919759644793,
          100.94664077246635,
          100,
          100,
          99.95698826287382,
          100.62757178375446,
          99.56905674725917,
          99.48552696545218,
          99.70079207756119,
          100,
          100,
          99.65921225812117,
          99.80867314873248,
          98.80277318311926,
          100.95420009413793,
          98.47567435468767,
          100,
          100,
          100,
          100.82105134662828,
          99.39317658511884,
          99.93726729508924,
          101.24920634830892,
          100,
          100,
          101.61359726201906,
          99.31623995717757,
          99.1735549883494,
          100.44699677845645,
          100.38461604297044,
          100,
          100,
          100.14979605287809,
          99.17232725278238,
          104.54847848001201,
          102.10693320805501,
          100.43230631037714,
          100,
          100,
          98.52051145845768,
          100.42774076820895,
          100.42956958778069,
          101.02786837708237,
          100.09144284246743,
          100,
          100,
          100,
          100.43628575140033,
          100.13795713101446,
          101.70721091110515,
          99.25718779962817,
          100,
          100,
          102.76718442933692,
          101.06074887069603,
          98.99760866742888,
          100.74537478276908,
          102.6153501239,
          100,
          100,
          95.2526427873487,
          103.02663443847794,
          95.2710511898072,
          101.78445249779371,
          100.49551458041527,
          100,
          100,
          104.0766203282138,
          99.26865130738008,
          102.88437812061045,
          109.20296018849685,
          96.45970883326699,
          100,
          100,
          112.41461399612164,
          91.37041943866285,
          107.4970822238662,
          101.84194573587449,
          100.95980711865529,
          100,
          100,
          104.67817818923808,
          93.67647171020509,
          95.99097051848437,
          95.0872434065646,
          102.22283590509613,
          100,
          100,
          96.9148938976407,
          99.234624121935,
          101.8001024905196,
          98.72679169092173,
          101.5078120153311,
          100,
          100,
          97.96887243243755,
          101.01252619364554,
          98.55566432428773,
          97.94238885009547,
          100,
          100,
          100,
          99.84592305929719,
          96.43387220575558,
          101.40633193767653,
          95.26315890340776,
          99.3582114102157,
          100,
          100,
          100.83892249252237,
          101.26213701003479,
          98.30589575982425,
          99.28926973805383,
          99.31764490464154,
          100,
          100,
          99.69504793605914,
          101.28296724535444,
          100.5734807340918,
          99.47705913406462,
          102.08687364585649,
          100,
          100,
          97.76986380218963,
          100.38104272687886,
          99.05638660782968,
          101.65467293545522,
          99.49892845326359
         ],
         "yaxis": "y"
        },
        {
         "hoverlabel": {
          "namelength": 0
         },
         "hovertemplate": "company=Merck<br>date=%{x}<br>close_diff=%{y}",
         "legendgroup": "company=Merck",
         "line": {
          "color": "#ab63fa",
          "dash": "solid"
         },
         "mode": "lines",
         "name": "company=Merck",
         "showlegend": true,
         "type": "scattergl",
         "x": [
          "2019-10-31T00:00:00",
          "2019-11-01T00:00:00",
          "2019-11-02T00:00:00",
          "2019-11-03T00:00:00",
          "2019-11-04T00:00:00",
          "2019-11-05T00:00:00",
          "2019-11-06T00:00:00",
          "2019-11-07T00:00:00",
          "2019-11-08T00:00:00",
          "2019-11-09T00:00:00",
          "2019-11-10T00:00:00",
          "2019-11-11T00:00:00",
          "2019-11-12T00:00:00",
          "2019-11-13T00:00:00",
          "2019-11-14T00:00:00",
          "2019-11-15T00:00:00",
          "2019-11-16T00:00:00",
          "2019-11-17T00:00:00",
          "2019-11-18T00:00:00",
          "2019-11-19T00:00:00",
          "2019-11-20T00:00:00",
          "2019-11-21T00:00:00",
          "2019-11-22T00:00:00",
          "2019-11-23T00:00:00",
          "2019-11-24T00:00:00",
          "2019-11-25T00:00:00",
          "2019-11-26T00:00:00",
          "2019-11-27T00:00:00",
          "2019-11-28T00:00:00",
          "2019-11-29T00:00:00",
          "2019-11-30T00:00:00",
          "2019-12-01T00:00:00",
          "2019-12-02T00:00:00",
          "2019-12-03T00:00:00",
          "2019-12-04T00:00:00",
          "2019-12-05T00:00:00",
          "2019-12-06T00:00:00",
          "2019-12-07T00:00:00",
          "2019-12-08T00:00:00",
          "2019-12-09T00:00:00",
          "2019-12-10T00:00:00",
          "2019-12-11T00:00:00",
          "2019-12-12T00:00:00",
          "2019-12-13T00:00:00",
          "2019-12-14T00:00:00",
          "2019-12-15T00:00:00",
          "2019-12-16T00:00:00",
          "2019-12-17T00:00:00",
          "2019-12-18T00:00:00",
          "2019-12-19T00:00:00",
          "2019-12-20T00:00:00",
          "2019-12-21T00:00:00",
          "2019-12-22T00:00:00",
          "2019-12-23T00:00:00",
          "2019-12-24T00:00:00",
          "2019-12-25T00:00:00",
          "2019-12-26T00:00:00",
          "2019-12-27T00:00:00",
          "2019-12-28T00:00:00",
          "2019-12-29T00:00:00",
          "2019-12-30T00:00:00",
          "2019-12-31T00:00:00",
          "2020-01-01T00:00:00",
          "2020-01-02T00:00:00",
          "2020-01-03T00:00:00",
          "2020-01-04T00:00:00",
          "2020-01-05T00:00:00",
          "2020-01-06T00:00:00",
          "2020-01-07T00:00:00",
          "2020-01-08T00:00:00",
          "2020-01-09T00:00:00",
          "2020-01-10T00:00:00",
          "2020-01-11T00:00:00",
          "2020-01-12T00:00:00",
          "2020-01-13T00:00:00",
          "2020-01-14T00:00:00",
          "2020-01-15T00:00:00",
          "2020-01-16T00:00:00",
          "2020-01-17T00:00:00",
          "2020-01-18T00:00:00",
          "2020-01-19T00:00:00",
          "2020-01-20T00:00:00",
          "2020-01-21T00:00:00",
          "2020-01-22T00:00:00",
          "2020-01-23T00:00:00",
          "2020-01-24T00:00:00",
          "2020-01-25T00:00:00",
          "2020-01-26T00:00:00",
          "2020-01-27T00:00:00",
          "2020-01-28T00:00:00",
          "2020-01-29T00:00:00",
          "2020-01-30T00:00:00",
          "2020-01-31T00:00:00",
          "2020-02-01T00:00:00",
          "2020-02-02T00:00:00",
          "2020-02-03T00:00:00",
          "2020-02-04T00:00:00",
          "2020-02-05T00:00:00",
          "2020-02-06T00:00:00",
          "2020-02-07T00:00:00",
          "2020-02-08T00:00:00",
          "2020-02-09T00:00:00",
          "2020-02-10T00:00:00",
          "2020-02-11T00:00:00",
          "2020-02-12T00:00:00",
          "2020-02-13T00:00:00",
          "2020-02-14T00:00:00",
          "2020-02-15T00:00:00",
          "2020-02-16T00:00:00",
          "2020-02-17T00:00:00",
          "2020-02-18T00:00:00",
          "2020-02-19T00:00:00",
          "2020-02-20T00:00:00",
          "2020-02-21T00:00:00",
          "2020-02-22T00:00:00",
          "2020-02-23T00:00:00",
          "2020-02-24T00:00:00",
          "2020-02-25T00:00:00",
          "2020-02-26T00:00:00",
          "2020-02-27T00:00:00",
          "2020-02-28T00:00:00",
          "2020-02-29T00:00:00",
          "2020-03-01T00:00:00",
          "2020-03-02T00:00:00",
          "2020-03-03T00:00:00",
          "2020-03-04T00:00:00",
          "2020-03-05T00:00:00",
          "2020-03-06T00:00:00",
          "2020-03-07T00:00:00",
          "2020-03-08T00:00:00",
          "2020-03-09T00:00:00",
          "2020-03-10T00:00:00",
          "2020-03-11T00:00:00",
          "2020-03-12T00:00:00",
          "2020-03-13T00:00:00",
          "2020-03-14T00:00:00",
          "2020-03-15T00:00:00",
          "2020-03-16T00:00:00",
          "2020-03-17T00:00:00",
          "2020-03-18T00:00:00",
          "2020-03-19T00:00:00",
          "2020-03-20T00:00:00",
          "2020-03-21T00:00:00",
          "2020-03-22T00:00:00",
          "2020-03-23T00:00:00",
          "2020-03-24T00:00:00",
          "2020-03-25T00:00:00",
          "2020-03-26T00:00:00",
          "2020-03-27T00:00:00",
          "2020-03-28T00:00:00",
          "2020-03-29T00:00:00",
          "2020-03-30T00:00:00",
          "2020-03-31T00:00:00",
          "2020-04-01T00:00:00",
          "2020-04-02T00:00:00",
          "2020-04-03T00:00:00",
          "2020-04-04T00:00:00",
          "2020-04-05T00:00:00",
          "2020-04-06T00:00:00",
          "2020-04-07T00:00:00",
          "2020-04-08T00:00:00",
          "2020-04-09T00:00:00",
          "2020-04-10T00:00:00",
          "2020-04-11T00:00:00",
          "2020-04-12T00:00:00",
          "2020-04-13T00:00:00",
          "2020-04-14T00:00:00",
          "2020-04-15T00:00:00",
          "2020-04-16T00:00:00",
          "2020-04-17T00:00:00",
          "2020-04-18T00:00:00",
          "2020-04-19T00:00:00",
          "2020-04-20T00:00:00",
          "2020-04-21T00:00:00",
          "2020-04-22T00:00:00",
          "2020-04-23T00:00:00",
          "2020-04-24T00:00:00",
          "2020-04-25T00:00:00",
          "2020-04-26T00:00:00",
          "2020-04-27T00:00:00",
          "2020-04-28T00:00:00",
          "2020-04-29T00:00:00",
          "2020-04-30T00:00:00",
          "2020-05-01T00:00:00",
          "2020-05-02T00:00:00",
          "2020-05-03T00:00:00",
          "2020-05-04T00:00:00",
          "2020-05-05T00:00:00",
          "2020-05-06T00:00:00",
          "2020-05-07T00:00:00",
          "2020-05-08T00:00:00"
         ],
         "xaxis": "x",
         "y": [
          null,
          102.02496017337606,
          100,
          100,
          101.23957198642786,
          101.18186611019561,
          99.60360140413852,
          100.4464319001492,
          99.15061716045223,
          100,
          100,
          100.37223530636123,
          99.00142184990682,
          99.17472653765536,
          100.31933368813853,
          99.58775209913935,
          100,
          100,
          100.91525531629524,
          99.38570081147374,
          99.27290355154726,
          99.77767090634012,
          100.01170525054147,
          100,
          100,
          99.7082847037311,
          98.12228136201907,
          99.69181112820465,
          100,
          100.49323274107658,
          100,
          100,
          100.16084488531234,
          99.61089912041932,
          98.54516641235351,
          99.90985709176937,
          99.88745247513964,
          100,
          100,
          100.1465253061647,
          99.57351598212615,
          100.13485627406212,
          99.34130139566729,
          100.42605364168212,
          100,
          100,
          99.88800708579262,
          100.30330743949985,
          99.33049979343087,
          99.58884862099052,
          98.2638087622903,
          100,
          100,
          99.82559839062519,
          100.32807897457737,
          100,
          100.10948774635995,
          99.82513260971653,
          100,
          100,
          100.51631465122024,
          100.08796243401767,
          100,
          98.8157279916962,
          100.86575442797516,
          100,
          100,
          99.57442231313188,
          102.73542883955709,
          100.67719919238638,
          99.12732288737338,
          99.83245668722873,
          100,
          100,
          100.02234012131512,
          99.53297212551978,
          98.24120538098174,
          100.39482409426041,
          100.23084432412304,
          100,
          100,
          100,
          101.11148158989897,
          100.35694332334377,
          101.23080848840809,
          103.0006909757257,
          100,
          100,
          99.86063284632512,
          99.82608518738677,
          98.8652018706884,
          100.85548885984916,
          101.24063381121822,
          100,
          100,
          97.82460043948949,
          98.84562668015482,
          102.94768580370865,
          100.17507180829206,
          100.70521680913045,
          100,
          100,
          99.32290239755004,
          100.48094271215176,
          102.40240240240239,
          101.56154539494334,
          99.1772531244747,
          100,
          100,
          100,
          100.23041770981784,
          100.56097449325934,
          99.40599117898057,
          100.18217334533676,
          100,
          100,
          101.24184739222555,
          101.32054968521022,
          100.4128023412334,
          102.38217285698346,
          101.98537659473882,
          100,
          100,
          94.08872431408352,
          102.83079182473662,
          95.37181642667377,
          101.70384819618785,
          99.24574800461625,
          100,
          100,
          104.10334080716406,
          96.26920545740789,
          103.49526390292291,
          106.44728441707632,
          97.00325335275855,
          100,
          100,
          109.76830951075196,
          93.87754433074448,
          103.97878851430451,
          101.27243581757324,
          99.11715632282859,
          100,
          100,
          107.4698779676075,
          96.1621992632027,
          101.2166546704822,
          92.77846097273587,
          102.50940378938279,
          100,
          100,
          93.21638232835845,
          100.0129900006743,
          104.25474154444991,
          96.00624484827311,
          100.81311835617315,
          100,
          100,
          94.94459260114957,
          102.22759681057114,
          96.25091266231742,
          98.94533259823297,
          100,
          100,
          100,
          102.4211533723316,
          97.22356889903521,
          100.93821938093046,
          98.8795177046075,
          99.44883885751416,
          100,
          100,
          100.43321373882297,
          105.77902374823928,
          98.22454896381704,
          98.88724786467974,
          99.32456950792513,
          100,
          100,
          96.9635592405019,
          103.44912914662714,
          100.50761876829245,
          101.80237001661274,
          102.15012000555579,
          100,
          100,
          101.05386098381668,
          98.52582810615665,
          101.15404481062195,
          102.01058770256624,
          98.95287560761786
         ],
         "yaxis": "y"
        },
        {
         "hoverlabel": {
          "namelength": 0
         },
         "hovertemplate": "company=Novartis<br>date=%{x}<br>close_diff=%{y}",
         "legendgroup": "company=Novartis",
         "line": {
          "color": "#FFA15A",
          "dash": "solid"
         },
         "mode": "lines",
         "name": "company=Novartis",
         "showlegend": true,
         "type": "scattergl",
         "x": [
          "2019-10-31T00:00:00",
          "2019-11-01T00:00:00",
          "2019-11-02T00:00:00",
          "2019-11-03T00:00:00",
          "2019-11-04T00:00:00",
          "2019-11-05T00:00:00",
          "2019-11-06T00:00:00",
          "2019-11-07T00:00:00",
          "2019-11-08T00:00:00",
          "2019-11-09T00:00:00",
          "2019-11-10T00:00:00",
          "2019-11-11T00:00:00",
          "2019-11-12T00:00:00",
          "2019-11-13T00:00:00",
          "2019-11-14T00:00:00",
          "2019-11-15T00:00:00",
          "2019-11-16T00:00:00",
          "2019-11-17T00:00:00",
          "2019-11-18T00:00:00",
          "2019-11-19T00:00:00",
          "2019-11-20T00:00:00",
          "2019-11-21T00:00:00",
          "2019-11-22T00:00:00",
          "2019-11-23T00:00:00",
          "2019-11-24T00:00:00",
          "2019-11-25T00:00:00",
          "2019-11-26T00:00:00",
          "2019-11-27T00:00:00",
          "2019-11-28T00:00:00",
          "2019-11-29T00:00:00",
          "2019-11-30T00:00:00",
          "2019-12-01T00:00:00",
          "2019-12-02T00:00:00",
          "2019-12-03T00:00:00",
          "2019-12-04T00:00:00",
          "2019-12-05T00:00:00",
          "2019-12-06T00:00:00",
          "2019-12-07T00:00:00",
          "2019-12-08T00:00:00",
          "2019-12-09T00:00:00",
          "2019-12-10T00:00:00",
          "2019-12-11T00:00:00",
          "2019-12-12T00:00:00",
          "2019-12-13T00:00:00",
          "2019-12-14T00:00:00",
          "2019-12-15T00:00:00",
          "2019-12-16T00:00:00",
          "2019-12-17T00:00:00",
          "2019-12-18T00:00:00",
          "2019-12-19T00:00:00",
          "2019-12-20T00:00:00",
          "2019-12-21T00:00:00",
          "2019-12-22T00:00:00",
          "2019-12-23T00:00:00",
          "2019-12-24T00:00:00",
          "2019-12-25T00:00:00",
          "2019-12-26T00:00:00",
          "2019-12-27T00:00:00",
          "2019-12-28T00:00:00",
          "2019-12-29T00:00:00",
          "2019-12-30T00:00:00",
          "2019-12-31T00:00:00",
          "2020-01-01T00:00:00",
          "2020-01-02T00:00:00",
          "2020-01-03T00:00:00",
          "2020-01-04T00:00:00",
          "2020-01-05T00:00:00",
          "2020-01-06T00:00:00",
          "2020-01-07T00:00:00",
          "2020-01-08T00:00:00",
          "2020-01-09T00:00:00",
          "2020-01-10T00:00:00",
          "2020-01-11T00:00:00",
          "2020-01-12T00:00:00",
          "2020-01-13T00:00:00",
          "2020-01-14T00:00:00",
          "2020-01-15T00:00:00",
          "2020-01-16T00:00:00",
          "2020-01-17T00:00:00",
          "2020-01-18T00:00:00",
          "2020-01-19T00:00:00",
          "2020-01-20T00:00:00",
          "2020-01-21T00:00:00",
          "2020-01-22T00:00:00",
          "2020-01-23T00:00:00",
          "2020-01-24T00:00:00",
          "2020-01-25T00:00:00",
          "2020-01-26T00:00:00",
          "2020-01-27T00:00:00",
          "2020-01-28T00:00:00",
          "2020-01-29T00:00:00",
          "2020-01-30T00:00:00",
          "2020-01-31T00:00:00",
          "2020-02-01T00:00:00",
          "2020-02-02T00:00:00",
          "2020-02-03T00:00:00",
          "2020-02-04T00:00:00",
          "2020-02-05T00:00:00",
          "2020-02-06T00:00:00",
          "2020-02-07T00:00:00",
          "2020-02-08T00:00:00",
          "2020-02-09T00:00:00",
          "2020-02-10T00:00:00",
          "2020-02-11T00:00:00",
          "2020-02-12T00:00:00",
          "2020-02-13T00:00:00",
          "2020-02-14T00:00:00",
          "2020-02-15T00:00:00",
          "2020-02-16T00:00:00",
          "2020-02-17T00:00:00",
          "2020-02-18T00:00:00",
          "2020-02-19T00:00:00",
          "2020-02-20T00:00:00",
          "2020-02-21T00:00:00",
          "2020-02-22T00:00:00",
          "2020-02-23T00:00:00",
          "2020-02-24T00:00:00",
          "2020-02-25T00:00:00",
          "2020-02-26T00:00:00",
          "2020-02-27T00:00:00",
          "2020-02-28T00:00:00",
          "2020-02-29T00:00:00",
          "2020-03-01T00:00:00",
          "2020-03-02T00:00:00",
          "2020-03-03T00:00:00",
          "2020-03-04T00:00:00",
          "2020-03-05T00:00:00",
          "2020-03-06T00:00:00",
          "2020-03-07T00:00:00",
          "2020-03-08T00:00:00",
          "2020-03-09T00:00:00",
          "2020-03-10T00:00:00",
          "2020-03-11T00:00:00",
          "2020-03-12T00:00:00",
          "2020-03-13T00:00:00",
          "2020-03-14T00:00:00",
          "2020-03-15T00:00:00",
          "2020-03-16T00:00:00",
          "2020-03-17T00:00:00",
          "2020-03-18T00:00:00",
          "2020-03-19T00:00:00",
          "2020-03-20T00:00:00",
          "2020-03-21T00:00:00",
          "2020-03-22T00:00:00",
          "2020-03-23T00:00:00",
          "2020-03-24T00:00:00",
          "2020-03-25T00:00:00",
          "2020-03-26T00:00:00",
          "2020-03-27T00:00:00",
          "2020-03-28T00:00:00",
          "2020-03-29T00:00:00",
          "2020-03-30T00:00:00",
          "2020-03-31T00:00:00",
          "2020-04-01T00:00:00",
          "2020-04-02T00:00:00",
          "2020-04-03T00:00:00",
          "2020-04-04T00:00:00",
          "2020-04-05T00:00:00",
          "2020-04-06T00:00:00",
          "2020-04-07T00:00:00",
          "2020-04-08T00:00:00",
          "2020-04-09T00:00:00",
          "2020-04-10T00:00:00",
          "2020-04-11T00:00:00",
          "2020-04-12T00:00:00",
          "2020-04-13T00:00:00",
          "2020-04-14T00:00:00",
          "2020-04-15T00:00:00",
          "2020-04-16T00:00:00",
          "2020-04-17T00:00:00",
          "2020-04-18T00:00:00",
          "2020-04-19T00:00:00",
          "2020-04-20T00:00:00",
          "2020-04-21T00:00:00",
          "2020-04-22T00:00:00",
          "2020-04-23T00:00:00",
          "2020-04-24T00:00:00",
          "2020-04-25T00:00:00",
          "2020-04-26T00:00:00",
          "2020-04-27T00:00:00",
          "2020-04-28T00:00:00",
          "2020-04-29T00:00:00",
          "2020-04-30T00:00:00",
          "2020-05-01T00:00:00",
          "2020-05-02T00:00:00",
          "2020-05-03T00:00:00",
          "2020-05-04T00:00:00",
          "2020-05-05T00:00:00",
          "2020-05-06T00:00:00",
          "2020-05-07T00:00:00",
          "2020-05-08T00:00:00"
         ],
         "xaxis": "x",
         "y": [
          null,
          99.78318519004141,
          100,
          100,
          99.65881604604049,
          101.1969167025351,
          99.34827383856512,
          100.5402934041212,
          98.43837859010831,
          100,
          100,
          99.70665179409569,
          99.26083138611034,
          99.36568029050451,
          100.3910160493443,
          99.41137408495354,
          100,
          100,
          99.67895393595836,
          99.92256671057226,
          99.85640422493003,
          100,
          100.05525576979264,
          100,
          100,
          99.10186235770513,
          99.10985706646142,
          99.92407018877272,
          100,
          99.88082274462128,
          100,
          100,
          100.9515506329193,
          100.45045449047554,
          99.41022178907139,
          99.91269987823274,
          99.53296371608444,
          100,
          100,
          99.50286491890068,
          99.70904712976105,
          99.74204873021503,
          99.97851209586179,
          100.07527658504391,
          100,
          100,
          99.91404122561832,
          99.42313757931154,
          100.38605963576575,
          98.91800500754401,
          99.97878431194538,
          100,
          100,
          99.38863516995566,
          100.05273470989111,
          100,
          100.01054966405233,
          99.41280783070088,
          100,
          100,
          100.86726564606812,
          99.85214976656583,
          100,
          99.72617744582163,
          100.16878998962922,
          100,
          100,
          99.32935199874066,
          101.0055005445472,
          100,
          99.69400306383356,
          100.96952485275659,
          100,
          100,
          100.16006992566898,
          99.29010575498715,
          99.76744056633011,
          99.4742376361488,
          99.13478387531089,
          100,
          100,
          100,
          100.77739031914096,
          99.97899732879036,
          100.3055214086827,
          101.11856332336318,
          100,
          100,
          100.18143629015673,
          98.07410095284382,
          99.79110408115243,
          99.81234329794422,
          101.49190138699014,
          100,
          100,
          100.27586433552307,
          99.10620558595235,
          98.6821581028688,
          99.39150542134742,
          101.17916856081264,
          100,
          100,
          98.3678953317847,
          99.17539940923649,
          99.21220203770558,
          101.26828836630834,
          100.14339792439515,
          100,
          100,
          100,
          100.44238715913202,
          99.97942370684042,
          100.96583268909889,
          99.51426084091915,
          100,
          100,
          107.41563073866733,
          102.42183622139976,
          100.96429380324308,
          101.2671518365759,
          102.45354642812845,
          100,
          100,
          96.65016280637349,
          103.88662986516447,
          95.40216918523726,
          102.14427691368799,
          100.10498872679541,
          100,
          100,
          105.22956320170458,
          95.891703367693,
          103.42098560929362,
          110.8950988633366,
          93.04107414514077,
          100,
          100,
          108.84605041659165,
          95.04873591982542,
          102.65474638216978,
          99.20593105676609,
          104.33581810140795,
          100,
          100,
          102.47629835197733,
          96.07123506584347,
          95.66913531345014,
          96.42588594121845,
          100.58022085211331,
          100,
          100,
          96.80097350699785,
          99.33293457523287,
          101.87816216154049,
          96.8062222276573,
          99.9521748973945,
          100,
          100,
          97.56210908031404,
          102.07168179237999,
          98.09623355463211,
          100.90748884656232,
          100,
          100,
          100,
          100.77197333662431,
          97.65715119013952,
          100.71253429038967,
          97.7952932545224,
          98.0400940955801,
          100,
          100,
          99.45422380214765,
          101.71066295871336,
          99.96601765837559,
          100.22701995584652,
          98.93317850075249,
          100,
          100,
          99.39726162718412,
          101.76055816247715,
          102.71847142217132,
          101.15661004214851,
          101.5825436241095,
          100,
          100,
          99.29762340727306,
          99.11504424778761,
          99.29701407750696,
          100.80311836527851,
          99.69386302214033
         ],
         "yaxis": "y"
        },
        {
         "hoverlabel": {
          "namelength": 0
         },
         "hovertemplate": "company=Pfizer<br>date=%{x}<br>close_diff=%{y}",
         "legendgroup": "company=Pfizer",
         "line": {
          "color": "#19d3f3",
          "dash": "solid"
         },
         "mode": "lines",
         "name": "company=Pfizer",
         "showlegend": true,
         "type": "scattergl",
         "x": [
          "2019-10-31T00:00:00",
          "2019-11-01T00:00:00",
          "2019-11-02T00:00:00",
          "2019-11-03T00:00:00",
          "2019-11-04T00:00:00",
          "2019-11-05T00:00:00",
          "2019-11-06T00:00:00",
          "2019-11-07T00:00:00",
          "2019-11-08T00:00:00",
          "2019-11-09T00:00:00",
          "2019-11-10T00:00:00",
          "2019-11-11T00:00:00",
          "2019-11-12T00:00:00",
          "2019-11-13T00:00:00",
          "2019-11-14T00:00:00",
          "2019-11-15T00:00:00",
          "2019-11-16T00:00:00",
          "2019-11-17T00:00:00",
          "2019-11-18T00:00:00",
          "2019-11-19T00:00:00",
          "2019-11-20T00:00:00",
          "2019-11-21T00:00:00",
          "2019-11-22T00:00:00",
          "2019-11-23T00:00:00",
          "2019-11-24T00:00:00",
          "2019-11-25T00:00:00",
          "2019-11-26T00:00:00",
          "2019-11-27T00:00:00",
          "2019-11-28T00:00:00",
          "2019-11-29T00:00:00",
          "2019-11-30T00:00:00",
          "2019-12-01T00:00:00",
          "2019-12-02T00:00:00",
          "2019-12-03T00:00:00",
          "2019-12-04T00:00:00",
          "2019-12-05T00:00:00",
          "2019-12-06T00:00:00",
          "2019-12-07T00:00:00",
          "2019-12-08T00:00:00",
          "2019-12-09T00:00:00",
          "2019-12-10T00:00:00",
          "2019-12-11T00:00:00",
          "2019-12-12T00:00:00",
          "2019-12-13T00:00:00",
          "2019-12-14T00:00:00",
          "2019-12-15T00:00:00",
          "2019-12-16T00:00:00",
          "2019-12-17T00:00:00",
          "2019-12-18T00:00:00",
          "2019-12-19T00:00:00",
          "2019-12-20T00:00:00",
          "2019-12-21T00:00:00",
          "2019-12-22T00:00:00",
          "2019-12-23T00:00:00",
          "2019-12-24T00:00:00",
          "2019-12-25T00:00:00",
          "2019-12-26T00:00:00",
          "2019-12-27T00:00:00",
          "2019-12-28T00:00:00",
          "2019-12-29T00:00:00",
          "2019-12-30T00:00:00",
          "2019-12-31T00:00:00",
          "2020-01-01T00:00:00",
          "2020-01-02T00:00:00",
          "2020-01-03T00:00:00",
          "2020-01-04T00:00:00",
          "2020-01-05T00:00:00",
          "2020-01-06T00:00:00",
          "2020-01-07T00:00:00",
          "2020-01-08T00:00:00",
          "2020-01-09T00:00:00",
          "2020-01-10T00:00:00",
          "2020-01-11T00:00:00",
          "2020-01-12T00:00:00",
          "2020-01-13T00:00:00",
          "2020-01-14T00:00:00",
          "2020-01-15T00:00:00",
          "2020-01-16T00:00:00",
          "2020-01-17T00:00:00",
          "2020-01-18T00:00:00",
          "2020-01-19T00:00:00",
          "2020-01-20T00:00:00",
          "2020-01-21T00:00:00",
          "2020-01-22T00:00:00",
          "2020-01-23T00:00:00",
          "2020-01-24T00:00:00",
          "2020-01-25T00:00:00",
          "2020-01-26T00:00:00",
          "2020-01-27T00:00:00",
          "2020-01-28T00:00:00",
          "2020-01-29T00:00:00",
          "2020-01-30T00:00:00",
          "2020-01-31T00:00:00",
          "2020-02-01T00:00:00",
          "2020-02-02T00:00:00",
          "2020-02-03T00:00:00",
          "2020-02-04T00:00:00",
          "2020-02-05T00:00:00",
          "2020-02-06T00:00:00",
          "2020-02-07T00:00:00",
          "2020-02-08T00:00:00",
          "2020-02-09T00:00:00",
          "2020-02-10T00:00:00",
          "2020-02-11T00:00:00",
          "2020-02-12T00:00:00",
          "2020-02-13T00:00:00",
          "2020-02-14T00:00:00",
          "2020-02-15T00:00:00",
          "2020-02-16T00:00:00",
          "2020-02-17T00:00:00",
          "2020-02-18T00:00:00",
          "2020-02-19T00:00:00",
          "2020-02-20T00:00:00",
          "2020-02-21T00:00:00",
          "2020-02-22T00:00:00",
          "2020-02-23T00:00:00",
          "2020-02-24T00:00:00",
          "2020-02-25T00:00:00",
          "2020-02-26T00:00:00",
          "2020-02-27T00:00:00",
          "2020-02-28T00:00:00",
          "2020-02-29T00:00:00",
          "2020-03-01T00:00:00",
          "2020-03-02T00:00:00",
          "2020-03-03T00:00:00",
          "2020-03-04T00:00:00",
          "2020-03-05T00:00:00",
          "2020-03-06T00:00:00",
          "2020-03-07T00:00:00",
          "2020-03-08T00:00:00",
          "2020-03-09T00:00:00",
          "2020-03-10T00:00:00",
          "2020-03-11T00:00:00",
          "2020-03-12T00:00:00",
          "2020-03-13T00:00:00",
          "2020-03-14T00:00:00",
          "2020-03-15T00:00:00",
          "2020-03-16T00:00:00",
          "2020-03-17T00:00:00",
          "2020-03-18T00:00:00",
          "2020-03-19T00:00:00",
          "2020-03-20T00:00:00",
          "2020-03-21T00:00:00",
          "2020-03-22T00:00:00",
          "2020-03-23T00:00:00",
          "2020-03-24T00:00:00",
          "2020-03-25T00:00:00",
          "2020-03-26T00:00:00",
          "2020-03-27T00:00:00",
          "2020-03-28T00:00:00",
          "2020-03-29T00:00:00",
          "2020-03-30T00:00:00",
          "2020-03-31T00:00:00",
          "2020-04-01T00:00:00",
          "2020-04-02T00:00:00",
          "2020-04-03T00:00:00",
          "2020-04-04T00:00:00",
          "2020-04-05T00:00:00",
          "2020-04-06T00:00:00",
          "2020-04-07T00:00:00",
          "2020-04-08T00:00:00",
          "2020-04-09T00:00:00",
          "2020-04-10T00:00:00",
          "2020-04-11T00:00:00",
          "2020-04-12T00:00:00",
          "2020-04-13T00:00:00",
          "2020-04-14T00:00:00",
          "2020-04-15T00:00:00",
          "2020-04-16T00:00:00",
          "2020-04-17T00:00:00",
          "2020-04-18T00:00:00",
          "2020-04-19T00:00:00",
          "2020-04-20T00:00:00",
          "2020-04-21T00:00:00",
          "2020-04-22T00:00:00",
          "2020-04-23T00:00:00",
          "2020-04-24T00:00:00",
          "2020-04-25T00:00:00",
          "2020-04-26T00:00:00",
          "2020-04-27T00:00:00",
          "2020-04-28T00:00:00",
          "2020-04-29T00:00:00",
          "2020-04-30T00:00:00",
          "2020-05-01T00:00:00",
          "2020-05-02T00:00:00",
          "2020-05-03T00:00:00",
          "2020-05-04T00:00:00",
          "2020-05-05T00:00:00",
          "2020-05-06T00:00:00",
          "2020-05-07T00:00:00",
          "2020-05-08T00:00:00"
         ],
         "xaxis": "x",
         "y": [
          null,
          99.94790190653387,
          100,
          100,
          100.94662272392061,
          101.46744728862859,
          99.65434441370508,
          101.89650708705851,
          99.62213389330276,
          100,
          100,
          100.3249361789687,
          99.89180169270607,
          101.01093650821778,
          100.13679682107859,
          98.04184665735093,
          100,
          100,
          100.16119708926925,
          98.83165526157268,
          101.646425432963,
          98.17169472517554,
          98.46073539159114,
          100,
          100,
          99.0951435590494,
          101.01854108206689,
          99.11985466428445,
          100,
          100.28556752088352,
          100,
          100,
          100.60067781858699,
          100.63075343831554,
          99.76402686411076,
          100.28924694683776,
          99.3209659701914,
          100,
          100,
          99.92171508471873,
          99.58419997579135,
          100.68026769552367,
          99.16969463616363,
          100.54787131343812,
          100,
          100,
          97.93051208169416,
          100.61696106518112,
          100.02571904445216,
          99.7947091902779,
          99.33724617749925,
          100,
          100,
          99.77110846061441,
          100.0763521980093,
          100,
          99.7714572114099,
          100.15259759348092,
          100,
          100,
          101.0537133102543,
          99.31087173134094,
          100,
          100.1021995813774,
          100.53942738974173,
          100,
          100,
          100.12859885721956,
          100.33548662739413,
          99.20634571840289,
          100.43713547521378,
          98.48062227572522,
          100,
          100,
          100.20299881087145,
          98.35288282396128,
          98.52471477468804,
          100.14774084632359,
          100.24685828921697,
          100,
          100,
          100,
          100.42141340679794,
          100.37323098035446,
          98.72267140884802,
          102.23505624427244,
          100,
          100,
          99.15338607101664,
          105.2962781596476,
          101.49014776824994,
          101.3757813337713,
          99.5434963051012,
          100,
          100,
          99.28020086604107,
          99.52241891288311,
          98.74246904568402,
          99.76476697193884,
          100.55190299259749,
          100,
          100,
          100.63474703795983,
          99.26490213133314,
          100.9273939018418,
          102.19334244949219,
          101.15037524774375,
          100,
          100,
          100,
          100.52312397661187,
          100.24841334177488,
          101.05997513051372,
          100.36393406768033,
          100,
          100,
          103.02856390889093,
          102.1809544860412,
          97.7246518209905,
          101.81818995403347,
          102.03471077927124,
          100,
          100,
          95.81421199982543,
          101.69096747508961,
          94.23076318465169,
          102.6508811778787,
          101.25642096218603,
          100,
          100,
          103.73223400140634,
          97.60045727842358,
          107.52254311900673,
          107.16188433843148,
          91.77621919290753,
          100,
          100,
          108.38303099308779,
          93.84328497627261,
          99.3819506824253,
          106.37738504007908,
          104.860392403611,
          100,
          100,
          101.82520344661718,
          95.92592269111601,
          99.8319353376116,
          93.7007874015748,
          102.75081032997811,
          100,
          100,
          94.58218962467676,
          100.09190802652519,
          102.80314768393211,
          96.59264080231428,
          97.71105686166982,
          100,
          100,
          97.30980528381372,
          102.85628999416619,
          97.13873437159253,
          97.76772837199194,
          100,
          100,
          100,
          100.71143996682493,
          96.43249372652916,
          101.3066371700186,
          100.25083653820698,
          97.2094316349094,
          100,
          100,
          102.30043784433245,
          101.29141749849451,
          98.26206601899247,
          98.80076684879275,
          98.15408661934252,
          100,
          100,
          97.52152173869771,
          101.10789233799284,
          99.4491104660105,
          99.37434391384753,
          101.9128619351177,
          100,
          100,
          100.05316442937672,
          97.68891345510453,
          100,
          104.19372098337449,
          99.30144511632673
         ],
         "yaxis": "y"
        },
        {
         "hoverlabel": {
          "namelength": 0
         },
         "hovertemplate": "company=Roche<br>date=%{x}<br>close_diff=%{y}",
         "legendgroup": "company=Roche",
         "line": {
          "color": "#FF6692",
          "dash": "solid"
         },
         "mode": "lines",
         "name": "company=Roche",
         "showlegend": true,
         "type": "scattergl",
         "x": [
          "2019-10-31T00:00:00",
          "2019-11-01T00:00:00",
          "2019-11-02T00:00:00",
          "2019-11-03T00:00:00",
          "2019-11-04T00:00:00",
          "2019-11-05T00:00:00",
          "2019-11-06T00:00:00",
          "2019-11-07T00:00:00",
          "2019-11-08T00:00:00",
          "2019-11-09T00:00:00",
          "2019-11-10T00:00:00",
          "2019-11-11T00:00:00",
          "2019-11-12T00:00:00",
          "2019-11-13T00:00:00",
          "2019-11-14T00:00:00",
          "2019-11-15T00:00:00",
          "2019-11-16T00:00:00",
          "2019-11-17T00:00:00",
          "2019-11-18T00:00:00",
          "2019-11-19T00:00:00",
          "2019-11-20T00:00:00",
          "2019-11-21T00:00:00",
          "2019-11-22T00:00:00",
          "2019-11-23T00:00:00",
          "2019-11-24T00:00:00",
          "2019-11-25T00:00:00",
          "2019-11-26T00:00:00",
          "2019-11-27T00:00:00",
          "2019-11-28T00:00:00",
          "2019-11-29T00:00:00",
          "2019-11-30T00:00:00",
          "2019-12-01T00:00:00",
          "2019-12-02T00:00:00",
          "2019-12-03T00:00:00",
          "2019-12-04T00:00:00",
          "2019-12-05T00:00:00",
          "2019-12-06T00:00:00",
          "2019-12-07T00:00:00",
          "2019-12-08T00:00:00",
          "2019-12-09T00:00:00",
          "2019-12-10T00:00:00",
          "2019-12-11T00:00:00",
          "2019-12-12T00:00:00",
          "2019-12-13T00:00:00",
          "2019-12-14T00:00:00",
          "2019-12-15T00:00:00",
          "2019-12-16T00:00:00",
          "2019-12-17T00:00:00",
          "2019-12-18T00:00:00",
          "2019-12-19T00:00:00",
          "2019-12-20T00:00:00",
          "2019-12-21T00:00:00",
          "2019-12-22T00:00:00",
          "2019-12-23T00:00:00",
          "2019-12-24T00:00:00",
          "2019-12-25T00:00:00",
          "2019-12-26T00:00:00",
          "2019-12-27T00:00:00",
          "2019-12-28T00:00:00",
          "2019-12-29T00:00:00",
          "2019-12-30T00:00:00",
          "2019-12-31T00:00:00",
          "2020-01-01T00:00:00",
          "2020-01-02T00:00:00",
          "2020-01-03T00:00:00",
          "2020-01-04T00:00:00",
          "2020-01-05T00:00:00",
          "2020-01-06T00:00:00",
          "2020-01-07T00:00:00",
          "2020-01-08T00:00:00",
          "2020-01-09T00:00:00",
          "2020-01-10T00:00:00",
          "2020-01-11T00:00:00",
          "2020-01-12T00:00:00",
          "2020-01-13T00:00:00",
          "2020-01-14T00:00:00",
          "2020-01-15T00:00:00",
          "2020-01-16T00:00:00",
          "2020-01-17T00:00:00",
          "2020-01-18T00:00:00",
          "2020-01-19T00:00:00",
          "2020-01-20T00:00:00",
          "2020-01-21T00:00:00",
          "2020-01-22T00:00:00",
          "2020-01-23T00:00:00",
          "2020-01-24T00:00:00",
          "2020-01-25T00:00:00",
          "2020-01-26T00:00:00",
          "2020-01-27T00:00:00",
          "2020-01-28T00:00:00",
          "2020-01-29T00:00:00",
          "2020-01-30T00:00:00",
          "2020-01-31T00:00:00",
          "2020-02-01T00:00:00",
          "2020-02-02T00:00:00",
          "2020-02-03T00:00:00",
          "2020-02-04T00:00:00",
          "2020-02-05T00:00:00",
          "2020-02-06T00:00:00",
          "2020-02-07T00:00:00",
          "2020-02-08T00:00:00",
          "2020-02-09T00:00:00",
          "2020-02-10T00:00:00",
          "2020-02-11T00:00:00",
          "2020-02-12T00:00:00",
          "2020-02-13T00:00:00",
          "2020-02-14T00:00:00",
          "2020-02-15T00:00:00",
          "2020-02-16T00:00:00",
          "2020-02-17T00:00:00",
          "2020-02-18T00:00:00",
          "2020-02-19T00:00:00",
          "2020-02-20T00:00:00",
          "2020-02-21T00:00:00",
          "2020-02-22T00:00:00",
          "2020-02-23T00:00:00",
          "2020-02-24T00:00:00",
          "2020-02-25T00:00:00",
          "2020-02-26T00:00:00",
          "2020-02-27T00:00:00",
          "2020-02-28T00:00:00",
          "2020-02-29T00:00:00",
          "2020-03-01T00:00:00",
          "2020-03-02T00:00:00",
          "2020-03-03T00:00:00",
          "2020-03-04T00:00:00",
          "2020-03-05T00:00:00",
          "2020-03-06T00:00:00",
          "2020-03-07T00:00:00",
          "2020-03-08T00:00:00",
          "2020-03-09T00:00:00",
          "2020-03-10T00:00:00",
          "2020-03-11T00:00:00",
          "2020-03-12T00:00:00",
          "2020-03-13T00:00:00",
          "2020-03-14T00:00:00",
          "2020-03-15T00:00:00",
          "2020-03-16T00:00:00",
          "2020-03-17T00:00:00",
          "2020-03-18T00:00:00",
          "2020-03-19T00:00:00",
          "2020-03-20T00:00:00",
          "2020-03-21T00:00:00",
          "2020-03-22T00:00:00",
          "2020-03-23T00:00:00",
          "2020-03-24T00:00:00",
          "2020-03-25T00:00:00",
          "2020-03-26T00:00:00",
          "2020-03-27T00:00:00",
          "2020-03-28T00:00:00",
          "2020-03-29T00:00:00",
          "2020-03-30T00:00:00",
          "2020-03-31T00:00:00",
          "2020-04-01T00:00:00",
          "2020-04-02T00:00:00",
          "2020-04-03T00:00:00",
          "2020-04-04T00:00:00",
          "2020-04-05T00:00:00",
          "2020-04-06T00:00:00",
          "2020-04-07T00:00:00",
          "2020-04-08T00:00:00",
          "2020-04-09T00:00:00",
          "2020-04-10T00:00:00",
          "2020-04-11T00:00:00",
          "2020-04-12T00:00:00",
          "2020-04-13T00:00:00",
          "2020-04-14T00:00:00",
          "2020-04-15T00:00:00",
          "2020-04-16T00:00:00",
          "2020-04-17T00:00:00",
          "2020-04-18T00:00:00",
          "2020-04-19T00:00:00",
          "2020-04-20T00:00:00",
          "2020-04-21T00:00:00",
          "2020-04-22T00:00:00",
          "2020-04-23T00:00:00",
          "2020-04-24T00:00:00",
          "2020-04-25T00:00:00",
          "2020-04-26T00:00:00",
          "2020-04-27T00:00:00",
          "2020-04-28T00:00:00",
          "2020-04-29T00:00:00",
          "2020-04-30T00:00:00",
          "2020-05-01T00:00:00",
          "2020-05-02T00:00:00",
          "2020-05-03T00:00:00",
          "2020-05-04T00:00:00",
          "2020-05-05T00:00:00",
          "2020-05-06T00:00:00",
          "2020-05-07T00:00:00",
          "2020-05-08T00:00:00"
         ],
         "xaxis": "x",
         "y": [
          null,
          99.78779355587355,
          100,
          100,
          100.2926326414074,
          101.5945950069943,
          99.70358229980498,
          99.86544876946756,
          99.38486347689002,
          100,
          100,
          99.54738557660579,
          100.18671563534345,
          99.70745531883463,
          100.69629973345135,
          99.49374198537464,
          100,
          100,
          98.6852484458343,
          99.29503795524256,
          100.34058442324213,
          99.84305159819652,
          100.42027803702311,
          100,
          100,
          98.9345118183744,
          99.22640730659148,
          100.59662658051423,
          100,
          99.94814504038911,
          100,
          100,
          100.39042564556952,
          100.60225072141134,
          99.14329743734937,
          100.2341924326651,
          99.63702517304603,
          100,
          100,
          100.44270354737029,
          100,
          99.76617264571792,
          100.13008078445422,
          100.7337494245715,
          100,
          100,
          98.83449687690809,
          99.89650475045761,
          99.28076348034436,
          98.85728605704941,
          98.74623874972822,
          100,
          100,
          98.8351984540785,
          100.02478513013233,
          100,
          99.95044485267292,
          99.31102661539853,
          100,
          100,
          99.7790322769472,
          100.17215862047937,
          100,
          99.43751639601503,
          100.59040062671767,
          100,
          100,
          99.09800358908885,
          100.78624002168472,
          99.65720032045698,
          99.95105125436879,
          99.58567347306114,
          100,
          100,
          99.65994803042271,
          99.97571117980489,
          99.13336398069987,
          99.4970081809038,
          98.42056058966122,
          100,
          100,
          100,
          99.92932251247369,
          99.6946898484621,
          100.4482246854022,
          102.88834612784625,
          100,
          100,
          100.56138524623744,
          99.46589605889622,
          99.32480688268134,
          97.55352354294669,
          101.69856243404702,
          100,
          100,
          99.83281658321008,
          98.77329449103355,
          97.31404511763866,
          100.29933471609887,
          100.25392569512115,
          100,
          100,
          99.74671745434352,
          100.04607338823767,
          100.04609462559348,
          99.33607849473165,
          100.66835888362912,
          100,
          100,
          100,
          98.39002469605684,
          98.59154689344372,
          101.98358166844037,
          99.61390376184781,
          100,
          100,
          103.50258070451916,
          101.89221776174213,
          99.05100471791604,
          103.35949678173493,
          102.23113412701481,
          100,
          100,
          96.82038507516388,
          99.06227605622124,
          95.30247647632457,
          101.27639646115784,
          102.52201143011487,
          100,
          100,
          106.18998695022776,
          96.7489659708675,
          104.44217962676929,
          109.842956636434,
          88.48635365386951,
          100,
          100,
          107.92715338076266,
          95.03690323873518,
          104.18987501833503,
          96.81642707528097,
          107.92463451997654,
          100,
          100,
          102.35394744913475,
          94.8614475612004,
          99.67819055072196,
          96.15781869347302,
          99.51243922131235,
          100,
          100,
          95.32778914504037,
          100.76411480311289,
          99.43627562123234,
          97.95917825287421,
          101.2889168476684,
          100,
          100,
          98.72748481494096,
          104.0729661406064,
          99.18216101899219,
          101.50943012357507,
          100,
          100,
          100,
          100.9139391112714,
          96.5441179564255,
          101.77101292534374,
          95.93203942164116,
          98.02955634168127,
          100,
          100,
          98.65772268306795,
          99.67704868609853,
          97.11021296333959,
          101.04119303145131,
          98.04704606902908,
          100,
          100,
          100.37870792148371,
          99.13869390423491,
          103.42622211471905,
          100.71312985941697,
          101.47059072332236,
          100,
          100,
          96.81355966686529,
          101.2354173572133,
          98.5347125407225,
          101.44066104438613,
          99.2960913559343
         ],
         "yaxis": "y"
        },
        {
         "hoverlabel": {
          "namelength": 0
         },
         "hovertemplate": "company=Sanofi<br>date=%{x}<br>close_diff=%{y}",
         "legendgroup": "company=Sanofi",
         "line": {
          "color": "#B6E880",
          "dash": "solid"
         },
         "mode": "lines",
         "name": "company=Sanofi",
         "showlegend": true,
         "type": "scattergl",
         "x": [
          "2019-10-31T00:00:00",
          "2019-11-01T00:00:00",
          "2019-11-02T00:00:00",
          "2019-11-03T00:00:00",
          "2019-11-04T00:00:00",
          "2019-11-05T00:00:00",
          "2019-11-06T00:00:00",
          "2019-11-07T00:00:00",
          "2019-11-08T00:00:00",
          "2019-11-09T00:00:00",
          "2019-11-10T00:00:00",
          "2019-11-11T00:00:00",
          "2019-11-12T00:00:00",
          "2019-11-13T00:00:00",
          "2019-11-14T00:00:00",
          "2019-11-15T00:00:00",
          "2019-11-16T00:00:00",
          "2019-11-17T00:00:00",
          "2019-11-18T00:00:00",
          "2019-11-19T00:00:00",
          "2019-11-20T00:00:00",
          "2019-11-21T00:00:00",
          "2019-11-22T00:00:00",
          "2019-11-23T00:00:00",
          "2019-11-24T00:00:00",
          "2019-11-25T00:00:00",
          "2019-11-26T00:00:00",
          "2019-11-27T00:00:00",
          "2019-11-28T00:00:00",
          "2019-11-29T00:00:00",
          "2019-11-30T00:00:00",
          "2019-12-01T00:00:00",
          "2019-12-02T00:00:00",
          "2019-12-03T00:00:00",
          "2019-12-04T00:00:00",
          "2019-12-05T00:00:00",
          "2019-12-06T00:00:00",
          "2019-12-07T00:00:00",
          "2019-12-08T00:00:00",
          "2019-12-09T00:00:00",
          "2019-12-10T00:00:00",
          "2019-12-11T00:00:00",
          "2019-12-12T00:00:00",
          "2019-12-13T00:00:00",
          "2019-12-14T00:00:00",
          "2019-12-15T00:00:00",
          "2019-12-16T00:00:00",
          "2019-12-17T00:00:00",
          "2019-12-18T00:00:00",
          "2019-12-19T00:00:00",
          "2019-12-20T00:00:00",
          "2019-12-21T00:00:00",
          "2019-12-22T00:00:00",
          "2019-12-23T00:00:00",
          "2019-12-24T00:00:00",
          "2019-12-25T00:00:00",
          "2019-12-26T00:00:00",
          "2019-12-27T00:00:00",
          "2019-12-28T00:00:00",
          "2019-12-29T00:00:00",
          "2019-12-30T00:00:00",
          "2019-12-31T00:00:00",
          "2020-01-01T00:00:00",
          "2020-01-02T00:00:00",
          "2020-01-03T00:00:00",
          "2020-01-04T00:00:00",
          "2020-01-05T00:00:00",
          "2020-01-06T00:00:00",
          "2020-01-07T00:00:00",
          "2020-01-08T00:00:00",
          "2020-01-09T00:00:00",
          "2020-01-10T00:00:00",
          "2020-01-11T00:00:00",
          "2020-01-12T00:00:00",
          "2020-01-13T00:00:00",
          "2020-01-14T00:00:00",
          "2020-01-15T00:00:00",
          "2020-01-16T00:00:00",
          "2020-01-17T00:00:00",
          "2020-01-18T00:00:00",
          "2020-01-19T00:00:00",
          "2020-01-20T00:00:00",
          "2020-01-21T00:00:00",
          "2020-01-22T00:00:00",
          "2020-01-23T00:00:00",
          "2020-01-24T00:00:00",
          "2020-01-25T00:00:00",
          "2020-01-26T00:00:00",
          "2020-01-27T00:00:00",
          "2020-01-28T00:00:00",
          "2020-01-29T00:00:00",
          "2020-01-30T00:00:00",
          "2020-01-31T00:00:00",
          "2020-02-01T00:00:00",
          "2020-02-02T00:00:00",
          "2020-02-03T00:00:00",
          "2020-02-04T00:00:00",
          "2020-02-05T00:00:00",
          "2020-02-06T00:00:00",
          "2020-02-07T00:00:00",
          "2020-02-08T00:00:00",
          "2020-02-09T00:00:00",
          "2020-02-10T00:00:00",
          "2020-02-11T00:00:00",
          "2020-02-12T00:00:00",
          "2020-02-13T00:00:00",
          "2020-02-14T00:00:00",
          "2020-02-15T00:00:00",
          "2020-02-16T00:00:00",
          "2020-02-17T00:00:00",
          "2020-02-18T00:00:00",
          "2020-02-19T00:00:00",
          "2020-02-20T00:00:00",
          "2020-02-21T00:00:00",
          "2020-02-22T00:00:00",
          "2020-02-23T00:00:00",
          "2020-02-24T00:00:00",
          "2020-02-25T00:00:00",
          "2020-02-26T00:00:00",
          "2020-02-27T00:00:00",
          "2020-02-28T00:00:00",
          "2020-02-29T00:00:00",
          "2020-03-01T00:00:00",
          "2020-03-02T00:00:00",
          "2020-03-03T00:00:00",
          "2020-03-04T00:00:00",
          "2020-03-05T00:00:00",
          "2020-03-06T00:00:00",
          "2020-03-07T00:00:00",
          "2020-03-08T00:00:00",
          "2020-03-09T00:00:00",
          "2020-03-10T00:00:00",
          "2020-03-11T00:00:00",
          "2020-03-12T00:00:00",
          "2020-03-13T00:00:00",
          "2020-03-14T00:00:00",
          "2020-03-15T00:00:00",
          "2020-03-16T00:00:00",
          "2020-03-17T00:00:00",
          "2020-03-18T00:00:00",
          "2020-03-19T00:00:00",
          "2020-03-20T00:00:00",
          "2020-03-21T00:00:00",
          "2020-03-22T00:00:00",
          "2020-03-23T00:00:00",
          "2020-03-24T00:00:00",
          "2020-03-25T00:00:00",
          "2020-03-26T00:00:00",
          "2020-03-27T00:00:00",
          "2020-03-28T00:00:00",
          "2020-03-29T00:00:00",
          "2020-03-30T00:00:00",
          "2020-03-31T00:00:00",
          "2020-04-01T00:00:00",
          "2020-04-02T00:00:00",
          "2020-04-03T00:00:00",
          "2020-04-04T00:00:00",
          "2020-04-05T00:00:00",
          "2020-04-06T00:00:00",
          "2020-04-07T00:00:00",
          "2020-04-08T00:00:00",
          "2020-04-09T00:00:00",
          "2020-04-10T00:00:00",
          "2020-04-11T00:00:00",
          "2020-04-12T00:00:00",
          "2020-04-13T00:00:00",
          "2020-04-14T00:00:00",
          "2020-04-15T00:00:00",
          "2020-04-16T00:00:00",
          "2020-04-17T00:00:00",
          "2020-04-18T00:00:00",
          "2020-04-19T00:00:00",
          "2020-04-20T00:00:00",
          "2020-04-21T00:00:00",
          "2020-04-22T00:00:00",
          "2020-04-23T00:00:00",
          "2020-04-24T00:00:00",
          "2020-04-25T00:00:00",
          "2020-04-26T00:00:00",
          "2020-04-27T00:00:00",
          "2020-04-28T00:00:00",
          "2020-04-29T00:00:00",
          "2020-04-30T00:00:00",
          "2020-05-01T00:00:00",
          "2020-05-02T00:00:00",
          "2020-05-03T00:00:00",
          "2020-05-04T00:00:00",
          "2020-05-05T00:00:00",
          "2020-05-06T00:00:00",
          "2020-05-07T00:00:00",
          "2020-05-08T00:00:00"
         ],
         "xaxis": "x",
         "y": [
          null,
          100.96407197039983,
          100,
          100,
          99.58541908397328,
          100.4163068447572,
          98.89490331664567,
          101.47317939838665,
          99.17138887252989,
          100,
          100,
          100,
          99.58740796990921,
          100.94256973968328,
          101.3327376011113,
          97.63608731693839,
          100,
          100,
          98.71548172579489,
          101.06014247258402,
          100.58759619865218,
          97.4136157444054,
          101.39724356144791,
          100,
          100,
          99.18976320735182,
          100.70861463005627,
          100.40965636553123,
          100,
          99.3573281167539,
          100,
          100,
          101.87691099100707,
          100.5927562289485,
          97.72580699547213,
          101.1501709163121,
          100.10863144271968,
          100,
          100,
          101.61147804532216,
          94.1983761558021,
          98.12283574688249,
          98.99010297525594,
          99.43763288040668,
          100,
          100,
          98.65266437739486,
          100.55788523940137,
          99.64264381776302,
          99.8810204780331,
          99.76261338536918,
          100,
          100,
          100.47703807835103,
          99.8016296877132,
          100,
          100.21868908950304,
          98.89893557496923,
          100,
          100,
          101.33493126514261,
          99.98007542613851,
          100,
          99.05288172978305,
          99.8423994897504,
          100,
          100,
          99.04389916396723,
          101.00512082117183,
          99.52923133400444,
          99.64816202949052,
          99.10887428517839,
          100,
          100,
          100.4084790606807,
          100.8434686328695,
          99.47316983850992,
          100.11721307853232,
          99.9024140317723,
          100,
          100,
          100,
          102.05138939011186,
          101.63967112059586,
          99.59678033388137,
          101.78534565987569,
          100,
          100,
          102.00962753877603,
          98.96415994352952,
          98.8936674854862,
          100.41143954007042,
          100.70437155451322,
          100,
          100,
          99.77263206299503,
          99.46546397040346,
          98.62124835891444,
          95.4703829665127,
          101.23457002387941,
          100,
          100,
          99.6290463942249,
          99.98048346355156,
          101.20505852078816,
          101.23999786376953,
          100.14019566272057,
          100,
          100,
          100,
          97.63394779250314,
          100.84795959956436,
          99.92118046201509,
          99.80334616101909,
          100,
          100,
          102.0264813772894,
          101.6935357263418,
          99.11020741229996,
          102.67857333807002,
          104.12972939980996,
          100,
          100,
          94.89125647780419,
          102.15888202422825,
          94.40047134984275,
          101.20144634625095,
          103.09661445608079,
          100,
          100,
          107.12073710544622,
          97.96360782102195,
          103.05871601670324,
          109.59139242987446,
          93.48123922862844,
          100,
          100,
          105.29865303151288,
          95.2075209279135,
          104.70587998239287,
          102.5609477958546,
          106.81220442242004,
          100,
          100,
          98.57402322682842,
          95.96914907379927,
          97.14769075261846,
          96.32129964379878,
          101.20170158513982,
          100,
          100,
          94.96531647093119,
          102.21865823175347,
          101.88767507846978,
          98.62101011889915,
          97.05553545481435,
          100,
          100,
          97.20295505050792,
          103.40807289185369,
          98.71624208247682,
          99.38407658395111,
          100,
          100,
          100,
          102.43352408824829,
          96.54122229635306,
          101.81616759050213,
          97.8755700855301,
          96.60733207982246,
          100,
          100,
          98.90223945174549,
          99.34156439326925,
          100.85079862854546,
          99.6278678744044,
          97.03109410724528,
          100,
          100,
          98.45940632522453,
          101.52396661822374,
          101.77550802425463,
          104.63377767264213,
          99.95731772952469,
          100,
          100,
          96.8575553208009,
          98.59355397046137,
          99.41236654549819,
          101.96280355019047,
          100.66555674425437
         ],
         "yaxis": "y"
        }
       ],
       "layout": {
        "height": 600,
        "legend": {
         "tracegroupgap": 0
        },
        "margin": {
         "t": 60
        },
        "template": {
         "data": {
          "bar": [
           {
            "error_x": {
             "color": "#2a3f5f"
            },
            "error_y": {
             "color": "#2a3f5f"
            },
            "marker": {
             "line": {
              "color": "#E5ECF6",
              "width": 0.5
             }
            },
            "type": "bar"
           }
          ],
          "barpolar": [
           {
            "marker": {
             "line": {
              "color": "#E5ECF6",
              "width": 0.5
             }
            },
            "type": "barpolar"
           }
          ],
          "carpet": [
           {
            "aaxis": {
             "endlinecolor": "#2a3f5f",
             "gridcolor": "white",
             "linecolor": "white",
             "minorgridcolor": "white",
             "startlinecolor": "#2a3f5f"
            },
            "baxis": {
             "endlinecolor": "#2a3f5f",
             "gridcolor": "white",
             "linecolor": "white",
             "minorgridcolor": "white",
             "startlinecolor": "#2a3f5f"
            },
            "type": "carpet"
           }
          ],
          "choropleth": [
           {
            "colorbar": {
             "outlinewidth": 0,
             "ticks": ""
            },
            "type": "choropleth"
           }
          ],
          "contour": [
           {
            "colorbar": {
             "outlinewidth": 0,
             "ticks": ""
            },
            "colorscale": [
             [
              0,
              "#0d0887"
             ],
             [
              0.1111111111111111,
              "#46039f"
             ],
             [
              0.2222222222222222,
              "#7201a8"
             ],
             [
              0.3333333333333333,
              "#9c179e"
             ],
             [
              0.4444444444444444,
              "#bd3786"
             ],
             [
              0.5555555555555556,
              "#d8576b"
             ],
             [
              0.6666666666666666,
              "#ed7953"
             ],
             [
              0.7777777777777778,
              "#fb9f3a"
             ],
             [
              0.8888888888888888,
              "#fdca26"
             ],
             [
              1,
              "#f0f921"
             ]
            ],
            "type": "contour"
           }
          ],
          "contourcarpet": [
           {
            "colorbar": {
             "outlinewidth": 0,
             "ticks": ""
            },
            "type": "contourcarpet"
           }
          ],
          "heatmap": [
           {
            "colorbar": {
             "outlinewidth": 0,
             "ticks": ""
            },
            "colorscale": [
             [
              0,
              "#0d0887"
             ],
             [
              0.1111111111111111,
              "#46039f"
             ],
             [
              0.2222222222222222,
              "#7201a8"
             ],
             [
              0.3333333333333333,
              "#9c179e"
             ],
             [
              0.4444444444444444,
              "#bd3786"
             ],
             [
              0.5555555555555556,
              "#d8576b"
             ],
             [
              0.6666666666666666,
              "#ed7953"
             ],
             [
              0.7777777777777778,
              "#fb9f3a"
             ],
             [
              0.8888888888888888,
              "#fdca26"
             ],
             [
              1,
              "#f0f921"
             ]
            ],
            "type": "heatmap"
           }
          ],
          "heatmapgl": [
           {
            "colorbar": {
             "outlinewidth": 0,
             "ticks": ""
            },
            "colorscale": [
             [
              0,
              "#0d0887"
             ],
             [
              0.1111111111111111,
              "#46039f"
             ],
             [
              0.2222222222222222,
              "#7201a8"
             ],
             [
              0.3333333333333333,
              "#9c179e"
             ],
             [
              0.4444444444444444,
              "#bd3786"
             ],
             [
              0.5555555555555556,
              "#d8576b"
             ],
             [
              0.6666666666666666,
              "#ed7953"
             ],
             [
              0.7777777777777778,
              "#fb9f3a"
             ],
             [
              0.8888888888888888,
              "#fdca26"
             ],
             [
              1,
              "#f0f921"
             ]
            ],
            "type": "heatmapgl"
           }
          ],
          "histogram": [
           {
            "marker": {
             "colorbar": {
              "outlinewidth": 0,
              "ticks": ""
             }
            },
            "type": "histogram"
           }
          ],
          "histogram2d": [
           {
            "colorbar": {
             "outlinewidth": 0,
             "ticks": ""
            },
            "colorscale": [
             [
              0,
              "#0d0887"
             ],
             [
              0.1111111111111111,
              "#46039f"
             ],
             [
              0.2222222222222222,
              "#7201a8"
             ],
             [
              0.3333333333333333,
              "#9c179e"
             ],
             [
              0.4444444444444444,
              "#bd3786"
             ],
             [
              0.5555555555555556,
              "#d8576b"
             ],
             [
              0.6666666666666666,
              "#ed7953"
             ],
             [
              0.7777777777777778,
              "#fb9f3a"
             ],
             [
              0.8888888888888888,
              "#fdca26"
             ],
             [
              1,
              "#f0f921"
             ]
            ],
            "type": "histogram2d"
           }
          ],
          "histogram2dcontour": [
           {
            "colorbar": {
             "outlinewidth": 0,
             "ticks": ""
            },
            "colorscale": [
             [
              0,
              "#0d0887"
             ],
             [
              0.1111111111111111,
              "#46039f"
             ],
             [
              0.2222222222222222,
              "#7201a8"
             ],
             [
              0.3333333333333333,
              "#9c179e"
             ],
             [
              0.4444444444444444,
              "#bd3786"
             ],
             [
              0.5555555555555556,
              "#d8576b"
             ],
             [
              0.6666666666666666,
              "#ed7953"
             ],
             [
              0.7777777777777778,
              "#fb9f3a"
             ],
             [
              0.8888888888888888,
              "#fdca26"
             ],
             [
              1,
              "#f0f921"
             ]
            ],
            "type": "histogram2dcontour"
           }
          ],
          "mesh3d": [
           {
            "colorbar": {
             "outlinewidth": 0,
             "ticks": ""
            },
            "type": "mesh3d"
           }
          ],
          "parcoords": [
           {
            "line": {
             "colorbar": {
              "outlinewidth": 0,
              "ticks": ""
             }
            },
            "type": "parcoords"
           }
          ],
          "scatter": [
           {
            "marker": {
             "colorbar": {
              "outlinewidth": 0,
              "ticks": ""
             }
            },
            "type": "scatter"
           }
          ],
          "scatter3d": [
           {
            "line": {
             "colorbar": {
              "outlinewidth": 0,
              "ticks": ""
             }
            },
            "marker": {
             "colorbar": {
              "outlinewidth": 0,
              "ticks": ""
             }
            },
            "type": "scatter3d"
           }
          ],
          "scattercarpet": [
           {
            "marker": {
             "colorbar": {
              "outlinewidth": 0,
              "ticks": ""
             }
            },
            "type": "scattercarpet"
           }
          ],
          "scattergeo": [
           {
            "marker": {
             "colorbar": {
              "outlinewidth": 0,
              "ticks": ""
             }
            },
            "type": "scattergeo"
           }
          ],
          "scattergl": [
           {
            "marker": {
             "colorbar": {
              "outlinewidth": 0,
              "ticks": ""
             }
            },
            "type": "scattergl"
           }
          ],
          "scattermapbox": [
           {
            "marker": {
             "colorbar": {
              "outlinewidth": 0,
              "ticks": ""
             }
            },
            "type": "scattermapbox"
           }
          ],
          "scatterpolar": [
           {
            "marker": {
             "colorbar": {
              "outlinewidth": 0,
              "ticks": ""
             }
            },
            "type": "scatterpolar"
           }
          ],
          "scatterpolargl": [
           {
            "marker": {
             "colorbar": {
              "outlinewidth": 0,
              "ticks": ""
             }
            },
            "type": "scatterpolargl"
           }
          ],
          "scatterternary": [
           {
            "marker": {
             "colorbar": {
              "outlinewidth": 0,
              "ticks": ""
             }
            },
            "type": "scatterternary"
           }
          ],
          "surface": [
           {
            "colorbar": {
             "outlinewidth": 0,
             "ticks": ""
            },
            "colorscale": [
             [
              0,
              "#0d0887"
             ],
             [
              0.1111111111111111,
              "#46039f"
             ],
             [
              0.2222222222222222,
              "#7201a8"
             ],
             [
              0.3333333333333333,
              "#9c179e"
             ],
             [
              0.4444444444444444,
              "#bd3786"
             ],
             [
              0.5555555555555556,
              "#d8576b"
             ],
             [
              0.6666666666666666,
              "#ed7953"
             ],
             [
              0.7777777777777778,
              "#fb9f3a"
             ],
             [
              0.8888888888888888,
              "#fdca26"
             ],
             [
              1,
              "#f0f921"
             ]
            ],
            "type": "surface"
           }
          ],
          "table": [
           {
            "cells": {
             "fill": {
              "color": "#EBF0F8"
             },
             "line": {
              "color": "white"
             }
            },
            "header": {
             "fill": {
              "color": "#C8D4E3"
             },
             "line": {
              "color": "white"
             }
            },
            "type": "table"
           }
          ]
         },
         "layout": {
          "annotationdefaults": {
           "arrowcolor": "#2a3f5f",
           "arrowhead": 0,
           "arrowwidth": 1
          },
          "colorscale": {
           "diverging": [
            [
             0,
             "#8e0152"
            ],
            [
             0.1,
             "#c51b7d"
            ],
            [
             0.2,
             "#de77ae"
            ],
            [
             0.3,
             "#f1b6da"
            ],
            [
             0.4,
             "#fde0ef"
            ],
            [
             0.5,
             "#f7f7f7"
            ],
            [
             0.6,
             "#e6f5d0"
            ],
            [
             0.7,
             "#b8e186"
            ],
            [
             0.8,
             "#7fbc41"
            ],
            [
             0.9,
             "#4d9221"
            ],
            [
             1,
             "#276419"
            ]
           ],
           "sequential": [
            [
             0,
             "#0d0887"
            ],
            [
             0.1111111111111111,
             "#46039f"
            ],
            [
             0.2222222222222222,
             "#7201a8"
            ],
            [
             0.3333333333333333,
             "#9c179e"
            ],
            [
             0.4444444444444444,
             "#bd3786"
            ],
            [
             0.5555555555555556,
             "#d8576b"
            ],
            [
             0.6666666666666666,
             "#ed7953"
            ],
            [
             0.7777777777777778,
             "#fb9f3a"
            ],
            [
             0.8888888888888888,
             "#fdca26"
            ],
            [
             1,
             "#f0f921"
            ]
           ],
           "sequentialminus": [
            [
             0,
             "#0d0887"
            ],
            [
             0.1111111111111111,
             "#46039f"
            ],
            [
             0.2222222222222222,
             "#7201a8"
            ],
            [
             0.3333333333333333,
             "#9c179e"
            ],
            [
             0.4444444444444444,
             "#bd3786"
            ],
            [
             0.5555555555555556,
             "#d8576b"
            ],
            [
             0.6666666666666666,
             "#ed7953"
            ],
            [
             0.7777777777777778,
             "#fb9f3a"
            ],
            [
             0.8888888888888888,
             "#fdca26"
            ],
            [
             1,
             "#f0f921"
            ]
           ]
          },
          "colorway": [
           "#636efa",
           "#EF553B",
           "#00cc96",
           "#ab63fa",
           "#FFA15A",
           "#19d3f3",
           "#FF6692",
           "#B6E880",
           "#FF97FF",
           "#FECB52"
          ],
          "font": {
           "color": "#2a3f5f"
          },
          "geo": {
           "bgcolor": "white",
           "lakecolor": "white",
           "landcolor": "#E5ECF6",
           "showlakes": true,
           "showland": true,
           "subunitcolor": "white"
          },
          "hoverlabel": {
           "align": "left"
          },
          "hovermode": "closest",
          "mapbox": {
           "style": "light"
          },
          "paper_bgcolor": "white",
          "plot_bgcolor": "#E5ECF6",
          "polar": {
           "angularaxis": {
            "gridcolor": "white",
            "linecolor": "white",
            "ticks": ""
           },
           "bgcolor": "#E5ECF6",
           "radialaxis": {
            "gridcolor": "white",
            "linecolor": "white",
            "ticks": ""
           }
          },
          "scene": {
           "xaxis": {
            "backgroundcolor": "#E5ECF6",
            "gridcolor": "white",
            "gridwidth": 2,
            "linecolor": "white",
            "showbackground": true,
            "ticks": "",
            "zerolinecolor": "white"
           },
           "yaxis": {
            "backgroundcolor": "#E5ECF6",
            "gridcolor": "white",
            "gridwidth": 2,
            "linecolor": "white",
            "showbackground": true,
            "ticks": "",
            "zerolinecolor": "white"
           },
           "zaxis": {
            "backgroundcolor": "#E5ECF6",
            "gridcolor": "white",
            "gridwidth": 2,
            "linecolor": "white",
            "showbackground": true,
            "ticks": "",
            "zerolinecolor": "white"
           }
          },
          "shapedefaults": {
           "line": {
            "color": "#2a3f5f"
           }
          },
          "ternary": {
           "aaxis": {
            "gridcolor": "white",
            "linecolor": "white",
            "ticks": ""
           },
           "baxis": {
            "gridcolor": "white",
            "linecolor": "white",
            "ticks": ""
           },
           "bgcolor": "#E5ECF6",
           "caxis": {
            "gridcolor": "white",
            "linecolor": "white",
            "ticks": ""
           }
          },
          "title": {
           "x": 0.05
          },
          "xaxis": {
           "automargin": true,
           "gridcolor": "white",
           "linecolor": "white",
           "ticks": "",
           "zerolinecolor": "white",
           "zerolinewidth": 2
          },
          "yaxis": {
           "automargin": true,
           "gridcolor": "white",
           "linecolor": "white",
           "ticks": "",
           "zerolinecolor": "white",
           "zerolinewidth": 2
          }
         }
        },
        "xaxis": {
         "anchor": "y",
         "domain": [
          0,
          0.98
         ],
         "title": {
          "text": "date"
         }
        },
        "yaxis": {
         "anchor": "x",
         "domain": [
          0,
          1
         ],
         "title": {
          "text": "close_diff"
         }
        }
       }
      },
      "text/html": [
       "<div>\n",
       "        \n",
       "        \n",
       "            <div id=\"973c06e1-5415-42f0-8892-46f8d20d3e63\" class=\"plotly-graph-div\" style=\"height:600px; width:100%;\"></div>\n",
       "            <script type=\"text/javascript\">\n",
       "                require([\"plotly\"], function(Plotly) {\n",
       "                    window.PLOTLYENV=window.PLOTLYENV || {};\n",
       "                    \n",
       "                if (document.getElementById(\"973c06e1-5415-42f0-8892-46f8d20d3e63\")) {\n",
       "                    Plotly.newPlot(\n",
       "                        '973c06e1-5415-42f0-8892-46f8d20d3e63',\n",
       "                        [{\"hoverlabel\": {\"namelength\": 0}, \"hovertemplate\": \"company=AstraZeneca<br>date=%{x}<br>close_diff=%{y}\", \"legendgroup\": \"company=AstraZeneca\", \"line\": {\"color\": \"#636efa\", \"dash\": \"solid\"}, \"mode\": \"lines\", \"name\": \"company=AstraZeneca\", \"showlegend\": true, \"type\": \"scattergl\", \"x\": [\"2019-10-31T00:00:00\", \"2019-11-01T00:00:00\", \"2019-11-02T00:00:00\", \"2019-11-03T00:00:00\", \"2019-11-04T00:00:00\", \"2019-11-05T00:00:00\", \"2019-11-06T00:00:00\", \"2019-11-07T00:00:00\", \"2019-11-08T00:00:00\", \"2019-11-09T00:00:00\", \"2019-11-10T00:00:00\", \"2019-11-11T00:00:00\", \"2019-11-12T00:00:00\", \"2019-11-13T00:00:00\", \"2019-11-14T00:00:00\", \"2019-11-15T00:00:00\", \"2019-11-16T00:00:00\", \"2019-11-17T00:00:00\", \"2019-11-18T00:00:00\", \"2019-11-19T00:00:00\", \"2019-11-20T00:00:00\", \"2019-11-21T00:00:00\", \"2019-11-22T00:00:00\", \"2019-11-23T00:00:00\", \"2019-11-24T00:00:00\", \"2019-11-25T00:00:00\", \"2019-11-26T00:00:00\", \"2019-11-27T00:00:00\", \"2019-11-28T00:00:00\", \"2019-11-29T00:00:00\", \"2019-11-30T00:00:00\", \"2019-12-01T00:00:00\", \"2019-12-02T00:00:00\", \"2019-12-03T00:00:00\", \"2019-12-04T00:00:00\", \"2019-12-05T00:00:00\", \"2019-12-06T00:00:00\", \"2019-12-07T00:00:00\", \"2019-12-08T00:00:00\", \"2019-12-09T00:00:00\", \"2019-12-10T00:00:00\", \"2019-12-11T00:00:00\", \"2019-12-12T00:00:00\", \"2019-12-13T00:00:00\", \"2019-12-14T00:00:00\", \"2019-12-15T00:00:00\", \"2019-12-16T00:00:00\", \"2019-12-17T00:00:00\", \"2019-12-18T00:00:00\", \"2019-12-19T00:00:00\", \"2019-12-20T00:00:00\", \"2019-12-21T00:00:00\", \"2019-12-22T00:00:00\", \"2019-12-23T00:00:00\", \"2019-12-24T00:00:00\", \"2019-12-25T00:00:00\", \"2019-12-26T00:00:00\", \"2019-12-27T00:00:00\", \"2019-12-28T00:00:00\", \"2019-12-29T00:00:00\", \"2019-12-30T00:00:00\", \"2019-12-31T00:00:00\", \"2020-01-01T00:00:00\", \"2020-01-02T00:00:00\", \"2020-01-03T00:00:00\", \"2020-01-04T00:00:00\", \"2020-01-05T00:00:00\", \"2020-01-06T00:00:00\", \"2020-01-07T00:00:00\", \"2020-01-08T00:00:00\", \"2020-01-09T00:00:00\", \"2020-01-10T00:00:00\", \"2020-01-11T00:00:00\", \"2020-01-12T00:00:00\", \"2020-01-13T00:00:00\", \"2020-01-14T00:00:00\", \"2020-01-15T00:00:00\", \"2020-01-16T00:00:00\", \"2020-01-17T00:00:00\", \"2020-01-18T00:00:00\", \"2020-01-19T00:00:00\", \"2020-01-20T00:00:00\", \"2020-01-21T00:00:00\", \"2020-01-22T00:00:00\", \"2020-01-23T00:00:00\", \"2020-01-24T00:00:00\", \"2020-01-25T00:00:00\", \"2020-01-26T00:00:00\", \"2020-01-27T00:00:00\", \"2020-01-28T00:00:00\", \"2020-01-29T00:00:00\", \"2020-01-30T00:00:00\", \"2020-01-31T00:00:00\", \"2020-02-01T00:00:00\", \"2020-02-02T00:00:00\", \"2020-02-03T00:00:00\", \"2020-02-04T00:00:00\", \"2020-02-05T00:00:00\", \"2020-02-06T00:00:00\", \"2020-02-07T00:00:00\", \"2020-02-08T00:00:00\", \"2020-02-09T00:00:00\", \"2020-02-10T00:00:00\", \"2020-02-11T00:00:00\", \"2020-02-12T00:00:00\", \"2020-02-13T00:00:00\", \"2020-02-14T00:00:00\", \"2020-02-15T00:00:00\", \"2020-02-16T00:00:00\", \"2020-02-17T00:00:00\", \"2020-02-18T00:00:00\", \"2020-02-19T00:00:00\", \"2020-02-20T00:00:00\", \"2020-02-21T00:00:00\", \"2020-02-22T00:00:00\", \"2020-02-23T00:00:00\", \"2020-02-24T00:00:00\", \"2020-02-25T00:00:00\", \"2020-02-26T00:00:00\", \"2020-02-27T00:00:00\", \"2020-02-28T00:00:00\", \"2020-02-29T00:00:00\", \"2020-03-01T00:00:00\", \"2020-03-02T00:00:00\", \"2020-03-03T00:00:00\", \"2020-03-04T00:00:00\", \"2020-03-05T00:00:00\", \"2020-03-06T00:00:00\", \"2020-03-07T00:00:00\", \"2020-03-08T00:00:00\", \"2020-03-09T00:00:00\", \"2020-03-10T00:00:00\", \"2020-03-11T00:00:00\", \"2020-03-12T00:00:00\", \"2020-03-13T00:00:00\", \"2020-03-14T00:00:00\", \"2020-03-15T00:00:00\", \"2020-03-16T00:00:00\", \"2020-03-17T00:00:00\", \"2020-03-18T00:00:00\", \"2020-03-19T00:00:00\", \"2020-03-20T00:00:00\", \"2020-03-21T00:00:00\", \"2020-03-22T00:00:00\", \"2020-03-23T00:00:00\", \"2020-03-24T00:00:00\", \"2020-03-25T00:00:00\", \"2020-03-26T00:00:00\", \"2020-03-27T00:00:00\", \"2020-03-28T00:00:00\", \"2020-03-29T00:00:00\", \"2020-03-30T00:00:00\", \"2020-03-31T00:00:00\", \"2020-04-01T00:00:00\", \"2020-04-02T00:00:00\", \"2020-04-03T00:00:00\", \"2020-04-04T00:00:00\", \"2020-04-05T00:00:00\", \"2020-04-06T00:00:00\", \"2020-04-07T00:00:00\", \"2020-04-08T00:00:00\", \"2020-04-09T00:00:00\", \"2020-04-10T00:00:00\", \"2020-04-11T00:00:00\", \"2020-04-12T00:00:00\", \"2020-04-13T00:00:00\", \"2020-04-14T00:00:00\", \"2020-04-15T00:00:00\", \"2020-04-16T00:00:00\", \"2020-04-17T00:00:00\", \"2020-04-18T00:00:00\", \"2020-04-19T00:00:00\", \"2020-04-20T00:00:00\", \"2020-04-21T00:00:00\", \"2020-04-22T00:00:00\", \"2020-04-23T00:00:00\", \"2020-04-24T00:00:00\", \"2020-04-25T00:00:00\", \"2020-04-26T00:00:00\", \"2020-04-27T00:00:00\", \"2020-04-28T00:00:00\", \"2020-04-29T00:00:00\", \"2020-04-30T00:00:00\", \"2020-05-01T00:00:00\", \"2020-05-02T00:00:00\", \"2020-05-03T00:00:00\", \"2020-05-04T00:00:00\", \"2020-05-05T00:00:00\", \"2020-05-06T00:00:00\", \"2020-05-07T00:00:00\", \"2020-05-08T00:00:00\"], \"xaxis\": \"x\", \"y\": [null, 101.32258606679245, 100.0, 100.0, 100.58199703958563, 101.92796574725189, 99.70426829489398, 101.15384812891133, 99.02666292676724, 100.0, 100.0, 100.81057432755995, 99.575189559981, 98.4525347793977, 100.94996996640538, 99.85244583294572, 100.0, 100.0, 98.95702959048181, 100.56639494049647, 101.40395633051915, 98.73975576322948, 99.24952970358441, 100.0, 100.0, 98.35964890393355, 100.02051299543638, 99.97949121153049, 100.0, 100.5981867125941, 100.0, 100.0, 100.20669382371511, 101.02318163439506, 99.35684363405784, 101.21797951294435, 99.87415819440653, 100.0, 100.0, 99.81159691914287, 99.56231953631472, 99.5642268303443, 100.56344004190434, 99.09015211775646, 100.0, 100.0, 98.07341160721599, 100.69430292855321, 99.4516644017871, 98.53912442584874, 99.02893802485164, 100.0, 100.0, 101.14251293204563, 100.04010518987776, 100.0, 100.04012128059354, 98.83029308356193, 100.0, 100.0, 100.85982867348073, 100.30083776443135, 100.0, 98.94820641850265, 100.59892041554535, 100.0, 100.0, 100.42100858054492, 99.6205339966706, 100.240238098202, 99.74041321213647, 100.46139090064968, 100.0, 100.0, 100.3623924135522, 98.98365457726419, 98.77952964331453, 100.57414556555966, 98.40248688823272, 100.0, 100.0, 100.0, 101.04331220857084, 100.69375315922335, 100.49800796055877, 101.86688718837607, 100.0, 100.0, 100.7770904735389, 98.58871578674055, 99.87917564745192, 101.16113198829186, 100.80082008940177, 100.0, 100.0, 100.39167686658507, 99.4872846419078, 98.04946464984523, 99.4003612944626, 101.27529804445037, 100.0, 100.0, 98.97816404910357, 100.26115120792107, 100.40338229297305, 100.50679098058053, 103.09300606923537, 100.0, 100.0, 100.0, 97.43432677546153, 99.59440122212652, 100.75603342248587, 97.54833648170693, 100.0, 100.0, 105.42130281169399, 101.08325892459249, 98.96994352130962, 105.54692703999973, 102.89954447462428, 100.0, 100.0, 95.48724712660643, 100.76888943453734, 93.66255532292355, 100.45472798914604, 101.80976557674055, 100.0, 100.0, 105.0630133511032, 96.43922829571534, 105.20412651308615, 109.37194226404911, 96.40491839723522, 100.0, 100.0, 111.88144417833202, 92.32836705048504, 103.98882030101217, 98.08123489342377, 101.8011236229058, 100.0, 100.0, 101.65033370240873, 94.83981256579398, 101.26299729579729, 95.3257801848273, 99.74099221288002, 100.0, 100.0, 95.3739105882224, 99.70890938522302, 102.01005274703519, 100.04570488695343, 99.5450392013086, 100.0, 100.0, 99.21010544353237, 102.80743141997199, 98.28962365770063, 98.18629338097064, 100.0, 100.0, 100.0, 94.29898494902193, 97.28841477701496, 101.35332405246507, 97.76103752309456, 98.20108388338781, 100.0, 100.0, 99.18715333351538, 100.7389633196323, 99.4241443367502, 99.94046679964231, 98.45642651266758, 100.0, 100.0, 99.41725089407895, 101.00058526450661, 100.49290219633897, 97.01607192995667, 100.80986919398818, 100.0, 100.0, 99.06399641250849, 97.90536240693336, 98.94522634128892, 102.46492073509228, 98.96791287744135], \"yaxis\": \"y\"}, {\"hoverlabel\": {\"namelength\": 0}, \"hovertemplate\": \"company=BayerPharma<br>date=%{x}<br>close_diff=%{y}\", \"legendgroup\": \"company=BayerPharma\", \"line\": {\"color\": \"#EF553B\", \"dash\": \"solid\"}, \"mode\": \"lines\", \"name\": \"company=BayerPharma\", \"showlegend\": true, \"type\": \"scattergl\", \"x\": [\"2019-10-31T00:00:00\", \"2019-11-01T00:00:00\", \"2019-11-02T00:00:00\", \"2019-11-03T00:00:00\", \"2019-11-04T00:00:00\", \"2019-11-05T00:00:00\", \"2019-11-06T00:00:00\", \"2019-11-07T00:00:00\", \"2019-11-08T00:00:00\", \"2019-11-09T00:00:00\", \"2019-11-10T00:00:00\", \"2019-11-11T00:00:00\", \"2019-11-12T00:00:00\", \"2019-11-13T00:00:00\", \"2019-11-14T00:00:00\", \"2019-11-15T00:00:00\", \"2019-11-16T00:00:00\", \"2019-11-17T00:00:00\", \"2019-11-18T00:00:00\", \"2019-11-19T00:00:00\", \"2019-11-20T00:00:00\", \"2019-11-21T00:00:00\", \"2019-11-22T00:00:00\", \"2019-11-23T00:00:00\", \"2019-11-24T00:00:00\", \"2019-11-25T00:00:00\", \"2019-11-26T00:00:00\", \"2019-11-27T00:00:00\", \"2019-11-28T00:00:00\", \"2019-11-29T00:00:00\", \"2019-11-30T00:00:00\", \"2019-12-01T00:00:00\", \"2019-12-02T00:00:00\", \"2019-12-03T00:00:00\", \"2019-12-04T00:00:00\", \"2019-12-05T00:00:00\", \"2019-12-06T00:00:00\", \"2019-12-07T00:00:00\", \"2019-12-08T00:00:00\", \"2019-12-09T00:00:00\", \"2019-12-10T00:00:00\", \"2019-12-11T00:00:00\", \"2019-12-12T00:00:00\", \"2019-12-13T00:00:00\", \"2019-12-14T00:00:00\", \"2019-12-15T00:00:00\", \"2019-12-16T00:00:00\", \"2019-12-17T00:00:00\", \"2019-12-18T00:00:00\", \"2019-12-19T00:00:00\", \"2019-12-20T00:00:00\", \"2019-12-21T00:00:00\", \"2019-12-22T00:00:00\", \"2019-12-23T00:00:00\", \"2019-12-24T00:00:00\", \"2019-12-25T00:00:00\", \"2019-12-26T00:00:00\", \"2019-12-27T00:00:00\", \"2019-12-28T00:00:00\", \"2019-12-29T00:00:00\", \"2019-12-30T00:00:00\", \"2019-12-31T00:00:00\", \"2020-01-01T00:00:00\", \"2020-01-02T00:00:00\", \"2020-01-03T00:00:00\", \"2020-01-04T00:00:00\", \"2020-01-05T00:00:00\", \"2020-01-06T00:00:00\", \"2020-01-07T00:00:00\", \"2020-01-08T00:00:00\", \"2020-01-09T00:00:00\", \"2020-01-10T00:00:00\", \"2020-01-11T00:00:00\", \"2020-01-12T00:00:00\", \"2020-01-13T00:00:00\", \"2020-01-14T00:00:00\", \"2020-01-15T00:00:00\", \"2020-01-16T00:00:00\", \"2020-01-17T00:00:00\", \"2020-01-18T00:00:00\", \"2020-01-19T00:00:00\", \"2020-01-20T00:00:00\", \"2020-01-21T00:00:00\", \"2020-01-22T00:00:00\", \"2020-01-23T00:00:00\", \"2020-01-24T00:00:00\", \"2020-01-25T00:00:00\", \"2020-01-26T00:00:00\", \"2020-01-27T00:00:00\", \"2020-01-28T00:00:00\", \"2020-01-29T00:00:00\", \"2020-01-30T00:00:00\", \"2020-01-31T00:00:00\", \"2020-02-01T00:00:00\", \"2020-02-02T00:00:00\", \"2020-02-03T00:00:00\", \"2020-02-04T00:00:00\", \"2020-02-05T00:00:00\", \"2020-02-06T00:00:00\", \"2020-02-07T00:00:00\", \"2020-02-08T00:00:00\", \"2020-02-09T00:00:00\", \"2020-02-10T00:00:00\", \"2020-02-11T00:00:00\", \"2020-02-12T00:00:00\", \"2020-02-13T00:00:00\", \"2020-02-14T00:00:00\", \"2020-02-15T00:00:00\", \"2020-02-16T00:00:00\", \"2020-02-17T00:00:00\", \"2020-02-18T00:00:00\", \"2020-02-19T00:00:00\", \"2020-02-20T00:00:00\", \"2020-02-21T00:00:00\", \"2020-02-22T00:00:00\", \"2020-02-23T00:00:00\", \"2020-02-24T00:00:00\", \"2020-02-25T00:00:00\", \"2020-02-26T00:00:00\", \"2020-02-27T00:00:00\", \"2020-02-28T00:00:00\", \"2020-02-29T00:00:00\", \"2020-03-01T00:00:00\", \"2020-03-02T00:00:00\", \"2020-03-03T00:00:00\", \"2020-03-04T00:00:00\", \"2020-03-05T00:00:00\", \"2020-03-06T00:00:00\", \"2020-03-07T00:00:00\", \"2020-03-08T00:00:00\", \"2020-03-09T00:00:00\", \"2020-03-10T00:00:00\", \"2020-03-11T00:00:00\", \"2020-03-12T00:00:00\", \"2020-03-13T00:00:00\", \"2020-03-14T00:00:00\", \"2020-03-15T00:00:00\", \"2020-03-16T00:00:00\", \"2020-03-17T00:00:00\", \"2020-03-18T00:00:00\", \"2020-03-19T00:00:00\", \"2020-03-20T00:00:00\", \"2020-03-21T00:00:00\", \"2020-03-22T00:00:00\", \"2020-03-23T00:00:00\", \"2020-03-24T00:00:00\", \"2020-03-25T00:00:00\", \"2020-03-26T00:00:00\", \"2020-03-27T00:00:00\", \"2020-03-28T00:00:00\", \"2020-03-29T00:00:00\", \"2020-03-30T00:00:00\", \"2020-03-31T00:00:00\", \"2020-04-01T00:00:00\", \"2020-04-02T00:00:00\", \"2020-04-03T00:00:00\", \"2020-04-04T00:00:00\", \"2020-04-05T00:00:00\", \"2020-04-06T00:00:00\", \"2020-04-07T00:00:00\", \"2020-04-08T00:00:00\", \"2020-04-09T00:00:00\", \"2020-04-10T00:00:00\", \"2020-04-11T00:00:00\", \"2020-04-12T00:00:00\", \"2020-04-13T00:00:00\", \"2020-04-14T00:00:00\", \"2020-04-15T00:00:00\", \"2020-04-16T00:00:00\", \"2020-04-17T00:00:00\", \"2020-04-18T00:00:00\", \"2020-04-19T00:00:00\", \"2020-04-20T00:00:00\", \"2020-04-21T00:00:00\", \"2020-04-22T00:00:00\", \"2020-04-23T00:00:00\", \"2020-04-24T00:00:00\", \"2020-04-25T00:00:00\", \"2020-04-26T00:00:00\", \"2020-04-27T00:00:00\", \"2020-04-28T00:00:00\", \"2020-04-29T00:00:00\", \"2020-04-30T00:00:00\", \"2020-05-01T00:00:00\", \"2020-05-02T00:00:00\", \"2020-05-03T00:00:00\", \"2020-05-04T00:00:00\", \"2020-05-05T00:00:00\", \"2020-05-06T00:00:00\", \"2020-05-07T00:00:00\", \"2020-05-08T00:00:00\"], \"xaxis\": \"x\", \"y\": [null, 99.38650851144595, 100.0, 100.0, 98.48942026591477, 99.94967172390807, 100.05035361819992, 100.50607479914679, 101.22950699533777, 100.0, 100.0, 100.30833184025632, 100.41279632182858, 100.0, 100.05161755859582, 99.94840907138199, 100.0, 100.0, 99.94842584220412, 99.8455165472315, 101.99579381562272, 100.5279851037486, 100.05282741004022, 100.0, 100.0, 98.79958484306881, 100.94836833254514, 99.16405510703075, 100.0, 101.37711991757992, 100.0, 100.0, 99.73586294979874, 100.2648365817361, 98.12889493433377, 100.36515229288278, 100.2615022744034, 100.0, 100.0, 100.52576434838574, 99.42499368620715, 99.47997720306707, 98.7673354926441, 98.43275347558345, 100.0, 100.0, 99.0485797033457, 101.8877496157325, 99.29078322557393, 99.59636768447102, 100.3036410184585, 100.0, 100.0, 96.57869556738126, 99.75621090272455, 100.0, 99.17794935306942, 101.02589642826362, 100.0, 100.0, 100.8374388309512, 100.09861217819488, 100.0, 97.78206803496094, 102.3186941427743, 100.0, 100.0, 100.44598687426584, 100.64838440429934, 96.67309285596768, 99.56793013481743, 99.23773297209718, 100.0, 100.0, 99.8097911829706, 100.96015729079213, 99.19047582717168, 100.09533106863711, 100.1910172261632, 100.0, 100.0, 100.0, 99.76179496138276, 101.15662540297909, 96.1093091864235, 103.7980814639635, 100.0, 100.0, 101.76124605477919, 97.75227490777499, 101.11218345668382, 101.17416714700312, 100.83867820648634, 100.0, 100.0, 99.60687998915763, 97.74255850027062, 98.11498759908754, 98.92773220790578, 100.84626375788383, 100.0, 100.0, 100.61495303627535, 100.14210695608494, 99.71658258986228, 100.95374711248601, 99.76212586431835, 100.0, 100.0, 100.0, 103.24164944806805, 99.70617303761892, 100.93920187027653, 100.79720901766318, 100.0, 100.0, 105.29905696317866, 101.49094126229711, 99.78746541537026, 104.26593069423899, 100.16647490862826, 100.0, 100.0, 97.56362278115814, 103.53138540010163, 94.59172627383782, 102.38871081560896, 101.54355400257226, 100.0, 100.0, 109.93939024029358, 99.51749141089155, 105.94249410763321, 114.40057945473254, 95.33101004541349, 100.0, 100.0, 112.19703224604767, 92.4801159248717, 103.3632272452633, 99.03774898417097, 102.65957739762857, 100.0, 100.0, 102.41244713416053, 93.18346930396228, 98.78223441382949, 97.96491254839981, 101.3513483265492, 100.0, 100.0, 96.4334738901893, 100.76019111712039, 102.04513367850335, 98.26749830413843, 100.62761612015495, 100.0, 100.0, 93.97116603869567, 98.57881576317727, 100.78124927240424, 97.52380734398251, 100.0, 100.0, 100.0, 101.02629792075754, 96.05668880037287, 104.77727425469642, 99.93548239431074, 96.875, 100.0, 100.0, 101.7164683129119, 99.6200100078426, 98.19651764161085, 100.87829577796883, 98.21318564366965, 100.0, 100.0, 94.36045826932073, 99.82589216428394, 103.11191194646368, 101.58053683571222, 101.92070250938075, 100.0, 100.0, 100.87499618530273, 100.43942054917272, 101.40038361867984, 100.38338927207164, 99.30202659420033], \"yaxis\": \"y\"}, {\"hoverlabel\": {\"namelength\": 0}, \"hovertemplate\": \"company=GSK<br>date=%{x}<br>close_diff=%{y}\", \"legendgroup\": \"company=GSK\", \"line\": {\"color\": \"#00cc96\", \"dash\": \"solid\"}, \"mode\": \"lines\", \"name\": \"company=GSK\", \"showlegend\": true, \"type\": \"scattergl\", \"x\": [\"2019-10-31T00:00:00\", \"2019-11-01T00:00:00\", \"2019-11-02T00:00:00\", \"2019-11-03T00:00:00\", \"2019-11-04T00:00:00\", \"2019-11-05T00:00:00\", \"2019-11-06T00:00:00\", \"2019-11-07T00:00:00\", \"2019-11-08T00:00:00\", \"2019-11-09T00:00:00\", \"2019-11-10T00:00:00\", \"2019-11-11T00:00:00\", \"2019-11-12T00:00:00\", \"2019-11-13T00:00:00\", \"2019-11-14T00:00:00\", \"2019-11-15T00:00:00\", \"2019-11-16T00:00:00\", \"2019-11-17T00:00:00\", \"2019-11-18T00:00:00\", \"2019-11-19T00:00:00\", \"2019-11-20T00:00:00\", \"2019-11-21T00:00:00\", \"2019-11-22T00:00:00\", \"2019-11-23T00:00:00\", \"2019-11-24T00:00:00\", \"2019-11-25T00:00:00\", \"2019-11-26T00:00:00\", \"2019-11-27T00:00:00\", \"2019-11-28T00:00:00\", \"2019-11-29T00:00:00\", \"2019-11-30T00:00:00\", \"2019-12-01T00:00:00\", \"2019-12-02T00:00:00\", \"2019-12-03T00:00:00\", \"2019-12-04T00:00:00\", \"2019-12-05T00:00:00\", \"2019-12-06T00:00:00\", \"2019-12-07T00:00:00\", \"2019-12-08T00:00:00\", \"2019-12-09T00:00:00\", \"2019-12-10T00:00:00\", \"2019-12-11T00:00:00\", \"2019-12-12T00:00:00\", \"2019-12-13T00:00:00\", \"2019-12-14T00:00:00\", \"2019-12-15T00:00:00\", \"2019-12-16T00:00:00\", \"2019-12-17T00:00:00\", \"2019-12-18T00:00:00\", \"2019-12-19T00:00:00\", \"2019-12-20T00:00:00\", \"2019-12-21T00:00:00\", \"2019-12-22T00:00:00\", \"2019-12-23T00:00:00\", \"2019-12-24T00:00:00\", \"2019-12-25T00:00:00\", \"2019-12-26T00:00:00\", \"2019-12-27T00:00:00\", \"2019-12-28T00:00:00\", \"2019-12-29T00:00:00\", \"2019-12-30T00:00:00\", \"2019-12-31T00:00:00\", \"2020-01-01T00:00:00\", \"2020-01-02T00:00:00\", \"2020-01-03T00:00:00\", \"2020-01-04T00:00:00\", \"2020-01-05T00:00:00\", \"2020-01-06T00:00:00\", \"2020-01-07T00:00:00\", \"2020-01-08T00:00:00\", \"2020-01-09T00:00:00\", \"2020-01-10T00:00:00\", \"2020-01-11T00:00:00\", \"2020-01-12T00:00:00\", \"2020-01-13T00:00:00\", \"2020-01-14T00:00:00\", \"2020-01-15T00:00:00\", \"2020-01-16T00:00:00\", \"2020-01-17T00:00:00\", \"2020-01-18T00:00:00\", \"2020-01-19T00:00:00\", \"2020-01-20T00:00:00\", \"2020-01-21T00:00:00\", \"2020-01-22T00:00:00\", \"2020-01-23T00:00:00\", \"2020-01-24T00:00:00\", \"2020-01-25T00:00:00\", \"2020-01-26T00:00:00\", \"2020-01-27T00:00:00\", \"2020-01-28T00:00:00\", \"2020-01-29T00:00:00\", \"2020-01-30T00:00:00\", \"2020-01-31T00:00:00\", \"2020-02-01T00:00:00\", \"2020-02-02T00:00:00\", \"2020-02-03T00:00:00\", \"2020-02-04T00:00:00\", \"2020-02-05T00:00:00\", \"2020-02-06T00:00:00\", \"2020-02-07T00:00:00\", \"2020-02-08T00:00:00\", \"2020-02-09T00:00:00\", \"2020-02-10T00:00:00\", \"2020-02-11T00:00:00\", \"2020-02-12T00:00:00\", \"2020-02-13T00:00:00\", \"2020-02-14T00:00:00\", \"2020-02-15T00:00:00\", \"2020-02-16T00:00:00\", \"2020-02-17T00:00:00\", \"2020-02-18T00:00:00\", \"2020-02-19T00:00:00\", \"2020-02-20T00:00:00\", \"2020-02-21T00:00:00\", \"2020-02-22T00:00:00\", \"2020-02-23T00:00:00\", \"2020-02-24T00:00:00\", \"2020-02-25T00:00:00\", \"2020-02-26T00:00:00\", \"2020-02-27T00:00:00\", \"2020-02-28T00:00:00\", \"2020-02-29T00:00:00\", \"2020-03-01T00:00:00\", \"2020-03-02T00:00:00\", \"2020-03-03T00:00:00\", \"2020-03-04T00:00:00\", \"2020-03-05T00:00:00\", \"2020-03-06T00:00:00\", \"2020-03-07T00:00:00\", \"2020-03-08T00:00:00\", \"2020-03-09T00:00:00\", \"2020-03-10T00:00:00\", \"2020-03-11T00:00:00\", \"2020-03-12T00:00:00\", \"2020-03-13T00:00:00\", \"2020-03-14T00:00:00\", \"2020-03-15T00:00:00\", \"2020-03-16T00:00:00\", \"2020-03-17T00:00:00\", \"2020-03-18T00:00:00\", \"2020-03-19T00:00:00\", \"2020-03-20T00:00:00\", \"2020-03-21T00:00:00\", \"2020-03-22T00:00:00\", \"2020-03-23T00:00:00\", \"2020-03-24T00:00:00\", \"2020-03-25T00:00:00\", \"2020-03-26T00:00:00\", \"2020-03-27T00:00:00\", \"2020-03-28T00:00:00\", \"2020-03-29T00:00:00\", \"2020-03-30T00:00:00\", \"2020-03-31T00:00:00\", \"2020-04-01T00:00:00\", \"2020-04-02T00:00:00\", \"2020-04-03T00:00:00\", \"2020-04-04T00:00:00\", \"2020-04-05T00:00:00\", \"2020-04-06T00:00:00\", \"2020-04-07T00:00:00\", \"2020-04-08T00:00:00\", \"2020-04-09T00:00:00\", \"2020-04-10T00:00:00\", \"2020-04-11T00:00:00\", \"2020-04-12T00:00:00\", \"2020-04-13T00:00:00\", \"2020-04-14T00:00:00\", \"2020-04-15T00:00:00\", \"2020-04-16T00:00:00\", \"2020-04-17T00:00:00\", \"2020-04-18T00:00:00\", \"2020-04-19T00:00:00\", \"2020-04-20T00:00:00\", \"2020-04-21T00:00:00\", \"2020-04-22T00:00:00\", \"2020-04-23T00:00:00\", \"2020-04-24T00:00:00\", \"2020-04-25T00:00:00\", \"2020-04-26T00:00:00\", \"2020-04-27T00:00:00\", \"2020-04-28T00:00:00\", \"2020-04-29T00:00:00\", \"2020-04-30T00:00:00\", \"2020-05-01T00:00:00\", \"2020-05-02T00:00:00\", \"2020-05-03T00:00:00\", \"2020-05-04T00:00:00\", \"2020-05-05T00:00:00\", \"2020-05-06T00:00:00\", \"2020-05-07T00:00:00\", \"2020-05-08T00:00:00\"], \"xaxis\": \"x\", \"y\": [null, 101.1707505498953, 100.0, 100.0, 100.53298175654655, 101.71673438824176, 99.79711417639862, 100.33929321190959, 99.52724202357246, 100.0, 100.0, 100.36149989489327, 99.41598801986282, 99.6865217417672, 101.84720958147592, 99.455655074538, 100.0, 100.0, 99.45860214628128, 99.61798164281952, 101.32058710208416, 99.75016894526172, 100.04544525909216, 100.0, 100.0, 98.94334256847995, 99.26355317799346, 98.59186055246384, 100.0, 99.93403962269389, 100.0, 100.0, 101.2241247124968, 100.62709690868563, 99.06812031997076, 99.6903353406691, 99.34080587096264, 100.0, 100.0, 99.73700910854049, 98.87323848197042, 99.69756019252641, 100.78380276063486, 99.89125872649342, 100.0, 100.0, 98.08020156703661, 100.51458336536783, 99.48805103882555, 99.723468925634, 99.3448829769859, 100.0, 100.0, 101.00320434580749, 99.89338368842012, 100.0, 99.97868616165907, 99.19644520880001, 100.0, 100.0, 100.4460473158566, 100.19153043067273, 100.0, 100.14919759644793, 100.94664077246635, 100.0, 100.0, 99.95698826287382, 100.62757178375446, 99.56905674725917, 99.48552696545218, 99.70079207756119, 100.0, 100.0, 99.65921225812117, 99.80867314873248, 98.80277318311926, 100.95420009413793, 98.47567435468767, 100.0, 100.0, 100.0, 100.82105134662828, 99.39317658511884, 99.93726729508924, 101.24920634830892, 100.0, 100.0, 101.61359726201906, 99.31623995717757, 99.1735549883494, 100.44699677845645, 100.38461604297044, 100.0, 100.0, 100.14979605287809, 99.17232725278238, 104.54847848001201, 102.10693320805501, 100.43230631037714, 100.0, 100.0, 98.52051145845768, 100.42774076820895, 100.42956958778069, 101.02786837708237, 100.09144284246743, 100.0, 100.0, 100.0, 100.43628575140033, 100.13795713101446, 101.70721091110515, 99.25718779962817, 100.0, 100.0, 102.76718442933692, 101.06074887069603, 98.99760866742888, 100.74537478276908, 102.6153501239, 100.0, 100.0, 95.2526427873487, 103.02663443847794, 95.2710511898072, 101.78445249779371, 100.49551458041527, 100.0, 100.0, 104.0766203282138, 99.26865130738008, 102.88437812061045, 109.20296018849685, 96.45970883326699, 100.0, 100.0, 112.41461399612164, 91.37041943866285, 107.4970822238662, 101.84194573587449, 100.95980711865529, 100.0, 100.0, 104.67817818923808, 93.67647171020509, 95.99097051848437, 95.0872434065646, 102.22283590509613, 100.0, 100.0, 96.9148938976407, 99.234624121935, 101.8001024905196, 98.72679169092173, 101.5078120153311, 100.0, 100.0, 97.96887243243755, 101.01252619364554, 98.55566432428773, 97.94238885009547, 100.0, 100.0, 100.0, 99.84592305929719, 96.43387220575558, 101.40633193767653, 95.26315890340776, 99.3582114102157, 100.0, 100.0, 100.83892249252237, 101.26213701003479, 98.30589575982425, 99.28926973805383, 99.31764490464154, 100.0, 100.0, 99.69504793605914, 101.28296724535444, 100.5734807340918, 99.47705913406462, 102.08687364585649, 100.0, 100.0, 97.76986380218963, 100.38104272687886, 99.05638660782968, 101.65467293545522, 99.49892845326359], \"yaxis\": \"y\"}, {\"hoverlabel\": {\"namelength\": 0}, \"hovertemplate\": \"company=Merck<br>date=%{x}<br>close_diff=%{y}\", \"legendgroup\": \"company=Merck\", \"line\": {\"color\": \"#ab63fa\", \"dash\": \"solid\"}, \"mode\": \"lines\", \"name\": \"company=Merck\", \"showlegend\": true, \"type\": \"scattergl\", \"x\": [\"2019-10-31T00:00:00\", \"2019-11-01T00:00:00\", \"2019-11-02T00:00:00\", \"2019-11-03T00:00:00\", \"2019-11-04T00:00:00\", \"2019-11-05T00:00:00\", \"2019-11-06T00:00:00\", \"2019-11-07T00:00:00\", \"2019-11-08T00:00:00\", \"2019-11-09T00:00:00\", \"2019-11-10T00:00:00\", \"2019-11-11T00:00:00\", \"2019-11-12T00:00:00\", \"2019-11-13T00:00:00\", \"2019-11-14T00:00:00\", \"2019-11-15T00:00:00\", \"2019-11-16T00:00:00\", \"2019-11-17T00:00:00\", \"2019-11-18T00:00:00\", \"2019-11-19T00:00:00\", \"2019-11-20T00:00:00\", \"2019-11-21T00:00:00\", \"2019-11-22T00:00:00\", \"2019-11-23T00:00:00\", \"2019-11-24T00:00:00\", \"2019-11-25T00:00:00\", \"2019-11-26T00:00:00\", \"2019-11-27T00:00:00\", \"2019-11-28T00:00:00\", \"2019-11-29T00:00:00\", \"2019-11-30T00:00:00\", \"2019-12-01T00:00:00\", \"2019-12-02T00:00:00\", \"2019-12-03T00:00:00\", \"2019-12-04T00:00:00\", \"2019-12-05T00:00:00\", \"2019-12-06T00:00:00\", \"2019-12-07T00:00:00\", \"2019-12-08T00:00:00\", \"2019-12-09T00:00:00\", \"2019-12-10T00:00:00\", \"2019-12-11T00:00:00\", \"2019-12-12T00:00:00\", \"2019-12-13T00:00:00\", \"2019-12-14T00:00:00\", \"2019-12-15T00:00:00\", \"2019-12-16T00:00:00\", \"2019-12-17T00:00:00\", \"2019-12-18T00:00:00\", \"2019-12-19T00:00:00\", \"2019-12-20T00:00:00\", \"2019-12-21T00:00:00\", \"2019-12-22T00:00:00\", \"2019-12-23T00:00:00\", \"2019-12-24T00:00:00\", \"2019-12-25T00:00:00\", \"2019-12-26T00:00:00\", \"2019-12-27T00:00:00\", \"2019-12-28T00:00:00\", \"2019-12-29T00:00:00\", \"2019-12-30T00:00:00\", \"2019-12-31T00:00:00\", \"2020-01-01T00:00:00\", \"2020-01-02T00:00:00\", \"2020-01-03T00:00:00\", \"2020-01-04T00:00:00\", \"2020-01-05T00:00:00\", \"2020-01-06T00:00:00\", \"2020-01-07T00:00:00\", \"2020-01-08T00:00:00\", \"2020-01-09T00:00:00\", \"2020-01-10T00:00:00\", \"2020-01-11T00:00:00\", \"2020-01-12T00:00:00\", \"2020-01-13T00:00:00\", \"2020-01-14T00:00:00\", \"2020-01-15T00:00:00\", \"2020-01-16T00:00:00\", \"2020-01-17T00:00:00\", \"2020-01-18T00:00:00\", \"2020-01-19T00:00:00\", \"2020-01-20T00:00:00\", \"2020-01-21T00:00:00\", \"2020-01-22T00:00:00\", \"2020-01-23T00:00:00\", \"2020-01-24T00:00:00\", \"2020-01-25T00:00:00\", \"2020-01-26T00:00:00\", \"2020-01-27T00:00:00\", \"2020-01-28T00:00:00\", \"2020-01-29T00:00:00\", \"2020-01-30T00:00:00\", \"2020-01-31T00:00:00\", \"2020-02-01T00:00:00\", \"2020-02-02T00:00:00\", \"2020-02-03T00:00:00\", \"2020-02-04T00:00:00\", \"2020-02-05T00:00:00\", \"2020-02-06T00:00:00\", \"2020-02-07T00:00:00\", \"2020-02-08T00:00:00\", \"2020-02-09T00:00:00\", \"2020-02-10T00:00:00\", \"2020-02-11T00:00:00\", \"2020-02-12T00:00:00\", \"2020-02-13T00:00:00\", \"2020-02-14T00:00:00\", \"2020-02-15T00:00:00\", \"2020-02-16T00:00:00\", \"2020-02-17T00:00:00\", \"2020-02-18T00:00:00\", \"2020-02-19T00:00:00\", \"2020-02-20T00:00:00\", \"2020-02-21T00:00:00\", \"2020-02-22T00:00:00\", \"2020-02-23T00:00:00\", \"2020-02-24T00:00:00\", \"2020-02-25T00:00:00\", \"2020-02-26T00:00:00\", \"2020-02-27T00:00:00\", \"2020-02-28T00:00:00\", \"2020-02-29T00:00:00\", \"2020-03-01T00:00:00\", \"2020-03-02T00:00:00\", \"2020-03-03T00:00:00\", \"2020-03-04T00:00:00\", \"2020-03-05T00:00:00\", \"2020-03-06T00:00:00\", \"2020-03-07T00:00:00\", \"2020-03-08T00:00:00\", \"2020-03-09T00:00:00\", \"2020-03-10T00:00:00\", \"2020-03-11T00:00:00\", \"2020-03-12T00:00:00\", \"2020-03-13T00:00:00\", \"2020-03-14T00:00:00\", \"2020-03-15T00:00:00\", \"2020-03-16T00:00:00\", \"2020-03-17T00:00:00\", \"2020-03-18T00:00:00\", \"2020-03-19T00:00:00\", \"2020-03-20T00:00:00\", \"2020-03-21T00:00:00\", \"2020-03-22T00:00:00\", \"2020-03-23T00:00:00\", \"2020-03-24T00:00:00\", \"2020-03-25T00:00:00\", \"2020-03-26T00:00:00\", \"2020-03-27T00:00:00\", \"2020-03-28T00:00:00\", \"2020-03-29T00:00:00\", \"2020-03-30T00:00:00\", \"2020-03-31T00:00:00\", \"2020-04-01T00:00:00\", \"2020-04-02T00:00:00\", \"2020-04-03T00:00:00\", \"2020-04-04T00:00:00\", \"2020-04-05T00:00:00\", \"2020-04-06T00:00:00\", \"2020-04-07T00:00:00\", \"2020-04-08T00:00:00\", \"2020-04-09T00:00:00\", \"2020-04-10T00:00:00\", \"2020-04-11T00:00:00\", \"2020-04-12T00:00:00\", \"2020-04-13T00:00:00\", \"2020-04-14T00:00:00\", \"2020-04-15T00:00:00\", \"2020-04-16T00:00:00\", \"2020-04-17T00:00:00\", \"2020-04-18T00:00:00\", \"2020-04-19T00:00:00\", \"2020-04-20T00:00:00\", \"2020-04-21T00:00:00\", \"2020-04-22T00:00:00\", \"2020-04-23T00:00:00\", \"2020-04-24T00:00:00\", \"2020-04-25T00:00:00\", \"2020-04-26T00:00:00\", \"2020-04-27T00:00:00\", \"2020-04-28T00:00:00\", \"2020-04-29T00:00:00\", \"2020-04-30T00:00:00\", \"2020-05-01T00:00:00\", \"2020-05-02T00:00:00\", \"2020-05-03T00:00:00\", \"2020-05-04T00:00:00\", \"2020-05-05T00:00:00\", \"2020-05-06T00:00:00\", \"2020-05-07T00:00:00\", \"2020-05-08T00:00:00\"], \"xaxis\": \"x\", \"y\": [null, 102.02496017337606, 100.0, 100.0, 101.23957198642786, 101.18186611019561, 99.60360140413852, 100.4464319001492, 99.15061716045223, 100.0, 100.0, 100.37223530636123, 99.00142184990682, 99.17472653765536, 100.31933368813853, 99.58775209913935, 100.0, 100.0, 100.91525531629524, 99.38570081147374, 99.27290355154726, 99.77767090634012, 100.01170525054147, 100.0, 100.0, 99.7082847037311, 98.12228136201907, 99.69181112820465, 100.0, 100.49323274107658, 100.0, 100.0, 100.16084488531234, 99.61089912041932, 98.54516641235351, 99.90985709176937, 99.88745247513964, 100.0, 100.0, 100.1465253061647, 99.57351598212615, 100.13485627406212, 99.34130139566729, 100.42605364168212, 100.0, 100.0, 99.88800708579262, 100.30330743949985, 99.33049979343087, 99.58884862099052, 98.2638087622903, 100.0, 100.0, 99.82559839062519, 100.32807897457737, 100.0, 100.10948774635995, 99.82513260971653, 100.0, 100.0, 100.51631465122024, 100.08796243401767, 100.0, 98.8157279916962, 100.86575442797516, 100.0, 100.0, 99.57442231313188, 102.73542883955709, 100.67719919238638, 99.12732288737338, 99.83245668722873, 100.0, 100.0, 100.02234012131512, 99.53297212551978, 98.24120538098174, 100.39482409426041, 100.23084432412304, 100.0, 100.0, 100.0, 101.11148158989897, 100.35694332334377, 101.23080848840809, 103.0006909757257, 100.0, 100.0, 99.86063284632512, 99.82608518738677, 98.8652018706884, 100.85548885984916, 101.24063381121822, 100.0, 100.0, 97.82460043948949, 98.84562668015482, 102.94768580370865, 100.17507180829206, 100.70521680913045, 100.0, 100.0, 99.32290239755004, 100.48094271215176, 102.40240240240239, 101.56154539494334, 99.1772531244747, 100.0, 100.0, 100.0, 100.23041770981784, 100.56097449325934, 99.40599117898057, 100.18217334533676, 100.0, 100.0, 101.24184739222555, 101.32054968521022, 100.4128023412334, 102.38217285698346, 101.98537659473882, 100.0, 100.0, 94.08872431408352, 102.83079182473662, 95.37181642667377, 101.70384819618785, 99.24574800461625, 100.0, 100.0, 104.10334080716406, 96.26920545740789, 103.49526390292291, 106.44728441707632, 97.00325335275855, 100.0, 100.0, 109.76830951075196, 93.87754433074448, 103.97878851430451, 101.27243581757324, 99.11715632282859, 100.0, 100.0, 107.4698779676075, 96.1621992632027, 101.2166546704822, 92.77846097273587, 102.50940378938279, 100.0, 100.0, 93.21638232835845, 100.0129900006743, 104.25474154444991, 96.00624484827311, 100.81311835617315, 100.0, 100.0, 94.94459260114957, 102.22759681057114, 96.25091266231742, 98.94533259823297, 100.0, 100.0, 100.0, 102.4211533723316, 97.22356889903521, 100.93821938093046, 98.8795177046075, 99.44883885751416, 100.0, 100.0, 100.43321373882297, 105.77902374823928, 98.22454896381704, 98.88724786467974, 99.32456950792513, 100.0, 100.0, 96.9635592405019, 103.44912914662714, 100.50761876829245, 101.80237001661274, 102.15012000555579, 100.0, 100.0, 101.05386098381668, 98.52582810615665, 101.15404481062195, 102.01058770256624, 98.95287560761786], \"yaxis\": \"y\"}, {\"hoverlabel\": {\"namelength\": 0}, \"hovertemplate\": \"company=Novartis<br>date=%{x}<br>close_diff=%{y}\", \"legendgroup\": \"company=Novartis\", \"line\": {\"color\": \"#FFA15A\", \"dash\": \"solid\"}, \"mode\": \"lines\", \"name\": \"company=Novartis\", \"showlegend\": true, \"type\": \"scattergl\", \"x\": [\"2019-10-31T00:00:00\", \"2019-11-01T00:00:00\", \"2019-11-02T00:00:00\", \"2019-11-03T00:00:00\", \"2019-11-04T00:00:00\", \"2019-11-05T00:00:00\", \"2019-11-06T00:00:00\", \"2019-11-07T00:00:00\", \"2019-11-08T00:00:00\", \"2019-11-09T00:00:00\", \"2019-11-10T00:00:00\", \"2019-11-11T00:00:00\", \"2019-11-12T00:00:00\", \"2019-11-13T00:00:00\", \"2019-11-14T00:00:00\", \"2019-11-15T00:00:00\", \"2019-11-16T00:00:00\", \"2019-11-17T00:00:00\", \"2019-11-18T00:00:00\", \"2019-11-19T00:00:00\", \"2019-11-20T00:00:00\", \"2019-11-21T00:00:00\", \"2019-11-22T00:00:00\", \"2019-11-23T00:00:00\", \"2019-11-24T00:00:00\", \"2019-11-25T00:00:00\", \"2019-11-26T00:00:00\", \"2019-11-27T00:00:00\", \"2019-11-28T00:00:00\", \"2019-11-29T00:00:00\", \"2019-11-30T00:00:00\", \"2019-12-01T00:00:00\", \"2019-12-02T00:00:00\", \"2019-12-03T00:00:00\", \"2019-12-04T00:00:00\", \"2019-12-05T00:00:00\", \"2019-12-06T00:00:00\", \"2019-12-07T00:00:00\", \"2019-12-08T00:00:00\", \"2019-12-09T00:00:00\", \"2019-12-10T00:00:00\", \"2019-12-11T00:00:00\", \"2019-12-12T00:00:00\", \"2019-12-13T00:00:00\", \"2019-12-14T00:00:00\", \"2019-12-15T00:00:00\", \"2019-12-16T00:00:00\", \"2019-12-17T00:00:00\", \"2019-12-18T00:00:00\", \"2019-12-19T00:00:00\", \"2019-12-20T00:00:00\", \"2019-12-21T00:00:00\", \"2019-12-22T00:00:00\", \"2019-12-23T00:00:00\", \"2019-12-24T00:00:00\", \"2019-12-25T00:00:00\", \"2019-12-26T00:00:00\", \"2019-12-27T00:00:00\", \"2019-12-28T00:00:00\", \"2019-12-29T00:00:00\", \"2019-12-30T00:00:00\", \"2019-12-31T00:00:00\", \"2020-01-01T00:00:00\", \"2020-01-02T00:00:00\", \"2020-01-03T00:00:00\", \"2020-01-04T00:00:00\", \"2020-01-05T00:00:00\", \"2020-01-06T00:00:00\", \"2020-01-07T00:00:00\", \"2020-01-08T00:00:00\", \"2020-01-09T00:00:00\", \"2020-01-10T00:00:00\", \"2020-01-11T00:00:00\", \"2020-01-12T00:00:00\", \"2020-01-13T00:00:00\", \"2020-01-14T00:00:00\", \"2020-01-15T00:00:00\", \"2020-01-16T00:00:00\", \"2020-01-17T00:00:00\", \"2020-01-18T00:00:00\", \"2020-01-19T00:00:00\", \"2020-01-20T00:00:00\", \"2020-01-21T00:00:00\", \"2020-01-22T00:00:00\", \"2020-01-23T00:00:00\", \"2020-01-24T00:00:00\", \"2020-01-25T00:00:00\", \"2020-01-26T00:00:00\", \"2020-01-27T00:00:00\", \"2020-01-28T00:00:00\", \"2020-01-29T00:00:00\", \"2020-01-30T00:00:00\", \"2020-01-31T00:00:00\", \"2020-02-01T00:00:00\", \"2020-02-02T00:00:00\", \"2020-02-03T00:00:00\", \"2020-02-04T00:00:00\", \"2020-02-05T00:00:00\", \"2020-02-06T00:00:00\", \"2020-02-07T00:00:00\", \"2020-02-08T00:00:00\", \"2020-02-09T00:00:00\", \"2020-02-10T00:00:00\", \"2020-02-11T00:00:00\", \"2020-02-12T00:00:00\", \"2020-02-13T00:00:00\", \"2020-02-14T00:00:00\", \"2020-02-15T00:00:00\", \"2020-02-16T00:00:00\", \"2020-02-17T00:00:00\", \"2020-02-18T00:00:00\", \"2020-02-19T00:00:00\", \"2020-02-20T00:00:00\", \"2020-02-21T00:00:00\", \"2020-02-22T00:00:00\", \"2020-02-23T00:00:00\", \"2020-02-24T00:00:00\", \"2020-02-25T00:00:00\", \"2020-02-26T00:00:00\", \"2020-02-27T00:00:00\", \"2020-02-28T00:00:00\", \"2020-02-29T00:00:00\", \"2020-03-01T00:00:00\", \"2020-03-02T00:00:00\", \"2020-03-03T00:00:00\", \"2020-03-04T00:00:00\", \"2020-03-05T00:00:00\", \"2020-03-06T00:00:00\", \"2020-03-07T00:00:00\", \"2020-03-08T00:00:00\", \"2020-03-09T00:00:00\", \"2020-03-10T00:00:00\", \"2020-03-11T00:00:00\", \"2020-03-12T00:00:00\", \"2020-03-13T00:00:00\", \"2020-03-14T00:00:00\", \"2020-03-15T00:00:00\", \"2020-03-16T00:00:00\", \"2020-03-17T00:00:00\", \"2020-03-18T00:00:00\", \"2020-03-19T00:00:00\", \"2020-03-20T00:00:00\", \"2020-03-21T00:00:00\", \"2020-03-22T00:00:00\", \"2020-03-23T00:00:00\", \"2020-03-24T00:00:00\", \"2020-03-25T00:00:00\", \"2020-03-26T00:00:00\", \"2020-03-27T00:00:00\", \"2020-03-28T00:00:00\", \"2020-03-29T00:00:00\", \"2020-03-30T00:00:00\", \"2020-03-31T00:00:00\", \"2020-04-01T00:00:00\", \"2020-04-02T00:00:00\", \"2020-04-03T00:00:00\", \"2020-04-04T00:00:00\", \"2020-04-05T00:00:00\", \"2020-04-06T00:00:00\", \"2020-04-07T00:00:00\", \"2020-04-08T00:00:00\", \"2020-04-09T00:00:00\", \"2020-04-10T00:00:00\", \"2020-04-11T00:00:00\", \"2020-04-12T00:00:00\", \"2020-04-13T00:00:00\", \"2020-04-14T00:00:00\", \"2020-04-15T00:00:00\", \"2020-04-16T00:00:00\", \"2020-04-17T00:00:00\", \"2020-04-18T00:00:00\", \"2020-04-19T00:00:00\", \"2020-04-20T00:00:00\", \"2020-04-21T00:00:00\", \"2020-04-22T00:00:00\", \"2020-04-23T00:00:00\", \"2020-04-24T00:00:00\", \"2020-04-25T00:00:00\", \"2020-04-26T00:00:00\", \"2020-04-27T00:00:00\", \"2020-04-28T00:00:00\", \"2020-04-29T00:00:00\", \"2020-04-30T00:00:00\", \"2020-05-01T00:00:00\", \"2020-05-02T00:00:00\", \"2020-05-03T00:00:00\", \"2020-05-04T00:00:00\", \"2020-05-05T00:00:00\", \"2020-05-06T00:00:00\", \"2020-05-07T00:00:00\", \"2020-05-08T00:00:00\"], \"xaxis\": \"x\", \"y\": [null, 99.78318519004141, 100.0, 100.0, 99.65881604604049, 101.1969167025351, 99.34827383856512, 100.5402934041212, 98.43837859010831, 100.0, 100.0, 99.70665179409569, 99.26083138611034, 99.36568029050451, 100.3910160493443, 99.41137408495354, 100.0, 100.0, 99.67895393595836, 99.92256671057226, 99.85640422493003, 100.0, 100.05525576979264, 100.0, 100.0, 99.10186235770513, 99.10985706646142, 99.92407018877272, 100.0, 99.88082274462128, 100.0, 100.0, 100.9515506329193, 100.45045449047554, 99.41022178907139, 99.91269987823274, 99.53296371608444, 100.0, 100.0, 99.50286491890068, 99.70904712976105, 99.74204873021503, 99.97851209586179, 100.07527658504391, 100.0, 100.0, 99.91404122561832, 99.42313757931154, 100.38605963576575, 98.91800500754401, 99.97878431194538, 100.0, 100.0, 99.38863516995566, 100.05273470989111, 100.0, 100.01054966405233, 99.41280783070088, 100.0, 100.0, 100.86726564606812, 99.85214976656583, 100.0, 99.72617744582163, 100.16878998962922, 100.0, 100.0, 99.32935199874066, 101.0055005445472, 100.0, 99.69400306383356, 100.96952485275659, 100.0, 100.0, 100.16006992566898, 99.29010575498715, 99.76744056633011, 99.4742376361488, 99.13478387531089, 100.0, 100.0, 100.0, 100.77739031914096, 99.97899732879036, 100.3055214086827, 101.11856332336318, 100.0, 100.0, 100.18143629015673, 98.07410095284382, 99.79110408115243, 99.81234329794422, 101.49190138699014, 100.0, 100.0, 100.27586433552307, 99.10620558595235, 98.6821581028688, 99.39150542134742, 101.17916856081264, 100.0, 100.0, 98.3678953317847, 99.17539940923649, 99.21220203770558, 101.26828836630834, 100.14339792439515, 100.0, 100.0, 100.0, 100.44238715913202, 99.97942370684042, 100.96583268909889, 99.51426084091915, 100.0, 100.0, 107.41563073866733, 102.42183622139976, 100.96429380324308, 101.2671518365759, 102.45354642812845, 100.0, 100.0, 96.65016280637349, 103.88662986516447, 95.40216918523726, 102.14427691368799, 100.10498872679541, 100.0, 100.0, 105.22956320170458, 95.891703367693, 103.42098560929362, 110.8950988633366, 93.04107414514077, 100.0, 100.0, 108.84605041659165, 95.04873591982542, 102.65474638216978, 99.20593105676609, 104.33581810140795, 100.0, 100.0, 102.47629835197733, 96.07123506584347, 95.66913531345014, 96.42588594121845, 100.58022085211331, 100.0, 100.0, 96.80097350699785, 99.33293457523287, 101.87816216154049, 96.8062222276573, 99.9521748973945, 100.0, 100.0, 97.56210908031404, 102.07168179237999, 98.09623355463211, 100.90748884656232, 100.0, 100.0, 100.0, 100.77197333662431, 97.65715119013952, 100.71253429038967, 97.7952932545224, 98.0400940955801, 100.0, 100.0, 99.45422380214765, 101.71066295871336, 99.96601765837559, 100.22701995584652, 98.93317850075249, 100.0, 100.0, 99.39726162718412, 101.76055816247715, 102.71847142217132, 101.15661004214851, 101.5825436241095, 100.0, 100.0, 99.29762340727306, 99.11504424778761, 99.29701407750696, 100.80311836527851, 99.69386302214033], \"yaxis\": \"y\"}, {\"hoverlabel\": {\"namelength\": 0}, \"hovertemplate\": \"company=Pfizer<br>date=%{x}<br>close_diff=%{y}\", \"legendgroup\": \"company=Pfizer\", \"line\": {\"color\": \"#19d3f3\", \"dash\": \"solid\"}, \"mode\": \"lines\", \"name\": \"company=Pfizer\", \"showlegend\": true, \"type\": \"scattergl\", \"x\": [\"2019-10-31T00:00:00\", \"2019-11-01T00:00:00\", \"2019-11-02T00:00:00\", \"2019-11-03T00:00:00\", \"2019-11-04T00:00:00\", \"2019-11-05T00:00:00\", \"2019-11-06T00:00:00\", \"2019-11-07T00:00:00\", \"2019-11-08T00:00:00\", \"2019-11-09T00:00:00\", \"2019-11-10T00:00:00\", \"2019-11-11T00:00:00\", \"2019-11-12T00:00:00\", \"2019-11-13T00:00:00\", \"2019-11-14T00:00:00\", \"2019-11-15T00:00:00\", \"2019-11-16T00:00:00\", \"2019-11-17T00:00:00\", \"2019-11-18T00:00:00\", \"2019-11-19T00:00:00\", \"2019-11-20T00:00:00\", \"2019-11-21T00:00:00\", \"2019-11-22T00:00:00\", \"2019-11-23T00:00:00\", \"2019-11-24T00:00:00\", \"2019-11-25T00:00:00\", \"2019-11-26T00:00:00\", \"2019-11-27T00:00:00\", \"2019-11-28T00:00:00\", \"2019-11-29T00:00:00\", \"2019-11-30T00:00:00\", \"2019-12-01T00:00:00\", \"2019-12-02T00:00:00\", \"2019-12-03T00:00:00\", \"2019-12-04T00:00:00\", \"2019-12-05T00:00:00\", \"2019-12-06T00:00:00\", \"2019-12-07T00:00:00\", \"2019-12-08T00:00:00\", \"2019-12-09T00:00:00\", \"2019-12-10T00:00:00\", \"2019-12-11T00:00:00\", \"2019-12-12T00:00:00\", \"2019-12-13T00:00:00\", \"2019-12-14T00:00:00\", \"2019-12-15T00:00:00\", \"2019-12-16T00:00:00\", \"2019-12-17T00:00:00\", \"2019-12-18T00:00:00\", \"2019-12-19T00:00:00\", \"2019-12-20T00:00:00\", \"2019-12-21T00:00:00\", \"2019-12-22T00:00:00\", \"2019-12-23T00:00:00\", \"2019-12-24T00:00:00\", \"2019-12-25T00:00:00\", \"2019-12-26T00:00:00\", \"2019-12-27T00:00:00\", \"2019-12-28T00:00:00\", \"2019-12-29T00:00:00\", \"2019-12-30T00:00:00\", \"2019-12-31T00:00:00\", \"2020-01-01T00:00:00\", \"2020-01-02T00:00:00\", \"2020-01-03T00:00:00\", \"2020-01-04T00:00:00\", \"2020-01-05T00:00:00\", \"2020-01-06T00:00:00\", \"2020-01-07T00:00:00\", \"2020-01-08T00:00:00\", \"2020-01-09T00:00:00\", \"2020-01-10T00:00:00\", \"2020-01-11T00:00:00\", \"2020-01-12T00:00:00\", \"2020-01-13T00:00:00\", \"2020-01-14T00:00:00\", \"2020-01-15T00:00:00\", \"2020-01-16T00:00:00\", \"2020-01-17T00:00:00\", \"2020-01-18T00:00:00\", \"2020-01-19T00:00:00\", \"2020-01-20T00:00:00\", \"2020-01-21T00:00:00\", \"2020-01-22T00:00:00\", \"2020-01-23T00:00:00\", \"2020-01-24T00:00:00\", \"2020-01-25T00:00:00\", \"2020-01-26T00:00:00\", \"2020-01-27T00:00:00\", \"2020-01-28T00:00:00\", \"2020-01-29T00:00:00\", \"2020-01-30T00:00:00\", \"2020-01-31T00:00:00\", \"2020-02-01T00:00:00\", \"2020-02-02T00:00:00\", \"2020-02-03T00:00:00\", \"2020-02-04T00:00:00\", \"2020-02-05T00:00:00\", \"2020-02-06T00:00:00\", \"2020-02-07T00:00:00\", \"2020-02-08T00:00:00\", \"2020-02-09T00:00:00\", \"2020-02-10T00:00:00\", \"2020-02-11T00:00:00\", \"2020-02-12T00:00:00\", \"2020-02-13T00:00:00\", \"2020-02-14T00:00:00\", \"2020-02-15T00:00:00\", \"2020-02-16T00:00:00\", \"2020-02-17T00:00:00\", \"2020-02-18T00:00:00\", \"2020-02-19T00:00:00\", \"2020-02-20T00:00:00\", \"2020-02-21T00:00:00\", \"2020-02-22T00:00:00\", \"2020-02-23T00:00:00\", \"2020-02-24T00:00:00\", \"2020-02-25T00:00:00\", \"2020-02-26T00:00:00\", \"2020-02-27T00:00:00\", \"2020-02-28T00:00:00\", \"2020-02-29T00:00:00\", \"2020-03-01T00:00:00\", \"2020-03-02T00:00:00\", \"2020-03-03T00:00:00\", \"2020-03-04T00:00:00\", \"2020-03-05T00:00:00\", \"2020-03-06T00:00:00\", \"2020-03-07T00:00:00\", \"2020-03-08T00:00:00\", \"2020-03-09T00:00:00\", \"2020-03-10T00:00:00\", \"2020-03-11T00:00:00\", \"2020-03-12T00:00:00\", \"2020-03-13T00:00:00\", \"2020-03-14T00:00:00\", \"2020-03-15T00:00:00\", \"2020-03-16T00:00:00\", \"2020-03-17T00:00:00\", \"2020-03-18T00:00:00\", \"2020-03-19T00:00:00\", \"2020-03-20T00:00:00\", \"2020-03-21T00:00:00\", \"2020-03-22T00:00:00\", \"2020-03-23T00:00:00\", \"2020-03-24T00:00:00\", \"2020-03-25T00:00:00\", \"2020-03-26T00:00:00\", \"2020-03-27T00:00:00\", \"2020-03-28T00:00:00\", \"2020-03-29T00:00:00\", \"2020-03-30T00:00:00\", \"2020-03-31T00:00:00\", \"2020-04-01T00:00:00\", \"2020-04-02T00:00:00\", \"2020-04-03T00:00:00\", \"2020-04-04T00:00:00\", \"2020-04-05T00:00:00\", \"2020-04-06T00:00:00\", \"2020-04-07T00:00:00\", \"2020-04-08T00:00:00\", \"2020-04-09T00:00:00\", \"2020-04-10T00:00:00\", \"2020-04-11T00:00:00\", \"2020-04-12T00:00:00\", \"2020-04-13T00:00:00\", \"2020-04-14T00:00:00\", \"2020-04-15T00:00:00\", \"2020-04-16T00:00:00\", \"2020-04-17T00:00:00\", \"2020-04-18T00:00:00\", \"2020-04-19T00:00:00\", \"2020-04-20T00:00:00\", \"2020-04-21T00:00:00\", \"2020-04-22T00:00:00\", \"2020-04-23T00:00:00\", \"2020-04-24T00:00:00\", \"2020-04-25T00:00:00\", \"2020-04-26T00:00:00\", \"2020-04-27T00:00:00\", \"2020-04-28T00:00:00\", \"2020-04-29T00:00:00\", \"2020-04-30T00:00:00\", \"2020-05-01T00:00:00\", \"2020-05-02T00:00:00\", \"2020-05-03T00:00:00\", \"2020-05-04T00:00:00\", \"2020-05-05T00:00:00\", \"2020-05-06T00:00:00\", \"2020-05-07T00:00:00\", \"2020-05-08T00:00:00\"], \"xaxis\": \"x\", \"y\": [null, 99.94790190653387, 100.0, 100.0, 100.94662272392061, 101.46744728862859, 99.65434441370508, 101.89650708705851, 99.62213389330276, 100.0, 100.0, 100.3249361789687, 99.89180169270607, 101.01093650821778, 100.13679682107859, 98.04184665735093, 100.0, 100.0, 100.16119708926925, 98.83165526157268, 101.646425432963, 98.17169472517554, 98.46073539159114, 100.0, 100.0, 99.0951435590494, 101.01854108206689, 99.11985466428445, 100.0, 100.28556752088352, 100.0, 100.0, 100.60067781858699, 100.63075343831554, 99.76402686411076, 100.28924694683776, 99.3209659701914, 100.0, 100.0, 99.92171508471873, 99.58419997579135, 100.68026769552367, 99.16969463616363, 100.54787131343812, 100.0, 100.0, 97.93051208169416, 100.61696106518112, 100.02571904445216, 99.7947091902779, 99.33724617749925, 100.0, 100.0, 99.77110846061441, 100.0763521980093, 100.0, 99.7714572114099, 100.15259759348092, 100.0, 100.0, 101.0537133102543, 99.31087173134094, 100.0, 100.1021995813774, 100.53942738974173, 100.0, 100.0, 100.12859885721956, 100.33548662739413, 99.20634571840289, 100.43713547521378, 98.48062227572522, 100.0, 100.0, 100.20299881087145, 98.35288282396128, 98.52471477468804, 100.14774084632359, 100.24685828921697, 100.0, 100.0, 100.0, 100.42141340679794, 100.37323098035446, 98.72267140884802, 102.23505624427244, 100.0, 100.0, 99.15338607101664, 105.2962781596476, 101.49014776824994, 101.3757813337713, 99.5434963051012, 100.0, 100.0, 99.28020086604107, 99.52241891288311, 98.74246904568402, 99.76476697193884, 100.55190299259749, 100.0, 100.0, 100.63474703795983, 99.26490213133314, 100.9273939018418, 102.19334244949219, 101.15037524774375, 100.0, 100.0, 100.0, 100.52312397661187, 100.24841334177488, 101.05997513051372, 100.36393406768033, 100.0, 100.0, 103.02856390889093, 102.1809544860412, 97.7246518209905, 101.81818995403347, 102.03471077927124, 100.0, 100.0, 95.81421199982543, 101.69096747508961, 94.23076318465169, 102.6508811778787, 101.25642096218603, 100.0, 100.0, 103.73223400140634, 97.60045727842358, 107.52254311900673, 107.16188433843148, 91.77621919290753, 100.0, 100.0, 108.38303099308779, 93.84328497627261, 99.3819506824253, 106.37738504007908, 104.860392403611, 100.0, 100.0, 101.82520344661718, 95.92592269111601, 99.8319353376116, 93.7007874015748, 102.75081032997811, 100.0, 100.0, 94.58218962467676, 100.09190802652519, 102.80314768393211, 96.59264080231428, 97.71105686166982, 100.0, 100.0, 97.30980528381372, 102.85628999416619, 97.13873437159253, 97.76772837199194, 100.0, 100.0, 100.0, 100.71143996682493, 96.43249372652916, 101.3066371700186, 100.25083653820698, 97.2094316349094, 100.0, 100.0, 102.30043784433245, 101.29141749849451, 98.26206601899247, 98.80076684879275, 98.15408661934252, 100.0, 100.0, 97.52152173869771, 101.10789233799284, 99.4491104660105, 99.37434391384753, 101.9128619351177, 100.0, 100.0, 100.05316442937672, 97.68891345510453, 100.0, 104.19372098337449, 99.30144511632673], \"yaxis\": \"y\"}, {\"hoverlabel\": {\"namelength\": 0}, \"hovertemplate\": \"company=Roche<br>date=%{x}<br>close_diff=%{y}\", \"legendgroup\": \"company=Roche\", \"line\": {\"color\": \"#FF6692\", \"dash\": \"solid\"}, \"mode\": \"lines\", \"name\": \"company=Roche\", \"showlegend\": true, \"type\": \"scattergl\", \"x\": [\"2019-10-31T00:00:00\", \"2019-11-01T00:00:00\", \"2019-11-02T00:00:00\", \"2019-11-03T00:00:00\", \"2019-11-04T00:00:00\", \"2019-11-05T00:00:00\", \"2019-11-06T00:00:00\", \"2019-11-07T00:00:00\", \"2019-11-08T00:00:00\", \"2019-11-09T00:00:00\", \"2019-11-10T00:00:00\", \"2019-11-11T00:00:00\", \"2019-11-12T00:00:00\", \"2019-11-13T00:00:00\", \"2019-11-14T00:00:00\", \"2019-11-15T00:00:00\", \"2019-11-16T00:00:00\", \"2019-11-17T00:00:00\", \"2019-11-18T00:00:00\", \"2019-11-19T00:00:00\", \"2019-11-20T00:00:00\", \"2019-11-21T00:00:00\", \"2019-11-22T00:00:00\", \"2019-11-23T00:00:00\", \"2019-11-24T00:00:00\", \"2019-11-25T00:00:00\", \"2019-11-26T00:00:00\", \"2019-11-27T00:00:00\", \"2019-11-28T00:00:00\", \"2019-11-29T00:00:00\", \"2019-11-30T00:00:00\", \"2019-12-01T00:00:00\", \"2019-12-02T00:00:00\", \"2019-12-03T00:00:00\", \"2019-12-04T00:00:00\", \"2019-12-05T00:00:00\", \"2019-12-06T00:00:00\", \"2019-12-07T00:00:00\", \"2019-12-08T00:00:00\", \"2019-12-09T00:00:00\", \"2019-12-10T00:00:00\", \"2019-12-11T00:00:00\", \"2019-12-12T00:00:00\", \"2019-12-13T00:00:00\", \"2019-12-14T00:00:00\", \"2019-12-15T00:00:00\", \"2019-12-16T00:00:00\", \"2019-12-17T00:00:00\", \"2019-12-18T00:00:00\", \"2019-12-19T00:00:00\", \"2019-12-20T00:00:00\", \"2019-12-21T00:00:00\", \"2019-12-22T00:00:00\", \"2019-12-23T00:00:00\", \"2019-12-24T00:00:00\", \"2019-12-25T00:00:00\", \"2019-12-26T00:00:00\", \"2019-12-27T00:00:00\", \"2019-12-28T00:00:00\", \"2019-12-29T00:00:00\", \"2019-12-30T00:00:00\", \"2019-12-31T00:00:00\", \"2020-01-01T00:00:00\", \"2020-01-02T00:00:00\", \"2020-01-03T00:00:00\", \"2020-01-04T00:00:00\", \"2020-01-05T00:00:00\", \"2020-01-06T00:00:00\", \"2020-01-07T00:00:00\", \"2020-01-08T00:00:00\", \"2020-01-09T00:00:00\", \"2020-01-10T00:00:00\", \"2020-01-11T00:00:00\", \"2020-01-12T00:00:00\", \"2020-01-13T00:00:00\", \"2020-01-14T00:00:00\", \"2020-01-15T00:00:00\", \"2020-01-16T00:00:00\", \"2020-01-17T00:00:00\", \"2020-01-18T00:00:00\", \"2020-01-19T00:00:00\", \"2020-01-20T00:00:00\", \"2020-01-21T00:00:00\", \"2020-01-22T00:00:00\", \"2020-01-23T00:00:00\", \"2020-01-24T00:00:00\", \"2020-01-25T00:00:00\", \"2020-01-26T00:00:00\", \"2020-01-27T00:00:00\", \"2020-01-28T00:00:00\", \"2020-01-29T00:00:00\", \"2020-01-30T00:00:00\", \"2020-01-31T00:00:00\", \"2020-02-01T00:00:00\", \"2020-02-02T00:00:00\", \"2020-02-03T00:00:00\", \"2020-02-04T00:00:00\", \"2020-02-05T00:00:00\", \"2020-02-06T00:00:00\", \"2020-02-07T00:00:00\", \"2020-02-08T00:00:00\", \"2020-02-09T00:00:00\", \"2020-02-10T00:00:00\", \"2020-02-11T00:00:00\", \"2020-02-12T00:00:00\", \"2020-02-13T00:00:00\", \"2020-02-14T00:00:00\", \"2020-02-15T00:00:00\", \"2020-02-16T00:00:00\", \"2020-02-17T00:00:00\", \"2020-02-18T00:00:00\", \"2020-02-19T00:00:00\", \"2020-02-20T00:00:00\", \"2020-02-21T00:00:00\", \"2020-02-22T00:00:00\", \"2020-02-23T00:00:00\", \"2020-02-24T00:00:00\", \"2020-02-25T00:00:00\", \"2020-02-26T00:00:00\", \"2020-02-27T00:00:00\", \"2020-02-28T00:00:00\", \"2020-02-29T00:00:00\", \"2020-03-01T00:00:00\", \"2020-03-02T00:00:00\", \"2020-03-03T00:00:00\", \"2020-03-04T00:00:00\", \"2020-03-05T00:00:00\", \"2020-03-06T00:00:00\", \"2020-03-07T00:00:00\", \"2020-03-08T00:00:00\", \"2020-03-09T00:00:00\", \"2020-03-10T00:00:00\", \"2020-03-11T00:00:00\", \"2020-03-12T00:00:00\", \"2020-03-13T00:00:00\", \"2020-03-14T00:00:00\", \"2020-03-15T00:00:00\", \"2020-03-16T00:00:00\", \"2020-03-17T00:00:00\", \"2020-03-18T00:00:00\", \"2020-03-19T00:00:00\", \"2020-03-20T00:00:00\", \"2020-03-21T00:00:00\", \"2020-03-22T00:00:00\", \"2020-03-23T00:00:00\", \"2020-03-24T00:00:00\", \"2020-03-25T00:00:00\", \"2020-03-26T00:00:00\", \"2020-03-27T00:00:00\", \"2020-03-28T00:00:00\", \"2020-03-29T00:00:00\", \"2020-03-30T00:00:00\", \"2020-03-31T00:00:00\", \"2020-04-01T00:00:00\", \"2020-04-02T00:00:00\", \"2020-04-03T00:00:00\", \"2020-04-04T00:00:00\", \"2020-04-05T00:00:00\", \"2020-04-06T00:00:00\", \"2020-04-07T00:00:00\", \"2020-04-08T00:00:00\", \"2020-04-09T00:00:00\", \"2020-04-10T00:00:00\", \"2020-04-11T00:00:00\", \"2020-04-12T00:00:00\", \"2020-04-13T00:00:00\", \"2020-04-14T00:00:00\", \"2020-04-15T00:00:00\", \"2020-04-16T00:00:00\", \"2020-04-17T00:00:00\", \"2020-04-18T00:00:00\", \"2020-04-19T00:00:00\", \"2020-04-20T00:00:00\", \"2020-04-21T00:00:00\", \"2020-04-22T00:00:00\", \"2020-04-23T00:00:00\", \"2020-04-24T00:00:00\", \"2020-04-25T00:00:00\", \"2020-04-26T00:00:00\", \"2020-04-27T00:00:00\", \"2020-04-28T00:00:00\", \"2020-04-29T00:00:00\", \"2020-04-30T00:00:00\", \"2020-05-01T00:00:00\", \"2020-05-02T00:00:00\", \"2020-05-03T00:00:00\", \"2020-05-04T00:00:00\", \"2020-05-05T00:00:00\", \"2020-05-06T00:00:00\", \"2020-05-07T00:00:00\", \"2020-05-08T00:00:00\"], \"xaxis\": \"x\", \"y\": [null, 99.78779355587355, 100.0, 100.0, 100.2926326414074, 101.5945950069943, 99.70358229980498, 99.86544876946756, 99.38486347689002, 100.0, 100.0, 99.54738557660579, 100.18671563534345, 99.70745531883463, 100.69629973345135, 99.49374198537464, 100.0, 100.0, 98.6852484458343, 99.29503795524256, 100.34058442324213, 99.84305159819652, 100.42027803702311, 100.0, 100.0, 98.9345118183744, 99.22640730659148, 100.59662658051423, 100.0, 99.94814504038911, 100.0, 100.0, 100.39042564556952, 100.60225072141134, 99.14329743734937, 100.2341924326651, 99.63702517304603, 100.0, 100.0, 100.44270354737029, 100.0, 99.76617264571792, 100.13008078445422, 100.7337494245715, 100.0, 100.0, 98.83449687690809, 99.89650475045761, 99.28076348034436, 98.85728605704941, 98.74623874972822, 100.0, 100.0, 98.8351984540785, 100.02478513013233, 100.0, 99.95044485267292, 99.31102661539853, 100.0, 100.0, 99.7790322769472, 100.17215862047937, 100.0, 99.43751639601503, 100.59040062671767, 100.0, 100.0, 99.09800358908885, 100.78624002168472, 99.65720032045698, 99.95105125436879, 99.58567347306114, 100.0, 100.0, 99.65994803042271, 99.97571117980489, 99.13336398069987, 99.4970081809038, 98.42056058966122, 100.0, 100.0, 100.0, 99.92932251247369, 99.6946898484621, 100.4482246854022, 102.88834612784625, 100.0, 100.0, 100.56138524623744, 99.46589605889622, 99.32480688268134, 97.55352354294669, 101.69856243404702, 100.0, 100.0, 99.83281658321008, 98.77329449103355, 97.31404511763866, 100.29933471609887, 100.25392569512115, 100.0, 100.0, 99.74671745434352, 100.04607338823767, 100.04609462559348, 99.33607849473165, 100.66835888362912, 100.0, 100.0, 100.0, 98.39002469605684, 98.59154689344372, 101.98358166844037, 99.61390376184781, 100.0, 100.0, 103.50258070451916, 101.89221776174213, 99.05100471791604, 103.35949678173493, 102.23113412701481, 100.0, 100.0, 96.82038507516388, 99.06227605622124, 95.30247647632457, 101.27639646115784, 102.52201143011487, 100.0, 100.0, 106.18998695022776, 96.7489659708675, 104.44217962676929, 109.842956636434, 88.48635365386951, 100.0, 100.0, 107.92715338076266, 95.03690323873518, 104.18987501833503, 96.81642707528097, 107.92463451997654, 100.0, 100.0, 102.35394744913475, 94.8614475612004, 99.67819055072196, 96.15781869347302, 99.51243922131235, 100.0, 100.0, 95.32778914504037, 100.76411480311289, 99.43627562123234, 97.95917825287421, 101.2889168476684, 100.0, 100.0, 98.72748481494096, 104.0729661406064, 99.18216101899219, 101.50943012357507, 100.0, 100.0, 100.0, 100.9139391112714, 96.5441179564255, 101.77101292534374, 95.93203942164116, 98.02955634168127, 100.0, 100.0, 98.65772268306795, 99.67704868609853, 97.11021296333959, 101.04119303145131, 98.04704606902908, 100.0, 100.0, 100.37870792148371, 99.13869390423491, 103.42622211471905, 100.71312985941697, 101.47059072332236, 100.0, 100.0, 96.81355966686529, 101.2354173572133, 98.5347125407225, 101.44066104438613, 99.2960913559343], \"yaxis\": \"y\"}, {\"hoverlabel\": {\"namelength\": 0}, \"hovertemplate\": \"company=Sanofi<br>date=%{x}<br>close_diff=%{y}\", \"legendgroup\": \"company=Sanofi\", \"line\": {\"color\": \"#B6E880\", \"dash\": \"solid\"}, \"mode\": \"lines\", \"name\": \"company=Sanofi\", \"showlegend\": true, \"type\": \"scattergl\", \"x\": [\"2019-10-31T00:00:00\", \"2019-11-01T00:00:00\", \"2019-11-02T00:00:00\", \"2019-11-03T00:00:00\", \"2019-11-04T00:00:00\", \"2019-11-05T00:00:00\", \"2019-11-06T00:00:00\", \"2019-11-07T00:00:00\", \"2019-11-08T00:00:00\", \"2019-11-09T00:00:00\", \"2019-11-10T00:00:00\", \"2019-11-11T00:00:00\", \"2019-11-12T00:00:00\", \"2019-11-13T00:00:00\", \"2019-11-14T00:00:00\", \"2019-11-15T00:00:00\", \"2019-11-16T00:00:00\", \"2019-11-17T00:00:00\", \"2019-11-18T00:00:00\", \"2019-11-19T00:00:00\", \"2019-11-20T00:00:00\", \"2019-11-21T00:00:00\", \"2019-11-22T00:00:00\", \"2019-11-23T00:00:00\", \"2019-11-24T00:00:00\", \"2019-11-25T00:00:00\", \"2019-11-26T00:00:00\", \"2019-11-27T00:00:00\", \"2019-11-28T00:00:00\", \"2019-11-29T00:00:00\", \"2019-11-30T00:00:00\", \"2019-12-01T00:00:00\", \"2019-12-02T00:00:00\", \"2019-12-03T00:00:00\", \"2019-12-04T00:00:00\", \"2019-12-05T00:00:00\", \"2019-12-06T00:00:00\", \"2019-12-07T00:00:00\", \"2019-12-08T00:00:00\", \"2019-12-09T00:00:00\", \"2019-12-10T00:00:00\", \"2019-12-11T00:00:00\", \"2019-12-12T00:00:00\", \"2019-12-13T00:00:00\", \"2019-12-14T00:00:00\", \"2019-12-15T00:00:00\", \"2019-12-16T00:00:00\", \"2019-12-17T00:00:00\", \"2019-12-18T00:00:00\", \"2019-12-19T00:00:00\", \"2019-12-20T00:00:00\", \"2019-12-21T00:00:00\", \"2019-12-22T00:00:00\", \"2019-12-23T00:00:00\", \"2019-12-24T00:00:00\", \"2019-12-25T00:00:00\", \"2019-12-26T00:00:00\", \"2019-12-27T00:00:00\", \"2019-12-28T00:00:00\", \"2019-12-29T00:00:00\", \"2019-12-30T00:00:00\", \"2019-12-31T00:00:00\", \"2020-01-01T00:00:00\", \"2020-01-02T00:00:00\", \"2020-01-03T00:00:00\", \"2020-01-04T00:00:00\", \"2020-01-05T00:00:00\", \"2020-01-06T00:00:00\", \"2020-01-07T00:00:00\", \"2020-01-08T00:00:00\", \"2020-01-09T00:00:00\", \"2020-01-10T00:00:00\", \"2020-01-11T00:00:00\", \"2020-01-12T00:00:00\", \"2020-01-13T00:00:00\", \"2020-01-14T00:00:00\", \"2020-01-15T00:00:00\", \"2020-01-16T00:00:00\", \"2020-01-17T00:00:00\", \"2020-01-18T00:00:00\", \"2020-01-19T00:00:00\", \"2020-01-20T00:00:00\", \"2020-01-21T00:00:00\", \"2020-01-22T00:00:00\", \"2020-01-23T00:00:00\", \"2020-01-24T00:00:00\", \"2020-01-25T00:00:00\", \"2020-01-26T00:00:00\", \"2020-01-27T00:00:00\", \"2020-01-28T00:00:00\", \"2020-01-29T00:00:00\", \"2020-01-30T00:00:00\", \"2020-01-31T00:00:00\", \"2020-02-01T00:00:00\", \"2020-02-02T00:00:00\", \"2020-02-03T00:00:00\", \"2020-02-04T00:00:00\", \"2020-02-05T00:00:00\", \"2020-02-06T00:00:00\", \"2020-02-07T00:00:00\", \"2020-02-08T00:00:00\", \"2020-02-09T00:00:00\", \"2020-02-10T00:00:00\", \"2020-02-11T00:00:00\", \"2020-02-12T00:00:00\", \"2020-02-13T00:00:00\", \"2020-02-14T00:00:00\", \"2020-02-15T00:00:00\", \"2020-02-16T00:00:00\", \"2020-02-17T00:00:00\", \"2020-02-18T00:00:00\", \"2020-02-19T00:00:00\", \"2020-02-20T00:00:00\", \"2020-02-21T00:00:00\", \"2020-02-22T00:00:00\", \"2020-02-23T00:00:00\", \"2020-02-24T00:00:00\", \"2020-02-25T00:00:00\", \"2020-02-26T00:00:00\", \"2020-02-27T00:00:00\", \"2020-02-28T00:00:00\", \"2020-02-29T00:00:00\", \"2020-03-01T00:00:00\", \"2020-03-02T00:00:00\", \"2020-03-03T00:00:00\", \"2020-03-04T00:00:00\", \"2020-03-05T00:00:00\", \"2020-03-06T00:00:00\", \"2020-03-07T00:00:00\", \"2020-03-08T00:00:00\", \"2020-03-09T00:00:00\", \"2020-03-10T00:00:00\", \"2020-03-11T00:00:00\", \"2020-03-12T00:00:00\", \"2020-03-13T00:00:00\", \"2020-03-14T00:00:00\", \"2020-03-15T00:00:00\", \"2020-03-16T00:00:00\", \"2020-03-17T00:00:00\", \"2020-03-18T00:00:00\", \"2020-03-19T00:00:00\", \"2020-03-20T00:00:00\", \"2020-03-21T00:00:00\", \"2020-03-22T00:00:00\", \"2020-03-23T00:00:00\", \"2020-03-24T00:00:00\", \"2020-03-25T00:00:00\", \"2020-03-26T00:00:00\", \"2020-03-27T00:00:00\", \"2020-03-28T00:00:00\", \"2020-03-29T00:00:00\", \"2020-03-30T00:00:00\", \"2020-03-31T00:00:00\", \"2020-04-01T00:00:00\", \"2020-04-02T00:00:00\", \"2020-04-03T00:00:00\", \"2020-04-04T00:00:00\", \"2020-04-05T00:00:00\", \"2020-04-06T00:00:00\", \"2020-04-07T00:00:00\", \"2020-04-08T00:00:00\", \"2020-04-09T00:00:00\", \"2020-04-10T00:00:00\", \"2020-04-11T00:00:00\", \"2020-04-12T00:00:00\", \"2020-04-13T00:00:00\", \"2020-04-14T00:00:00\", \"2020-04-15T00:00:00\", \"2020-04-16T00:00:00\", \"2020-04-17T00:00:00\", \"2020-04-18T00:00:00\", \"2020-04-19T00:00:00\", \"2020-04-20T00:00:00\", \"2020-04-21T00:00:00\", \"2020-04-22T00:00:00\", \"2020-04-23T00:00:00\", \"2020-04-24T00:00:00\", \"2020-04-25T00:00:00\", \"2020-04-26T00:00:00\", \"2020-04-27T00:00:00\", \"2020-04-28T00:00:00\", \"2020-04-29T00:00:00\", \"2020-04-30T00:00:00\", \"2020-05-01T00:00:00\", \"2020-05-02T00:00:00\", \"2020-05-03T00:00:00\", \"2020-05-04T00:00:00\", \"2020-05-05T00:00:00\", \"2020-05-06T00:00:00\", \"2020-05-07T00:00:00\", \"2020-05-08T00:00:00\"], \"xaxis\": \"x\", \"y\": [null, 100.96407197039983, 100.0, 100.0, 99.58541908397328, 100.4163068447572, 98.89490331664567, 101.47317939838665, 99.17138887252989, 100.0, 100.0, 100.0, 99.58740796990921, 100.94256973968328, 101.3327376011113, 97.63608731693839, 100.0, 100.0, 98.71548172579489, 101.06014247258402, 100.58759619865218, 97.4136157444054, 101.39724356144791, 100.0, 100.0, 99.18976320735182, 100.70861463005627, 100.40965636553123, 100.0, 99.3573281167539, 100.0, 100.0, 101.87691099100707, 100.5927562289485, 97.72580699547213, 101.1501709163121, 100.10863144271968, 100.0, 100.0, 101.61147804532216, 94.1983761558021, 98.12283574688249, 98.99010297525594, 99.43763288040668, 100.0, 100.0, 98.65266437739486, 100.55788523940137, 99.64264381776302, 99.8810204780331, 99.76261338536918, 100.0, 100.0, 100.47703807835103, 99.8016296877132, 100.0, 100.21868908950304, 98.89893557496923, 100.0, 100.0, 101.33493126514261, 99.98007542613851, 100.0, 99.05288172978305, 99.8423994897504, 100.0, 100.0, 99.04389916396723, 101.00512082117183, 99.52923133400444, 99.64816202949052, 99.10887428517839, 100.0, 100.0, 100.4084790606807, 100.8434686328695, 99.47316983850992, 100.11721307853232, 99.9024140317723, 100.0, 100.0, 100.0, 102.05138939011186, 101.63967112059586, 99.59678033388137, 101.78534565987569, 100.0, 100.0, 102.00962753877603, 98.96415994352952, 98.8936674854862, 100.41143954007042, 100.70437155451322, 100.0, 100.0, 99.77263206299503, 99.46546397040346, 98.62124835891444, 95.4703829665127, 101.23457002387941, 100.0, 100.0, 99.6290463942249, 99.98048346355156, 101.20505852078816, 101.23999786376953, 100.14019566272057, 100.0, 100.0, 100.0, 97.63394779250314, 100.84795959956436, 99.92118046201509, 99.80334616101909, 100.0, 100.0, 102.0264813772894, 101.6935357263418, 99.11020741229996, 102.67857333807002, 104.12972939980996, 100.0, 100.0, 94.89125647780419, 102.15888202422825, 94.40047134984275, 101.20144634625095, 103.09661445608079, 100.0, 100.0, 107.12073710544622, 97.96360782102195, 103.05871601670324, 109.59139242987446, 93.48123922862844, 100.0, 100.0, 105.29865303151288, 95.2075209279135, 104.70587998239287, 102.5609477958546, 106.81220442242004, 100.0, 100.0, 98.57402322682842, 95.96914907379927, 97.14769075261846, 96.32129964379878, 101.20170158513982, 100.0, 100.0, 94.96531647093119, 102.21865823175347, 101.88767507846978, 98.62101011889915, 97.05553545481435, 100.0, 100.0, 97.20295505050792, 103.40807289185369, 98.71624208247682, 99.38407658395111, 100.0, 100.0, 100.0, 102.43352408824829, 96.54122229635306, 101.81616759050213, 97.8755700855301, 96.60733207982246, 100.0, 100.0, 98.90223945174549, 99.34156439326925, 100.85079862854546, 99.6278678744044, 97.03109410724528, 100.0, 100.0, 98.45940632522453, 101.52396661822374, 101.77550802425463, 104.63377767264213, 99.95731772952469, 100.0, 100.0, 96.8575553208009, 98.59355397046137, 99.41236654549819, 101.96280355019047, 100.66555674425437], \"yaxis\": \"y\"}],\n",
       "                        {\"height\": 600, \"legend\": {\"tracegroupgap\": 0}, \"margin\": {\"t\": 60}, \"template\": {\"data\": {\"bar\": [{\"error_x\": {\"color\": \"#2a3f5f\"}, \"error_y\": {\"color\": \"#2a3f5f\"}, \"marker\": {\"line\": {\"color\": \"#E5ECF6\", \"width\": 0.5}}, \"type\": \"bar\"}], \"barpolar\": [{\"marker\": {\"line\": {\"color\": \"#E5ECF6\", \"width\": 0.5}}, \"type\": \"barpolar\"}], \"carpet\": [{\"aaxis\": {\"endlinecolor\": \"#2a3f5f\", \"gridcolor\": \"white\", \"linecolor\": \"white\", \"minorgridcolor\": \"white\", \"startlinecolor\": \"#2a3f5f\"}, \"baxis\": {\"endlinecolor\": \"#2a3f5f\", \"gridcolor\": \"white\", \"linecolor\": \"white\", \"minorgridcolor\": \"white\", \"startlinecolor\": \"#2a3f5f\"}, \"type\": \"carpet\"}], \"choropleth\": [{\"colorbar\": {\"outlinewidth\": 0, \"ticks\": \"\"}, \"type\": \"choropleth\"}], \"contour\": [{\"colorbar\": {\"outlinewidth\": 0, \"ticks\": \"\"}, \"colorscale\": [[0.0, \"#0d0887\"], [0.1111111111111111, \"#46039f\"], [0.2222222222222222, \"#7201a8\"], [0.3333333333333333, \"#9c179e\"], [0.4444444444444444, \"#bd3786\"], [0.5555555555555556, \"#d8576b\"], [0.6666666666666666, \"#ed7953\"], [0.7777777777777778, \"#fb9f3a\"], [0.8888888888888888, \"#fdca26\"], [1.0, \"#f0f921\"]], \"type\": \"contour\"}], \"contourcarpet\": [{\"colorbar\": {\"outlinewidth\": 0, \"ticks\": \"\"}, \"type\": \"contourcarpet\"}], \"heatmap\": [{\"colorbar\": {\"outlinewidth\": 0, \"ticks\": \"\"}, \"colorscale\": [[0.0, \"#0d0887\"], [0.1111111111111111, \"#46039f\"], [0.2222222222222222, \"#7201a8\"], [0.3333333333333333, \"#9c179e\"], [0.4444444444444444, \"#bd3786\"], [0.5555555555555556, \"#d8576b\"], [0.6666666666666666, \"#ed7953\"], [0.7777777777777778, \"#fb9f3a\"], [0.8888888888888888, \"#fdca26\"], [1.0, \"#f0f921\"]], \"type\": \"heatmap\"}], \"heatmapgl\": [{\"colorbar\": {\"outlinewidth\": 0, \"ticks\": \"\"}, \"colorscale\": [[0.0, \"#0d0887\"], [0.1111111111111111, \"#46039f\"], [0.2222222222222222, \"#7201a8\"], [0.3333333333333333, \"#9c179e\"], [0.4444444444444444, \"#bd3786\"], [0.5555555555555556, \"#d8576b\"], [0.6666666666666666, \"#ed7953\"], [0.7777777777777778, \"#fb9f3a\"], [0.8888888888888888, \"#fdca26\"], [1.0, \"#f0f921\"]], \"type\": \"heatmapgl\"}], \"histogram\": [{\"marker\": {\"colorbar\": {\"outlinewidth\": 0, \"ticks\": \"\"}}, \"type\": \"histogram\"}], \"histogram2d\": [{\"colorbar\": {\"outlinewidth\": 0, \"ticks\": \"\"}, \"colorscale\": [[0.0, \"#0d0887\"], [0.1111111111111111, \"#46039f\"], [0.2222222222222222, \"#7201a8\"], [0.3333333333333333, \"#9c179e\"], [0.4444444444444444, \"#bd3786\"], [0.5555555555555556, \"#d8576b\"], [0.6666666666666666, \"#ed7953\"], [0.7777777777777778, \"#fb9f3a\"], [0.8888888888888888, \"#fdca26\"], [1.0, \"#f0f921\"]], \"type\": \"histogram2d\"}], \"histogram2dcontour\": [{\"colorbar\": {\"outlinewidth\": 0, \"ticks\": \"\"}, \"colorscale\": [[0.0, \"#0d0887\"], [0.1111111111111111, \"#46039f\"], [0.2222222222222222, \"#7201a8\"], [0.3333333333333333, \"#9c179e\"], [0.4444444444444444, \"#bd3786\"], [0.5555555555555556, \"#d8576b\"], [0.6666666666666666, \"#ed7953\"], [0.7777777777777778, \"#fb9f3a\"], [0.8888888888888888, \"#fdca26\"], [1.0, \"#f0f921\"]], \"type\": \"histogram2dcontour\"}], \"mesh3d\": [{\"colorbar\": {\"outlinewidth\": 0, \"ticks\": \"\"}, \"type\": \"mesh3d\"}], \"parcoords\": [{\"line\": {\"colorbar\": {\"outlinewidth\": 0, \"ticks\": \"\"}}, \"type\": \"parcoords\"}], \"scatter\": [{\"marker\": {\"colorbar\": {\"outlinewidth\": 0, \"ticks\": \"\"}}, \"type\": \"scatter\"}], \"scatter3d\": [{\"line\": {\"colorbar\": {\"outlinewidth\": 0, \"ticks\": \"\"}}, \"marker\": {\"colorbar\": {\"outlinewidth\": 0, \"ticks\": \"\"}}, \"type\": \"scatter3d\"}], \"scattercarpet\": [{\"marker\": {\"colorbar\": {\"outlinewidth\": 0, \"ticks\": \"\"}}, \"type\": \"scattercarpet\"}], \"scattergeo\": [{\"marker\": {\"colorbar\": {\"outlinewidth\": 0, \"ticks\": \"\"}}, \"type\": \"scattergeo\"}], \"scattergl\": [{\"marker\": {\"colorbar\": {\"outlinewidth\": 0, \"ticks\": \"\"}}, \"type\": \"scattergl\"}], \"scattermapbox\": [{\"marker\": {\"colorbar\": {\"outlinewidth\": 0, \"ticks\": \"\"}}, \"type\": \"scattermapbox\"}], \"scatterpolar\": [{\"marker\": {\"colorbar\": {\"outlinewidth\": 0, \"ticks\": \"\"}}, \"type\": \"scatterpolar\"}], \"scatterpolargl\": [{\"marker\": {\"colorbar\": {\"outlinewidth\": 0, \"ticks\": \"\"}}, \"type\": \"scatterpolargl\"}], \"scatterternary\": [{\"marker\": {\"colorbar\": {\"outlinewidth\": 0, \"ticks\": \"\"}}, \"type\": \"scatterternary\"}], \"surface\": [{\"colorbar\": {\"outlinewidth\": 0, \"ticks\": \"\"}, \"colorscale\": [[0.0, \"#0d0887\"], [0.1111111111111111, \"#46039f\"], [0.2222222222222222, \"#7201a8\"], [0.3333333333333333, \"#9c179e\"], [0.4444444444444444, \"#bd3786\"], [0.5555555555555556, \"#d8576b\"], [0.6666666666666666, \"#ed7953\"], [0.7777777777777778, \"#fb9f3a\"], [0.8888888888888888, \"#fdca26\"], [1.0, \"#f0f921\"]], \"type\": \"surface\"}], \"table\": [{\"cells\": {\"fill\": {\"color\": \"#EBF0F8\"}, \"line\": {\"color\": \"white\"}}, \"header\": {\"fill\": {\"color\": \"#C8D4E3\"}, \"line\": {\"color\": \"white\"}}, \"type\": \"table\"}]}, \"layout\": {\"annotationdefaults\": {\"arrowcolor\": \"#2a3f5f\", \"arrowhead\": 0, \"arrowwidth\": 1}, \"colorscale\": {\"diverging\": [[0, \"#8e0152\"], [0.1, \"#c51b7d\"], [0.2, \"#de77ae\"], [0.3, \"#f1b6da\"], [0.4, \"#fde0ef\"], [0.5, \"#f7f7f7\"], [0.6, \"#e6f5d0\"], [0.7, \"#b8e186\"], [0.8, \"#7fbc41\"], [0.9, \"#4d9221\"], [1, \"#276419\"]], \"sequential\": [[0.0, \"#0d0887\"], [0.1111111111111111, \"#46039f\"], [0.2222222222222222, \"#7201a8\"], [0.3333333333333333, \"#9c179e\"], [0.4444444444444444, \"#bd3786\"], [0.5555555555555556, \"#d8576b\"], [0.6666666666666666, \"#ed7953\"], [0.7777777777777778, \"#fb9f3a\"], [0.8888888888888888, \"#fdca26\"], [1.0, \"#f0f921\"]], \"sequentialminus\": [[0.0, \"#0d0887\"], [0.1111111111111111, \"#46039f\"], [0.2222222222222222, \"#7201a8\"], [0.3333333333333333, \"#9c179e\"], [0.4444444444444444, \"#bd3786\"], [0.5555555555555556, \"#d8576b\"], [0.6666666666666666, \"#ed7953\"], [0.7777777777777778, \"#fb9f3a\"], [0.8888888888888888, \"#fdca26\"], [1.0, \"#f0f921\"]]}, \"colorway\": [\"#636efa\", \"#EF553B\", \"#00cc96\", \"#ab63fa\", \"#FFA15A\", \"#19d3f3\", \"#FF6692\", \"#B6E880\", \"#FF97FF\", \"#FECB52\"], \"font\": {\"color\": \"#2a3f5f\"}, \"geo\": {\"bgcolor\": \"white\", \"lakecolor\": \"white\", \"landcolor\": \"#E5ECF6\", \"showlakes\": true, \"showland\": true, \"subunitcolor\": \"white\"}, \"hoverlabel\": {\"align\": \"left\"}, \"hovermode\": \"closest\", \"mapbox\": {\"style\": \"light\"}, \"paper_bgcolor\": \"white\", \"plot_bgcolor\": \"#E5ECF6\", \"polar\": {\"angularaxis\": {\"gridcolor\": \"white\", \"linecolor\": \"white\", \"ticks\": \"\"}, \"bgcolor\": \"#E5ECF6\", \"radialaxis\": {\"gridcolor\": \"white\", \"linecolor\": \"white\", \"ticks\": \"\"}}, \"scene\": {\"xaxis\": {\"backgroundcolor\": \"#E5ECF6\", \"gridcolor\": \"white\", \"gridwidth\": 2, \"linecolor\": \"white\", \"showbackground\": true, \"ticks\": \"\", \"zerolinecolor\": \"white\"}, \"yaxis\": {\"backgroundcolor\": \"#E5ECF6\", \"gridcolor\": \"white\", \"gridwidth\": 2, \"linecolor\": \"white\", \"showbackground\": true, \"ticks\": \"\", \"zerolinecolor\": \"white\"}, \"zaxis\": {\"backgroundcolor\": \"#E5ECF6\", \"gridcolor\": \"white\", \"gridwidth\": 2, \"linecolor\": \"white\", \"showbackground\": true, \"ticks\": \"\", \"zerolinecolor\": \"white\"}}, \"shapedefaults\": {\"line\": {\"color\": \"#2a3f5f\"}}, \"ternary\": {\"aaxis\": {\"gridcolor\": \"white\", \"linecolor\": \"white\", \"ticks\": \"\"}, \"baxis\": {\"gridcolor\": \"white\", \"linecolor\": \"white\", \"ticks\": \"\"}, \"bgcolor\": \"#E5ECF6\", \"caxis\": {\"gridcolor\": \"white\", \"linecolor\": \"white\", \"ticks\": \"\"}}, \"title\": {\"x\": 0.05}, \"xaxis\": {\"automargin\": true, \"gridcolor\": \"white\", \"linecolor\": \"white\", \"ticks\": \"\", \"zerolinecolor\": \"white\", \"zerolinewidth\": 2}, \"yaxis\": {\"automargin\": true, \"gridcolor\": \"white\", \"linecolor\": \"white\", \"ticks\": \"\", \"zerolinecolor\": \"white\", \"zerolinewidth\": 2}}}, \"xaxis\": {\"anchor\": \"y\", \"domain\": [0.0, 0.98], \"title\": {\"text\": \"date\"}}, \"yaxis\": {\"anchor\": \"x\", \"domain\": [0.0, 1.0], \"title\": {\"text\": \"close_diff\"}}},\n",
       "                        {\"responsive\": true}\n",
       "                    ).then(function(){\n",
       "                            \n",
       "var gd = document.getElementById('973c06e1-5415-42f0-8892-46f8d20d3e63');\n",
       "var x = new MutationObserver(function (mutations, observer) {{\n",
       "        var display = window.getComputedStyle(gd).display;\n",
       "        if (!display || display === 'none') {{\n",
       "            console.log([gd, 'removed!']);\n",
       "            Plotly.purge(gd);\n",
       "            observer.disconnect();\n",
       "        }}\n",
       "}});\n",
       "\n",
       "// Listen for the removal of the full notebook cells\n",
       "var notebookContainer = gd.closest('#notebook-container');\n",
       "if (notebookContainer) {{\n",
       "    x.observe(notebookContainer, {childList: true});\n",
       "}}\n",
       "\n",
       "// Listen for the clearing of the current output cell\n",
       "var outputEl = gd.closest('.output');\n",
       "if (outputEl) {{\n",
       "    x.observe(outputEl, {childList: true});\n",
       "}}\n",
       "\n",
       "                        })\n",
       "                };\n",
       "                });\n",
       "            </script>\n",
       "        </div>"
      ]
     },
     "metadata": {},
     "output_type": "display_data"
    }
   ],
   "source": [
    "df = df_stock.copy()\n",
    "\n",
    "df['date'] = pd.to_datetime(df['date'])\n",
    "df['new_date'] = df['date'] + timedelta(days=1)\n",
    "df = df.set_index('date').groupby('company').resample('D').ffill()\n",
    "del df['company']\n",
    "\n",
    "df.reset_index(inplace = True)\n",
    "df['new_date'] = df['date'] + timedelta(days=1)\n",
    "\n",
    "df = df.merge(df[['new_date','close','company']], left_on = ['date','company'], right_on =['new_date','company'], how = 'left')\n",
    "df['close_diff'] = (df['close_y']/df['close_x'])*100\n",
    "\n",
    "\n",
    "fig = px.line(df, x='date',y='close_diff',color = 'company')\n",
    "fig.show()"
   ]
  },
  {
   "cell_type": "markdown",
   "metadata": {},
   "source": [
    "Z wykresu powyżej można zauważyć, że największe wahania kursów były w miesiącu marcu. Może za to odpowiadać szok giełdowy jaki towrzyszył początkom epidemii."
   ]
  },
  {
   "cell_type": "code",
   "execution_count": null,
   "metadata": {},
   "outputs": [],
   "source": []
  }
 ],
 "metadata": {
  "kernelspec": {
   "display_name": "Python 3",
   "language": "python",
   "name": "python3"
  },
  "language_info": {
   "codemirror_mode": {
    "name": "ipython",
    "version": 3
   },
   "file_extension": ".py",
   "mimetype": "text/x-python",
   "name": "python",
   "nbconvert_exporter": "python",
   "pygments_lexer": "ipython3",
   "version": "3.7.2"
  }
 },
 "nbformat": 4,
 "nbformat_minor": 2
}
