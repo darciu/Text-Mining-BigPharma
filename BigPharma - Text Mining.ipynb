{
 "cells": [
  {
   "cell_type": "code",
   "execution_count": 17,
   "metadata": {},
   "outputs": [],
   "source": [
    "import pandas as pd\n",
    "import numpy as np\n",
    "from glob import glob\n",
    "from nltk.corpus import stopwords\n",
    "stop = stopwords.words('english')\n",
    "import re\n",
    "\n",
    "pd.set_option('display.max_colwidth', -1)\n"
   ]
  },
  {
   "cell_type": "code",
   "execution_count": 29,
   "metadata": {
    "scrolled": true
   },
   "outputs": [],
   "source": [
    "csvs = glob('input/tweets/*.csv')\n",
    "df_tweets = pd.concat(pd.read_csv(file).assign(filename = file) for file in csvs)\n",
    "df_covid = pd.read_csv('input/covid_data.csv')\n",
    "df_tweets.reset_index(inplace = True)\n",
    "del df_tweets['filename']\n",
    "del df_tweets['index']"
   ]
  },
  {
   "cell_type": "code",
   "execution_count": 30,
   "metadata": {},
   "outputs": [],
   "source": [
    "def return_hashes(col):\n",
    "\n",
    "    return list(set([re.sub('[^\\w\\s]','', word) for word in col.split() if word[0] == '#']))\n",
    "\n",
    "def return_ats(col):\n",
    "    return list(set(  [re.sub('[^\\w\\s]','', word) for word in col.split() if word[0] == '@']  ))\n",
    "\n",
    "def remove_stopwords(col):\n",
    "    return ' '.join([word for word in col.split() if word not in stop])\n",
    "\n",
    "def remove_https(col):\n",
    "    return ' '.join([word for word in col.split() if word[0:7] != 'https:'])"
   ]
  },
  {
   "cell_type": "code",
   "execution_count": 31,
   "metadata": {},
   "outputs": [],
   "source": [
    "df_tweets.rename(columns = {'text':'text_original'}, inplace = True)\n",
    "\n",
    "df_tweets['text_modified'] = df_tweets['text_original'].str.lower() # małe znaki\n",
    "df_tweets['hash'] = df_tweets['text_modified'].apply(return_hashes) # wybieranie unikalnych hashtagów (bez punktuacji)\n",
    "df_tweets['at'] = df_tweets['text_modified'].apply(return_ats) # wybieranie unikalnych odnośników (bez punktuacji)\n",
    "df_tweets['text_modified'] = df_tweets['text_modified'].apply(remove_https)\n",
    "df_tweets['text_modified'] = df_tweets['text_modified'].str.replace('[^\\w\\s#@]','') # usuwanie punktuacji; można usuwać # ze zdań jeśli usunie się ten znak z regular expression\n",
    "df_tweets['text_modified'] = df_tweets['text_modified'].apply(remove_stopwords)\n",
    "\n",
    "df_tweets.created_at = pd.to_datetime(df_tweets.created_at)\n",
    "df_tweets['date'] = df_tweets.created_at.dt.date\n"
   ]
  },
  {
   "cell_type": "markdown",
   "metadata": {},
   "source": [
    "## Data preview"
   ]
  },
  {
   "cell_type": "code",
   "execution_count": 15,
   "metadata": {},
   "outputs": [
    {
     "name": "stdout",
     "output_type": "stream",
     "text": [
      "Zakres datowy dla tweetów   2019-12-11 16:58:23   -   2019-12-11 16:58:23   :  AstraZeneca\n",
      "Zakres datowy dla tweetów   2019-09-26 07:00:01   -   2019-09-26 07:00:01   :  BayerPharma\n",
      "Zakres datowy dla tweetów   2020-02-05 12:26:23   -   2020-02-05 12:26:23   :  GSK\n",
      "Zakres datowy dla tweetów   2020-02-04 14:59:51   -   2020-02-04 14:59:51   :  Merck\n",
      "Zakres datowy dla tweetów   2019-10-17 21:23:19   -   2019-10-17 21:23:19   :  Novartis\n",
      "Zakres datowy dla tweetów   2020-02-17 13:55:00   -   2020-02-17 13:55:00   :  Pfizer\n",
      "Zakres datowy dla tweetów   2020-01-30 14:19:25   -   2020-01-30 14:19:25   :  Roche\n",
      "Zakres datowy dla tweetów   2020-01-29 14:29:27   -   2020-01-29 14:29:27   :  Sanofi\n"
     ]
    }
   ],
   "source": [
    "companies = df_tweets.company.unique()\n",
    "\n",
    "for company in companies:\n",
    "    dat1 = min(df_tweets.loc[df_tweets['company'] == company].created_at)\n",
    "    dat2 = min(df_tweets.loc[df_tweets['company'] == company].created_at)\n",
    "    \n",
    "    print(f'Zakres datowy dla tweetów   {dat1}   -   {dat2}   :  {company}')"
   ]
  },
  {
   "cell_type": "code",
   "execution_count": 32,
   "metadata": {},
   "outputs": [
    {
     "data": {
      "text/html": [
       "<div>\n",
       "<style scoped>\n",
       "    .dataframe tbody tr th:only-of-type {\n",
       "        vertical-align: middle;\n",
       "    }\n",
       "\n",
       "    .dataframe tbody tr th {\n",
       "        vertical-align: top;\n",
       "    }\n",
       "\n",
       "    .dataframe thead th {\n",
       "        text-align: right;\n",
       "    }\n",
       "</style>\n",
       "<table border=\"1\" class=\"dataframe\">\n",
       "  <thead>\n",
       "    <tr style=\"text-align: right;\">\n",
       "      <th></th>\n",
       "      <th>company</th>\n",
       "      <th>text_original</th>\n",
       "      <th>created_at</th>\n",
       "      <th>favourite_count</th>\n",
       "      <th>retweet_count</th>\n",
       "      <th>text_modified</th>\n",
       "      <th>hash</th>\n",
       "      <th>at</th>\n",
       "      <th>date</th>\n",
       "    </tr>\n",
       "  </thead>\n",
       "  <tbody>\n",
       "    <tr>\n",
       "      <th>0</th>\n",
       "      <td>AstraZeneca</td>\n",
       "      <td>Together with partners across industry, academia and government, we are taking a multipronged approach to helping patients around the world facing #COVID19. https://t.co/uQuHj6BkBN</td>\n",
       "      <td>2020-05-06 13:13:41</td>\n",
       "      <td>44</td>\n",
       "      <td>8</td>\n",
       "      <td>together partners across industry academia government taking multipronged approach helping patients around world facing #covid19 httpstcouquhj6bkbn</td>\n",
       "      <td>[covid19]</td>\n",
       "      <td>[]</td>\n",
       "      <td>2020-05-06</td>\n",
       "    </tr>\n",
       "    <tr>\n",
       "      <th>1</th>\n",
       "      <td>AstraZeneca</td>\n",
       "      <td>On #GivingTuesdayNow we stand with our partners @Plan_UK @Unicef_UK @ProjectHopeorg @NCDAlliance in their efforts responding to the unique health needs of groups vulnerable to #COVID19, such as those living with NCDs and young people. Get involved: https://t.co/YGRHLGqct6 https://t.co/vePEeAne49</td>\n",
       "      <td>2020-05-05 16:27:03</td>\n",
       "      <td>32</td>\n",
       "      <td>8</td>\n",
       "      <td>#givingtuesdaynow stand partners @plan_uk @unicef_uk @projecthopeorg @ncdalliance efforts responding unique health needs groups vulnerable #covid19 living ncds young people get involved httpstcoygrhlgqct6 httpstcovepeeane49</td>\n",
       "      <td>[covid19, givingtuesdaynow]</td>\n",
       "      <td>[ncdalliance, projecthopeorg, plan_uk, unicef_uk]</td>\n",
       "      <td>2020-05-05</td>\n",
       "    </tr>\n",
       "    <tr>\n",
       "      <th>2</th>\n",
       "      <td>AstraZeneca</td>\n",
       "      <td>We’re #standingtogether4asthma with patients and the respiratory community during these times of uncertainty. Visit @WEF to learn more about what we’re doing to play our part in the fight against #COVID19: #WorldAsthmaDay   \\r\\nhttps://t.co/fWE7ik8rNs https://t.co/Z54pyHBENq</td>\n",
       "      <td>2020-05-05 12:30:15</td>\n",
       "      <td>19</td>\n",
       "      <td>7</td>\n",
       "      <td>#standingtogether4asthma patients respiratory community times uncertainty visit @wef learn play part fight #covid19 #worldasthmaday httpstcofwe7ik8rns httpstcoz54pyhbenq</td>\n",
       "      <td>[worldasthmaday, covid19, standingtogether4asthma]</td>\n",
       "      <td>[wef]</td>\n",
       "      <td>2020-05-05</td>\n",
       "    </tr>\n",
       "  </tbody>\n",
       "</table>\n",
       "</div>"
      ],
      "text/plain": [
       "       company  \\\n",
       "0  AstraZeneca   \n",
       "1  AstraZeneca   \n",
       "2  AstraZeneca   \n",
       "\n",
       "                                                                                                                                                                                                                                                                                              text_original  \\\n",
       "0  Together with partners across industry, academia and government, we are taking a multipronged approach to helping patients around the world facing #COVID19. https://t.co/uQuHj6BkBN                                                                                                                       \n",
       "1  On #GivingTuesdayNow we stand with our partners @Plan_UK @Unicef_UK @ProjectHopeorg @NCDAlliance in their efforts responding to the unique health needs of groups vulnerable to #COVID19, such as those living with NCDs and young people. Get involved: https://t.co/YGRHLGqct6 https://t.co/vePEeAne49   \n",
       "2  We’re #standingtogether4asthma with patients and the respiratory community during these times of uncertainty. Visit @WEF to learn more about what we’re doing to play our part in the fight against #COVID19: #WorldAsthmaDay   \\r\\nhttps://t.co/fWE7ik8rNs https://t.co/Z54pyHBENq                        \n",
       "\n",
       "           created_at  favourite_count  retweet_count  \\\n",
       "0 2020-05-06 13:13:41  44               8               \n",
       "1 2020-05-05 16:27:03  32               8               \n",
       "2 2020-05-05 12:30:15  19               7               \n",
       "\n",
       "                                                                                                                                                                                                                     text_modified  \\\n",
       "0  together partners across industry academia government taking multipronged approach helping patients around world facing #covid19 httpstcouquhj6bkbn                                                                               \n",
       "1  #givingtuesdaynow stand partners @plan_uk @unicef_uk @projecthopeorg @ncdalliance efforts responding unique health needs groups vulnerable #covid19 living ncds young people get involved httpstcoygrhlgqct6 httpstcovepeeane49   \n",
       "2  #standingtogether4asthma patients respiratory community times uncertainty visit @wef learn play part fight #covid19 #worldasthmaday httpstcofwe7ik8rns httpstcoz54pyhbenq                                                         \n",
       "\n",
       "                                                 hash  \\\n",
       "0  [covid19]                                            \n",
       "1  [covid19, givingtuesdaynow]                          \n",
       "2  [worldasthmaday, covid19, standingtogether4asthma]   \n",
       "\n",
       "                                                  at        date  \n",
       "0  []                                                 2020-05-06  \n",
       "1  [ncdalliance, projecthopeorg, plan_uk, unicef_uk]  2020-05-05  \n",
       "2  [wef]                                              2020-05-05  "
      ]
     },
     "execution_count": 32,
     "metadata": {},
     "output_type": "execute_result"
    }
   ],
   "source": [
    "df_tweets.head(3)"
   ]
  },
  {
   "cell_type": "code",
   "execution_count": null,
   "metadata": {},
   "outputs": [],
   "source": []
  },
  {
   "cell_type": "code",
   "execution_count": null,
   "metadata": {},
   "outputs": [],
   "source": []
  }
 ],
 "metadata": {
  "kernelspec": {
   "display_name": "Python 3",
   "language": "python",
   "name": "python3"
  },
  "language_info": {
   "codemirror_mode": {
    "name": "ipython",
    "version": 3
   },
   "file_extension": ".py",
   "mimetype": "text/x-python",
   "name": "python",
   "nbconvert_exporter": "python",
   "pygments_lexer": "ipython3",
   "version": "3.7.2"
  }
 },
 "nbformat": 4,
 "nbformat_minor": 2
}
