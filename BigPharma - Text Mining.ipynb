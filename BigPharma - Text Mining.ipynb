{
 "cells": [
  {
   "cell_type": "code",
   "execution_count": 66,
   "metadata": {},
   "outputs": [],
   "source": [
    "import pandas as pd\n",
    "import numpy as np\n",
    "from glob import glob\n",
    "from nltk.corpus import stopwords\n",
    "stop = stopwords.words('english')\n",
    "import re"
   ]
  },
  {
   "cell_type": "code",
   "execution_count": 59,
   "metadata": {
    "scrolled": true
   },
   "outputs": [],
   "source": [
    "csvs = glob('input/tweets/*.csv')\n",
    "df_tweets = pd.concat(pd.read_csv(file).assign(filename = file) for file in csvs)\n",
    "df_covid = pd.read_csv('input/covid_data.csv')\n",
    "df_tweets.reset_index(inplace = True)\n",
    "del df_tweets['filename']\n",
    "del df_tweets['index']"
   ]
  },
  {
   "cell_type": "code",
   "execution_count": 80,
   "metadata": {},
   "outputs": [],
   "source": [
    "def return_hashes(col):\n",
    "\n",
    "    return list(set([re.sub('[^\\w\\s]','', word) for word in col.split() if word[0] == '#']))\n",
    "\n",
    "def return_ats(col):\n",
    "    return list(set(  [re.sub('[^\\w\\s]','', word) for word in col.split() if word[0] == '@']  ))\n",
    "\n",
    "def remove_stopwords(col):\n",
    "    return ' '.join([word for word in col.split() if word not in stop])"
   ]
  },
  {
   "cell_type": "code",
   "execution_count": 81,
   "metadata": {},
   "outputs": [],
   "source": [
    "df_tweets['text_mod'] = df_tweets['text'].str.lower() # małe znaki\n",
    "df_tweets['hash'] = df_tweets['text'].apply(return_hashes) # wybieranie unikalnych hashtagów (bez punktuacji)\n",
    "df_tweets['at'] = df_tweets['text'].apply(return_ats) # wybieranie unikalnych odnośników (bez punktuacji)\n",
    "df_tweets['text_mod'] = df_tweets['text_mod'].str.replace('[^\\w\\s#@]','') # usuwanie punktuacji; można usuwać # ze zdań jeśli usunie się ten znak z regular expression\n",
    "df_tweets['text_mod'] = df_tweets['text_mod'].apply(remove_stopwords)\n",
    "\n",
    "df_tweets.created_at = pd.to_datetime(df_tweets.created_at)\n",
    "\n",
    "\n"
   ]
  },
  {
   "cell_type": "markdown",
   "metadata": {},
   "source": [
    "## Data preview"
   ]
  },
  {
   "cell_type": "code",
   "execution_count": 82,
   "metadata": {},
   "outputs": [
    {
     "name": "stdout",
     "output_type": "stream",
     "text": [
      "Początkowa data: 2019-09-26 07:00:01\n",
      "Końcowa data: 2020-05-07 20:02:01\n",
      "\n",
      "\n",
      "<class 'pandas.core.frame.DataFrame'>\n",
      "RangeIndex: 1600 entries, 0 to 1599\n",
      "Data columns (total 8 columns):\n",
      "company            1600 non-null object\n",
      "text               1600 non-null object\n",
      "created_at         1600 non-null datetime64[ns]\n",
      "favourite_count    1600 non-null int64\n",
      "retweet_count      1600 non-null int64\n",
      "text_mod           1600 non-null object\n",
      "hash               1600 non-null object\n",
      "at                 1600 non-null object\n",
      "dtypes: datetime64[ns](1), int64(2), object(5)\n",
      "memory usage: 100.1+ KB\n",
      "\n",
      "Ilości tweetów:\n"
     ]
    },
    {
     "data": {
      "text/plain": [
       "BayerPharma    200\n",
       "Sanofi         200\n",
       "GSK            200\n",
       "Merck          200\n",
       "Novartis       200\n",
       "AstraZeneca    200\n",
       "Pfizer         200\n",
       "Roche          200\n",
       "Name: company, dtype: int64"
      ]
     },
     "execution_count": 82,
     "metadata": {},
     "output_type": "execute_result"
    }
   ],
   "source": [
    "print(f'Początkowa data: {min(df_tweets.created_at)}\\nKońcowa data: {max(df_tweets.created_at)}\\n\\n')\n",
    "df_tweets.info()\n",
    "\n",
    "print('\\nIlości tweetów:')\n",
    "df_tweets.company.value_counts()"
   ]
  },
  {
   "cell_type": "code",
   "execution_count": 83,
   "metadata": {},
   "outputs": [
    {
     "data": {
      "text/html": [
       "<div>\n",
       "<style scoped>\n",
       "    .dataframe tbody tr th:only-of-type {\n",
       "        vertical-align: middle;\n",
       "    }\n",
       "\n",
       "    .dataframe tbody tr th {\n",
       "        vertical-align: top;\n",
       "    }\n",
       "\n",
       "    .dataframe thead th {\n",
       "        text-align: right;\n",
       "    }\n",
       "</style>\n",
       "<table border=\"1\" class=\"dataframe\">\n",
       "  <thead>\n",
       "    <tr style=\"text-align: right;\">\n",
       "      <th></th>\n",
       "      <th>company</th>\n",
       "      <th>text</th>\n",
       "      <th>created_at</th>\n",
       "      <th>favourite_count</th>\n",
       "      <th>retweet_count</th>\n",
       "      <th>text_mod</th>\n",
       "      <th>hash</th>\n",
       "      <th>at</th>\n",
       "    </tr>\n",
       "  </thead>\n",
       "  <tbody>\n",
       "    <tr>\n",
       "      <th>0</th>\n",
       "      <td>AstraZeneca</td>\n",
       "      <td>Together with partners across industry, academ...</td>\n",
       "      <td>2020-05-06 13:13:41</td>\n",
       "      <td>44</td>\n",
       "      <td>8</td>\n",
       "      <td>together partners across industry academia gov...</td>\n",
       "      <td>[COVID19]</td>\n",
       "      <td>[]</td>\n",
       "    </tr>\n",
       "    <tr>\n",
       "      <th>1</th>\n",
       "      <td>AstraZeneca</td>\n",
       "      <td>On #GivingTuesdayNow we stand with our partner...</td>\n",
       "      <td>2020-05-05 16:27:03</td>\n",
       "      <td>32</td>\n",
       "      <td>8</td>\n",
       "      <td>#givingtuesdaynow stand partners @plan_uk @uni...</td>\n",
       "      <td>[GivingTuesdayNow, COVID19]</td>\n",
       "      <td>[Unicef_UK, NCDAlliance, ProjectHopeorg, Plan_UK]</td>\n",
       "    </tr>\n",
       "    <tr>\n",
       "      <th>2</th>\n",
       "      <td>AstraZeneca</td>\n",
       "      <td>We’re #standingtogether4asthma with patients a...</td>\n",
       "      <td>2020-05-05 12:30:15</td>\n",
       "      <td>19</td>\n",
       "      <td>7</td>\n",
       "      <td>#standingtogether4asthma patients respiratory ...</td>\n",
       "      <td>[standingtogether4asthma, COVID19, WorldAsthma...</td>\n",
       "      <td>[WEF]</td>\n",
       "    </tr>\n",
       "    <tr>\n",
       "      <th>3</th>\n",
       "      <td>AstraZeneca</td>\n",
       "      <td>Navigating asthma management is tough, especia...</td>\n",
       "      <td>2020-05-05 08:31:20</td>\n",
       "      <td>18</td>\n",
       "      <td>13</td>\n",
       "      <td>navigating asthma management tough especially ...</td>\n",
       "      <td>[standingtogether4asthma, COVID19, WorldAsthma...</td>\n",
       "      <td>[]</td>\n",
       "    </tr>\n",
       "    <tr>\n",
       "      <th>4</th>\n",
       "      <td>AstraZeneca</td>\n",
       "      <td>We’re standing with the global respiratory com...</td>\n",
       "      <td>2020-05-05 07:30:01</td>\n",
       "      <td>21</td>\n",
       "      <td>5</td>\n",
       "      <td>standing global respiratory community fight #c...</td>\n",
       "      <td>[standingtogether4asthma, COVID19, WorldAsthma...</td>\n",
       "      <td>[]</td>\n",
       "    </tr>\n",
       "  </tbody>\n",
       "</table>\n",
       "</div>"
      ],
      "text/plain": [
       "       company                                               text  \\\n",
       "0  AstraZeneca  Together with partners across industry, academ...   \n",
       "1  AstraZeneca  On #GivingTuesdayNow we stand with our partner...   \n",
       "2  AstraZeneca  We’re #standingtogether4asthma with patients a...   \n",
       "3  AstraZeneca  Navigating asthma management is tough, especia...   \n",
       "4  AstraZeneca  We’re standing with the global respiratory com...   \n",
       "\n",
       "           created_at  favourite_count  retweet_count  \\\n",
       "0 2020-05-06 13:13:41               44              8   \n",
       "1 2020-05-05 16:27:03               32              8   \n",
       "2 2020-05-05 12:30:15               19              7   \n",
       "3 2020-05-05 08:31:20               18             13   \n",
       "4 2020-05-05 07:30:01               21              5   \n",
       "\n",
       "                                            text_mod  \\\n",
       "0  together partners across industry academia gov...   \n",
       "1  #givingtuesdaynow stand partners @plan_uk @uni...   \n",
       "2  #standingtogether4asthma patients respiratory ...   \n",
       "3  navigating asthma management tough especially ...   \n",
       "4  standing global respiratory community fight #c...   \n",
       "\n",
       "                                                hash  \\\n",
       "0                                          [COVID19]   \n",
       "1                        [GivingTuesdayNow, COVID19]   \n",
       "2  [standingtogether4asthma, COVID19, WorldAsthma...   \n",
       "3  [standingtogether4asthma, COVID19, WorldAsthma...   \n",
       "4  [standingtogether4asthma, COVID19, WorldAsthma...   \n",
       "\n",
       "                                                  at  \n",
       "0                                                 []  \n",
       "1  [Unicef_UK, NCDAlliance, ProjectHopeorg, Plan_UK]  \n",
       "2                                              [WEF]  \n",
       "3                                                 []  \n",
       "4                                                 []  "
      ]
     },
     "execution_count": 83,
     "metadata": {},
     "output_type": "execute_result"
    }
   ],
   "source": [
    "df_tweets.head()"
   ]
  },
  {
   "cell_type": "code",
   "execution_count": null,
   "metadata": {},
   "outputs": [],
   "source": []
  },
  {
   "cell_type": "code",
   "execution_count": null,
   "metadata": {},
   "outputs": [],
   "source": []
  }
 ],
 "metadata": {
  "kernelspec": {
   "display_name": "Python 3",
   "language": "python",
   "name": "python3"
  },
  "language_info": {
   "codemirror_mode": {
    "name": "ipython",
    "version": 3
   },
   "file_extension": ".py",
   "mimetype": "text/x-python",
   "name": "python",
   "nbconvert_exporter": "python",
   "pygments_lexer": "ipython3",
   "version": "3.7.2"
  }
 },
 "nbformat": 4,
 "nbformat_minor": 2
}
